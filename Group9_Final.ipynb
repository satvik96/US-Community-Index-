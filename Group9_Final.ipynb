{
 "cells": [
  {
   "cell_type": "markdown",
   "id": "2c8cdebb-5285-4cb5-9ef5-a1e590d5c026",
   "metadata": {},
   "source": [
    "# BUDT704 Project Update -- Group 4: The Smithbusters"
   ]
  },
  {
   "cell_type": "markdown",
   "id": "af61b096",
   "metadata": {},
   "source": [
    "We as a community are frequently caught in a bind. \"Is my town doing well?\" \"Are my needs being met?\" \"Do I walk farther than I should to get the most basic of necessities?\" These are questions we frequently ask ourselves. The Smithbusters, on the other hand, took it personally. The Community Need Index (CNI) provides a wealth of information about how a region in the United States is faring. Ideally, the CNI is an excellent place to begin looking and delving deeply."
   ]
  },
  {
   "cell_type": "markdown",
   "id": "d24b514b-8abc-40eb-ab1e-cc49812ad708",
   "metadata": {},
   "source": [
    "### Section 1: Project Overview"
   ]
  },
  {
   "cell_type": "markdown",
   "id": "b96416e2-7548-4639-9216-f7b92a67b426",
   "metadata": {},
   "source": [
    "The Community Need Index (CNI) is a regional code-based score that accounts for a community's unmet needs with respect to livelihood and is publicly accessible via the internet.\n",
    "\n",
    "To understand the trends for the Needs Index, the Smithbusters will use US Census data from 2020. It is a multi-dimensional non-profit assessment of needs in the United States. As part of the Census, the United States government collects data from the population on various parameters such as Demographics, Education, Income, and so on.\n",
    "\n",
    "#### What The Smithbusters intend to do with the information:\n",
    "\n",
    "With the data from US Census, the Smithbusters will create visualizations that helps us picture which regions require help in any of the parameters such as education and healthcare as listed, and make predictions about how the various parameters we study affect the population demographic and the livelihood of the people of the United States in different ways.\n",
    "\n",
    "The analysis that stems from the Common Needs Index (\"CNI\") can be used by non-profit and community-based organizations to develop initiatives that best address the needs of a given community and, as a result, elevate their status. The predictive model will identify CNI core competencies that can be shared with community partners in order to justify grants, allocate resources, or even put in place better policies."
   ]
  },
  {
   "cell_type": "markdown",
   "id": "4f00f802-39a8-45ca-9bf0-d7b5781ae7dc",
   "metadata": {},
   "source": [
    "### Section 2: Milestones and Progress"
   ]
  },
  {
   "cell_type": "markdown",
   "id": "18af40a7-0d70-43f0-9644-09e30cb113b5",
   "metadata": {
    "tags": []
   },
   "source": [
    "\n",
    "### Sprint 1: Complete\n",
    "##### Oct 14 to Oct 25\n",
    "        \n",
    "| Sr No | Date | Task | Lead | Status |\n",
    "| --- | --- | --- | --- | --- |\n",
    "1 | 10/14/2022 | Project Proposal submission | Satvik | Completed |\n",
    "2 | 10/18/2022 | Research, explore and learn about the data | Shweta | Completed |\n",
    "3 | 10/21/2022 | Dataset Consolidation | Rishi | Completed |\n",
    "4 | 10/23/2022 | Data cleaning | Anushka | Completed |\n",
    "5 | 10/26/2022 | Data preparation | Satvik | Completed |\n",
    "6 | 10/28/2022 | Sprint 1 - Review | Anushka | Completed |\n",
    "7 | 10/29/2022 | Documentation | Rishi | Completed |\n",
    "\n",
    "\n",
    "### Sprint 2: Ongoing\n",
    "##### Oct 30 to Nov 11\n",
    " \n",
    "\n",
    "| Sr No | Date | Task | Lead | Status |\n",
    "| --- | --- | --- | --- | --- |\n",
    "1 | 10/31/2022 | Exploratory data analysis (EDA) | Shweta | Completed |\n",
    "2 | 11/02/2022 | EDA for the Community Needs Index, in entirety | Yash | Ongoing |\n",
    "3 | 11/09/2022 | Visualizations and comparisons | Shweta | Ongoing |\n",
    "4 | 11/11/2022 | Sprint 2 - Review | Yash | Ongoing |\n",
    "\n",
    "### Sprint 3: TBD\n",
    "##### Nov 11 to Dec 05\n",
    "\n",
    "| Sr No | Date | Task | Lead | Status |\n",
    "| --- | --- | --- | --- | --- |\n",
    "1 | 11/14/2022 | Data Modelling | Satvik | TBD |\n",
    "2 | 11/21/2022 | Comparison: Compare different ML Models | Satvik | TBD |\n",
    "3 | 11/28/2022 | Accuracy tests | Nahome | TBD |\n",
    "4 | 11/30/2022 | Sprint 3 - Review | Anushka | TBD |\n",
    "5 | 12/02/2022 | Sprint 3 - Documentation | Rishi | TBD |\n",
    "6 | 12/03/2022 | Conclusions: Observation and Inferences | Rishi | TBD |\n",
    "7 | 12/04/2022 | Project Report Generation | Nahome | TBD |\n",
    "4 | 12/05/2022 | Project Showcase and Presentation | Rishi | TBD |\n"
   ]
  },
  {
   "cell_type": "markdown",
   "id": "f9c879d4",
   "metadata": {},
   "source": [
    "We have completed upto Sprint 2 (Sr. No 1). For the remaining steps (EDA) we are evaulating different types of visualizations that can explain correlation between the variables of inetrest Education and Housing. We are also trying to figure out how we can implement map based charts in python so as to give the better clarity on our regional data."
   ]
  },
  {
   "cell_type": "markdown",
   "id": "f45c8fca-b641-4eed-b17c-ff36bc8e642a",
   "metadata": {},
   "source": [
    "### Section 3: Data Acquisition and Cleaning Code (Markdown + Code)"
   ]
  },
  {
   "cell_type": "markdown",
   "id": "17fcfce0-67e9-44a6-b5eb-4d502e1718e0",
   "metadata": {
    "jp-MarkdownHeadingCollapsed": true,
    "tags": []
   },
   "source": [
    "#### Section 3a: Data Acquisition"
   ]
  },
  {
   "cell_type": "markdown",
   "id": "a9fcb11b",
   "metadata": {},
   "source": [
    "The American Community Survey (ACS) produces population, demographic and housing unit estimates and the Census Bureau's Population Estimates Program produces and disseminates the official estimates of the population for the nation, states, counties, cities, and towns and estimates of housing units for states and counties. Our data was available in the US Census data website https://data.census.gov/ from where we used 4 tables from the American Community Survey 2020: <br>\n",
    "DP03 - Selected economic characteristics<br>\n",
    "DP05 - ACS demographic and housing estimates <br>\n",
    "S1501 - Educational attainment <br>\n",
    "S2506 - Financial characteristics for housing units <br><br>\n",
    "\n",
    "These data tables included the estimates, margins of error and the percentage of error but for our analysis we are only concerned with the estimate. We also used an additional dataset to map the zipcode with the respective cities and states - https://simplemaps.com/data/us-zips <br>\n",
    "\n",
    "The columns we chose for our analysis largely had to do with how they relate to our objective. We needed to understand what factors affected the income of an individual and how his income affects his living conditions. DP03 gave us data on the income and income characteristics for the population and DP05 was about population characteristics and ethnicity. We used S1501 to understand the levels of educational attainment and of how many people in a city were educated up to high school, college and undergrad level. S2506 gave us two columns that informed us the mortgaged houses and what the median value was. <br>"
   ]
  },
  {
   "cell_type": "markdown",
   "id": "b0c34789-5881-4bd7-a947-98acc741d245",
   "metadata": {},
   "source": [
    "#### Section 3b: Data Importing\n",
    "\n",
    "The source files gathered from US Census website are stored in the directory '.\\Data\\\\', from where we will be importing the csv files in a dataframe for processing and analysis.<br> The following steps were perfromed as part of importing the data:\n",
    "1. Importing the csv file downloaded from US Census website into different dataframes.\n",
    "2. Filtering out the columns which will be useful in our analysis\n",
    "3. Merging the dataframe into a consolidated dataframe for analysis.\n"
   ]
  },
  {
   "cell_type": "code",
   "execution_count": null,
   "id": "a4098b91-978b-483d-ad8c-bd92dbb34d6c",
   "metadata": {},
   "outputs": [],
   "source": []
  },
  {
   "cell_type": "code",
   "execution_count": null,
   "id": "db16a83f-7848-4dd9-b8ef-7f4b87902c21",
   "metadata": {},
   "outputs": [],
   "source": []
  },
  {
   "cell_type": "code",
   "execution_count": null,
   "id": "4187a3cf-797f-475d-b70d-a5594a466562",
   "metadata": {},
   "outputs": [],
   "source": []
  },
  {
   "cell_type": "markdown",
   "id": "3d4777b4-2a2a-4174-9585-25e5d67ce3ed",
   "metadata": {
    "tags": []
   },
   "source": [
    "# Introduction\n",
    "\n",
    "\n",
    "### Who Are We?\n",
    "\n",
    "The Smith Busters are a group of aspiring MSIS graduate students that are passionate about data and strive to highlight the value of data analytics in today's data-driven world. We are a group of college students prepared to apply and present the knowledge we have gained through our work as data analysts both inside and outside the University of Maryland to bring an impact. \n",
    "\n",
    "The SmithBuster consists of bright learners such: Rishikesh Baskaran, Yash Makadia, Satvik Narang, Anushka Ranjan , Shweta Salelkar, and Nahome Yeshitila\n",
    "\n",
    "### What are we Doing\n",
    "\n",
    "\n",
    "### v1\n",
    "The Smithbusters will use the US census data to analyse the average median income of a household in a geographical area, what factors influence the income, how do these factors vary across different states. To improve areas below the average, we will attempt to build an index describing the factors which the MNCs can work upon as a part of Corporate Social responsibilty to improve the living conditions of the state and inturn increasing the median income. Additionally, we will attempt to create a learning model that will aim to predict the median household income for a state, which will be used to check how the income would be impacted after working on the factors suggested by our needs index.\n",
    "\n",
    "\n",
    "### v2\n",
    "The Smithbusters will produce visualizations using data from the US Census to help us visualize where places require assistance in any of the characteristics specified, such as education, employment etc. We will make predictions about how the numerous criteria we investigate impact the income and livelihood of Americans in various ways. SmithBuster intends to answer the following question with this data.\n",
    "\n",
    "1. What is the median household income in the United States? How does different states in the US stand relative to the national average?\n",
    "2. Does having public job or private job have one-way or two-way impact on the income in the United States?\n",
    "3. When states of similar racial distribution or education level are compared then do they help in  contributing towards income? – needs to be changed\n",
    "4. What are the factors in terms of education, modes of transport, types of jobs or housing costs that determine what the needs of the people of a state are? \n",
    "5. Can their be a model to predict median Iicome of a state in the US keeping few factors such as education, employment and type of work that contribute the towards Income?\n",
    "\n",
    "### Why Is It Important?\n",
    "\n",
    "Assessing incomes across states is critical for many choices. Income, along with a variety of other criteria, is used to make judgments about how to best deploy resources. It may be used for community and healthcare group public health planning across the country. Income may be used to better understand the Community Need Index, which provides a score to US zipcodes based on the unmet healthcare requirements of the community. It may be used to understand oppression/inequity systems between different demographics.\n",
    "\n",
    "The CNI analyses five characteristics that have long been known as influencing healthcare needs for each ZIP code in the United States: income, culture/language, education, housing status, and insurance coverage. Understanding distribution of wealth may be utilized to improve resource allocation in the United States as a whole, not just particular states.\n",
    "\n",
    "\n",
    "### How will we accomplish this? (Description of dataset)\n",
    "\n",
    "Our data was obtained from the US Census data website (https://data.census.gov/). We have obtained information on the below factors for the year 2020:\n",
    "\n",
    "| Sr No | Table Name | Description |\n",
    "| --- | --- | --- | \n",
    "1 | DP03 | Economic characteristics | \n",
    "2 | DP05 | Demographic and housing estimates |   \n",
    "3 | S1501 | DEducational attainment |  \n",
    "4 | S2506 | Financial characteristics for housing units |\n",
    "\n",
    "\n",
    "\n",
    "Each of these tables consists of data for zipcode of US. In order to join relevant columns from these tables, we use Zip code as the primary key to join the above tables to create a consolidated dataset.\n",
    "\n",
    "The columns we chose for our analysis largely had to do with how they relate to our objective. We needed to understand what factors affected the income of an individual and how his income affects his living conditions. DP03 gave us data on the income and income characteristics for the population and DP05 was about population characteristics and ethnicity. We used S1501 to understand the levels of educational attainment and of how many people in a city were educated up to high school, college and undergrad level. S2506 gave us two columns that informed us the mortgaged houses and what the median value was. <br>\n",
    "\n",
    "The dataset obtained after collating the columns of interest the  created after merging the relevant columns consists of 32921 rows and 39 columns.\n"
   ]
  },
  {
   "cell_type": "markdown",
   "id": "23542e93-4926-4681-9fcc-bdbd1f0a6d58",
   "metadata": {},
   "source": []
  },
  {
   "cell_type": "markdown",
   "id": "7fd9c106-857f-4cec-b398-e9ef8030fae4",
   "metadata": {},
   "source": [
    "## Choice for Heavier Grading\n",
    "\n",
    "The Smithbusters believe that we should be graded more strongly on our data analysis, because our data has a lot to say and has a big influence. We feel that understanding our analysis is essential, and that is where we concentrate. Our data not only reveal statistics but also tells a story about how our data may be used; hence, we want the focus of our project to be on the “Why” aspect  and Conclusion that we can get from the data rather than just the processing.\n"
   ]
  },
  {
   "cell_type": "code",
   "execution_count": null,
   "id": "0123aef3-5940-4ee7-9b8e-64378e39017c",
   "metadata": {},
   "outputs": [],
   "source": []
  },
  {
   "cell_type": "code",
   "execution_count": 1,
   "id": "f3e55831-2f08-44e3-8ce1-6293e3bff1dc",
   "metadata": {},
   "outputs": [],
   "source": [
    "# Importing all the required libararies \n",
    "\n",
    "import pandas as pd\n",
    "import matplotlib.pyplot as plt\n",
    "%matplotlib inline\n",
    "import seaborn as sns\n",
    "import numpy as np\n",
    "import plotly.graph_objects as go\n",
    "from plotly.subplots import make_subplots\n",
    "import plotly.express as px"
   ]
  },
  {
   "cell_type": "code",
   "execution_count": 2,
   "id": "1e682871-e582-4020-bd79-ed4a6ada4764",
   "metadata": {},
   "outputs": [],
   "source": [
    "# Reading the data reference csv containing list of columns and source tables to be used from the US Census website\n",
    "df1=pd.read_csv('.\\data\\DataReference.csv')"
   ]
  },
  {
   "cell_type": "code",
   "execution_count": 3,
   "id": "680c36f3-600c-483e-ab3a-ba753d669278",
   "metadata": {},
   "outputs": [
    {
     "data": {
      "text/html": [
       "<div>\n",
       "<style scoped>\n",
       "    .dataframe tbody tr th:only-of-type {\n",
       "        vertical-align: middle;\n",
       "    }\n",
       "\n",
       "    .dataframe tbody tr th {\n",
       "        vertical-align: top;\n",
       "    }\n",
       "\n",
       "    .dataframe thead th {\n",
       "        text-align: right;\n",
       "    }\n",
       "</style>\n",
       "<table border=\"1\" class=\"dataframe\">\n",
       "  <thead>\n",
       "    <tr style=\"text-align: right;\">\n",
       "      <th></th>\n",
       "      <th>ColName</th>\n",
       "      <th>TabName</th>\n",
       "    </tr>\n",
       "  </thead>\n",
       "  <tbody>\n",
       "    <tr>\n",
       "      <th>0</th>\n",
       "      <td>TotalPop</td>\n",
       "      <td>DP05_0001E</td>\n",
       "    </tr>\n",
       "    <tr>\n",
       "      <th>1</th>\n",
       "      <td>Men</td>\n",
       "      <td>DP05_0002E</td>\n",
       "    </tr>\n",
       "    <tr>\n",
       "      <th>2</th>\n",
       "      <td>Women</td>\n",
       "      <td>DP05_0003E</td>\n",
       "    </tr>\n",
       "    <tr>\n",
       "      <th>3</th>\n",
       "      <td>Hispanic</td>\n",
       "      <td>DP05_0072E</td>\n",
       "    </tr>\n",
       "    <tr>\n",
       "      <th>4</th>\n",
       "      <td>White</td>\n",
       "      <td>DP05_0037E</td>\n",
       "    </tr>\n",
       "    <tr>\n",
       "      <th>5</th>\n",
       "      <td>Black</td>\n",
       "      <td>DP05_0065E</td>\n",
       "    </tr>\n",
       "    <tr>\n",
       "      <th>6</th>\n",
       "      <td>Native</td>\n",
       "      <td>DP05_0066E</td>\n",
       "    </tr>\n",
       "    <tr>\n",
       "      <th>7</th>\n",
       "      <td>Asian</td>\n",
       "      <td>DP05_0067E</td>\n",
       "    </tr>\n",
       "    <tr>\n",
       "      <th>8</th>\n",
       "      <td>Pacific</td>\n",
       "      <td>DP05_0068E</td>\n",
       "    </tr>\n",
       "    <tr>\n",
       "      <th>9</th>\n",
       "      <td>Citizen</td>\n",
       "      <td>DP05_0087E</td>\n",
       "    </tr>\n",
       "    <tr>\n",
       "      <th>10</th>\n",
       "      <td>Income</td>\n",
       "      <td>DP03_0062E</td>\n",
       "    </tr>\n",
       "    <tr>\n",
       "      <th>11</th>\n",
       "      <td>IncomeErr</td>\n",
       "      <td>DP03_0087M</td>\n",
       "    </tr>\n",
       "    <tr>\n",
       "      <th>12</th>\n",
       "      <td>IncomePerCap</td>\n",
       "      <td>DP03_0088E</td>\n",
       "    </tr>\n",
       "    <tr>\n",
       "      <th>13</th>\n",
       "      <td>IncomePerCapErr</td>\n",
       "      <td>DP03_0088M</td>\n",
       "    </tr>\n",
       "    <tr>\n",
       "      <th>14</th>\n",
       "      <td>Poverty</td>\n",
       "      <td>DP03_0128E</td>\n",
       "    </tr>\n",
       "    <tr>\n",
       "      <th>15</th>\n",
       "      <td>ChildPoverty</td>\n",
       "      <td>DP03_0129E</td>\n",
       "    </tr>\n",
       "    <tr>\n",
       "      <th>16</th>\n",
       "      <td>Professional</td>\n",
       "      <td>DP03_0027E</td>\n",
       "    </tr>\n",
       "    <tr>\n",
       "      <th>17</th>\n",
       "      <td>Service</td>\n",
       "      <td>DP03_0028E</td>\n",
       "    </tr>\n",
       "    <tr>\n",
       "      <th>18</th>\n",
       "      <td>Office</td>\n",
       "      <td>DP03_0029E</td>\n",
       "    </tr>\n",
       "    <tr>\n",
       "      <th>19</th>\n",
       "      <td>Construction</td>\n",
       "      <td>DP03_0034E</td>\n",
       "    </tr>\n",
       "    <tr>\n",
       "      <th>20</th>\n",
       "      <td>Production</td>\n",
       "      <td>DP03_0031E</td>\n",
       "    </tr>\n",
       "    <tr>\n",
       "      <th>21</th>\n",
       "      <td>Drive</td>\n",
       "      <td>DP03_0019E</td>\n",
       "    </tr>\n",
       "    <tr>\n",
       "      <th>22</th>\n",
       "      <td>Carpool</td>\n",
       "      <td>DP03_0020E</td>\n",
       "    </tr>\n",
       "    <tr>\n",
       "      <th>23</th>\n",
       "      <td>Transit</td>\n",
       "      <td>DP03_0021E</td>\n",
       "    </tr>\n",
       "    <tr>\n",
       "      <th>24</th>\n",
       "      <td>Walk</td>\n",
       "      <td>DP03_0022E</td>\n",
       "    </tr>\n",
       "    <tr>\n",
       "      <th>25</th>\n",
       "      <td>OtherTransp</td>\n",
       "      <td>DP03_0023E</td>\n",
       "    </tr>\n",
       "    <tr>\n",
       "      <th>26</th>\n",
       "      <td>WorkAtHome</td>\n",
       "      <td>DP03_0024E</td>\n",
       "    </tr>\n",
       "    <tr>\n",
       "      <th>27</th>\n",
       "      <td>MeanCommute</td>\n",
       "      <td>DP03_0025E</td>\n",
       "    </tr>\n",
       "    <tr>\n",
       "      <th>28</th>\n",
       "      <td>Employed</td>\n",
       "      <td>DP03_0001E</td>\n",
       "    </tr>\n",
       "    <tr>\n",
       "      <th>29</th>\n",
       "      <td>PrivateWork</td>\n",
       "      <td>DP03_0047E</td>\n",
       "    </tr>\n",
       "    <tr>\n",
       "      <th>30</th>\n",
       "      <td>PublicWork</td>\n",
       "      <td>DP03_0048E</td>\n",
       "    </tr>\n",
       "    <tr>\n",
       "      <th>31</th>\n",
       "      <td>SelfEmployed</td>\n",
       "      <td>DP03_0049E</td>\n",
       "    </tr>\n",
       "    <tr>\n",
       "      <th>32</th>\n",
       "      <td>FamilyWork</td>\n",
       "      <td>DP03_0050E</td>\n",
       "    </tr>\n",
       "    <tr>\n",
       "      <th>33</th>\n",
       "      <td>Unemployment</td>\n",
       "      <td>DP03_0005E</td>\n",
       "    </tr>\n",
       "    <tr>\n",
       "      <th>34</th>\n",
       "      <td>Housing with Mortgage</td>\n",
       "      <td>S2506_C01_001E</td>\n",
       "    </tr>\n",
       "    <tr>\n",
       "      <th>35</th>\n",
       "      <td>Median Monthly housing costs</td>\n",
       "      <td>S2506_C02_040E</td>\n",
       "    </tr>\n",
       "    <tr>\n",
       "      <th>36</th>\n",
       "      <td>High School Graduate</td>\n",
       "      <td>S1501_C01_009E</td>\n",
       "    </tr>\n",
       "    <tr>\n",
       "      <th>37</th>\n",
       "      <td>Some College or Associates degree</td>\n",
       "      <td>S1501_C01_011E</td>\n",
       "    </tr>\n",
       "    <tr>\n",
       "      <th>38</th>\n",
       "      <td>Bachelors degree or higher</td>\n",
       "      <td>S1501_C01_015E</td>\n",
       "    </tr>\n",
       "  </tbody>\n",
       "</table>\n",
       "</div>"
      ],
      "text/plain": [
       "                              ColName         TabName\n",
       "0                            TotalPop      DP05_0001E\n",
       "1                                 Men      DP05_0002E\n",
       "2                               Women      DP05_0003E\n",
       "3                            Hispanic      DP05_0072E\n",
       "4                               White      DP05_0037E\n",
       "5                               Black      DP05_0065E\n",
       "6                              Native      DP05_0066E\n",
       "7                               Asian      DP05_0067E\n",
       "8                             Pacific      DP05_0068E\n",
       "9                             Citizen      DP05_0087E\n",
       "10                             Income      DP03_0062E\n",
       "11                          IncomeErr      DP03_0087M\n",
       "12                       IncomePerCap      DP03_0088E\n",
       "13                    IncomePerCapErr      DP03_0088M\n",
       "14                            Poverty      DP03_0128E\n",
       "15                       ChildPoverty      DP03_0129E\n",
       "16                       Professional      DP03_0027E\n",
       "17                            Service      DP03_0028E\n",
       "18                             Office      DP03_0029E\n",
       "19                       Construction      DP03_0034E\n",
       "20                         Production      DP03_0031E\n",
       "21                              Drive      DP03_0019E\n",
       "22                            Carpool      DP03_0020E\n",
       "23                            Transit      DP03_0021E\n",
       "24                               Walk      DP03_0022E\n",
       "25                        OtherTransp      DP03_0023E\n",
       "26                         WorkAtHome      DP03_0024E\n",
       "27                        MeanCommute      DP03_0025E\n",
       "28                           Employed      DP03_0001E\n",
       "29                        PrivateWork      DP03_0047E\n",
       "30                         PublicWork      DP03_0048E\n",
       "31                       SelfEmployed      DP03_0049E\n",
       "32                         FamilyWork      DP03_0050E\n",
       "33                       Unemployment      DP03_0005E\n",
       "34              Housing with Mortgage  S2506_C01_001E\n",
       "35       Median Monthly housing costs  S2506_C02_040E\n",
       "36               High School Graduate  S1501_C01_009E\n",
       "37  Some College or Associates degree  S1501_C01_011E\n",
       "38         Bachelors degree or higher  S1501_C01_015E"
      ]
     },
     "execution_count": 3,
     "metadata": {},
     "output_type": "execute_result"
    }
   ],
   "source": [
    "df1"
   ]
  },
  {
   "cell_type": "code",
   "execution_count": 4,
   "id": "bb1db807-98d6-4353-92e4-e3311d13c2ac",
   "metadata": {},
   "outputs": [],
   "source": [
    "#creating a list of respective columns to be filtered from each of the source tables\n",
    "\n",
    "cols_DP03=df1[df1['TabName'].str.contains('DP03')].values[:,1].tolist()\n",
    "cols_DP05=df1[df1['TabName'].str.contains('DP05')].values[:,1].tolist()\n",
    "cols_S2506=df1[df1['TabName'].str.contains('S2506')].values[:,1].tolist()\n",
    "cols_S1501=df1[df1['TabName'].str.contains('S1501')].values[:,1].tolist()"
   ]
  },
  {
   "cell_type": "code",
   "execution_count": 5,
   "id": "19e54128-4c81-436f-a4b5-02cf6475cb77",
   "metadata": {},
   "outputs": [],
   "source": [
    "# 'Name' column would be used as the key to join the data \n",
    "\n",
    "cols_DP03.insert(0,'NAME')\n",
    "cols_DP05.insert(0,'NAME')\n",
    "cols_S2506.insert(0,'NAME')\n",
    "cols_S1501.insert(0,'NAME')"
   ]
  },
  {
   "cell_type": "code",
   "execution_count": 6,
   "id": "3c7754f7-d387-4fee-a706-19d43ca50418",
   "metadata": {},
   "outputs": [],
   "source": [
    "# importing the csv files downloaded from US Census website\n",
    "\n",
    "df_DP05=pd.read_csv(r'.\\data\\ACSDP5Y2020.DP05-Data.csv', dtype='str',header=0)\n",
    "df_DP03=pd.read_csv(r'.\\data\\ACSDP5Y2020.DP03-Data.csv', dtype='str',header=0)\n",
    "df_S2506=pd.read_csv(r'.\\data\\ACSST5Y2020.S2506-Data.csv', dtype='str',header=0)\n",
    "df_S1501=pd.read_csv(r'.\\data\\ACSST5Y2020.S1501-Data.csv', dtype='str',header=0)"
   ]
  },
  {
   "cell_type": "code",
   "execution_count": 7,
   "id": "a8e81172-8399-4d49-a988-c72900bb4ade",
   "metadata": {},
   "outputs": [],
   "source": [
    "# First 2 rows indicate the header\n",
    "\n",
    "df_DP05.drop([0], axis=0, inplace=True)\n",
    "df_DP03.drop([0], axis=0, inplace=True)\n",
    "df_S2506.drop([0], axis=0, inplace=True)\n",
    "df_S1501.drop([0], axis=0, inplace=True)\n"
   ]
  },
  {
   "cell_type": "code",
   "execution_count": 8,
   "id": "590967fa-4d56-45d5-9816-04bbd8d623ee",
   "metadata": {},
   "outputs": [],
   "source": [
    "# Final dataframe would consists of the individual dataframes joined together on the key 'NAME' (which stored the zip code)\n",
    "\n",
    "df_merged=pd.merge(df_DP03[cols_DP03], df_DP05[cols_DP05], on='NAME')\n",
    "df_merged=pd.merge(df_merged,df_S2506[cols_S2506], on='NAME')\n",
    "df_merged=pd.merge(df_merged,df_S1501[cols_S1501], on='NAME')"
   ]
  },
  {
   "cell_type": "code",
   "execution_count": null,
   "id": "8088a1c9",
   "metadata": {},
   "outputs": [],
   "source": []
  },
  {
   "cell_type": "markdown",
   "id": "4d93c0c0",
   "metadata": {
    "tags": []
   },
   "source": [
    "## Data Processing and Cleaning\n",
    "\n",
    "The final dataframe created after merging the relevant columns consists of 32921 rows and 39 columns. As part of cleaning this data, we will perform the following activities:\n",
    "\n",
    "<b>1. Renaming the columns:</b> <br>\n",
    "The column names imported from the csv files from US Census website is present in a coded format (Ex - DP05_0001E). Using the metadata information (also available from the website) we have renamed the columns as per their description provided in the metadata.<br>\n",
    "\n",
    "<b>2. Extracting Zip code values using regex:</b><br>\n",
    "The column ‘Name’ contains the zip code values prefixed with another code, called zipcode tabulation code (Ex - ZCTA5 00601). We use a regular expression to extract 5 numeric digits from the this column which represents the zip code. <br>\n",
    "\n",
    "<b>3. Adding City and State information with Zipcode:</b><br>\n",
    "We will add the city and state information about the zipcodes in order to evaluate the mean of different parameters (such as Income, Education etc) at a geographical level and compare the results with the zip code. This will help in identifying how the a particular zip code is performing when compared to the city or state average.\n",
    "<br>\n",
    "\n",
    "<b>4. Identification of columns with null/inconsistent values: </b><br>\n",
    "For our analysis, we came up with relevant factors such as average Income, Education, and Financial details of a person in a zipcode. From our list of factors, we identified 2 factors - ‘Poverty’ and ‘Child Poverty’ for which no data was available for any zip code. These columns were hence dropped from the analysis.\n",
    "<br>\n",
    "\n",
    "<b>5. Identification of rows with null/inconsistent values: </b><br>\n",
    "We analyzed the column 'Income' and found 1669 zip codes contain inconsistent values such as '*' or '-'. This value amounts to ~5% of the total population hence we decided to exclude them from our analysis by dropping them.\n",
    "<br>\n",
    "\n",
    "<b>6. Data type conversion for numeric columns:</b><br>\n",
    "In order to perform aggregations such as average across a all the zipcodes in a state, we need to convert the data type of columns from existing type (string) to an integer.\n",
    "<br>\n",
    "\n",
    "<b>7. Transformation of absolute values to pecentages</b><br>\n",
    "In order to compare factors such as education, employment etc across different geographical areas, we will need to transform the absolute values (which represenet estimate of count of people for the given factor) into proporations by dividing it by total population in that area  \n",
    "<br>\n",
    "\n",
    "\n"
   ]
  },
  {
   "cell_type": "code",
   "execution_count": 9,
   "id": "81692cc0",
   "metadata": {},
   "outputs": [
    {
     "data": {
      "text/plain": [
       "Index(['NAME', 'DP03_0062E', 'DP03_0087M', 'DP03_0088E', 'DP03_0088M',\n",
       "       'DP03_0128E', 'DP03_0129E', 'DP03_0027E', 'DP03_0028E', 'DP03_0029E',\n",
       "       'DP03_0034E', 'DP03_0031E', 'DP03_0019E', 'DP03_0020E', 'DP03_0021E',\n",
       "       'DP03_0022E', 'DP03_0023E', 'DP03_0024E', 'DP03_0025E', 'DP03_0001E',\n",
       "       'DP03_0047E', 'DP03_0048E', 'DP03_0049E', 'DP03_0050E', 'DP03_0005E',\n",
       "       'DP05_0001E', 'DP05_0002E', 'DP05_0003E', 'DP05_0072E', 'DP05_0037E',\n",
       "       'DP05_0065E', 'DP05_0066E', 'DP05_0067E', 'DP05_0068E', 'DP05_0087E',\n",
       "       'S2506_C01_001E', 'S2506_C02_040E', 'S1501_C01_009E', 'S1501_C01_011E',\n",
       "       'S1501_C01_015E'],\n",
       "      dtype='object')"
      ]
     },
     "execution_count": 9,
     "metadata": {},
     "output_type": "execute_result"
    }
   ],
   "source": [
    "# To check the name of all the columns of the data frame\n",
    "df_merged.columns"
   ]
  },
  {
   "cell_type": "code",
   "execution_count": 10,
   "id": "3d770294",
   "metadata": {},
   "outputs": [
    {
     "data": {
      "text/plain": [
       "(33120, 40)"
      ]
     },
     "execution_count": 10,
     "metadata": {},
     "output_type": "execute_result"
    }
   ],
   "source": [
    "df_merged.shape"
   ]
  },
  {
   "cell_type": "markdown",
   "id": "736cc1c0",
   "metadata": {},
   "source": [
    "1. Renaming the columns: \n",
    "\n",
    "Now we will rename the column name based on the Table name. As there are 30+ columns converting data frame into dictionary to get the list of all the column name and table name. "
   ]
  },
  {
   "cell_type": "code",
   "execution_count": 11,
   "id": "efc93e39",
   "metadata": {},
   "outputs": [
    {
     "data": {
      "text/plain": [
       "{'DP05_0001E': 'TotalPop',\n",
       " 'DP05_0002E': 'Men',\n",
       " 'DP05_0003E': 'Women',\n",
       " 'DP05_0072E': 'Hispanic',\n",
       " 'DP05_0037E': 'White',\n",
       " 'DP05_0065E': 'Black',\n",
       " 'DP05_0066E': 'Native',\n",
       " 'DP05_0067E': 'Asian',\n",
       " 'DP05_0068E': 'Pacific',\n",
       " 'DP05_0087E': 'Citizen',\n",
       " 'DP03_0062E': 'Income',\n",
       " 'DP03_0087M': 'IncomeErr',\n",
       " 'DP03_0088E': 'IncomePerCap',\n",
       " 'DP03_0088M': 'IncomePerCapErr',\n",
       " 'DP03_0128E': 'Poverty',\n",
       " 'DP03_0129E': 'ChildPoverty',\n",
       " 'DP03_0027E': 'Professional',\n",
       " 'DP03_0028E': 'Service',\n",
       " 'DP03_0029E': 'Office',\n",
       " 'DP03_0034E': 'Construction',\n",
       " 'DP03_0031E': 'Production',\n",
       " 'DP03_0019E': 'Drive',\n",
       " 'DP03_0020E': 'Carpool',\n",
       " 'DP03_0021E': 'Transit',\n",
       " 'DP03_0022E': 'Walk',\n",
       " 'DP03_0023E': 'OtherTransp',\n",
       " 'DP03_0024E': 'WorkAtHome',\n",
       " 'DP03_0025E': 'MeanCommute',\n",
       " 'DP03_0001E': 'Employed',\n",
       " 'DP03_0047E': 'PrivateWork',\n",
       " 'DP03_0048E': 'PublicWork',\n",
       " 'DP03_0049E': 'SelfEmployed',\n",
       " 'DP03_0050E': 'FamilyWork',\n",
       " 'DP03_0005E': 'Unemployment',\n",
       " 'S2506_C01_001E': 'Housing with Mortgage',\n",
       " 'S2506_C02_040E': 'Median Monthly housing costs',\n",
       " 'S1501_C01_009E': 'High School Graduate',\n",
       " 'S1501_C01_011E': 'Some College or Associates degree',\n",
       " 'S1501_C01_015E': 'Bachelors degree or higher'}"
      ]
     },
     "execution_count": 11,
     "metadata": {},
     "output_type": "execute_result"
    }
   ],
   "source": [
    "# To convert the data frame having column name and table name into dictionary. Column Name as a key and Table Name as a value in dictionary.\n",
    "pd.Series(df1.ColName.values,index=df1.TabName).to_dict()"
   ]
  },
  {
   "cell_type": "code",
   "execution_count": 12,
   "id": "be0ce5a7",
   "metadata": {
    "tags": []
   },
   "outputs": [],
   "source": [
    "# To rename the columns names\n",
    "df_merged.rename(columns = {'DP05_0001E': 'TotalPop',\n",
    " 'DP05_0002E': 'Men',\n",
    " 'DP05_0003E': 'Women',\n",
    " 'DP05_0072E': 'Hispanic',\n",
    " 'DP05_0037E': 'White',\n",
    " 'DP05_0065E': 'Black',\n",
    " 'DP05_0066E': 'Native',\n",
    " 'DP05_0067E': 'Asian',\n",
    " 'DP05_0068E': 'Pacific',\n",
    " 'DP05_0087E': 'Citizen',\n",
    " 'DP03_0062E': 'Income',\n",
    " 'DP03_0087M': 'IncomeErr',\n",
    " 'DP03_0088E': 'IncomePerCap',\n",
    " 'DP03_0088M': 'IncomePerCapErr',\n",
    " 'DP03_0128E': 'Poverty',\n",
    " 'DP03_0129E': 'ChildPoverty',\n",
    " 'DP03_0027E': 'Professional',\n",
    " 'DP03_0028E': 'Service',\n",
    " 'DP03_0029E': 'Office',\n",
    " 'DP03_0034E': 'Construction',\n",
    " 'DP03_0031E': 'Production',\n",
    " 'DP03_0019E': 'Drive',\n",
    " 'DP03_0020E': 'Carpool',\n",
    " 'DP03_0021E': 'Transit',\n",
    " 'DP03_0022E': 'Walk',\n",
    " 'DP03_0023E': 'OtherTransp',\n",
    " 'DP03_0024E': 'WorkAtHome',\n",
    " 'DP03_0025E': 'MeanCommute',\n",
    " 'DP03_0001E': 'Employed',\n",
    " 'DP03_0047E': 'PrivateWork',\n",
    " 'DP03_0048E': 'PublicWork',\n",
    " 'DP03_0049E': 'SelfEmployed',\n",
    " 'DP03_0050E': 'FamilyWork',\n",
    " 'DP03_0005E': 'Unemployment',\n",
    " 'S2506_C01_001E': 'Housing with Mortgage',\n",
    " 'S2506_C02_040E': 'Median Monthly housing costs',\n",
    " 'S1501_C01_009E': 'High School Graduate',\n",
    " 'S1501_C01_011E': 'Some College or Associates degree',\n",
    " 'S1501_C01_015E': 'Bachelors degree or higher'\n",
    "                             },inplace=True)"
   ]
  },
  {
   "cell_type": "code",
   "execution_count": 13,
   "id": "22fe9bba",
   "metadata": {},
   "outputs": [
    {
     "data": {
      "text/html": [
       "<div>\n",
       "<style scoped>\n",
       "    .dataframe tbody tr th:only-of-type {\n",
       "        vertical-align: middle;\n",
       "    }\n",
       "\n",
       "    .dataframe tbody tr th {\n",
       "        vertical-align: top;\n",
       "    }\n",
       "\n",
       "    .dataframe thead th {\n",
       "        text-align: right;\n",
       "    }\n",
       "</style>\n",
       "<table border=\"1\" class=\"dataframe\">\n",
       "  <thead>\n",
       "    <tr style=\"text-align: right;\">\n",
       "      <th></th>\n",
       "      <th>NAME</th>\n",
       "      <th>Income</th>\n",
       "      <th>IncomeErr</th>\n",
       "      <th>IncomePerCap</th>\n",
       "      <th>IncomePerCapErr</th>\n",
       "      <th>Poverty</th>\n",
       "      <th>ChildPoverty</th>\n",
       "      <th>Professional</th>\n",
       "      <th>Service</th>\n",
       "      <th>Office</th>\n",
       "      <th>...</th>\n",
       "      <th>Black</th>\n",
       "      <th>Native</th>\n",
       "      <th>Asian</th>\n",
       "      <th>Pacific</th>\n",
       "      <th>Citizen</th>\n",
       "      <th>Housing with Mortgage</th>\n",
       "      <th>Median Monthly housing costs</th>\n",
       "      <th>High School Graduate</th>\n",
       "      <th>Some College or Associates degree</th>\n",
       "      <th>Bachelors degree or higher</th>\n",
       "    </tr>\n",
       "  </thead>\n",
       "  <tbody>\n",
       "    <tr>\n",
       "      <th>0</th>\n",
       "      <td>ZCTA5 00601</td>\n",
       "      <td>14398</td>\n",
       "      <td>2379</td>\n",
       "      <td>7256</td>\n",
       "      <td>639</td>\n",
       "      <td>(X)</td>\n",
       "      <td>(X)</td>\n",
       "      <td>1005</td>\n",
       "      <td>1088</td>\n",
       "      <td>587</td>\n",
       "      <td>...</td>\n",
       "      <td>427</td>\n",
       "      <td>102</td>\n",
       "      <td>2</td>\n",
       "      <td>0</td>\n",
       "      <td>13421</td>\n",
       "      <td>596</td>\n",
       "      <td>747</td>\n",
       "      <td>3316</td>\n",
       "      <td>1290</td>\n",
       "      <td>1868</td>\n",
       "    </tr>\n",
       "    <tr>\n",
       "      <th>1</th>\n",
       "      <td>ZCTA5 00602</td>\n",
       "      <td>16771</td>\n",
       "      <td>2297</td>\n",
       "      <td>9981</td>\n",
       "      <td>594</td>\n",
       "      <td>(X)</td>\n",
       "      <td>(X)</td>\n",
       "      <td>2828</td>\n",
       "      <td>2455</td>\n",
       "      <td>2654</td>\n",
       "      <td>...</td>\n",
       "      <td>6708</td>\n",
       "      <td>4740</td>\n",
       "      <td>17</td>\n",
       "      <td>0</td>\n",
       "      <td>30430</td>\n",
       "      <td>1908</td>\n",
       "      <td>855</td>\n",
       "      <td>7103</td>\n",
       "      <td>3061</td>\n",
       "      <td>5575</td>\n",
       "    </tr>\n",
       "    <tr>\n",
       "      <th>2</th>\n",
       "      <td>ZCTA5 00603</td>\n",
       "      <td>15786</td>\n",
       "      <td>3520</td>\n",
       "      <td>11794</td>\n",
       "      <td>1030</td>\n",
       "      <td>(X)</td>\n",
       "      <td>(X)</td>\n",
       "      <td>3654</td>\n",
       "      <td>2615</td>\n",
       "      <td>2940</td>\n",
       "      <td>...</td>\n",
       "      <td>2026</td>\n",
       "      <td>300</td>\n",
       "      <td>74</td>\n",
       "      <td>14</td>\n",
       "      <td>36770</td>\n",
       "      <td>3528</td>\n",
       "      <td>814</td>\n",
       "      <td>9627</td>\n",
       "      <td>2558</td>\n",
       "      <td>7653</td>\n",
       "    </tr>\n",
       "    <tr>\n",
       "      <th>3</th>\n",
       "      <td>ZCTA5 00606</td>\n",
       "      <td>14980</td>\n",
       "      <td>2954</td>\n",
       "      <td>6901</td>\n",
       "      <td>862</td>\n",
       "      <td>(X)</td>\n",
       "      <td>(X)</td>\n",
       "      <td>150</td>\n",
       "      <td>316</td>\n",
       "      <td>237</td>\n",
       "      <td>...</td>\n",
       "      <td>168</td>\n",
       "      <td>22</td>\n",
       "      <td>0</td>\n",
       "      <td>0</td>\n",
       "      <td>5007</td>\n",
       "      <td>174</td>\n",
       "      <td>549</td>\n",
       "      <td>1385</td>\n",
       "      <td>201</td>\n",
       "      <td>482</td>\n",
       "    </tr>\n",
       "    <tr>\n",
       "      <th>4</th>\n",
       "      <td>ZCTA5 00610</td>\n",
       "      <td>20167</td>\n",
       "      <td>3137</td>\n",
       "      <td>10643</td>\n",
       "      <td>832</td>\n",
       "      <td>(X)</td>\n",
       "      <td>(X)</td>\n",
       "      <td>1787</td>\n",
       "      <td>1942</td>\n",
       "      <td>1910</td>\n",
       "      <td>...</td>\n",
       "      <td>4229</td>\n",
       "      <td>2926</td>\n",
       "      <td>9</td>\n",
       "      <td>1</td>\n",
       "      <td>21725</td>\n",
       "      <td>1868</td>\n",
       "      <td>733</td>\n",
       "      <td>5966</td>\n",
       "      <td>2166</td>\n",
       "      <td>3292</td>\n",
       "    </tr>\n",
       "  </tbody>\n",
       "</table>\n",
       "<p>5 rows × 40 columns</p>\n",
       "</div>"
      ],
      "text/plain": [
       "          NAME Income IncomeErr IncomePerCap IncomePerCapErr Poverty  \\\n",
       "0  ZCTA5 00601  14398      2379         7256             639     (X)   \n",
       "1  ZCTA5 00602  16771      2297         9981             594     (X)   \n",
       "2  ZCTA5 00603  15786      3520        11794            1030     (X)   \n",
       "3  ZCTA5 00606  14980      2954         6901             862     (X)   \n",
       "4  ZCTA5 00610  20167      3137        10643             832     (X)   \n",
       "\n",
       "  ChildPoverty Professional Service Office  ... Black Native Asian Pacific  \\\n",
       "0          (X)         1005    1088    587  ...   427    102     2       0   \n",
       "1          (X)         2828    2455   2654  ...  6708   4740    17       0   \n",
       "2          (X)         3654    2615   2940  ...  2026    300    74      14   \n",
       "3          (X)          150     316    237  ...   168     22     0       0   \n",
       "4          (X)         1787    1942   1910  ...  4229   2926     9       1   \n",
       "\n",
       "  Citizen Housing with Mortgage Median Monthly housing costs  \\\n",
       "0   13421                   596                          747   \n",
       "1   30430                  1908                          855   \n",
       "2   36770                  3528                          814   \n",
       "3    5007                   174                          549   \n",
       "4   21725                  1868                          733   \n",
       "\n",
       "  High School Graduate Some College or Associates degree  \\\n",
       "0                 3316                              1290   \n",
       "1                 7103                              3061   \n",
       "2                 9627                              2558   \n",
       "3                 1385                               201   \n",
       "4                 5966                              2166   \n",
       "\n",
       "  Bachelors degree or higher  \n",
       "0                       1868  \n",
       "1                       5575  \n",
       "2                       7653  \n",
       "3                        482  \n",
       "4                       3292  \n",
       "\n",
       "[5 rows x 40 columns]"
      ]
     },
     "execution_count": 13,
     "metadata": {},
     "output_type": "execute_result"
    }
   ],
   "source": [
    "# To verify the column name of the data frame\n",
    "df_merged.head()"
   ]
  },
  {
   "cell_type": "code",
   "execution_count": 14,
   "id": "5699f855",
   "metadata": {},
   "outputs": [],
   "source": [
    "# To extract the Zip Code from the NAME column and giving it a new column name 'ZipCode'\n",
    "df_merged['ZipCode'] = df_merged['NAME'].str.findall(r'\\d{5}')"
   ]
  },
  {
   "cell_type": "code",
   "execution_count": 15,
   "id": "37303c9a",
   "metadata": {},
   "outputs": [],
   "source": [
    "# To get the first element of the list of the Zip Code column\n",
    "df_merged.ZipCode = df_merged.ZipCode.map(lambda x: x[0])"
   ]
  },
  {
   "cell_type": "markdown",
   "id": "efc7505e",
   "metadata": {},
   "source": [
    "2. We will map the zip code with the State and city\n",
    "\n",
    "We add the city and state information about the zipcodes in order to evaluate the mean of different parameters (such as Income, Education etc) at a geographical level and compare the results with the zip code. This will help in identifying how the a particular zip code is performing when compared to the city or state average."
   ]
  },
  {
   "cell_type": "code",
   "execution_count": 16,
   "id": "cb7999bd",
   "metadata": {},
   "outputs": [],
   "source": [
    "# To add city and state information and map with the zip code\n",
    "city_state_mapping_df = pd.read_csv(r'.\\data\\uszips.csv', dtype='str', header=0)"
   ]
  },
  {
   "cell_type": "code",
   "execution_count": 17,
   "id": "3818104a",
   "metadata": {},
   "outputs": [],
   "source": [
    "# To map the Zip code, city and state name\n",
    "city_state_mapping_df = city_state_mapping_df[['zip','city','state_name']]"
   ]
  },
  {
   "cell_type": "code",
   "execution_count": 18,
   "id": "c7d09c84",
   "metadata": {},
   "outputs": [],
   "source": [
    "# To rename the Zip Code, State and City columns\n",
    "city_state_mapping_df.rename(columns = {'zip':'ZipCode', 'city':'City',  'state_name':'State' }, inplace = True)"
   ]
  },
  {
   "cell_type": "code",
   "execution_count": 19,
   "id": "5fc71106",
   "metadata": {},
   "outputs": [],
   "source": [
    "# To merge city and state based on the Zip code\n",
    "df_merged = pd.merge(df_merged , city_state_mapping_df, on='ZipCode')"
   ]
  },
  {
   "cell_type": "code",
   "execution_count": 20,
   "id": "f5b43a99",
   "metadata": {},
   "outputs": [
    {
     "data": {
      "text/html": [
       "<div>\n",
       "<style scoped>\n",
       "    .dataframe tbody tr th:only-of-type {\n",
       "        vertical-align: middle;\n",
       "    }\n",
       "\n",
       "    .dataframe tbody tr th {\n",
       "        vertical-align: top;\n",
       "    }\n",
       "\n",
       "    .dataframe thead th {\n",
       "        text-align: right;\n",
       "    }\n",
       "</style>\n",
       "<table border=\"1\" class=\"dataframe\">\n",
       "  <thead>\n",
       "    <tr style=\"text-align: right;\">\n",
       "      <th></th>\n",
       "      <th>NAME</th>\n",
       "      <th>Income</th>\n",
       "      <th>IncomeErr</th>\n",
       "      <th>IncomePerCap</th>\n",
       "      <th>IncomePerCapErr</th>\n",
       "      <th>Poverty</th>\n",
       "      <th>ChildPoverty</th>\n",
       "      <th>Professional</th>\n",
       "      <th>Service</th>\n",
       "      <th>Office</th>\n",
       "      <th>...</th>\n",
       "      <th>Pacific</th>\n",
       "      <th>Citizen</th>\n",
       "      <th>Housing with Mortgage</th>\n",
       "      <th>Median Monthly housing costs</th>\n",
       "      <th>High School Graduate</th>\n",
       "      <th>Some College or Associates degree</th>\n",
       "      <th>Bachelors degree or higher</th>\n",
       "      <th>ZipCode</th>\n",
       "      <th>City</th>\n",
       "      <th>State</th>\n",
       "    </tr>\n",
       "  </thead>\n",
       "  <tbody>\n",
       "    <tr>\n",
       "      <th>0</th>\n",
       "      <td>ZCTA5 00601</td>\n",
       "      <td>14398</td>\n",
       "      <td>2379</td>\n",
       "      <td>7256</td>\n",
       "      <td>639</td>\n",
       "      <td>(X)</td>\n",
       "      <td>(X)</td>\n",
       "      <td>1005</td>\n",
       "      <td>1088</td>\n",
       "      <td>587</td>\n",
       "      <td>...</td>\n",
       "      <td>0</td>\n",
       "      <td>13421</td>\n",
       "      <td>596</td>\n",
       "      <td>747</td>\n",
       "      <td>3316</td>\n",
       "      <td>1290</td>\n",
       "      <td>1868</td>\n",
       "      <td>00601</td>\n",
       "      <td>Adjuntas</td>\n",
       "      <td>Puerto Rico</td>\n",
       "    </tr>\n",
       "    <tr>\n",
       "      <th>1</th>\n",
       "      <td>ZCTA5 00602</td>\n",
       "      <td>16771</td>\n",
       "      <td>2297</td>\n",
       "      <td>9981</td>\n",
       "      <td>594</td>\n",
       "      <td>(X)</td>\n",
       "      <td>(X)</td>\n",
       "      <td>2828</td>\n",
       "      <td>2455</td>\n",
       "      <td>2654</td>\n",
       "      <td>...</td>\n",
       "      <td>0</td>\n",
       "      <td>30430</td>\n",
       "      <td>1908</td>\n",
       "      <td>855</td>\n",
       "      <td>7103</td>\n",
       "      <td>3061</td>\n",
       "      <td>5575</td>\n",
       "      <td>00602</td>\n",
       "      <td>Aguada</td>\n",
       "      <td>Puerto Rico</td>\n",
       "    </tr>\n",
       "    <tr>\n",
       "      <th>2</th>\n",
       "      <td>ZCTA5 00603</td>\n",
       "      <td>15786</td>\n",
       "      <td>3520</td>\n",
       "      <td>11794</td>\n",
       "      <td>1030</td>\n",
       "      <td>(X)</td>\n",
       "      <td>(X)</td>\n",
       "      <td>3654</td>\n",
       "      <td>2615</td>\n",
       "      <td>2940</td>\n",
       "      <td>...</td>\n",
       "      <td>14</td>\n",
       "      <td>36770</td>\n",
       "      <td>3528</td>\n",
       "      <td>814</td>\n",
       "      <td>9627</td>\n",
       "      <td>2558</td>\n",
       "      <td>7653</td>\n",
       "      <td>00603</td>\n",
       "      <td>Aguadilla</td>\n",
       "      <td>Puerto Rico</td>\n",
       "    </tr>\n",
       "    <tr>\n",
       "      <th>3</th>\n",
       "      <td>ZCTA5 00606</td>\n",
       "      <td>14980</td>\n",
       "      <td>2954</td>\n",
       "      <td>6901</td>\n",
       "      <td>862</td>\n",
       "      <td>(X)</td>\n",
       "      <td>(X)</td>\n",
       "      <td>150</td>\n",
       "      <td>316</td>\n",
       "      <td>237</td>\n",
       "      <td>...</td>\n",
       "      <td>0</td>\n",
       "      <td>5007</td>\n",
       "      <td>174</td>\n",
       "      <td>549</td>\n",
       "      <td>1385</td>\n",
       "      <td>201</td>\n",
       "      <td>482</td>\n",
       "      <td>00606</td>\n",
       "      <td>Maricao</td>\n",
       "      <td>Puerto Rico</td>\n",
       "    </tr>\n",
       "    <tr>\n",
       "      <th>4</th>\n",
       "      <td>ZCTA5 00610</td>\n",
       "      <td>20167</td>\n",
       "      <td>3137</td>\n",
       "      <td>10643</td>\n",
       "      <td>832</td>\n",
       "      <td>(X)</td>\n",
       "      <td>(X)</td>\n",
       "      <td>1787</td>\n",
       "      <td>1942</td>\n",
       "      <td>1910</td>\n",
       "      <td>...</td>\n",
       "      <td>1</td>\n",
       "      <td>21725</td>\n",
       "      <td>1868</td>\n",
       "      <td>733</td>\n",
       "      <td>5966</td>\n",
       "      <td>2166</td>\n",
       "      <td>3292</td>\n",
       "      <td>00610</td>\n",
       "      <td>Anasco</td>\n",
       "      <td>Puerto Rico</td>\n",
       "    </tr>\n",
       "  </tbody>\n",
       "</table>\n",
       "<p>5 rows × 43 columns</p>\n",
       "</div>"
      ],
      "text/plain": [
       "          NAME Income IncomeErr IncomePerCap IncomePerCapErr Poverty  \\\n",
       "0  ZCTA5 00601  14398      2379         7256             639     (X)   \n",
       "1  ZCTA5 00602  16771      2297         9981             594     (X)   \n",
       "2  ZCTA5 00603  15786      3520        11794            1030     (X)   \n",
       "3  ZCTA5 00606  14980      2954         6901             862     (X)   \n",
       "4  ZCTA5 00610  20167      3137        10643             832     (X)   \n",
       "\n",
       "  ChildPoverty Professional Service Office  ... Pacific Citizen  \\\n",
       "0          (X)         1005    1088    587  ...       0   13421   \n",
       "1          (X)         2828    2455   2654  ...       0   30430   \n",
       "2          (X)         3654    2615   2940  ...      14   36770   \n",
       "3          (X)          150     316    237  ...       0    5007   \n",
       "4          (X)         1787    1942   1910  ...       1   21725   \n",
       "\n",
       "  Housing with Mortgage Median Monthly housing costs High School Graduate  \\\n",
       "0                   596                          747                 3316   \n",
       "1                  1908                          855                 7103   \n",
       "2                  3528                          814                 9627   \n",
       "3                   174                          549                 1385   \n",
       "4                  1868                          733                 5966   \n",
       "\n",
       "  Some College or Associates degree Bachelors degree or higher ZipCode  \\\n",
       "0                              1290                       1868   00601   \n",
       "1                              3061                       5575   00602   \n",
       "2                              2558                       7653   00603   \n",
       "3                               201                        482   00606   \n",
       "4                              2166                       3292   00610   \n",
       "\n",
       "        City        State  \n",
       "0   Adjuntas  Puerto Rico  \n",
       "1     Aguada  Puerto Rico  \n",
       "2  Aguadilla  Puerto Rico  \n",
       "3    Maricao  Puerto Rico  \n",
       "4     Anasco  Puerto Rico  \n",
       "\n",
       "[5 rows x 43 columns]"
      ]
     },
     "execution_count": 20,
     "metadata": {},
     "output_type": "execute_result"
    }
   ],
   "source": [
    "# To display the first five rows\n",
    "df_merged.head()"
   ]
  },
  {
   "cell_type": "markdown",
   "id": "b7b4c11d",
   "metadata": {},
   "source": [
    "4. Identification of columns with null/inconsistent values:"
   ]
  },
  {
   "cell_type": "code",
   "execution_count": 21,
   "id": "c7fa29d5",
   "metadata": {},
   "outputs": [],
   "source": [
    "# To drop the Name, Poverty and ChildPoverty column as we dont have data in that column\n",
    "df_merged.drop(['NAME', 'Poverty', 'ChildPoverty'], axis=1, inplace=True)"
   ]
  },
  {
   "cell_type": "code",
   "execution_count": 22,
   "id": "1cd7f84f",
   "metadata": {},
   "outputs": [],
   "source": [
    "# To set the index of the data frame.\n",
    "df_merged.set_index(['ZipCode'], inplace=True)"
   ]
  },
  {
   "cell_type": "markdown",
   "id": "72d7691f",
   "metadata": {},
   "source": [
    "5. Identification of rows with null/inconsistent values:"
   ]
  },
  {
   "cell_type": "code",
   "execution_count": 23,
   "id": "477f2081",
   "metadata": {},
   "outputs": [
    {
     "data": {
      "text/plain": [
       "(32921, 39)"
      ]
     },
     "execution_count": 23,
     "metadata": {},
     "output_type": "execute_result"
    }
   ],
   "source": [
    "# To check number of rows and columns\n",
    "df_merged.shape"
   ]
  },
  {
   "cell_type": "code",
   "execution_count": 24,
   "id": "a8e5bf26",
   "metadata": {},
   "outputs": [],
   "source": [
    "# To filter out the rows that have non numeric rows in Income column\n",
    "df_final = df_merged[df_merged['Income'].apply(lambda x: x.isnumeric())]"
   ]
  },
  {
   "cell_type": "code",
   "execution_count": 25,
   "id": "b6328491",
   "metadata": {},
   "outputs": [
    {
     "data": {
      "text/plain": [
       "(30474, 39)"
      ]
     },
     "execution_count": 25,
     "metadata": {},
     "output_type": "execute_result"
    }
   ],
   "source": [
    "# To check the number of rows after dropping the rows that have non numeric rows in Income column\n",
    "df_final.shape"
   ]
  },
  {
   "cell_type": "code",
   "execution_count": 26,
   "id": "5553ff6e",
   "metadata": {},
   "outputs": [
    {
     "data": {
      "text/plain": [
       "Index(['Income', 'IncomeErr', 'IncomePerCap', 'IncomePerCapErr',\n",
       "       'Professional', 'Service', 'Office', 'Construction', 'Production',\n",
       "       'Drive', 'Carpool', 'Transit', 'Walk', 'OtherTransp', 'WorkAtHome',\n",
       "       'MeanCommute', 'Employed', 'PrivateWork', 'PublicWork', 'SelfEmployed',\n",
       "       'FamilyWork', 'Unemployment', 'TotalPop', 'Men', 'Women', 'Hispanic',\n",
       "       'White', 'Black', 'Native', 'Asian', 'Pacific', 'Citizen',\n",
       "       'Housing with Mortgage', 'Median Monthly housing costs',\n",
       "       'High School Graduate', 'Some College or Associates degree',\n",
       "       'Bachelors degree or higher', 'City', 'State'],\n",
       "      dtype='object')"
      ]
     },
     "execution_count": 26,
     "metadata": {},
     "output_type": "execute_result"
    }
   ],
   "source": [
    "# To verify the name of columns\n",
    "df_final.columns"
   ]
  },
  {
   "cell_type": "code",
   "execution_count": 27,
   "id": "910f6ed5",
   "metadata": {},
   "outputs": [],
   "source": [
    "del df_final['MeanCommute']"
   ]
  },
  {
   "cell_type": "markdown",
   "id": "cf6160bc",
   "metadata": {},
   "source": [
    "As the count of values is very less in Asian , Pacific and Native columns so adding all the count to new column 'RaceOther' , and then dropping the original three columns so reduce the number of columns to analyze."
   ]
  },
  {
   "cell_type": "code",
   "execution_count": 28,
   "id": "74f7ff6e",
   "metadata": {},
   "outputs": [],
   "source": [
    "convert_dict = {'Native': int,'Pacific': int,'Asian': int}\n",
    " \n",
    "df_final = df_final.astype(convert_dict)"
   ]
  },
  {
   "cell_type": "code",
   "execution_count": null,
   "id": "5e4bbc2b",
   "metadata": {},
   "outputs": [],
   "source": []
  },
  {
   "cell_type": "code",
   "execution_count": 29,
   "id": "cd507dd2",
   "metadata": {},
   "outputs": [],
   "source": [
    "# # To add all the values of the Asian, Pacific and Native and creating one new column 'RaceOther'\n",
    "df_final['RaceOther']= df_final['Asian'] + df_final['Pacific']+ df_final['Native']\n",
    "df_final=df_final.drop(['Asian', 'Pacific','Native'], axis=1)"
   ]
  },
  {
   "cell_type": "code",
   "execution_count": 30,
   "id": "1fbf3931",
   "metadata": {},
   "outputs": [
    {
     "data": {
      "text/plain": [
       "ZipCode\n",
       "00601     104\n",
       "00602    4757\n",
       "00603     388\n",
       "00606      22\n",
       "00610    2936\n",
       "         ... \n",
       "99921     572\n",
       "99922     328\n",
       "99925     505\n",
       "99926    1410\n",
       "99929     847\n",
       "Name: RaceOther, Length: 30474, dtype: int32"
      ]
     },
     "execution_count": 30,
     "metadata": {},
     "output_type": "execute_result"
    }
   ],
   "source": [
    "df_final['RaceOther']"
   ]
  },
  {
   "cell_type": "code",
   "execution_count": 31,
   "id": "7819516a",
   "metadata": {},
   "outputs": [
    {
     "data": {
      "text/plain": [
       "Index(['Income', 'IncomeErr', 'IncomePerCap', 'IncomePerCapErr',\n",
       "       'Professional', 'Service', 'Office', 'Construction', 'Production',\n",
       "       'Drive', 'Carpool', 'Transit', 'Walk', 'OtherTransp', 'WorkAtHome',\n",
       "       'Employed', 'PrivateWork', 'PublicWork', 'SelfEmployed', 'FamilyWork',\n",
       "       'Unemployment', 'TotalPop', 'Men', 'Women', 'Hispanic', 'White',\n",
       "       'Black', 'Citizen', 'Housing with Mortgage',\n",
       "       'Median Monthly housing costs', 'High School Graduate',\n",
       "       'Some College or Associates degree', 'Bachelors degree or higher',\n",
       "       'City', 'State', 'RaceOther'],\n",
       "      dtype='object')"
      ]
     },
     "execution_count": 31,
     "metadata": {},
     "output_type": "execute_result"
    }
   ],
   "source": [
    "# To verify the updated column name\n",
    "df_final.columns"
   ]
  },
  {
   "cell_type": "markdown",
   "id": "fcdfc9e9",
   "metadata": {},
   "source": [
    "6. Data type conversion for numeric columns:\n",
    "\n",
    "Currently done for only Income column and it will be expanded to other column as well."
   ]
  },
  {
   "cell_type": "code",
   "execution_count": 32,
   "id": "25c53552",
   "metadata": {},
   "outputs": [],
   "source": [
    "# To change the data type of Income\n",
    "df_final.Income = df_final.Income.astype(int)"
   ]
  },
  {
   "cell_type": "code",
   "execution_count": 33,
   "id": "5257670d",
   "metadata": {},
   "outputs": [],
   "source": [
    "to_be_dropped = df_final[~df_final.iloc[:, 29].str.isnumeric()].index"
   ]
  },
  {
   "cell_type": "code",
   "execution_count": 34,
   "id": "f2f9d519",
   "metadata": {},
   "outputs": [],
   "source": [
    "df_final.drop(to_be_dropped, inplace=True)"
   ]
  },
  {
   "cell_type": "code",
   "execution_count": 35,
   "id": "69fcf305",
   "metadata": {},
   "outputs": [],
   "source": [
    "convert_dict = {'Income':int,\n",
    "       'Professional':int, 'Service':int, 'Office':int, 'Construction':int, 'Production':int,\n",
    "       'Drive':int, 'Carpool':int, 'Transit':int, 'Walk':int, 'OtherTransp':int, 'WorkAtHome':int,\n",
    "       'Employed':int, 'PrivateWork':int, 'PublicWork':int, 'SelfEmployed':int, 'FamilyWork':int ,'Unemployment':int, 'TotalPop':int, 'Men':int, 'Women':int, 'Hispanic':int, 'White':int,\n",
    "       'Black':int, 'Citizen':int, 'Housing with Mortgage':int,\n",
    "       'Median Monthly housing costs':int, 'High School Graduate':int,\n",
    "       'Some College or Associates degree':int, 'Bachelors degree or higher':int\n",
    "                }\n",
    "df_final = df_final.astype(convert_dict)"
   ]
  },
  {
   "cell_type": "code",
   "execution_count": null,
   "id": "af8c6af0",
   "metadata": {},
   "outputs": [],
   "source": []
  },
  {
   "cell_type": "code",
   "execution_count": null,
   "id": "6d0c952f",
   "metadata": {},
   "outputs": [],
   "source": []
  },
  {
   "cell_type": "code",
   "execution_count": null,
   "id": "cc0f9d0b",
   "metadata": {},
   "outputs": [],
   "source": []
  },
  {
   "cell_type": "code",
   "execution_count": null,
   "id": "a1596aa6",
   "metadata": {},
   "outputs": [],
   "source": []
  },
  {
   "cell_type": "code",
   "execution_count": null,
   "id": "193b3226",
   "metadata": {},
   "outputs": [],
   "source": []
  },
  {
   "cell_type": "code",
   "execution_count": 36,
   "id": "3193219b",
   "metadata": {},
   "outputs": [],
   "source": [
    "# To convert education related columns to percentage values\n",
    "df_final.iloc[:,30:33] = df_final.iloc[:,30:33].div(df_final['TotalPop'], axis=0) \n",
    "df_final.iloc[:,30:33] =df_final.iloc[:,30:33].apply(lambda x: x*100)"
   ]
  },
  {
   "cell_type": "code",
   "execution_count": 37,
   "id": "322cce84",
   "metadata": {},
   "outputs": [],
   "source": [
    "# # To convert work related columns to percentage values\n",
    "# df_final.iloc[:,16:21] = df_final.iloc[:,16:21].div(df_final['TotalPop'], axis=0) \n",
    "# df_final.iloc[:,16:21] =df_final.iloc[:,16:21].apply(lambda x: x*100)"
   ]
  },
  {
   "cell_type": "code",
   "execution_count": 38,
   "id": "fe8f8d7f",
   "metadata": {},
   "outputs": [
    {
     "data": {
      "text/html": [
       "<div>\n",
       "<style scoped>\n",
       "    .dataframe tbody tr th:only-of-type {\n",
       "        vertical-align: middle;\n",
       "    }\n",
       "\n",
       "    .dataframe tbody tr th {\n",
       "        vertical-align: top;\n",
       "    }\n",
       "\n",
       "    .dataframe thead th {\n",
       "        text-align: right;\n",
       "    }\n",
       "</style>\n",
       "<table border=\"1\" class=\"dataframe\">\n",
       "  <thead>\n",
       "    <tr style=\"text-align: right;\">\n",
       "      <th></th>\n",
       "      <th>PrivateWork</th>\n",
       "      <th>PublicWork</th>\n",
       "      <th>SelfEmployed</th>\n",
       "      <th>FamilyWork</th>\n",
       "      <th>Unemployment</th>\n",
       "    </tr>\n",
       "    <tr>\n",
       "      <th>ZipCode</th>\n",
       "      <th></th>\n",
       "      <th></th>\n",
       "      <th></th>\n",
       "      <th></th>\n",
       "      <th></th>\n",
       "    </tr>\n",
       "  </thead>\n",
       "  <tbody>\n",
       "    <tr>\n",
       "      <th>00601</th>\n",
       "      <td>2017</td>\n",
       "      <td>1166</td>\n",
       "      <td>447</td>\n",
       "      <td>0</td>\n",
       "      <td>1599</td>\n",
       "    </tr>\n",
       "    <tr>\n",
       "      <th>00602</th>\n",
       "      <td>7139</td>\n",
       "      <td>1725</td>\n",
       "      <td>1979</td>\n",
       "      <td>8</td>\n",
       "      <td>913</td>\n",
       "    </tr>\n",
       "    <tr>\n",
       "      <th>00603</th>\n",
       "      <td>8252</td>\n",
       "      <td>2726</td>\n",
       "      <td>987</td>\n",
       "      <td>0</td>\n",
       "      <td>2575</td>\n",
       "    </tr>\n",
       "    <tr>\n",
       "      <th>00606</th>\n",
       "      <td>871</td>\n",
       "      <td>500</td>\n",
       "      <td>69</td>\n",
       "      <td>15</td>\n",
       "      <td>157</td>\n",
       "    </tr>\n",
       "    <tr>\n",
       "      <th>00610</th>\n",
       "      <td>6022</td>\n",
       "      <td>1402</td>\n",
       "      <td>849</td>\n",
       "      <td>0</td>\n",
       "      <td>877</td>\n",
       "    </tr>\n",
       "    <tr>\n",
       "      <th>...</th>\n",
       "      <td>...</td>\n",
       "      <td>...</td>\n",
       "      <td>...</td>\n",
       "      <td>...</td>\n",
       "      <td>...</td>\n",
       "    </tr>\n",
       "    <tr>\n",
       "      <th>99919</th>\n",
       "      <td>86</td>\n",
       "      <td>133</td>\n",
       "      <td>7</td>\n",
       "      <td>0</td>\n",
       "      <td>14</td>\n",
       "    </tr>\n",
       "    <tr>\n",
       "      <th>99921</th>\n",
       "      <td>646</td>\n",
       "      <td>256</td>\n",
       "      <td>126</td>\n",
       "      <td>15</td>\n",
       "      <td>72</td>\n",
       "    </tr>\n",
       "    <tr>\n",
       "      <th>99925</th>\n",
       "      <td>234</td>\n",
       "      <td>167</td>\n",
       "      <td>47</td>\n",
       "      <td>3</td>\n",
       "      <td>66</td>\n",
       "    </tr>\n",
       "    <tr>\n",
       "      <th>99926</th>\n",
       "      <td>143</td>\n",
       "      <td>344</td>\n",
       "      <td>59</td>\n",
       "      <td>3</td>\n",
       "      <td>99</td>\n",
       "    </tr>\n",
       "    <tr>\n",
       "      <th>99929</th>\n",
       "      <td>551</td>\n",
       "      <td>369</td>\n",
       "      <td>112</td>\n",
       "      <td>35</td>\n",
       "      <td>68</td>\n",
       "    </tr>\n",
       "  </tbody>\n",
       "</table>\n",
       "<p>28528 rows × 5 columns</p>\n",
       "</div>"
      ],
      "text/plain": [
       "         PrivateWork  PublicWork  SelfEmployed  FamilyWork  Unemployment\n",
       "ZipCode                                                                 \n",
       "00601           2017        1166           447           0          1599\n",
       "00602           7139        1725          1979           8           913\n",
       "00603           8252        2726           987           0          2575\n",
       "00606            871         500            69          15           157\n",
       "00610           6022        1402           849           0           877\n",
       "...              ...         ...           ...         ...           ...\n",
       "99919             86         133             7           0            14\n",
       "99921            646         256           126          15            72\n",
       "99925            234         167            47           3            66\n",
       "99926            143         344            59           3            99\n",
       "99929            551         369           112          35            68\n",
       "\n",
       "[28528 rows x 5 columns]"
      ]
     },
     "execution_count": 38,
     "metadata": {},
     "output_type": "execute_result"
    }
   ],
   "source": [
    "df_final.iloc[:,16:21]"
   ]
  },
  {
   "cell_type": "code",
   "execution_count": null,
   "id": "214f1b90",
   "metadata": {},
   "outputs": [],
   "source": []
  },
  {
   "cell_type": "code",
   "execution_count": null,
   "id": "41d646cc",
   "metadata": {},
   "outputs": [],
   "source": []
  },
  {
   "cell_type": "code",
   "execution_count": null,
   "id": "3266b227",
   "metadata": {},
   "outputs": [],
   "source": []
  },
  {
   "cell_type": "code",
   "execution_count": null,
   "id": "e6367652",
   "metadata": {},
   "outputs": [],
   "source": []
  },
  {
   "cell_type": "code",
   "execution_count": null,
   "id": "7a7af4f3",
   "metadata": {},
   "outputs": [],
   "source": []
  },
  {
   "cell_type": "code",
   "execution_count": null,
   "id": "d64e0e7a",
   "metadata": {},
   "outputs": [],
   "source": []
  },
  {
   "cell_type": "markdown",
   "id": "318eeeb9",
   "metadata": {},
   "source": [
    "#### Section 3c: Data Visualizations (EDA)"
   ]
  },
  {
   "cell_type": "code",
   "execution_count": 39,
   "id": "6e90bdb5",
   "metadata": {},
   "outputs": [],
   "source": [
    "# Bar chart to visualize the Number of zip codes in each states\n",
    "# figure, axis = plt.subplots(1, 1, figsize = (15, 7))\n",
    "# plt.suptitle('Number of Zip codes included in a state', fontsize = 1, color= 'teal')\n",
    "# axis= sns.countplot(x=df_final[\"State\"], palette= 'pastel')\n",
    "# axis.set(xlabel = \"State\")\n",
    "# axis.set(ylabel = \"Count of Zip Codes\")\n",
    "# axis.set_xticklabels(axis.get_xticklabels(), rotation=90)\n",
    "# plt.show()"
   ]
  },
  {
   "cell_type": "code",
   "execution_count": 40,
   "id": "80878f46",
   "metadata": {},
   "outputs": [
    {
     "data": {
      "text/html": [
       "<div>\n",
       "<style scoped>\n",
       "    .dataframe tbody tr th:only-of-type {\n",
       "        vertical-align: middle;\n",
       "    }\n",
       "\n",
       "    .dataframe tbody tr th {\n",
       "        vertical-align: top;\n",
       "    }\n",
       "\n",
       "    .dataframe thead th {\n",
       "        text-align: right;\n",
       "    }\n",
       "</style>\n",
       "<table border=\"1\" class=\"dataframe\">\n",
       "  <thead>\n",
       "    <tr style=\"text-align: right;\">\n",
       "      <th></th>\n",
       "      <th>State</th>\n",
       "      <th>Income</th>\n",
       "    </tr>\n",
       "  </thead>\n",
       "  <tbody>\n",
       "    <tr>\n",
       "      <th>1</th>\n",
       "      <td>New Jersey</td>\n",
       "      <td>96061.160305</td>\n",
       "    </tr>\n",
       "    <tr>\n",
       "      <th>2</th>\n",
       "      <td>District of Columbia</td>\n",
       "      <td>95414.714286</td>\n",
       "    </tr>\n",
       "    <tr>\n",
       "      <th>3</th>\n",
       "      <td>Maryland</td>\n",
       "      <td>92802.761194</td>\n",
       "    </tr>\n",
       "    <tr>\n",
       "      <th>4</th>\n",
       "      <td>Massachusetts</td>\n",
       "      <td>90983.526860</td>\n",
       "    </tr>\n",
       "    <tr>\n",
       "      <th>5</th>\n",
       "      <td>Connecticut</td>\n",
       "      <td>89040.648221</td>\n",
       "    </tr>\n",
       "    <tr>\n",
       "      <th>6</th>\n",
       "      <td>Rhode Island</td>\n",
       "      <td>81764.101449</td>\n",
       "    </tr>\n",
       "    <tr>\n",
       "      <th>7</th>\n",
       "      <td>New Hampshire</td>\n",
       "      <td>81356.851064</td>\n",
       "    </tr>\n",
       "    <tr>\n",
       "      <th>8</th>\n",
       "      <td>Hawaii</td>\n",
       "      <td>76795.358974</td>\n",
       "    </tr>\n",
       "    <tr>\n",
       "      <th>9</th>\n",
       "      <td>California</td>\n",
       "      <td>75406.715000</td>\n",
       "    </tr>\n",
       "    <tr>\n",
       "      <th>10</th>\n",
       "      <td>New York</td>\n",
       "      <td>72053.825133</td>\n",
       "    </tr>\n",
       "    <tr>\n",
       "      <th>11</th>\n",
       "      <td>Delaware</td>\n",
       "      <td>71671.214286</td>\n",
       "    </tr>\n",
       "    <tr>\n",
       "      <th>12</th>\n",
       "      <td>Washington</td>\n",
       "      <td>70725.940840</td>\n",
       "    </tr>\n",
       "    <tr>\n",
       "      <th>13</th>\n",
       "      <td>Colorado</td>\n",
       "      <td>70080.758542</td>\n",
       "    </tr>\n",
       "    <tr>\n",
       "      <th>14</th>\n",
       "      <td>Virginia</td>\n",
       "      <td>69735.424324</td>\n",
       "    </tr>\n",
       "    <tr>\n",
       "      <th>15</th>\n",
       "      <td>Utah</td>\n",
       "      <td>69376.398340</td>\n",
       "    </tr>\n",
       "    <tr>\n",
       "      <th>16</th>\n",
       "      <td>North Dakota</td>\n",
       "      <td>68542.468852</td>\n",
       "    </tr>\n",
       "    <tr>\n",
       "      <th>17</th>\n",
       "      <td>Minnesota</td>\n",
       "      <td>67039.682783</td>\n",
       "    </tr>\n",
       "    <tr>\n",
       "      <th>18</th>\n",
       "      <td>Illinois</td>\n",
       "      <td>65904.558552</td>\n",
       "    </tr>\n",
       "    <tr>\n",
       "      <th>19</th>\n",
       "      <td>Wyoming</td>\n",
       "      <td>65843.103774</td>\n",
       "    </tr>\n",
       "    <tr>\n",
       "      <th>20</th>\n",
       "      <td>Vermont</td>\n",
       "      <td>65786.290456</td>\n",
       "    </tr>\n",
       "    <tr>\n",
       "      <th>21</th>\n",
       "      <td>Nevada</td>\n",
       "      <td>64141.641791</td>\n",
       "    </tr>\n",
       "    <tr>\n",
       "      <th>22</th>\n",
       "      <td>Wisconsin</td>\n",
       "      <td>63733.914324</td>\n",
       "    </tr>\n",
       "    <tr>\n",
       "      <th>23</th>\n",
       "      <td>Pennsylvania</td>\n",
       "      <td>63147.635317</td>\n",
       "    </tr>\n",
       "    <tr>\n",
       "      <th>24</th>\n",
       "      <td>Iowa</td>\n",
       "      <td>62719.079955</td>\n",
       "    </tr>\n",
       "    <tr>\n",
       "      <th>25</th>\n",
       "      <td>Nebraska</td>\n",
       "      <td>62234.540856</td>\n",
       "    </tr>\n",
       "    <tr>\n",
       "      <th>26</th>\n",
       "      <td>Oregon</td>\n",
       "      <td>62107.326923</td>\n",
       "    </tr>\n",
       "    <tr>\n",
       "      <th>27</th>\n",
       "      <td>South Dakota</td>\n",
       "      <td>61790.978947</td>\n",
       "    </tr>\n",
       "    <tr>\n",
       "      <th>28</th>\n",
       "      <td>Texas</td>\n",
       "      <td>61707.793103</td>\n",
       "    </tr>\n",
       "    <tr>\n",
       "      <th>29</th>\n",
       "      <td>Alaska</td>\n",
       "      <td>61017.500000</td>\n",
       "    </tr>\n",
       "    <tr>\n",
       "      <th>30</th>\n",
       "      <td>Indiana</td>\n",
       "      <td>60169.627809</td>\n",
       "    </tr>\n",
       "    <tr>\n",
       "      <th>31</th>\n",
       "      <td>Florida</td>\n",
       "      <td>60075.754135</td>\n",
       "    </tr>\n",
       "    <tr>\n",
       "      <th>32</th>\n",
       "      <td>Ohio</td>\n",
       "      <td>60064.601277</td>\n",
       "    </tr>\n",
       "    <tr>\n",
       "      <th>33</th>\n",
       "      <td>Michigan</td>\n",
       "      <td>59328.206568</td>\n",
       "    </tr>\n",
       "    <tr>\n",
       "      <th>34</th>\n",
       "      <td>Kansas</td>\n",
       "      <td>59156.324717</td>\n",
       "    </tr>\n",
       "    <tr>\n",
       "      <th>35</th>\n",
       "      <td>Maine</td>\n",
       "      <td>58251.154242</td>\n",
       "    </tr>\n",
       "    <tr>\n",
       "      <th>36</th>\n",
       "      <td>Arizona</td>\n",
       "      <td>58111.956140</td>\n",
       "    </tr>\n",
       "    <tr>\n",
       "      <th>37</th>\n",
       "      <td>Montana</td>\n",
       "      <td>57263.481481</td>\n",
       "    </tr>\n",
       "    <tr>\n",
       "      <th>38</th>\n",
       "      <td>Idaho</td>\n",
       "      <td>56274.102222</td>\n",
       "    </tr>\n",
       "    <tr>\n",
       "      <th>39</th>\n",
       "      <td>North Carolina</td>\n",
       "      <td>54940.244265</td>\n",
       "    </tr>\n",
       "    <tr>\n",
       "      <th>40</th>\n",
       "      <td>Georgia</td>\n",
       "      <td>54812.826484</td>\n",
       "    </tr>\n",
       "    <tr>\n",
       "      <th>41</th>\n",
       "      <td>Missouri</td>\n",
       "      <td>54102.435897</td>\n",
       "    </tr>\n",
       "    <tr>\n",
       "      <th>42</th>\n",
       "      <td>Tennessee</td>\n",
       "      <td>52762.074913</td>\n",
       "    </tr>\n",
       "    <tr>\n",
       "      <th>43</th>\n",
       "      <td>Oklahoma</td>\n",
       "      <td>51905.199662</td>\n",
       "    </tr>\n",
       "    <tr>\n",
       "      <th>44</th>\n",
       "      <td>South Carolina</td>\n",
       "      <td>50157.204360</td>\n",
       "    </tr>\n",
       "    <tr>\n",
       "      <th>45</th>\n",
       "      <td>Alabama</td>\n",
       "      <td>49457.133690</td>\n",
       "    </tr>\n",
       "    <tr>\n",
       "      <th>46</th>\n",
       "      <td>Louisiana</td>\n",
       "      <td>49176.983721</td>\n",
       "    </tr>\n",
       "    <tr>\n",
       "      <th>47</th>\n",
       "      <td>Kentucky</td>\n",
       "      <td>48647.682968</td>\n",
       "    </tr>\n",
       "    <tr>\n",
       "      <th>48</th>\n",
       "      <td>West Virginia</td>\n",
       "      <td>47934.045872</td>\n",
       "    </tr>\n",
       "    <tr>\n",
       "      <th>49</th>\n",
       "      <td>New Mexico</td>\n",
       "      <td>47735.769608</td>\n",
       "    </tr>\n",
       "    <tr>\n",
       "      <th>50</th>\n",
       "      <td>Arkansas</td>\n",
       "      <td>46117.698745</td>\n",
       "    </tr>\n",
       "    <tr>\n",
       "      <th>51</th>\n",
       "      <td>Mississippi</td>\n",
       "      <td>42658.184066</td>\n",
       "    </tr>\n",
       "    <tr>\n",
       "      <th>52</th>\n",
       "      <td>Puerto Rico</td>\n",
       "      <td>20779.390244</td>\n",
       "    </tr>\n",
       "  </tbody>\n",
       "</table>\n",
       "</div>"
      ],
      "text/plain": [
       "                   State        Income\n",
       "1             New Jersey  96061.160305\n",
       "2   District of Columbia  95414.714286\n",
       "3               Maryland  92802.761194\n",
       "4          Massachusetts  90983.526860\n",
       "5            Connecticut  89040.648221\n",
       "6           Rhode Island  81764.101449\n",
       "7          New Hampshire  81356.851064\n",
       "8                 Hawaii  76795.358974\n",
       "9             California  75406.715000\n",
       "10              New York  72053.825133\n",
       "11              Delaware  71671.214286\n",
       "12            Washington  70725.940840\n",
       "13              Colorado  70080.758542\n",
       "14              Virginia  69735.424324\n",
       "15                  Utah  69376.398340\n",
       "16          North Dakota  68542.468852\n",
       "17             Minnesota  67039.682783\n",
       "18              Illinois  65904.558552\n",
       "19               Wyoming  65843.103774\n",
       "20               Vermont  65786.290456\n",
       "21                Nevada  64141.641791\n",
       "22             Wisconsin  63733.914324\n",
       "23          Pennsylvania  63147.635317\n",
       "24                  Iowa  62719.079955\n",
       "25              Nebraska  62234.540856\n",
       "26                Oregon  62107.326923\n",
       "27          South Dakota  61790.978947\n",
       "28                 Texas  61707.793103\n",
       "29                Alaska  61017.500000\n",
       "30               Indiana  60169.627809\n",
       "31               Florida  60075.754135\n",
       "32                  Ohio  60064.601277\n",
       "33              Michigan  59328.206568\n",
       "34                Kansas  59156.324717\n",
       "35                 Maine  58251.154242\n",
       "36               Arizona  58111.956140\n",
       "37               Montana  57263.481481\n",
       "38                 Idaho  56274.102222\n",
       "39        North Carolina  54940.244265\n",
       "40               Georgia  54812.826484\n",
       "41              Missouri  54102.435897\n",
       "42             Tennessee  52762.074913\n",
       "43              Oklahoma  51905.199662\n",
       "44        South Carolina  50157.204360\n",
       "45               Alabama  49457.133690\n",
       "46             Louisiana  49176.983721\n",
       "47              Kentucky  48647.682968\n",
       "48         West Virginia  47934.045872\n",
       "49            New Mexico  47735.769608\n",
       "50              Arkansas  46117.698745\n",
       "51           Mississippi  42658.184066\n",
       "52           Puerto Rico  20779.390244"
      ]
     },
     "execution_count": 40,
     "metadata": {},
     "output_type": "execute_result"
    }
   ],
   "source": [
    "income_state= df_final.groupby(['State'],as_index=False)['Income'].mean().sort_values(\"Income\", ascending = False).reset_index()\n",
    "del income_state['index']\n",
    "income_state.index = np.arange(1, len(income_state) + 1)\n",
    "income_state"
   ]
  },
  {
   "cell_type": "code",
   "execution_count": 41,
   "id": "35fa7be5",
   "metadata": {},
   "outputs": [
    {
     "data": {
      "text/plain": [
       "62995.772644419514"
      ]
     },
     "execution_count": 41,
     "metadata": {},
     "output_type": "execute_result"
    }
   ],
   "source": [
    "df_final['Income'].mean()"
   ]
  },
  {
   "cell_type": "markdown",
   "id": "119a5cc8",
   "metadata": {},
   "source": [
    "To begin our analysis, we must first determine the median household income in the United States.\n",
    "This is an important step in our upcoming analyses of how many factors influence a state's income levels.\n",
    "\n",
    "According to the Social Science Research Network on factors affecting incomes state-wide, a variety of socioeconomic, political, and environmental factors influence a state's median household income. Incomes are assumed to be higher if these factors all work in favor of the population. If they do not, the state's median household income may fall."
   ]
  },
  {
   "cell_type": "code",
   "execution_count": 44,
   "id": "2fd366a7",
   "metadata": {},
   "outputs": [
    {
     "data": {
      "image/png": "[encoded data removed]",
      "text/plain": [
       "<Figure size 1080x432 with 1 Axes>"
      ]
     },
     "metadata": {
      "needs_background": "light"
     },
     "output_type": "display_data"
    }
   ],
   "source": [
    "# To plot the average income across all states\n",
    "income_state= df_final.groupby(['State'],as_index=False)['Income'].mean().sort_values(by='Income',ascending=False)\n",
    "\n",
    "figure, axis = plt.subplots(figsize=(15, 6))\n",
    "plt.suptitle('Median Income across all states in accordance with the National Average', fontsize = 20, color= 'teal')\n",
    "axis = sns.barplot(x=income_state['State'].values, y=income_state['Income'].values, palette=\"crest\")\n",
    "axis.set_xlabel(\"State\",  fontsize = 15)\n",
    "\n",
    "axis.set_ylabel( \"Median Household Income\",  fontsize = 15)\n",
    "# To display the national average of all the states with the red line\n",
    "axis.axhline(df_final['Income'].mean(),color = 'red',linewidth = 2, linestyle ='--')\n",
    "axis.set_xticklabels(axis.get_xticklabels(), rotation=90);"
   ]
  },
  {
   "cell_type": "markdown",
   "id": "8930945c",
   "metadata": {},
   "source": [
    "#### Observation:\n",
    "The bar graph and the purposely constructed United States map above depict the entire United States and their median household incomes. There are 22 states that are above the national median household income. \n",
    "\n",
    "#### Inference:\n",
    "According to the graph, DC and NJ have the highest median household incomes when compared to the rest of the United States, while Puerto Rico has the lowest median household income.\n",
    "\n",
    "Many people in New Jersey work in high-paying jobs in New York City and Philadelphia. As a result, it could play a significant role in increasing NJ's median household income.\n",
    "\n",
    "Many factors may contribute to DC's high average income, beginning with the fact that it is the country's capital and home to the majority of high-paying federal jobs. As a result, it is also the most educated region in the United States, despite having a much lower population than every other state.\n",
    "\n",
    "When making an inference, the first thing that comes to mind is the state's employment and education levels. The population’s ethnic diversity and socioeconomic backgrounds will come in third. We stop here because we only need the income levels in this part of the analysis and continue with our other questions where we will investigate the cause further.\n"
   ]
  },
  {
   "cell_type": "markdown",
   "id": "0eaabf52",
   "metadata": {},
   "source": [
    "#### Graph Analysis  and Interpertation #1 : Looking at number of zipcodes vs  States \n",
    "- Reason for Visualization\n",
    "\n",
    "The purpose of this bar graph is to compare the count of zipcodes for the states in US. We can draw several conclusions and observations from the graph above. Using this data we can better understand how detailed the zip codes are for each state to have a better level of detail in various regions.\n",
    "- Data-driven observations\n",
    "    - Looking at the visualization graph, one thing we can notice is that Delaware, Florida, Puerto Rico and Virginia are the states with the largest count of zipcodes.\n",
    "    - Another observation is that the lowest count of zipcodes are from Hawaii, Georgia and Arizona.\n",
    "- Inferences(explanation or assumption)that we can Make \n",
    "    - The first inference we can draw from the visualization graph is that when we use our data to draw conclusions on the income of these states we have to keep in mind that the level of detail is higher and might be more accurate.\n",
    " - The second inference is that since Hawaii might be a smaller state geographically it can have lesser zipcodes but Georgia and Arizona a\n",
    "are larger states and need to have more data and level of detail in them to draw accurate conclusions\n"
   ]
  },
  {
   "cell_type": "markdown",
   "id": "5df0b590",
   "metadata": {},
   "source": [
    "#### Graph Analysis  and Interpertation #2 :  Looking at Income  vs  State\n",
    "- Reason for Visualization\n",
    "    - The purpose of this bar graph is to compare the average income for US States with each other. We can draw several conclusions and observations from the graph above. Using this data we can better understand how  income impacts in various regions of the United States\n",
    "- Data-driven observations\n",
    "    - Looking at the visualization graph, one thing we can notice is that the highest income is for the District of Columbia and the lowest is for Puerto Rico\n",
    "- Inferences that we can make:\n",
    "    - The first inference we can draw from the visualization graph is that the income for Puerto Rico is the lowest despite having a higher level of detail. This needs to be analysed further\n"
   ]
  },
  {
   "cell_type": "code",
   "execution_count": 45,
   "id": "f8180c7f",
   "metadata": {},
   "outputs": [],
   "source": [
    "#income_state['Income'] = income_state['Income'].astype(int)"
   ]
  },
  {
   "cell_type": "code",
   "execution_count": 46,
   "id": "6c20e6e7",
   "metadata": {},
   "outputs": [],
   "source": [
    "# Creating one dictionary to replace the State name with the State code\n",
    "us_state= {\n",
    "    \"Alabama\": \"AL\",\n",
    "    \"Alaska\": \"AK\",\n",
    "    \"Arizona\": \"AZ\",\n",
    "    \"Arkansas\": \"AR\",\n",
    "    \"California\": \"CA\",\n",
    "    \"Colorado\": \"CO\",\n",
    "    \"Connecticut\": \"CT\",\n",
    "    \"Delaware\": \"DE\",\n",
    "    \"Florida\": \"FL\",\n",
    "    \"Georgia\": \"GA\",\n",
    "    \"Hawaii\": \"HI\",\n",
    "    \"Idaho\": \"ID\",\n",
    "    \"Illinois\": \"IL\",\n",
    "    \"Indiana\": \"IN\",\n",
    "    \"Iowa\": \"IA\",\n",
    "    \"Kansas\": \"KS\",\n",
    "    \"Kentucky\": \"KY\",\n",
    "    \"Louisiana\": \"LA\",\n",
    "    \"Maine\": \"ME\",\n",
    "    \"Maryland\": \"MD\",\n",
    "    \"Massachusetts\": \"MA\",\n",
    "    \"Michigan\": \"MI\",\n",
    "    \"Minnesota\": \"MN\",\n",
    "    \"Mississippi\": \"MS\",\n",
    "    \"Missouri\": \"MO\",\n",
    "    \"Montana\": \"MT\",\n",
    "    \"Nebraska\": \"NE\",\n",
    "    \"Nevada\": \"NV\",\n",
    "    \"New Hampshire\": \"NH\",\n",
    "    \"New Jersey\": \"NJ\",\n",
    "    \"New Mexico\": \"NM\",\n",
    "    \"New York\": \"NY\",\n",
    "    \"North Carolina\": \"NC\",\n",
    "    \"North Dakota\": \"ND\",\n",
    "    \"Ohio\": \"OH\",\n",
    "    \"Oklahoma\": \"OK\",\n",
    "    \"Oregon\": \"OR\",\n",
    "    \"Pennsylvania\": \"PA\",\n",
    "    \"Rhode Island\": \"RI\",\n",
    "    \"South Carolina\": \"SC\",\n",
    "    \"South Dakota\": \"SD\",\n",
    "    \"Tennessee\": \"TN\",\n",
    "    \"Texas\": \"TX\",\n",
    "    \"Utah\": \"UT\",\n",
    "    \"Vermont\": \"VT\",\n",
    "    \"Virginia\": \"VA\",\n",
    "    \"Washington\": \"WA\",\n",
    "    \"West Virginia\": \"WV\",\n",
    "    \"Wisconsin\": \"WI\",\n",
    "    \"Wyoming\": \"WY\",\n",
    "    \"District of Columbia\": \"DC\",\n",
    "    \"American Samoa\": \"AS\",\n",
    "    \"Guam\": \"GU\",\n",
    "    \"Northern Mariana Islands\": \"MP\",\n",
    "    \"Puerto Rico\": \"PR\",\n",
    "    \"United States Minor Outlying Islands\": \"UM\",\n",
    "    \"U.S. Virgin Islands\": \"VI\",\n",
    "}"
   ]
  },
  {
   "cell_type": "code",
   "execution_count": 47,
   "id": "701575ed",
   "metadata": {},
   "outputs": [],
   "source": [
    "# To replace the state with the state code\n",
    "income_state['State'] = income_state['State'].replace(us_state)"
   ]
  },
  {
   "cell_type": "code",
   "execution_count": 48,
   "id": "d3fdf8c0",
   "metadata": {},
   "outputs": [
    {
     "data": {
      "text/plain": [
       "30    NJ\n",
       "8     DC\n",
       "20    MD\n",
       "21    MA\n",
       "6     CT\n",
       "40    RI\n",
       "29    NH\n",
       "11    HI\n",
       "4     CA\n",
       "32    NY\n",
       "7     DE\n",
       "48    WA\n",
       "5     CO\n",
       "47    VA\n",
       "45    UT\n",
       "34    ND\n",
       "23    MN\n",
       "13    IL\n",
       "51    WY\n",
       "46    VT\n",
       "28    NV\n",
       "50    WI\n",
       "38    PA\n",
       "15    IA\n",
       "27    NE\n",
       "37    OR\n",
       "42    SD\n",
       "44    TX\n",
       "1     AK\n",
       "14    IN\n",
       "9     FL\n",
       "35    OH\n",
       "22    MI\n",
       "16    KS\n",
       "19    ME\n",
       "2     AZ\n",
       "26    MT\n",
       "12    ID\n",
       "33    NC\n",
       "10    GA\n",
       "25    MO\n",
       "43    TN\n",
       "36    OK\n",
       "41    SC\n",
       "0     AL\n",
       "18    LA\n",
       "17    KY\n",
       "49    WV\n",
       "31    NM\n",
       "3     AR\n",
       "24    MS\n",
       "39    PR\n",
       "Name: State, dtype: object"
      ]
     },
     "execution_count": 48,
     "metadata": {},
     "output_type": "execute_result"
    }
   ],
   "source": [
    "# Converting with State code to string data type\n",
    "income_state.State.astype(str)"
   ]
  },
  {
   "cell_type": "code",
   "execution_count": 49,
   "id": "606dbcdb",
   "metadata": {},
   "outputs": [],
   "source": [
    "# # Plotting the map to show Average Income across all the states\n",
    "# fig = go.Figure(data = go.Choropleth(\n",
    "#     locations = income_state['State'],\n",
    "#     z = income_state['Income'],\n",
    "#     locationmode = \"USA-states\",\n",
    "#     colorscale = \"rainbow\",\n",
    "#     colorbar_title = \"Average Income\"))\n",
    "\n",
    "# # Updating the title of the chart\n",
    "# fig.update_layout(\n",
    "#     title_text = \"Average Income by US States\",\n",
    "#     geo_scope = \"usa\")\n",
    "\n",
    "# fig.show()"
   ]
  },
  {
   "cell_type": "code",
   "execution_count": 50,
   "id": "3701e46e",
   "metadata": {},
   "outputs": [],
   "source": [
    "# # To convert work related columns to percentage values\n",
    "# df_final.iloc[:,16:21] = df_final.iloc[:,16:21].div(df_final['TotalPop'], axis=0) \n",
    "# df_final.iloc[:,16:21] =df_final.iloc[:,16:21].apply(lambda x: x*100)"
   ]
  },
  {
   "cell_type": "code",
   "execution_count": 51,
   "id": "2de69ee6",
   "metadata": {},
   "outputs": [
    {
     "data": {
      "text/html": [
       "<div>\n",
       "<style scoped>\n",
       "    .dataframe tbody tr th:only-of-type {\n",
       "        vertical-align: middle;\n",
       "    }\n",
       "\n",
       "    .dataframe tbody tr th {\n",
       "        vertical-align: top;\n",
       "    }\n",
       "\n",
       "    .dataframe thead th {\n",
       "        text-align: right;\n",
       "    }\n",
       "</style>\n",
       "<table border=\"1\" class=\"dataframe\">\n",
       "  <thead>\n",
       "    <tr style=\"text-align: right;\">\n",
       "      <th></th>\n",
       "      <th>PrivateWork</th>\n",
       "      <th>PublicWork</th>\n",
       "      <th>SelfEmployed</th>\n",
       "      <th>FamilyWork</th>\n",
       "      <th>Unemployment</th>\n",
       "    </tr>\n",
       "    <tr>\n",
       "      <th>ZipCode</th>\n",
       "      <th></th>\n",
       "      <th></th>\n",
       "      <th></th>\n",
       "      <th></th>\n",
       "      <th></th>\n",
       "    </tr>\n",
       "  </thead>\n",
       "  <tbody>\n",
       "    <tr>\n",
       "      <th>00601</th>\n",
       "      <td>2017</td>\n",
       "      <td>1166</td>\n",
       "      <td>447</td>\n",
       "      <td>0</td>\n",
       "      <td>1599</td>\n",
       "    </tr>\n",
       "    <tr>\n",
       "      <th>00602</th>\n",
       "      <td>7139</td>\n",
       "      <td>1725</td>\n",
       "      <td>1979</td>\n",
       "      <td>8</td>\n",
       "      <td>913</td>\n",
       "    </tr>\n",
       "    <tr>\n",
       "      <th>00603</th>\n",
       "      <td>8252</td>\n",
       "      <td>2726</td>\n",
       "      <td>987</td>\n",
       "      <td>0</td>\n",
       "      <td>2575</td>\n",
       "    </tr>\n",
       "    <tr>\n",
       "      <th>00606</th>\n",
       "      <td>871</td>\n",
       "      <td>500</td>\n",
       "      <td>69</td>\n",
       "      <td>15</td>\n",
       "      <td>157</td>\n",
       "    </tr>\n",
       "    <tr>\n",
       "      <th>00610</th>\n",
       "      <td>6022</td>\n",
       "      <td>1402</td>\n",
       "      <td>849</td>\n",
       "      <td>0</td>\n",
       "      <td>877</td>\n",
       "    </tr>\n",
       "    <tr>\n",
       "      <th>...</th>\n",
       "      <td>...</td>\n",
       "      <td>...</td>\n",
       "      <td>...</td>\n",
       "      <td>...</td>\n",
       "      <td>...</td>\n",
       "    </tr>\n",
       "    <tr>\n",
       "      <th>99919</th>\n",
       "      <td>86</td>\n",
       "      <td>133</td>\n",
       "      <td>7</td>\n",
       "      <td>0</td>\n",
       "      <td>14</td>\n",
       "    </tr>\n",
       "    <tr>\n",
       "      <th>99921</th>\n",
       "      <td>646</td>\n",
       "      <td>256</td>\n",
       "      <td>126</td>\n",
       "      <td>15</td>\n",
       "      <td>72</td>\n",
       "    </tr>\n",
       "    <tr>\n",
       "      <th>99925</th>\n",
       "      <td>234</td>\n",
       "      <td>167</td>\n",
       "      <td>47</td>\n",
       "      <td>3</td>\n",
       "      <td>66</td>\n",
       "    </tr>\n",
       "    <tr>\n",
       "      <th>99926</th>\n",
       "      <td>143</td>\n",
       "      <td>344</td>\n",
       "      <td>59</td>\n",
       "      <td>3</td>\n",
       "      <td>99</td>\n",
       "    </tr>\n",
       "    <tr>\n",
       "      <th>99929</th>\n",
       "      <td>551</td>\n",
       "      <td>369</td>\n",
       "      <td>112</td>\n",
       "      <td>35</td>\n",
       "      <td>68</td>\n",
       "    </tr>\n",
       "  </tbody>\n",
       "</table>\n",
       "<p>28528 rows × 5 columns</p>\n",
       "</div>"
      ],
      "text/plain": [
       "         PrivateWork  PublicWork  SelfEmployed  FamilyWork  Unemployment\n",
       "ZipCode                                                                 \n",
       "00601           2017        1166           447           0          1599\n",
       "00602           7139        1725          1979           8           913\n",
       "00603           8252        2726           987           0          2575\n",
       "00606            871         500            69          15           157\n",
       "00610           6022        1402           849           0           877\n",
       "...              ...         ...           ...         ...           ...\n",
       "99919             86         133             7           0            14\n",
       "99921            646         256           126          15            72\n",
       "99925            234         167            47           3            66\n",
       "99926            143         344            59           3            99\n",
       "99929            551         369           112          35            68\n",
       "\n",
       "[28528 rows x 5 columns]"
      ]
     },
     "execution_count": 51,
     "metadata": {},
     "output_type": "execute_result"
    }
   ],
   "source": [
    "df_final.iloc[:,16:21]"
   ]
  },
  {
   "cell_type": "code",
   "execution_count": 52,
   "id": "bd5490b2",
   "metadata": {},
   "outputs": [],
   "source": [
    "df_work2 = df_final[['PrivateWork', 'PublicWork', 'SelfEmployed','FamilyWork', 'Income', 'Unemployment', 'State', 'TotalPop']]"
   ]
  },
  {
   "cell_type": "code",
   "execution_count": 53,
   "id": "884163af",
   "metadata": {},
   "outputs": [
    {
     "name": "stderr",
     "output_type": "stream",
     "text": [
      "C:\\Users\\satvik\\AppData\\Local\\Temp\\ipykernel_19100\\2581014655.py:1: SettingWithCopyWarning: \n",
      "A value is trying to be set on a copy of a slice from a DataFrame.\n",
      "Try using .loc[row_indexer,col_indexer] = value instead\n",
      "\n",
      "See the caveats in the documentation: https://pandas.pydata.org/pandas-docs/stable/user_guide/indexing.html#returning-a-view-versus-a-copy\n",
      "  df_work2['TotalWorkPop']= df_work2['PrivateWork'] + df_work2['PublicWork']+ df_work2['SelfEmployed'] + df_work2['FamilyWork']\n"
     ]
    }
   ],
   "source": [
    "df_work2['TotalWorkPop']= df_work2['PrivateWork'] + df_work2['PublicWork']+ df_work2['SelfEmployed'] + df_work2['FamilyWork']"
   ]
  },
  {
   "cell_type": "code",
   "execution_count": 54,
   "id": "09c7985b",
   "metadata": {},
   "outputs": [
    {
     "data": {
      "text/html": [
       "<div>\n",
       "<style scoped>\n",
       "    .dataframe tbody tr th:only-of-type {\n",
       "        vertical-align: middle;\n",
       "    }\n",
       "\n",
       "    .dataframe tbody tr th {\n",
       "        vertical-align: top;\n",
       "    }\n",
       "\n",
       "    .dataframe thead th {\n",
       "        text-align: right;\n",
       "    }\n",
       "</style>\n",
       "<table border=\"1\" class=\"dataframe\">\n",
       "  <thead>\n",
       "    <tr style=\"text-align: right;\">\n",
       "      <th></th>\n",
       "      <th>PrivateWork</th>\n",
       "      <th>PublicWork</th>\n",
       "      <th>SelfEmployed</th>\n",
       "      <th>FamilyWork</th>\n",
       "      <th>Income</th>\n",
       "      <th>Unemployment</th>\n",
       "      <th>State</th>\n",
       "      <th>TotalPop</th>\n",
       "      <th>TotalWorkPop</th>\n",
       "    </tr>\n",
       "    <tr>\n",
       "      <th>ZipCode</th>\n",
       "      <th></th>\n",
       "      <th></th>\n",
       "      <th></th>\n",
       "      <th></th>\n",
       "      <th></th>\n",
       "      <th></th>\n",
       "      <th></th>\n",
       "      <th></th>\n",
       "      <th></th>\n",
       "    </tr>\n",
       "  </thead>\n",
       "  <tbody>\n",
       "    <tr>\n",
       "      <th>00601</th>\n",
       "      <td>2017</td>\n",
       "      <td>1166</td>\n",
       "      <td>447</td>\n",
       "      <td>0</td>\n",
       "      <td>14398</td>\n",
       "      <td>1599</td>\n",
       "      <td>Puerto Rico</td>\n",
       "      <td>16773</td>\n",
       "      <td>3630</td>\n",
       "    </tr>\n",
       "    <tr>\n",
       "      <th>00602</th>\n",
       "      <td>7139</td>\n",
       "      <td>1725</td>\n",
       "      <td>1979</td>\n",
       "      <td>8</td>\n",
       "      <td>16771</td>\n",
       "      <td>913</td>\n",
       "      <td>Puerto Rico</td>\n",
       "      <td>37083</td>\n",
       "      <td>10851</td>\n",
       "    </tr>\n",
       "    <tr>\n",
       "      <th>00603</th>\n",
       "      <td>8252</td>\n",
       "      <td>2726</td>\n",
       "      <td>987</td>\n",
       "      <td>0</td>\n",
       "      <td>15786</td>\n",
       "      <td>2575</td>\n",
       "      <td>Puerto Rico</td>\n",
       "      <td>45652</td>\n",
       "      <td>11965</td>\n",
       "    </tr>\n",
       "    <tr>\n",
       "      <th>00606</th>\n",
       "      <td>871</td>\n",
       "      <td>500</td>\n",
       "      <td>69</td>\n",
       "      <td>15</td>\n",
       "      <td>14980</td>\n",
       "      <td>157</td>\n",
       "      <td>Puerto Rico</td>\n",
       "      <td>6231</td>\n",
       "      <td>1455</td>\n",
       "    </tr>\n",
       "    <tr>\n",
       "      <th>00610</th>\n",
       "      <td>6022</td>\n",
       "      <td>1402</td>\n",
       "      <td>849</td>\n",
       "      <td>0</td>\n",
       "      <td>20167</td>\n",
       "      <td>877</td>\n",
       "      <td>Puerto Rico</td>\n",
       "      <td>26502</td>\n",
       "      <td>8273</td>\n",
       "    </tr>\n",
       "  </tbody>\n",
       "</table>\n",
       "</div>"
      ],
      "text/plain": [
       "         PrivateWork  PublicWork  SelfEmployed  FamilyWork  Income  \\\n",
       "ZipCode                                                              \n",
       "00601           2017        1166           447           0   14398   \n",
       "00602           7139        1725          1979           8   16771   \n",
       "00603           8252        2726           987           0   15786   \n",
       "00606            871         500            69          15   14980   \n",
       "00610           6022        1402           849           0   20167   \n",
       "\n",
       "         Unemployment        State  TotalPop  TotalWorkPop  \n",
       "ZipCode                                                     \n",
       "00601            1599  Puerto Rico     16773          3630  \n",
       "00602             913  Puerto Rico     37083         10851  \n",
       "00603            2575  Puerto Rico     45652         11965  \n",
       "00606             157  Puerto Rico      6231          1455  \n",
       "00610             877  Puerto Rico     26502          8273  "
      ]
     },
     "execution_count": 54,
     "metadata": {},
     "output_type": "execute_result"
    }
   ],
   "source": [
    "df_work2.head()"
   ]
  },
  {
   "cell_type": "code",
   "execution_count": null,
   "id": "14e3c46f",
   "metadata": {},
   "outputs": [],
   "source": []
  },
  {
   "cell_type": "code",
   "execution_count": 55,
   "id": "74866190",
   "metadata": {},
   "outputs": [],
   "source": [
    "df_state= df_work2.groupby(['State'],as_index=False)['TotalPop'].sum().sort_values(\"TotalPop\", ascending = False)"
   ]
  },
  {
   "cell_type": "code",
   "execution_count": 56,
   "id": "a575acaa",
   "metadata": {},
   "outputs": [
    {
     "name": "stderr",
     "output_type": "stream",
     "text": [
      "C:\\Users\\satvik\\AppData\\Local\\Temp\\ipykernel_19100\\2517884885.py:1: FutureWarning: Indexing with multiple keys (implicitly converted to a tuple of keys) will be deprecated, use a list instead.\n",
      "  df_work= df_work2.groupby(['State'],as_index=False)['PrivateWork', 'PublicWork', 'SelfEmployed','FamilyWork', 'Unemployment', 'TotalWorkPop'].sum().sort_values(\"PublicWork\", ascending = False)\n"
     ]
    }
   ],
   "source": [
    "df_work= df_work2.groupby(['State'],as_index=False)['PrivateWork', 'PublicWork', 'SelfEmployed','FamilyWork', 'Unemployment', 'TotalWorkPop'].sum().sort_values(\"PublicWork\", ascending = False)"
   ]
  },
  {
   "cell_type": "code",
   "execution_count": 57,
   "id": "43bdeeb4",
   "metadata": {},
   "outputs": [],
   "source": [
    "df_income= df_work2.groupby(['State'],as_index=False)['Income'].mean().sort_values(\"Income\", ascending = False)"
   ]
  },
  {
   "cell_type": "code",
   "execution_count": 58,
   "id": "07bc6023",
   "metadata": {},
   "outputs": [],
   "source": [
    "#df_income= df_final.groupby(['State'],as_index=False)['Income','PrivateWork', 'PublicWork', 'SelfEmployed','FamilyWork', 'Unemployment'].sum().sort_values(\"Income\", ascending = False)"
   ]
  },
  {
   "cell_type": "code",
   "execution_count": 59,
   "id": "da869c12",
   "metadata": {},
   "outputs": [],
   "source": [
    "df_map = df_state.merge(df_work,on='State').merge(df_income,on='State')"
   ]
  },
  {
   "cell_type": "code",
   "execution_count": 60,
   "id": "7f214b55",
   "metadata": {},
   "outputs": [],
   "source": [
    "# df_map.iloc[:,2:7]"
   ]
  },
  {
   "cell_type": "code",
   "execution_count": 61,
   "id": "2c9b34af",
   "metadata": {},
   "outputs": [
    {
     "data": {
      "text/html": [
       "<div>\n",
       "<style scoped>\n",
       "    .dataframe tbody tr th:only-of-type {\n",
       "        vertical-align: middle;\n",
       "    }\n",
       "\n",
       "    .dataframe tbody tr th {\n",
       "        vertical-align: top;\n",
       "    }\n",
       "\n",
       "    .dataframe thead th {\n",
       "        text-align: right;\n",
       "    }\n",
       "</style>\n",
       "<table border=\"1\" class=\"dataframe\">\n",
       "  <thead>\n",
       "    <tr style=\"text-align: right;\">\n",
       "      <th></th>\n",
       "      <th>State</th>\n",
       "      <th>TotalPop</th>\n",
       "      <th>PrivateWork</th>\n",
       "      <th>PublicWork</th>\n",
       "      <th>SelfEmployed</th>\n",
       "      <th>FamilyWork</th>\n",
       "      <th>Unemployment</th>\n",
       "      <th>TotalWorkPop</th>\n",
       "      <th>Income</th>\n",
       "    </tr>\n",
       "  </thead>\n",
       "  <tbody>\n",
       "    <tr>\n",
       "      <th>0</th>\n",
       "      <td>California</td>\n",
       "      <td>36735325</td>\n",
       "      <td>13488444</td>\n",
       "      <td>2473622</td>\n",
       "      <td>1335723</td>\n",
       "      <td>32937</td>\n",
       "      <td>1164408</td>\n",
       "      <td>17330726</td>\n",
       "      <td>75406.715000</td>\n",
       "    </tr>\n",
       "    <tr>\n",
       "      <th>1</th>\n",
       "      <td>Texas</td>\n",
       "      <td>28166789</td>\n",
       "      <td>10575912</td>\n",
       "      <td>1766125</td>\n",
       "      <td>899617</td>\n",
       "      <td>27711</td>\n",
       "      <td>744001</td>\n",
       "      <td>13269365</td>\n",
       "      <td>61707.793103</td>\n",
       "    </tr>\n",
       "    <tr>\n",
       "      <th>2</th>\n",
       "      <td>Florida</td>\n",
       "      <td>21073233</td>\n",
       "      <td>7923791</td>\n",
       "      <td>1125262</td>\n",
       "      <td>569507</td>\n",
       "      <td>18540</td>\n",
       "      <td>553242</td>\n",
       "      <td>9637100</td>\n",
       "      <td>60075.754135</td>\n",
       "    </tr>\n",
       "    <tr>\n",
       "      <th>3</th>\n",
       "      <td>New York</td>\n",
       "      <td>18516812</td>\n",
       "      <td>6983373</td>\n",
       "      <td>1444437</td>\n",
       "      <td>498746</td>\n",
       "      <td>13167</td>\n",
       "      <td>548216</td>\n",
       "      <td>8939723</td>\n",
       "      <td>72053.825133</td>\n",
       "    </tr>\n",
       "    <tr>\n",
       "      <th>4</th>\n",
       "      <td>Pennsylvania</td>\n",
       "      <td>12702461</td>\n",
       "      <td>5191693</td>\n",
       "      <td>659571</td>\n",
       "      <td>310140</td>\n",
       "      <td>9618</td>\n",
       "      <td>349081</td>\n",
       "      <td>6171022</td>\n",
       "      <td>63147.635317</td>\n",
       "    </tr>\n",
       "  </tbody>\n",
       "</table>\n",
       "</div>"
      ],
      "text/plain": [
       "          State  TotalPop  PrivateWork  PublicWork  SelfEmployed  FamilyWork  \\\n",
       "0    California  36735325     13488444     2473622       1335723       32937   \n",
       "1         Texas  28166789     10575912     1766125        899617       27711   \n",
       "2       Florida  21073233      7923791     1125262        569507       18540   \n",
       "3      New York  18516812      6983373     1444437        498746       13167   \n",
       "4  Pennsylvania  12702461      5191693      659571        310140        9618   \n",
       "\n",
       "   Unemployment  TotalWorkPop        Income  \n",
       "0       1164408      17330726  75406.715000  \n",
       "1        744001      13269365  61707.793103  \n",
       "2        553242       9637100  60075.754135  \n",
       "3        548216       8939723  72053.825133  \n",
       "4        349081       6171022  63147.635317  "
      ]
     },
     "execution_count": 61,
     "metadata": {},
     "output_type": "execute_result"
    }
   ],
   "source": [
    "df_map.head()"
   ]
  },
  {
   "cell_type": "code",
   "execution_count": null,
   "id": "24611c56",
   "metadata": {},
   "outputs": [],
   "source": []
  },
  {
   "cell_type": "code",
   "execution_count": null,
   "id": "66410a30",
   "metadata": {},
   "outputs": [],
   "source": []
  },
  {
   "cell_type": "code",
   "execution_count": null,
   "id": "59a9908e",
   "metadata": {},
   "outputs": [],
   "source": []
  },
  {
   "cell_type": "code",
   "execution_count": 62,
   "id": "afcce92f",
   "metadata": {},
   "outputs": [],
   "source": [
    "# To convert work related columns to percentage values\n",
    "df_map.iloc[:,2:6] = df_map.iloc[:,2:6].div(df_map['TotalWorkPop'],axis=0) \n",
    "df_map.iloc[:,2:6] =df_map.iloc[:,2:6].apply(lambda x: x*100)"
   ]
  },
  {
   "cell_type": "code",
   "execution_count": null,
   "id": "aa6d2737",
   "metadata": {},
   "outputs": [],
   "source": []
  },
  {
   "cell_type": "code",
   "execution_count": 63,
   "id": "8e633a57",
   "metadata": {},
   "outputs": [],
   "source": [
    "# To convert work related columns to percentage values\n",
    "df_map.iloc[:,6] = df_map.iloc[:,6].div(df_map['TotalPop'],axis=0) \n",
    "df_map.iloc[:,6] =df_map.iloc[:,6].apply(lambda x: x*100)"
   ]
  },
  {
   "cell_type": "code",
   "execution_count": 64,
   "id": "e909e5b4",
   "metadata": {},
   "outputs": [],
   "source": [
    "df_map = df_map.round(1)"
   ]
  },
  {
   "cell_type": "code",
   "execution_count": 65,
   "id": "65e414ba",
   "metadata": {},
   "outputs": [],
   "source": [
    "# # Creating one data frame and taking only work related columns to do the analysis\n",
    "# df_income= df_final.groupby(['State'],as_index=False)['Income','PrivateWork', 'PublicWork', 'SelfEmployed','FamilyWork', 'Unemployment'].mean().sort_values(\"Income\", ascending = False)\n",
    "# df_income.head()"
   ]
  },
  {
   "cell_type": "code",
   "execution_count": null,
   "id": "0cce32ba",
   "metadata": {},
   "outputs": [],
   "source": []
  },
  {
   "cell_type": "code",
   "execution_count": 66,
   "id": "9e532c52",
   "metadata": {},
   "outputs": [],
   "source": [
    "# Creating new column of State Code based on State\n",
    "df_map['State Code'] = df_map['State'].replace(us_state)"
   ]
  },
  {
   "cell_type": "code",
   "execution_count": 67,
   "id": "111443af",
   "metadata": {},
   "outputs": [
    {
     "data": {
      "text/html": [
       "<div>\n",
       "<style scoped>\n",
       "    .dataframe tbody tr th:only-of-type {\n",
       "        vertical-align: middle;\n",
       "    }\n",
       "\n",
       "    .dataframe tbody tr th {\n",
       "        vertical-align: top;\n",
       "    }\n",
       "\n",
       "    .dataframe thead th {\n",
       "        text-align: right;\n",
       "    }\n",
       "</style>\n",
       "<table border=\"1\" class=\"dataframe\">\n",
       "  <thead>\n",
       "    <tr style=\"text-align: right;\">\n",
       "      <th></th>\n",
       "      <th>State</th>\n",
       "      <th>TotalPop</th>\n",
       "      <th>PrivateWork</th>\n",
       "      <th>PublicWork</th>\n",
       "      <th>SelfEmployed</th>\n",
       "      <th>FamilyWork</th>\n",
       "      <th>Unemployment</th>\n",
       "      <th>TotalWorkPop</th>\n",
       "      <th>Income</th>\n",
       "      <th>State Code</th>\n",
       "    </tr>\n",
       "  </thead>\n",
       "  <tbody>\n",
       "    <tr>\n",
       "      <th>0</th>\n",
       "      <td>California</td>\n",
       "      <td>36735325</td>\n",
       "      <td>77.8</td>\n",
       "      <td>14.3</td>\n",
       "      <td>7.7</td>\n",
       "      <td>0.2</td>\n",
       "      <td>3.2</td>\n",
       "      <td>17330726</td>\n",
       "      <td>75406.7</td>\n",
       "      <td>CA</td>\n",
       "    </tr>\n",
       "    <tr>\n",
       "      <th>1</th>\n",
       "      <td>Texas</td>\n",
       "      <td>28166789</td>\n",
       "      <td>79.7</td>\n",
       "      <td>13.3</td>\n",
       "      <td>6.8</td>\n",
       "      <td>0.2</td>\n",
       "      <td>2.6</td>\n",
       "      <td>13269365</td>\n",
       "      <td>61707.8</td>\n",
       "      <td>TX</td>\n",
       "    </tr>\n",
       "    <tr>\n",
       "      <th>2</th>\n",
       "      <td>Florida</td>\n",
       "      <td>21073233</td>\n",
       "      <td>82.2</td>\n",
       "      <td>11.7</td>\n",
       "      <td>5.9</td>\n",
       "      <td>0.2</td>\n",
       "      <td>2.6</td>\n",
       "      <td>9637100</td>\n",
       "      <td>60075.8</td>\n",
       "      <td>FL</td>\n",
       "    </tr>\n",
       "    <tr>\n",
       "      <th>3</th>\n",
       "      <td>New York</td>\n",
       "      <td>18516812</td>\n",
       "      <td>78.1</td>\n",
       "      <td>16.2</td>\n",
       "      <td>5.6</td>\n",
       "      <td>0.1</td>\n",
       "      <td>3.0</td>\n",
       "      <td>8939723</td>\n",
       "      <td>72053.8</td>\n",
       "      <td>NY</td>\n",
       "    </tr>\n",
       "    <tr>\n",
       "      <th>4</th>\n",
       "      <td>Pennsylvania</td>\n",
       "      <td>12702461</td>\n",
       "      <td>84.1</td>\n",
       "      <td>10.7</td>\n",
       "      <td>5.0</td>\n",
       "      <td>0.2</td>\n",
       "      <td>2.7</td>\n",
       "      <td>6171022</td>\n",
       "      <td>63147.6</td>\n",
       "      <td>PA</td>\n",
       "    </tr>\n",
       "  </tbody>\n",
       "</table>\n",
       "</div>"
      ],
      "text/plain": [
       "          State  TotalPop  PrivateWork  PublicWork  SelfEmployed  FamilyWork  \\\n",
       "0    California  36735325         77.8        14.3           7.7         0.2   \n",
       "1         Texas  28166789         79.7        13.3           6.8         0.2   \n",
       "2       Florida  21073233         82.2        11.7           5.9         0.2   \n",
       "3      New York  18516812         78.1        16.2           5.6         0.1   \n",
       "4  Pennsylvania  12702461         84.1        10.7           5.0         0.2   \n",
       "\n",
       "   Unemployment  TotalWorkPop   Income State Code  \n",
       "0           3.2      17330726  75406.7         CA  \n",
       "1           2.6      13269365  61707.8         TX  \n",
       "2           2.6       9637100  60075.8         FL  \n",
       "3           3.0       8939723  72053.8         NY  \n",
       "4           2.7       6171022  63147.6         PA  "
      ]
     },
     "execution_count": 67,
     "metadata": {},
     "output_type": "execute_result"
    }
   ],
   "source": [
    "# To display the first five rows of the data frame\n",
    "df_map.head()"
   ]
  },
  {
   "cell_type": "code",
   "execution_count": null,
   "id": "bfdede43",
   "metadata": {},
   "outputs": [],
   "source": []
  },
  {
   "cell_type": "code",
   "execution_count": 68,
   "id": "15e274f8",
   "metadata": {},
   "outputs": [],
   "source": [
    "# To create a new column to display the hover text\n",
    "df_map['text'] = 'State: ' + df_map['State'].astype(str) + '<br>' + 'Private Work: ' + df_map['PrivateWork'].astype(str)+  '%'+ '<br>' + 'Public Work: ' + df_map['PublicWork'].astype(str)+ '%'+ '<br>' + 'Self Employed: ' + df_map['SelfEmployed'].astype(str) + '%'+ '<br>' + 'Family Work: ' + df_map['FamilyWork'].astype(str) + '%'+ '<br>' +  'Unemployment: ' + df_map['Unemployment'].astype(str) +'%'"
   ]
  },
  {
   "cell_type": "markdown",
   "id": "643f5c0b",
   "metadata": {},
   "source": [
    "The public sector, also known as the state sector, is a sector of the economy that includes both public services and public enterprises. It excludes private businesses, non-profit organizations, and households. Public sectors include the military, law enforcement, infrastructure, public transportation, public education, and health care, as well as those working for the government itself, such as elected officials.\n",
    "\n",
    "The private sector is the segment of the economy owned, managed, and controlled by profit-seeking individuals and organizations. Companies in the private sector are typically not owned or controlled by the state. Here are some examples: Plumbers, technicians, contractors, developers, and designers are examples of sole proprietorships. Partnerships in the legal, accounting, tax, and dentistry fields. Hospitality, leisure, retail, and food are examples of privately held corporations.\n",
    "\n",
    "The private sector is typically the largest, employing roughly ten times as many people as the public sector.\n",
    "\n",
    "The self-employed proportion of the population is typically covered by the private sector, but to distinguish free lancers from organizationally employed workers, we treat the self-employed count as a separate entity.\n",
    "\n",
    "It is widely assumed that public jobs raise the median household income of the entire state. We've come to find out if that's correct."
   ]
  },
  {
   "cell_type": "code",
   "execution_count": 98,
   "id": "0d23cc42",
   "metadata": {},
   "outputs": [
    {
     "data": {
      "application/vnd.plotly.v1+json": {
       "config": {
        "plotlyServerURL": "https://plot.ly"
       },
       "data": [
        {
         "colorbar": {
          "title": {
           "text": "Income Distribution"
          }
         },
         "colorscale": [
          [
           0,
           "#30123b"
          ],
          [
           0.07142857142857142,
           "#4145ab"
          ],
          [
           0.14285714285714285,
           "#4675ed"
          ],
          [
           0.21428571428571427,
           "#39a2fc"
          ],
          [
           0.2857142857142857,
           "#1bcfd4"
          ],
          [
           0.35714285714285715,
           "#24eca6"
          ],
          [
           0.42857142857142855,
           "#61fc6c"
          ],
          [
           0.5,
           "#a4fc3b"
          ],
          [
           0.5714285714285714,
           "#d1e834"
          ],
          [
           0.6428571428571429,
           "#f3c63a"
          ],
          [
           0.7142857142857143,
           "#fe9b2d"
          ],
          [
           0.7857142857142857,
           "#f36315"
          ],
          [
           0.8571428571428571,
           "#d93806"
          ],
          [
           0.9285714285714286,
           "#b11901"
          ],
          [
           1,
           "#7a0402"
          ]
         ],
         "locationmode": "USA-states",
         "locations": [
          "CA",
          "TX",
          "FL",
          "NY",
          "PA",
          "IL",
          "OH",
          "GA",
          "NC",
          "MI",
          "NJ",
          "VA",
          "WA",
          "AZ",
          "TN",
          "IN",
          "MA",
          "MO",
          "MD",
          "WI",
          "CO",
          "MN",
          "SC",
          "AL",
          "LA",
          "KY",
          "OR",
          "OK",
          "CT",
          "PR",
          "IA",
          "UT",
          "NV",
          "AR",
          "MS",
          "KS",
          "NM",
          "NE",
          "ID",
          "WV",
          "HI",
          "NH",
          "ME",
          "RI",
          "MT",
          "DE",
          "SD",
          "ND",
          "AK",
          "DC",
          "VT",
          "WY"
         ],
         "text": [
          "State: California<br>Private Work: 77.8%<br>Public Work: 14.3%<br>Self Employed: 7.7%<br>Family Work: 0.2%<br>Unemployment: 3.2%",
          "State: Texas<br>Private Work: 79.7%<br>Public Work: 13.3%<br>Self Employed: 6.8%<br>Family Work: 0.2%<br>Unemployment: 2.6%",
          "State: Florida<br>Private Work: 82.2%<br>Public Work: 11.7%<br>Self Employed: 5.9%<br>Family Work: 0.2%<br>Unemployment: 2.6%",
          "State: New York<br>Private Work: 78.1%<br>Public Work: 16.2%<br>Self Employed: 5.6%<br>Family Work: 0.1%<br>Unemployment: 3.0%",
          "State: Pennsylvania<br>Private Work: 84.1%<br>Public Work: 10.7%<br>Self Employed: 5.0%<br>Family Work: 0.2%<br>Unemployment: 2.7%",
          "State: Illinois<br>Private Work: 83.1%<br>Public Work: 12.2%<br>Self Employed: 4.6%<br>Family Work: 0.2%<br>Unemployment: 3.1%",
          "State: Ohio<br>Private Work: 82.8%<br>Public Work: 12.2%<br>Self Employed: 4.8%<br>Family Work: 0.2%<br>Unemployment: 2.7%",
          "State: Georgia<br>Private Work: 80.2%<br>Public Work: 14.2%<br>Self Employed: 5.4%<br>Family Work: 0.2%<br>Unemployment: 2.8%",
          "State: North Carolina<br>Private Work: 80.4%<br>Public Work: 13.9%<br>Self Employed: 5.6%<br>Family Work: 0.2%<br>Unemployment: 2.7%",
          "State: Michigan<br>Private Work: 84.2%<br>Public Work: 10.6%<br>Self Employed: 5.0%<br>Family Work: 0.2%<br>Unemployment: 3.0%",
          "State: New Jersey<br>Private Work: 81.5%<br>Public Work: 13.8%<br>Self Employed: 4.6%<br>Family Work: 0.1%<br>Unemployment: 3.1%",
          "State: Virginia<br>Private Work: 75.1%<br>Public Work: 20.0%<br>Self Employed: 4.8%<br>Family Work: 0.2%<br>Unemployment: 2.4%",
          "State: Washington<br>Private Work: 78.4%<br>Public Work: 15.7%<br>Self Employed: 5.8%<br>Family Work: 0.2%<br>Unemployment: 2.5%",
          "State: Arizona<br>Private Work: 79.9%<br>Public Work: 13.7%<br>Self Employed: 6.1%<br>Family Work: 0.2%<br>Unemployment: 2.8%",
          "State: Tennessee<br>Private Work: 79.8%<br>Public Work: 13.3%<br>Self Employed: 6.8%<br>Family Work: 0.2%<br>Unemployment: 2.6%",
          "State: Indiana<br>Private Work: 84.5%<br>Public Work: 10.8%<br>Self Employed: 4.5%<br>Family Work: 0.2%<br>Unemployment: 2.4%",
          "State: Massachusetts<br>Private Work: 81.8%<br>Public Work: 12.4%<br>Self Employed: 5.6%<br>Family Work: 0.2%<br>Unemployment: 2.8%",
          "State: Missouri<br>Private Work: 82.0%<br>Public Work: 12.3%<br>Self Employed: 5.5%<br>Family Work: 0.2%<br>Unemployment: 2.3%",
          "State: Maryland<br>Private Work: 73.2%<br>Public Work: 21.6%<br>Self Employed: 5.0%<br>Family Work: 0.2%<br>Unemployment: 2.8%",
          "State: Wisconsin<br>Private Work: 82.5%<br>Public Work: 12.2%<br>Self Employed: 5.1%<br>Family Work: 0.2%<br>Unemployment: 1.9%",
          "State: Colorado<br>Private Work: 80.0%<br>Public Work: 13.5%<br>Self Employed: 6.3%<br>Family Work: 0.2%<br>Unemployment: 2.5%",
          "State: Minnesota<br>Private Work: 82.3%<br>Public Work: 12.1%<br>Self Employed: 5.4%<br>Family Work: 0.2%<br>Unemployment: 2.1%",
          "State: South Carolina<br>Private Work: 79.3%<br>Public Work: 15.0%<br>Self Employed: 5.5%<br>Family Work: 0.2%<br>Unemployment: 2.7%",
          "State: Alabama<br>Private Work: 78.7%<br>Public Work: 15.7%<br>Self Employed: 5.4%<br>Family Work: 0.2%<br>Unemployment: 2.6%",
          "State: Louisiana<br>Private Work: 78.4%<br>Public Work: 15.2%<br>Self Employed: 6.2%<br>Family Work: 0.2%<br>Unemployment: 3.1%",
          "State: Kentucky<br>Private Work: 80.3%<br>Public Work: 14.2%<br>Self Employed: 5.2%<br>Family Work: 0.2%<br>Unemployment: 2.5%",
          "State: Oregon<br>Private Work: 78.9%<br>Public Work: 13.8%<br>Self Employed: 7.1%<br>Family Work: 0.2%<br>Unemployment: 2.8%",
          "State: Oklahoma<br>Private Work: 76.3%<br>Public Work: 16.9%<br>Self Employed: 6.5%<br>Family Work: 0.2%<br>Unemployment: 2.4%",
          "State: Connecticut<br>Private Work: 80.6%<br>Public Work: 13.1%<br>Self Employed: 6.1%<br>Family Work: 0.2%<br>Unemployment: 3.3%",
          "State: Puerto Rico<br>Private Work: 68.9%<br>Public Work: 21.0%<br>Self Employed: 10.0%<br>Family Work: 0.2%<br>Unemployment: 5.6%",
          "State: Iowa<br>Private Work: 80.0%<br>Public Work: 13.4%<br>Self Employed: 6.4%<br>Family Work: 0.2%<br>Unemployment: 2.1%",
          "State: Utah<br>Private Work: 80.5%<br>Public Work: 14.5%<br>Self Employed: 4.8%<br>Family Work: 0.2%<br>Unemployment: 1.8%",
          "State: Nevada<br>Private Work: 82.5%<br>Public Work: 11.9%<br>Self Employed: 5.5%<br>Family Work: 0.2%<br>Unemployment: 3.3%",
          "State: Arkansas<br>Private Work: 78.6%<br>Public Work: 15.2%<br>Self Employed: 6.0%<br>Family Work: 0.2%<br>Unemployment: 2.4%",
          "State: Mississippi<br>Private Work: 75.8%<br>Public Work: 18.5%<br>Self Employed: 5.5%<br>Family Work: 0.3%<br>Unemployment: 3.2%",
          "State: Kansas<br>Private Work: 78.0%<br>Public Work: 15.7%<br>Self Employed: 6.1%<br>Family Work: 0.2%<br>Unemployment: 2.1%",
          "State: New Mexico<br>Private Work: 71.0%<br>Public Work: 22.4%<br>Self Employed: 6.4%<br>Family Work: 0.2%<br>Unemployment: 3.0%",
          "State: Nebraska<br>Private Work: 79.5%<br>Public Work: 14.1%<br>Self Employed: 6.2%<br>Family Work: 0.2%<br>Unemployment: 1.8%",
          "State: Idaho<br>Private Work: 77.9%<br>Public Work: 14.6%<br>Self Employed: 7.3%<br>Family Work: 0.2%<br>Unemployment: 2.0%",
          "State: West Virginia<br>Private Work: 76.1%<br>Public Work: 19.5%<br>Self Employed: 4.2%<br>Family Work: 0.1%<br>Unemployment: 2.8%",
          "State: Hawaii<br>Private Work: 72.6%<br>Public Work: 20.3%<br>Self Employed: 6.9%<br>Family Work: 0.2%<br>Unemployment: 2.3%",
          "State: New Hampshire<br>Private Work: 80.1%<br>Public Work: 13.1%<br>Self Employed: 6.6%<br>Family Work: 0.2%<br>Unemployment: 2.1%",
          "State: Maine<br>Private Work: 78.0%<br>Public Work: 13.4%<br>Self Employed: 8.4%<br>Family Work: 0.2%<br>Unemployment: 2.1%",
          "State: Rhode Island<br>Private Work: 82.0%<br>Public Work: 12.9%<br>Self Employed: 4.9%<br>Family Work: 0.2%<br>Unemployment: 3.0%",
          "State: Montana<br>Private Work: 74.9%<br>Public Work: 16.3%<br>Self Employed: 8.5%<br>Family Work: 0.3%<br>Unemployment: 2.1%",
          "State: Delaware<br>Private Work: 80.3%<br>Public Work: 15.2%<br>Self Employed: 4.3%<br>Family Work: 0.2%<br>Unemployment: 2.9%",
          "State: South Dakota<br>Private Work: 76.8%<br>Public Work: 15.1%<br>Self Employed: 7.8%<br>Family Work: 0.3%<br>Unemployment: 1.8%",
          "State: North Dakota<br>Private Work: 76.6%<br>Public Work: 15.9%<br>Self Employed: 7.2%<br>Family Work: 0.3%<br>Unemployment: 1.7%",
          "State: Alaska<br>Private Work: 67.7%<br>Public Work: 25.3%<br>Self Employed: 6.8%<br>Family Work: 0.2%<br>Unemployment: 3.6%",
          "State: District of Columbia<br>Private Work: 70.8%<br>Public Work: 24.8%<br>Self Employed: 4.3%<br>Family Work: 0.1%<br>Unemployment: 4.2%",
          "State: Vermont<br>Private Work: 77.0%<br>Public Work: 14.6%<br>Self Employed: 8.3%<br>Family Work: 0.2%<br>Unemployment: 2.1%",
          "State: Wyoming<br>Private Work: 72.3%<br>Public Work: 20.8%<br>Self Employed: 6.5%<br>Family Work: 0.4%<br>Unemployment: 2.3%"
         ],
         "type": "choropleth",
         "z": [
          75406.7,
          61707.8,
          60075.8,
          72053.8,
          63147.6,
          65904.6,
          60064.6,
          54812.8,
          54940.2,
          59328.2,
          96061.2,
          69735.4,
          70725.9,
          58112,
          52762.1,
          60169.6,
          90983.5,
          54102.4,
          92802.8,
          63733.9,
          70080.8,
          67039.7,
          50157.2,
          49457.1,
          49177,
          48647.7,
          62107.3,
          51905.2,
          89040.6,
          20779.4,
          62719.1,
          69376.4,
          64141.6,
          46117.7,
          42658.2,
          59156.3,
          47735.8,
          62234.5,
          56274.1,
          47934,
          76795.4,
          81356.9,
          58251.2,
          81764.1,
          57263.5,
          71671.2,
          61791,
          68542.5,
          61017.5,
          95414.7,
          65786.3,
          65843.1
         ]
        }
       ],
       "layout": {
        "autosize": true,
        "geo": {
         "scope": "usa"
        },
        "template": {
         "data": {
          "bar": [
           {
            "error_x": {
             "color": "#2a3f5f"
            },
            "error_y": {
             "color": "#2a3f5f"
            },
            "marker": {
             "line": {
              "color": "#E5ECF6",
              "width": 0.5
             },
             "pattern": {
              "fillmode": "overlay",
              "size": 10,
              "solidity": 0.2
             }
            },
            "type": "bar"
           }
          ],
          "barpolar": [
           {
            "marker": {
             "line": {
              "color": "#E5ECF6",
              "width": 0.5
             },
             "pattern": {
              "fillmode": "overlay",
              "size": 10,
              "solidity": 0.2
             }
            },
            "type": "barpolar"
           }
          ],
          "carpet": [
           {
            "aaxis": {
             "endlinecolor": "#2a3f5f",
             "gridcolor": "white",
             "linecolor": "white",
             "minorgridcolor": "white",
             "startlinecolor": "#2a3f5f"
            },
            "baxis": {
             "endlinecolor": "#2a3f5f",
             "gridcolor": "white",
             "linecolor": "white",
             "minorgridcolor": "white",
             "startlinecolor": "#2a3f5f"
            },
            "type": "carpet"
           }
          ],
          "choropleth": [
           {
            "colorbar": {
             "outlinewidth": 0,
             "ticks": ""
            },
            "type": "choropleth"
           }
          ],
          "contour": [
           {
            "colorbar": {
             "outlinewidth": 0,
             "ticks": ""
            },
            "colorscale": [
             [
              0,
              "#0d0887"
             ],
             [
              0.1111111111111111,
              "#46039f"
             ],
             [
              0.2222222222222222,
              "#7201a8"
             ],
             [
              0.3333333333333333,
              "#9c179e"
             ],
             [
              0.4444444444444444,
              "#bd3786"
             ],
             [
              0.5555555555555556,
              "#d8576b"
             ],
             [
              0.6666666666666666,
              "#ed7953"
             ],
             [
              0.7777777777777778,
              "#fb9f3a"
             ],
             [
              0.8888888888888888,
              "#fdca26"
             ],
             [
              1,
              "#f0f921"
             ]
            ],
            "type": "contour"
           }
          ],
          "contourcarpet": [
           {
            "colorbar": {
             "outlinewidth": 0,
             "ticks": ""
            },
            "type": "contourcarpet"
           }
          ],
          "heatmap": [
           {
            "colorbar": {
             "outlinewidth": 0,
             "ticks": ""
            },
            "colorscale": [
             [
              0,
              "#0d0887"
             ],
             [
              0.1111111111111111,
              "#46039f"
             ],
             [
              0.2222222222222222,
              "#7201a8"
             ],
             [
              0.3333333333333333,
              "#9c179e"
             ],
             [
              0.4444444444444444,
              "#bd3786"
             ],
             [
              0.5555555555555556,
              "#d8576b"
             ],
             [
              0.6666666666666666,
              "#ed7953"
             ],
             [
              0.7777777777777778,
              "#fb9f3a"
             ],
             [
              0.8888888888888888,
              "#fdca26"
             ],
             [
              1,
              "#f0f921"
             ]
            ],
            "type": "heatmap"
           }
          ],
          "heatmapgl": [
           {
            "colorbar": {
             "outlinewidth": 0,
             "ticks": ""
            },
            "colorscale": [
             [
              0,
              "#0d0887"
             ],
             [
              0.1111111111111111,
              "#46039f"
             ],
             [
              0.2222222222222222,
              "#7201a8"
             ],
             [
              0.3333333333333333,
              "#9c179e"
             ],
             [
              0.4444444444444444,
              "#bd3786"
             ],
             [
              0.5555555555555556,
              "#d8576b"
             ],
             [
              0.6666666666666666,
              "#ed7953"
             ],
             [
              0.7777777777777778,
              "#fb9f3a"
             ],
             [
              0.8888888888888888,
              "#fdca26"
             ],
             [
              1,
              "#f0f921"
             ]
            ],
            "type": "heatmapgl"
           }
          ],
          "histogram": [
           {
            "marker": {
             "pattern": {
              "fillmode": "overlay",
              "size": 10,
              "solidity": 0.2
             }
            },
            "type": "histogram"
           }
          ],
          "histogram2d": [
           {
            "colorbar": {
             "outlinewidth": 0,
             "ticks": ""
            },
            "colorscale": [
             [
              0,
              "#0d0887"
             ],
             [
              0.1111111111111111,
              "#46039f"
             ],
             [
              0.2222222222222222,
              "#7201a8"
             ],
             [
              0.3333333333333333,
              "#9c179e"
             ],
             [
              0.4444444444444444,
              "#bd3786"
             ],
             [
              0.5555555555555556,
              "#d8576b"
             ],
             [
              0.6666666666666666,
              "#ed7953"
             ],
             [
              0.7777777777777778,
              "#fb9f3a"
             ],
             [
              0.8888888888888888,
              "#fdca26"
             ],
             [
              1,
              "#f0f921"
             ]
            ],
            "type": "histogram2d"
           }
          ],
          "histogram2dcontour": [
           {
            "colorbar": {
             "outlinewidth": 0,
             "ticks": ""
            },
            "colorscale": [
             [
              0,
              "#0d0887"
             ],
             [
              0.1111111111111111,
              "#46039f"
             ],
             [
              0.2222222222222222,
              "#7201a8"
             ],
             [
              0.3333333333333333,
              "#9c179e"
             ],
             [
              0.4444444444444444,
              "#bd3786"
             ],
             [
              0.5555555555555556,
              "#d8576b"
             ],
             [
              0.6666666666666666,
              "#ed7953"
             ],
             [
              0.7777777777777778,
              "#fb9f3a"
             ],
             [
              0.8888888888888888,
              "#fdca26"
             ],
             [
              1,
              "#f0f921"
             ]
            ],
            "type": "histogram2dcontour"
           }
          ],
          "mesh3d": [
           {
            "colorbar": {
             "outlinewidth": 0,
             "ticks": ""
            },
            "type": "mesh3d"
           }
          ],
          "parcoords": [
           {
            "line": {
             "colorbar": {
              "outlinewidth": 0,
              "ticks": ""
             }
            },
            "type": "parcoords"
           }
          ],
          "pie": [
           {
            "automargin": true,
            "type": "pie"
           }
          ],
          "scatter": [
           {
            "marker": {
             "colorbar": {
              "outlinewidth": 0,
              "ticks": ""
             }
            },
            "type": "scatter"
           }
          ],
          "scatter3d": [
           {
            "line": {
             "colorbar": {
              "outlinewidth": 0,
              "ticks": ""
             }
            },
            "marker": {
             "colorbar": {
              "outlinewidth": 0,
              "ticks": ""
             }
            },
            "type": "scatter3d"
           }
          ],
          "scattercarpet": [
           {
            "marker": {
             "colorbar": {
              "outlinewidth": 0,
              "ticks": ""
             }
            },
            "type": "scattercarpet"
           }
          ],
          "scattergeo": [
           {
            "marker": {
             "colorbar": {
              "outlinewidth": 0,
              "ticks": ""
             }
            },
            "type": "scattergeo"
           }
          ],
          "scattergl": [
           {
            "marker": {
             "colorbar": {
              "outlinewidth": 0,
              "ticks": ""
             }
            },
            "type": "scattergl"
           }
          ],
          "scattermapbox": [
           {
            "marker": {
             "colorbar": {
              "outlinewidth": 0,
              "ticks": ""
             }
            },
            "type": "scattermapbox"
           }
          ],
          "scatterpolar": [
           {
            "marker": {
             "colorbar": {
              "outlinewidth": 0,
              "ticks": ""
             }
            },
            "type": "scatterpolar"
           }
          ],
          "scatterpolargl": [
           {
            "marker": {
             "colorbar": {
              "outlinewidth": 0,
              "ticks": ""
             }
            },
            "type": "scatterpolargl"
           }
          ],
          "scatterternary": [
           {
            "marker": {
             "colorbar": {
              "outlinewidth": 0,
              "ticks": ""
             }
            },
            "type": "scatterternary"
           }
          ],
          "surface": [
           {
            "colorbar": {
             "outlinewidth": 0,
             "ticks": ""
            },
            "colorscale": [
             [
              0,
              "#0d0887"
             ],
             [
              0.1111111111111111,
              "#46039f"
             ],
             [
              0.2222222222222222,
              "#7201a8"
             ],
             [
              0.3333333333333333,
              "#9c179e"
             ],
             [
              0.4444444444444444,
              "#bd3786"
             ],
             [
              0.5555555555555556,
              "#d8576b"
             ],
             [
              0.6666666666666666,
              "#ed7953"
             ],
             [
              0.7777777777777778,
              "#fb9f3a"
             ],
             [
              0.8888888888888888,
              "#fdca26"
             ],
             [
              1,
              "#f0f921"
             ]
            ],
            "type": "surface"
           }
          ],
          "table": [
           {
            "cells": {
             "fill": {
              "color": "#EBF0F8"
             },
             "line": {
              "color": "white"
             }
            },
            "header": {
             "fill": {
              "color": "#C8D4E3"
             },
             "line": {
              "color": "white"
             }
            },
            "type": "table"
           }
          ]
         },
         "layout": {
          "annotationdefaults": {
           "arrowcolor": "#2a3f5f",
           "arrowhead": 0,
           "arrowwidth": 1
          },
          "autotypenumbers": "strict",
          "coloraxis": {
           "colorbar": {
            "outlinewidth": 0,
            "ticks": ""
           }
          },
          "colorscale": {
           "diverging": [
            [
             0,
             "#8e0152"
            ],
            [
             0.1,
             "#c51b7d"
            ],
            [
             0.2,
             "#de77ae"
            ],
            [
             0.3,
             "#f1b6da"
            ],
            [
             0.4,
             "#fde0ef"
            ],
            [
             0.5,
             "#f7f7f7"
            ],
            [
             0.6,
             "#e6f5d0"
            ],
            [
             0.7,
             "#b8e186"
            ],
            [
             0.8,
             "#7fbc41"
            ],
            [
             0.9,
             "#4d9221"
            ],
            [
             1,
             "#276419"
            ]
           ],
           "sequential": [
            [
             0,
             "#0d0887"
            ],
            [
             0.1111111111111111,
             "#46039f"
            ],
            [
             0.2222222222222222,
             "#7201a8"
            ],
            [
             0.3333333333333333,
             "#9c179e"
            ],
            [
             0.4444444444444444,
             "#bd3786"
            ],
            [
             0.5555555555555556,
             "#d8576b"
            ],
            [
             0.6666666666666666,
             "#ed7953"
            ],
            [
             0.7777777777777778,
             "#fb9f3a"
            ],
            [
             0.8888888888888888,
             "#fdca26"
            ],
            [
             1,
             "#f0f921"
            ]
           ],
           "sequentialminus": [
            [
             0,
             "#0d0887"
            ],
            [
             0.1111111111111111,
             "#46039f"
            ],
            [
             0.2222222222222222,
             "#7201a8"
            ],
            [
             0.3333333333333333,
             "#9c179e"
            ],
            [
             0.4444444444444444,
             "#bd3786"
            ],
            [
             0.5555555555555556,
             "#d8576b"
            ],
            [
             0.6666666666666666,
             "#ed7953"
            ],
            [
             0.7777777777777778,
             "#fb9f3a"
            ],
            [
             0.8888888888888888,
             "#fdca26"
            ],
            [
             1,
             "#f0f921"
            ]
           ]
          },
          "colorway": [
           "#636efa",
           "#EF553B",
           "#00cc96",
           "#ab63fa",
           "#FFA15A",
           "#19d3f3",
           "#FF6692",
           "#B6E880",
           "#FF97FF",
           "#FECB52"
          ],
          "font": {
           "color": "#2a3f5f"
          },
          "geo": {
           "bgcolor": "white",
           "lakecolor": "white",
           "landcolor": "#E5ECF6",
           "showlakes": true,
           "showland": true,
           "subunitcolor": "white"
          },
          "hoverlabel": {
           "align": "left"
          },
          "hovermode": "closest",
          "mapbox": {
           "style": "light"
          },
          "paper_bgcolor": "white",
          "plot_bgcolor": "#E5ECF6",
          "polar": {
           "angularaxis": {
            "gridcolor": "white",
            "linecolor": "white",
            "ticks": ""
           },
           "bgcolor": "#E5ECF6",
           "radialaxis": {
            "gridcolor": "white",
            "linecolor": "white",
            "ticks": ""
           }
          },
          "scene": {
           "xaxis": {
            "backgroundcolor": "#E5ECF6",
            "gridcolor": "white",
            "gridwidth": 2,
            "linecolor": "white",
            "showbackground": true,
            "ticks": "",
            "zerolinecolor": "white"
           },
           "yaxis": {
            "backgroundcolor": "#E5ECF6",
            "gridcolor": "white",
            "gridwidth": 2,
            "linecolor": "white",
            "showbackground": true,
            "ticks": "",
            "zerolinecolor": "white"
           },
           "zaxis": {
            "backgroundcolor": "#E5ECF6",
            "gridcolor": "white",
            "gridwidth": 2,
            "linecolor": "white",
            "showbackground": true,
            "ticks": "",
            "zerolinecolor": "white"
           }
          },
          "shapedefaults": {
           "line": {
            "color": "#2a3f5f"
           }
          },
          "ternary": {
           "aaxis": {
            "gridcolor": "white",
            "linecolor": "white",
            "ticks": ""
           },
           "baxis": {
            "gridcolor": "white",
            "linecolor": "white",
            "ticks": ""
           },
           "bgcolor": "#E5ECF6",
           "caxis": {
            "gridcolor": "white",
            "linecolor": "white",
            "ticks": ""
           }
          },
          "title": {
           "x": 0.05
          },
          "xaxis": {
           "automargin": true,
           "gridcolor": "white",
           "linecolor": "white",
           "ticks": "",
           "title": {
            "standoff": 15
           },
           "zerolinecolor": "white",
           "zerolinewidth": 2
          },
          "yaxis": {
           "automargin": true,
           "gridcolor": "white",
           "linecolor": "white",
           "ticks": "",
           "title": {
            "standoff": 15
           },
           "zerolinecolor": "white",
           "zerolinewidth": 2
          }
         }
        },
        "title": {
         "text": "Distribution of work across US States"
        }
       }
      },
      "image/png": "[encoded data removed]",
      "text/html": [
       "<div>                            <div id=\"d0fc93b2-fcea-4fae-968e-5a63cf11c0ec\" class=\"plotly-graph-div\" style=\"height:525px; width:100%;\"></div>            <script type=\"text/javascript\">                require([\"plotly\"], function(Plotly) {                    window.PLOTLYENV=window.PLOTLYENV || {};                                    if (document.getElementById(\"d0fc93b2-fcea-4fae-968e-5a63cf11c0ec\")) {                    Plotly.newPlot(                        \"d0fc93b2-fcea-4fae-968e-5a63cf11c0ec\",                        [{\"colorbar\":{\"title\":{\"text\":\"Income Distribution\"}},\"colorscale\":[[0.0,\"#30123b\"],[0.07142857142857142,\"#4145ab\"],[0.14285714285714285,\"#4675ed\"],[0.21428571428571427,\"#39a2fc\"],[0.2857142857142857,\"#1bcfd4\"],[0.35714285714285715,\"#24eca6\"],[0.42857142857142855,\"#61fc6c\"],[0.5,\"#a4fc3b\"],[0.5714285714285714,\"#d1e834\"],[0.6428571428571429,\"#f3c63a\"],[0.7142857142857143,\"#fe9b2d\"],[0.7857142857142857,\"#f36315\"],[0.8571428571428571,\"#d93806\"],[0.9285714285714286,\"#b11901\"],[1.0,\"#7a0402\"]],\"locationmode\":\"USA-states\",\"locations\":[\"CA\",\"TX\",\"FL\",\"NY\",\"PA\",\"IL\",\"OH\",\"GA\",\"NC\",\"MI\",\"NJ\",\"VA\",\"WA\",\"AZ\",\"TN\",\"IN\",\"MA\",\"MO\",\"MD\",\"WI\",\"CO\",\"MN\",\"SC\",\"AL\",\"LA\",\"KY\",\"OR\",\"OK\",\"CT\",\"PR\",\"IA\",\"UT\",\"NV\",\"AR\",\"MS\",\"KS\",\"NM\",\"NE\",\"ID\",\"WV\",\"HI\",\"NH\",\"ME\",\"RI\",\"MT\",\"DE\",\"SD\",\"ND\",\"AK\",\"DC\",\"VT\",\"WY\"],\"text\":[\"State: California<br>Private Work: 77.8%<br>Public Work: 14.3%<br>Self Employed: 7.7%<br>Family Work: 0.2%<br>Unemployment: 3.2%\",\"State: Texas<br>Private Work: 79.7%<br>Public Work: 13.3%<br>Self Employed: 6.8%<br>Family Work: 0.2%<br>Unemployment: 2.6%\",\"State: Florida<br>Private Work: 82.2%<br>Public Work: 11.7%<br>Self Employed: 5.9%<br>Family Work: 0.2%<br>Unemployment: 2.6%\",\"State: New York<br>Private Work: 78.1%<br>Public Work: 16.2%<br>Self Employed: 5.6%<br>Family Work: 0.1%<br>Unemployment: 3.0%\",\"State: Pennsylvania<br>Private Work: 84.1%<br>Public Work: 10.7%<br>Self Employed: 5.0%<br>Family Work: 0.2%<br>Unemployment: 2.7%\",\"State: Illinois<br>Private Work: 83.1%<br>Public Work: 12.2%<br>Self Employed: 4.6%<br>Family Work: 0.2%<br>Unemployment: 3.1%\",\"State: Ohio<br>Private Work: 82.8%<br>Public Work: 12.2%<br>Self Employed: 4.8%<br>Family Work: 0.2%<br>Unemployment: 2.7%\",\"State: Georgia<br>Private Work: 80.2%<br>Public Work: 14.2%<br>Self Employed: 5.4%<br>Family Work: 0.2%<br>Unemployment: 2.8%\",\"State: North Carolina<br>Private Work: 80.4%<br>Public Work: 13.9%<br>Self Employed: 5.6%<br>Family Work: 0.2%<br>Unemployment: 2.7%\",\"State: Michigan<br>Private Work: 84.2%<br>Public Work: 10.6%<br>Self Employed: 5.0%<br>Family Work: 0.2%<br>Unemployment: 3.0%\",\"State: New Jersey<br>Private Work: 81.5%<br>Public Work: 13.8%<br>Self Employed: 4.6%<br>Family Work: 0.1%<br>Unemployment: 3.1%\",\"State: Virginia<br>Private Work: 75.1%<br>Public Work: 20.0%<br>Self Employed: 4.8%<br>Family Work: 0.2%<br>Unemployment: 2.4%\",\"State: Washington<br>Private Work: 78.4%<br>Public Work: 15.7%<br>Self Employed: 5.8%<br>Family Work: 0.2%<br>Unemployment: 2.5%\",\"State: Arizona<br>Private Work: 79.9%<br>Public Work: 13.7%<br>Self Employed: 6.1%<br>Family Work: 0.2%<br>Unemployment: 2.8%\",\"State: Tennessee<br>Private Work: 79.8%<br>Public Work: 13.3%<br>Self Employed: 6.8%<br>Family Work: 0.2%<br>Unemployment: 2.6%\",\"State: Indiana<br>Private Work: 84.5%<br>Public Work: 10.8%<br>Self Employed: 4.5%<br>Family Work: 0.2%<br>Unemployment: 2.4%\",\"State: Massachusetts<br>Private Work: 81.8%<br>Public Work: 12.4%<br>Self Employed: 5.6%<br>Family Work: 0.2%<br>Unemployment: 2.8%\",\"State: Missouri<br>Private Work: 82.0%<br>Public Work: 12.3%<br>Self Employed: 5.5%<br>Family Work: 0.2%<br>Unemployment: 2.3%\",\"State: Maryland<br>Private Work: 73.2%<br>Public Work: 21.6%<br>Self Employed: 5.0%<br>Family Work: 0.2%<br>Unemployment: 2.8%\",\"State: Wisconsin<br>Private Work: 82.5%<br>Public Work: 12.2%<br>Self Employed: 5.1%<br>Family Work: 0.2%<br>Unemployment: 1.9%\",\"State: Colorado<br>Private Work: 80.0%<br>Public Work: 13.5%<br>Self Employed: 6.3%<br>Family Work: 0.2%<br>Unemployment: 2.5%\",\"State: Minnesota<br>Private Work: 82.3%<br>Public Work: 12.1%<br>Self Employed: 5.4%<br>Family Work: 0.2%<br>Unemployment: 2.1%\",\"State: South Carolina<br>Private Work: 79.3%<br>Public Work: 15.0%<br>Self Employed: 5.5%<br>Family Work: 0.2%<br>Unemployment: 2.7%\",\"State: Alabama<br>Private Work: 78.7%<br>Public Work: 15.7%<br>Self Employed: 5.4%<br>Family Work: 0.2%<br>Unemployment: 2.6%\",\"State: Louisiana<br>Private Work: 78.4%<br>Public Work: 15.2%<br>Self Employed: 6.2%<br>Family Work: 0.2%<br>Unemployment: 3.1%\",\"State: Kentucky<br>Private Work: 80.3%<br>Public Work: 14.2%<br>Self Employed: 5.2%<br>Family Work: 0.2%<br>Unemployment: 2.5%\",\"State: Oregon<br>Private Work: 78.9%<br>Public Work: 13.8%<br>Self Employed: 7.1%<br>Family Work: 0.2%<br>Unemployment: 2.8%\",\"State: Oklahoma<br>Private Work: 76.3%<br>Public Work: 16.9%<br>Self Employed: 6.5%<br>Family Work: 0.2%<br>Unemployment: 2.4%\",\"State: Connecticut<br>Private Work: 80.6%<br>Public Work: 13.1%<br>Self Employed: 6.1%<br>Family Work: 0.2%<br>Unemployment: 3.3%\",\"State: Puerto Rico<br>Private Work: 68.9%<br>Public Work: 21.0%<br>Self Employed: 10.0%<br>Family Work: 0.2%<br>Unemployment: 5.6%\",\"State: Iowa<br>Private Work: 80.0%<br>Public Work: 13.4%<br>Self Employed: 6.4%<br>Family Work: 0.2%<br>Unemployment: 2.1%\",\"State: Utah<br>Private Work: 80.5%<br>Public Work: 14.5%<br>Self Employed: 4.8%<br>Family Work: 0.2%<br>Unemployment: 1.8%\",\"State: Nevada<br>Private Work: 82.5%<br>Public Work: 11.9%<br>Self Employed: 5.5%<br>Family Work: 0.2%<br>Unemployment: 3.3%\",\"State: Arkansas<br>Private Work: 78.6%<br>Public Work: 15.2%<br>Self Employed: 6.0%<br>Family Work: 0.2%<br>Unemployment: 2.4%\",\"State: Mississippi<br>Private Work: 75.8%<br>Public Work: 18.5%<br>Self Employed: 5.5%<br>Family Work: 0.3%<br>Unemployment: 3.2%\",\"State: Kansas<br>Private Work: 78.0%<br>Public Work: 15.7%<br>Self Employed: 6.1%<br>Family Work: 0.2%<br>Unemployment: 2.1%\",\"State: New Mexico<br>Private Work: 71.0%<br>Public Work: 22.4%<br>Self Employed: 6.4%<br>Family Work: 0.2%<br>Unemployment: 3.0%\",\"State: Nebraska<br>Private Work: 79.5%<br>Public Work: 14.1%<br>Self Employed: 6.2%<br>Family Work: 0.2%<br>Unemployment: 1.8%\",\"State: Idaho<br>Private Work: 77.9%<br>Public Work: 14.6%<br>Self Employed: 7.3%<br>Family Work: 0.2%<br>Unemployment: 2.0%\",\"State: West Virginia<br>Private Work: 76.1%<br>Public Work: 19.5%<br>Self Employed: 4.2%<br>Family Work: 0.1%<br>Unemployment: 2.8%\",\"State: Hawaii<br>Private Work: 72.6%<br>Public Work: 20.3%<br>Self Employed: 6.9%<br>Family Work: 0.2%<br>Unemployment: 2.3%\",\"State: New Hampshire<br>Private Work: 80.1%<br>Public Work: 13.1%<br>Self Employed: 6.6%<br>Family Work: 0.2%<br>Unemployment: 2.1%\",\"State: Maine<br>Private Work: 78.0%<br>Public Work: 13.4%<br>Self Employed: 8.4%<br>Family Work: 0.2%<br>Unemployment: 2.1%\",\"State: Rhode Island<br>Private Work: 82.0%<br>Public Work: 12.9%<br>Self Employed: 4.9%<br>Family Work: 0.2%<br>Unemployment: 3.0%\",\"State: Montana<br>Private Work: 74.9%<br>Public Work: 16.3%<br>Self Employed: 8.5%<br>Family Work: 0.3%<br>Unemployment: 2.1%\",\"State: Delaware<br>Private Work: 80.3%<br>Public Work: 15.2%<br>Self Employed: 4.3%<br>Family Work: 0.2%<br>Unemployment: 2.9%\",\"State: South Dakota<br>Private Work: 76.8%<br>Public Work: 15.1%<br>Self Employed: 7.8%<br>Family Work: 0.3%<br>Unemployment: 1.8%\",\"State: North Dakota<br>Private Work: 76.6%<br>Public Work: 15.9%<br>Self Employed: 7.2%<br>Family Work: 0.3%<br>Unemployment: 1.7%\",\"State: Alaska<br>Private Work: 67.7%<br>Public Work: 25.3%<br>Self Employed: 6.8%<br>Family Work: 0.2%<br>Unemployment: 3.6%\",\"State: District of Columbia<br>Private Work: 70.8%<br>Public Work: 24.8%<br>Self Employed: 4.3%<br>Family Work: 0.1%<br>Unemployment: 4.2%\",\"State: Vermont<br>Private Work: 77.0%<br>Public Work: 14.6%<br>Self Employed: 8.3%<br>Family Work: 0.2%<br>Unemployment: 2.1%\",\"State: Wyoming<br>Private Work: 72.3%<br>Public Work: 20.8%<br>Self Employed: 6.5%<br>Family Work: 0.4%<br>Unemployment: 2.3%\"],\"z\":[75406.7,61707.8,60075.8,72053.8,63147.6,65904.6,60064.6,54812.8,54940.2,59328.2,96061.2,69735.4,70725.9,58112.0,52762.1,60169.6,90983.5,54102.4,92802.8,63733.9,70080.8,67039.7,50157.2,49457.1,49177.0,48647.7,62107.3,51905.2,89040.6,20779.4,62719.1,69376.4,64141.6,46117.7,42658.2,59156.3,47735.8,62234.5,56274.1,47934.0,76795.4,81356.9,58251.2,81764.1,57263.5,71671.2,61791.0,68542.5,61017.5,95414.7,65786.3,65843.1],\"type\":\"choropleth\"}],                        {\"template\":{\"data\":{\"bar\":[{\"error_x\":{\"color\":\"#2a3f5f\"},\"error_y\":{\"color\":\"#2a3f5f\"},\"marker\":{\"line\":{\"color\":\"#E5ECF6\",\"width\":0.5},\"pattern\":{\"fillmode\":\"overlay\",\"size\":10,\"solidity\":0.2}},\"type\":\"bar\"}],\"barpolar\":[{\"marker\":{\"line\":{\"color\":\"#E5ECF6\",\"width\":0.5},\"pattern\":{\"fillmode\":\"overlay\",\"size\":10,\"solidity\":0.2}},\"type\":\"barpolar\"}],\"carpet\":[{\"aaxis\":{\"endlinecolor\":\"#2a3f5f\",\"gridcolor\":\"white\",\"linecolor\":\"white\",\"minorgridcolor\":\"white\",\"startlinecolor\":\"#2a3f5f\"},\"baxis\":{\"endlinecolor\":\"#2a3f5f\",\"gridcolor\":\"white\",\"linecolor\":\"white\",\"minorgridcolor\":\"white\",\"startlinecolor\":\"#2a3f5f\"},\"type\":\"carpet\"}],\"choropleth\":[{\"colorbar\":{\"outlinewidth\":0,\"ticks\":\"\"},\"type\":\"choropleth\"}],\"contour\":[{\"colorbar\":{\"outlinewidth\":0,\"ticks\":\"\"},\"colorscale\":[[0.0,\"#0d0887\"],[0.1111111111111111,\"#46039f\"],[0.2222222222222222,\"#7201a8\"],[0.3333333333333333,\"#9c179e\"],[0.4444444444444444,\"#bd3786\"],[0.5555555555555556,\"#d8576b\"],[0.6666666666666666,\"#ed7953\"],[0.7777777777777778,\"#fb9f3a\"],[0.8888888888888888,\"#fdca26\"],[1.0,\"#f0f921\"]],\"type\":\"contour\"}],\"contourcarpet\":[{\"colorbar\":{\"outlinewidth\":0,\"ticks\":\"\"},\"type\":\"contourcarpet\"}],\"heatmap\":[{\"colorbar\":{\"outlinewidth\":0,\"ticks\":\"\"},\"colorscale\":[[0.0,\"#0d0887\"],[0.1111111111111111,\"#46039f\"],[0.2222222222222222,\"#7201a8\"],[0.3333333333333333,\"#9c179e\"],[0.4444444444444444,\"#bd3786\"],[0.5555555555555556,\"#d8576b\"],[0.6666666666666666,\"#ed7953\"],[0.7777777777777778,\"#fb9f3a\"],[0.8888888888888888,\"#fdca26\"],[1.0,\"#f0f921\"]],\"type\":\"heatmap\"}],\"heatmapgl\":[{\"colorbar\":{\"outlinewidth\":0,\"ticks\":\"\"},\"colorscale\":[[0.0,\"#0d0887\"],[0.1111111111111111,\"#46039f\"],[0.2222222222222222,\"#7201a8\"],[0.3333333333333333,\"#9c179e\"],[0.4444444444444444,\"#bd3786\"],[0.5555555555555556,\"#d8576b\"],[0.6666666666666666,\"#ed7953\"],[0.7777777777777778,\"#fb9f3a\"],[0.8888888888888888,\"#fdca26\"],[1.0,\"#f0f921\"]],\"type\":\"heatmapgl\"}],\"histogram\":[{\"marker\":{\"pattern\":{\"fillmode\":\"overlay\",\"size\":10,\"solidity\":0.2}},\"type\":\"histogram\"}],\"histogram2d\":[{\"colorbar\":{\"outlinewidth\":0,\"ticks\":\"\"},\"colorscale\":[[0.0,\"#0d0887\"],[0.1111111111111111,\"#46039f\"],[0.2222222222222222,\"#7201a8\"],[0.3333333333333333,\"#9c179e\"],[0.4444444444444444,\"#bd3786\"],[0.5555555555555556,\"#d8576b\"],[0.6666666666666666,\"#ed7953\"],[0.7777777777777778,\"#fb9f3a\"],[0.8888888888888888,\"#fdca26\"],[1.0,\"#f0f921\"]],\"type\":\"histogram2d\"}],\"histogram2dcontour\":[{\"colorbar\":{\"outlinewidth\":0,\"ticks\":\"\"},\"colorscale\":[[0.0,\"#0d0887\"],[0.1111111111111111,\"#46039f\"],[0.2222222222222222,\"#7201a8\"],[0.3333333333333333,\"#9c179e\"],[0.4444444444444444,\"#bd3786\"],[0.5555555555555556,\"#d8576b\"],[0.6666666666666666,\"#ed7953\"],[0.7777777777777778,\"#fb9f3a\"],[0.8888888888888888,\"#fdca26\"],[1.0,\"#f0f921\"]],\"type\":\"histogram2dcontour\"}],\"mesh3d\":[{\"colorbar\":{\"outlinewidth\":0,\"ticks\":\"\"},\"type\":\"mesh3d\"}],\"parcoords\":[{\"line\":{\"colorbar\":{\"outlinewidth\":0,\"ticks\":\"\"}},\"type\":\"parcoords\"}],\"pie\":[{\"automargin\":true,\"type\":\"pie\"}],\"scatter\":[{\"marker\":{\"colorbar\":{\"outlinewidth\":0,\"ticks\":\"\"}},\"type\":\"scatter\"}],\"scatter3d\":[{\"line\":{\"colorbar\":{\"outlinewidth\":0,\"ticks\":\"\"}},\"marker\":{\"colorbar\":{\"outlinewidth\":0,\"ticks\":\"\"}},\"type\":\"scatter3d\"}],\"scattercarpet\":[{\"marker\":{\"colorbar\":{\"outlinewidth\":0,\"ticks\":\"\"}},\"type\":\"scattercarpet\"}],\"scattergeo\":[{\"marker\":{\"colorbar\":{\"outlinewidth\":0,\"ticks\":\"\"}},\"type\":\"scattergeo\"}],\"scattergl\":[{\"marker\":{\"colorbar\":{\"outlinewidth\":0,\"ticks\":\"\"}},\"type\":\"scattergl\"}],\"scattermapbox\":[{\"marker\":{\"colorbar\":{\"outlinewidth\":0,\"ticks\":\"\"}},\"type\":\"scattermapbox\"}],\"scatterpolar\":[{\"marker\":{\"colorbar\":{\"outlinewidth\":0,\"ticks\":\"\"}},\"type\":\"scatterpolar\"}],\"scatterpolargl\":[{\"marker\":{\"colorbar\":{\"outlinewidth\":0,\"ticks\":\"\"}},\"type\":\"scatterpolargl\"}],\"scatterternary\":[{\"marker\":{\"colorbar\":{\"outlinewidth\":0,\"ticks\":\"\"}},\"type\":\"scatterternary\"}],\"surface\":[{\"colorbar\":{\"outlinewidth\":0,\"ticks\":\"\"},\"colorscale\":[[0.0,\"#0d0887\"],[0.1111111111111111,\"#46039f\"],[0.2222222222222222,\"#7201a8\"],[0.3333333333333333,\"#9c179e\"],[0.4444444444444444,\"#bd3786\"],[0.5555555555555556,\"#d8576b\"],[0.6666666666666666,\"#ed7953\"],[0.7777777777777778,\"#fb9f3a\"],[0.8888888888888888,\"#fdca26\"],[1.0,\"#f0f921\"]],\"type\":\"surface\"}],\"table\":[{\"cells\":{\"fill\":{\"color\":\"#EBF0F8\"},\"line\":{\"color\":\"white\"}},\"header\":{\"fill\":{\"color\":\"#C8D4E3\"},\"line\":{\"color\":\"white\"}},\"type\":\"table\"}]},\"layout\":{\"annotationdefaults\":{\"arrowcolor\":\"#2a3f5f\",\"arrowhead\":0,\"arrowwidth\":1},\"autotypenumbers\":\"strict\",\"coloraxis\":{\"colorbar\":{\"outlinewidth\":0,\"ticks\":\"\"}},\"colorscale\":{\"diverging\":[[0,\"#8e0152\"],[0.1,\"#c51b7d\"],[0.2,\"#de77ae\"],[0.3,\"#f1b6da\"],[0.4,\"#fde0ef\"],[0.5,\"#f7f7f7\"],[0.6,\"#e6f5d0\"],[0.7,\"#b8e186\"],[0.8,\"#7fbc41\"],[0.9,\"#4d9221\"],[1,\"#276419\"]],\"sequential\":[[0.0,\"#0d0887\"],[0.1111111111111111,\"#46039f\"],[0.2222222222222222,\"#7201a8\"],[0.3333333333333333,\"#9c179e\"],[0.4444444444444444,\"#bd3786\"],[0.5555555555555556,\"#d8576b\"],[0.6666666666666666,\"#ed7953\"],[0.7777777777777778,\"#fb9f3a\"],[0.8888888888888888,\"#fdca26\"],[1.0,\"#f0f921\"]],\"sequentialminus\":[[0.0,\"#0d0887\"],[0.1111111111111111,\"#46039f\"],[0.2222222222222222,\"#7201a8\"],[0.3333333333333333,\"#9c179e\"],[0.4444444444444444,\"#bd3786\"],[0.5555555555555556,\"#d8576b\"],[0.6666666666666666,\"#ed7953\"],[0.7777777777777778,\"#fb9f3a\"],[0.8888888888888888,\"#fdca26\"],[1.0,\"#f0f921\"]]},\"colorway\":[\"#636efa\",\"#EF553B\",\"#00cc96\",\"#ab63fa\",\"#FFA15A\",\"#19d3f3\",\"#FF6692\",\"#B6E880\",\"#FF97FF\",\"#FECB52\"],\"font\":{\"color\":\"#2a3f5f\"},\"geo\":{\"bgcolor\":\"white\",\"lakecolor\":\"white\",\"landcolor\":\"#E5ECF6\",\"showlakes\":true,\"showland\":true,\"subunitcolor\":\"white\"},\"hoverlabel\":{\"align\":\"left\"},\"hovermode\":\"closest\",\"mapbox\":{\"style\":\"light\"},\"paper_bgcolor\":\"white\",\"plot_bgcolor\":\"#E5ECF6\",\"polar\":{\"angularaxis\":{\"gridcolor\":\"white\",\"linecolor\":\"white\",\"ticks\":\"\"},\"bgcolor\":\"#E5ECF6\",\"radialaxis\":{\"gridcolor\":\"white\",\"linecolor\":\"white\",\"ticks\":\"\"}},\"scene\":{\"xaxis\":{\"backgroundcolor\":\"#E5ECF6\",\"gridcolor\":\"white\",\"gridwidth\":2,\"linecolor\":\"white\",\"showbackground\":true,\"ticks\":\"\",\"zerolinecolor\":\"white\"},\"yaxis\":{\"backgroundcolor\":\"#E5ECF6\",\"gridcolor\":\"white\",\"gridwidth\":2,\"linecolor\":\"white\",\"showbackground\":true,\"ticks\":\"\",\"zerolinecolor\":\"white\"},\"zaxis\":{\"backgroundcolor\":\"#E5ECF6\",\"gridcolor\":\"white\",\"gridwidth\":2,\"linecolor\":\"white\",\"showbackground\":true,\"ticks\":\"\",\"zerolinecolor\":\"white\"}},\"shapedefaults\":{\"line\":{\"color\":\"#2a3f5f\"}},\"ternary\":{\"aaxis\":{\"gridcolor\":\"white\",\"linecolor\":\"white\",\"ticks\":\"\"},\"baxis\":{\"gridcolor\":\"white\",\"linecolor\":\"white\",\"ticks\":\"\"},\"bgcolor\":\"#E5ECF6\",\"caxis\":{\"gridcolor\":\"white\",\"linecolor\":\"white\",\"ticks\":\"\"}},\"title\":{\"x\":0.05},\"xaxis\":{\"automargin\":true,\"gridcolor\":\"white\",\"linecolor\":\"white\",\"ticks\":\"\",\"title\":{\"standoff\":15},\"zerolinecolor\":\"white\",\"zerolinewidth\":2},\"yaxis\":{\"automargin\":true,\"gridcolor\":\"white\",\"linecolor\":\"white\",\"ticks\":\"\",\"title\":{\"standoff\":15},\"zerolinecolor\":\"white\",\"zerolinewidth\":2}}},\"title\":{\"text\":\"Distribution of work across US States\"},\"geo\":{\"scope\":\"usa\"}},                        {\"responsive\": true}                    ).then(function(){\n",
       "                            \n",
       "var gd = document.getElementById('d0fc93b2-fcea-4fae-968e-5a63cf11c0ec');\n",
       "var x = new MutationObserver(function (mutations, observer) {{\n",
       "        var display = window.getComputedStyle(gd).display;\n",
       "        if (!display || display === 'none') {{\n",
       "            console.log([gd, 'removed!']);\n",
       "            Plotly.purge(gd);\n",
       "            observer.disconnect();\n",
       "        }}\n",
       "}});\n",
       "\n",
       "// Listen for the removal of the full notebook cells\n",
       "var notebookContainer = gd.closest('#notebook-container');\n",
       "if (notebookContainer) {{\n",
       "    x.observe(notebookContainer, {childList: true});\n",
       "}}\n",
       "\n",
       "// Listen for the clearing of the current output cell\n",
       "var outputEl = gd.closest('.output');\n",
       "if (outputEl) {{\n",
       "    x.observe(outputEl, {childList: true});\n",
       "}}\n",
       "\n",
       "                        })                };                });            </script>        </div>"
      ]
     },
     "metadata": {},
     "output_type": "display_data"
    }
   ],
   "source": [
    "# To plot the map to show the Work Distribution \n",
    "fig = go.Figure(data = go.Choropleth(\n",
    "    locations = df_map['State Code'],\n",
    "    z = df_map['Income'],\n",
    "    locationmode = \"USA-states\",\n",
    "    colorscale = \"turbo\",\n",
    "    colorbar_title = \"Income Distribution\",\n",
    "    text = df_map['text']))\n",
    "\n",
    "fig.update_layout(\n",
    "    title_text = \"Distribution of work across US States\",\n",
    "    geo_scope = \"usa\")\n",
    "\n",
    "\n",
    "fig.show()"
   ]
  },
  {
   "cell_type": "markdown",
   "id": "f7eb2734",
   "metadata": {},
   "source": [
    "#### Observation:\n",
    "A chart of the United States allows us to see the various levels of work distribution across the states as well as their median earnings. Hovering over each state displays its median statewide income, workforce proportions in the private, public, and self-employed sectors, as well as the population engaged in family work and the unfortunate proportion of people who remain unemployed.\n",
    "\n",
    "#### Inference:\n",
    "It is clear that states with more public sector workers have higher median household incomes than states with fewer public workers. However, states is significantly lower private sector workers seem to be still trailing behind the majority. There could be several reasons for this to occur. To start with, increasing public sector employment can be an effective short-term method of reducing unemployment and providing a stabilizing effect. \n",
    "Employment in the public sector can stimulate demand in other sectors of the economy (for example, private services) and helps to implement equal and fair policies such as encouraging marginalized and/or disadvantaged groups to work. \n",
    "The above US map shows that in states such as Maryland and Virginia, and even in the District of Columbia, where public sector employment is higher, private sector employment is nearly four times higher. \n",
    "Naturally, a common inference would be that a state with more public sector workers would do better and have a higher median household income, and it’s true. \n"
   ]
  },
  {
   "cell_type": "code",
   "execution_count": 99,
   "id": "877799ae",
   "metadata": {},
   "outputs": [],
   "source": [
    "# # To plot the map to show the Work Distribution \n",
    "# fig = go.Figure(data = go.Choropleth(\n",
    "#     locations=[\"DC\", \"MD\", \"VA\"],\n",
    "#     z = df_map['Income'],\n",
    "#     locationmode = \"USA-states\",\n",
    "#     colorscale = \"turbo\",\n",
    "#     colorbar_title = \"Income Distribution\",\n",
    "#     text = df_map['text']))\n",
    "\n",
    "# fig.update_layout(\n",
    "#     title_text = \"Distribution of work across US States\",\n",
    "#     geo_scope = \"usa\")\n",
    "\n",
    "\n",
    "# fig.show()"
   ]
  },
  {
   "cell_type": "code",
   "execution_count": 100,
   "id": "c3c542a4",
   "metadata": {},
   "outputs": [
    {
     "data": {
      "text/html": [
       "<div>\n",
       "<style scoped>\n",
       "    .dataframe tbody tr th:only-of-type {\n",
       "        vertical-align: middle;\n",
       "    }\n",
       "\n",
       "    .dataframe tbody tr th {\n",
       "        vertical-align: top;\n",
       "    }\n",
       "\n",
       "    .dataframe thead th {\n",
       "        text-align: right;\n",
       "    }\n",
       "</style>\n",
       "<table border=\"1\" class=\"dataframe\">\n",
       "  <thead>\n",
       "    <tr style=\"text-align: right;\">\n",
       "      <th></th>\n",
       "      <th>PrivateWork</th>\n",
       "      <th>PublicWork</th>\n",
       "      <th>SelfEmployed</th>\n",
       "      <th>FamilyWork</th>\n",
       "      <th>Unemployment</th>\n",
       "    </tr>\n",
       "  </thead>\n",
       "  <tbody>\n",
       "    <tr>\n",
       "      <th>PrivateWork</th>\n",
       "      <td>1.000000</td>\n",
       "      <td>0.865973</td>\n",
       "      <td>0.891819</td>\n",
       "      <td>0.546711</td>\n",
       "      <td>0.849943</td>\n",
       "    </tr>\n",
       "    <tr>\n",
       "      <th>PublicWork</th>\n",
       "      <td>0.865973</td>\n",
       "      <td>1.000000</td>\n",
       "      <td>0.788791</td>\n",
       "      <td>0.488799</td>\n",
       "      <td>0.794488</td>\n",
       "    </tr>\n",
       "    <tr>\n",
       "      <th>SelfEmployed</th>\n",
       "      <td>0.891819</td>\n",
       "      <td>0.788791</td>\n",
       "      <td>1.000000</td>\n",
       "      <td>0.536307</td>\n",
       "      <td>0.785837</td>\n",
       "    </tr>\n",
       "    <tr>\n",
       "      <th>FamilyWork</th>\n",
       "      <td>0.546711</td>\n",
       "      <td>0.488799</td>\n",
       "      <td>0.536307</td>\n",
       "      <td>1.000000</td>\n",
       "      <td>0.462714</td>\n",
       "    </tr>\n",
       "    <tr>\n",
       "      <th>Unemployment</th>\n",
       "      <td>0.849943</td>\n",
       "      <td>0.794488</td>\n",
       "      <td>0.785837</td>\n",
       "      <td>0.462714</td>\n",
       "      <td>1.000000</td>\n",
       "    </tr>\n",
       "  </tbody>\n",
       "</table>\n",
       "</div>"
      ],
      "text/plain": [
       "              PrivateWork  PublicWork  SelfEmployed  FamilyWork  Unemployment\n",
       "PrivateWork      1.000000    0.865973      0.891819    0.546711      0.849943\n",
       "PublicWork       0.865973    1.000000      0.788791    0.488799      0.794488\n",
       "SelfEmployed     0.891819    0.788791      1.000000    0.536307      0.785837\n",
       "FamilyWork       0.546711    0.488799      0.536307    1.000000      0.462714\n",
       "Unemployment     0.849943    0.794488      0.785837    0.462714      1.000000"
      ]
     },
     "execution_count": 100,
     "metadata": {},
     "output_type": "execute_result"
    }
   ],
   "source": [
    "import seaborn as sb\n",
    "df_corr_work = df_final[['PrivateWork', 'PublicWork', 'SelfEmployed','FamilyWork', 'Unemployment']]\n",
    "df_corr_work.corr()"
   ]
  },
  {
   "cell_type": "code",
   "execution_count": 101,
   "id": "a502e12f",
   "metadata": {},
   "outputs": [],
   "source": [
    "# fig = px.choropleth(\n",
    "#     z = df_income['Income'],locations=[\"CA\", \"TX\", \"NY\"], locationmode=\"USA-states\", text = df_income['text'],color=[1,2,3], scope=\"usa\")\n",
    "# fig.update_layout(geo = dict(showlakes=False))\n",
    "# fig.show()"
   ]
  },
  {
   "cell_type": "code",
   "execution_count": 102,
   "id": "6cba5552",
   "metadata": {},
   "outputs": [],
   "source": [
    "df_edu = df_final[['High School Graduate','Some College or Associates degree', 'Bachelors degree or higher','TotalPop', 'Income', 'State']]"
   ]
  },
  {
   "cell_type": "code",
   "execution_count": 103,
   "id": "fcc5faf4",
   "metadata": {},
   "outputs": [],
   "source": [
    "#df_final['High School Graduate'] = df_final['High School Graduate'].astype(int)"
   ]
  },
  {
   "cell_type": "code",
   "execution_count": 104,
   "id": "edd0855e",
   "metadata": {},
   "outputs": [],
   "source": [
    "edu1_state= df_final.groupby(['State'],as_index=False)['High School Graduate'].mean().sort_values(\"High School Graduate\", ascending = False)\n"
   ]
  },
  {
   "cell_type": "code",
   "execution_count": 105,
   "id": "9c6d5ca8",
   "metadata": {},
   "outputs": [],
   "source": [
    "#df_final['Some College or Associates degree'] = df_final['Some College or Associates degree'].astype(int)\n",
    "\n",
    "edu2_state= df_final.groupby(['State'],as_index=False)['Some College or Associates degree'].mean().sort_values(\"Some College or Associates degree\", ascending = False)\n"
   ]
  },
  {
   "cell_type": "code",
   "execution_count": 106,
   "id": "14872fa3",
   "metadata": {},
   "outputs": [],
   "source": [
    "#df_final['Bachelors degree or higher'] = df_final['Bachelors degree or higher'].astype(int)\n",
    "\n",
    "edu3_state= df_final.groupby(['State'],as_index=False)['Bachelors degree or higher'].mean().sort_values(\"Bachelors degree or higher\", ascending = False)\n"
   ]
  },
  {
   "cell_type": "code",
   "execution_count": 107,
   "id": "85fe002f",
   "metadata": {},
   "outputs": [],
   "source": [
    "dup_edu= edu1_state.merge(edu2_state,on='State').merge(edu3_state,on='State')"
   ]
  },
  {
   "cell_type": "code",
   "execution_count": 108,
   "id": "c8d13b0e",
   "metadata": {},
   "outputs": [
    {
     "data": {
      "text/html": [
       "<div>\n",
       "<style scoped>\n",
       "    .dataframe tbody tr th:only-of-type {\n",
       "        vertical-align: middle;\n",
       "    }\n",
       "\n",
       "    .dataframe tbody tr th {\n",
       "        vertical-align: top;\n",
       "    }\n",
       "\n",
       "    .dataframe thead th {\n",
       "        text-align: right;\n",
       "    }\n",
       "</style>\n",
       "<table border=\"1\" class=\"dataframe\">\n",
       "  <thead>\n",
       "    <tr style=\"text-align: right;\">\n",
       "      <th></th>\n",
       "      <th>State</th>\n",
       "      <th>High School Graduate</th>\n",
       "      <th>Some College or Associates degree</th>\n",
       "      <th>Bachelors degree or higher</th>\n",
       "    </tr>\n",
       "  </thead>\n",
       "  <tbody>\n",
       "    <tr>\n",
       "      <th>0</th>\n",
       "      <td>West Virginia</td>\n",
       "      <td>32.846588</td>\n",
       "      <td>5.021604</td>\n",
       "      <td>11.094666</td>\n",
       "    </tr>\n",
       "    <tr>\n",
       "      <th>1</th>\n",
       "      <td>Pennsylvania</td>\n",
       "      <td>30.325949</td>\n",
       "      <td>6.780703</td>\n",
       "      <td>17.204514</td>\n",
       "    </tr>\n",
       "    <tr>\n",
       "      <th>2</th>\n",
       "      <td>Arkansas</td>\n",
       "      <td>27.938707</td>\n",
       "      <td>5.074999</td>\n",
       "      <td>11.678701</td>\n",
       "    </tr>\n",
       "    <tr>\n",
       "      <th>3</th>\n",
       "      <td>Missouri</td>\n",
       "      <td>27.461924</td>\n",
       "      <td>5.610955</td>\n",
       "      <td>14.098444</td>\n",
       "    </tr>\n",
       "    <tr>\n",
       "      <th>4</th>\n",
       "      <td>Ohio</td>\n",
       "      <td>27.443460</td>\n",
       "      <td>6.476209</td>\n",
       "      <td>14.821157</td>\n",
       "    </tr>\n",
       "  </tbody>\n",
       "</table>\n",
       "</div>"
      ],
      "text/plain": [
       "           State  High School Graduate  Some College or Associates degree  \\\n",
       "0  West Virginia             32.846588                           5.021604   \n",
       "1   Pennsylvania             30.325949                           6.780703   \n",
       "2       Arkansas             27.938707                           5.074999   \n",
       "3       Missouri             27.461924                           5.610955   \n",
       "4           Ohio             27.443460                           6.476209   \n",
       "\n",
       "   Bachelors degree or higher  \n",
       "0                   11.094666  \n",
       "1                   17.204514  \n",
       "2                   11.678701  \n",
       "3                   14.098444  \n",
       "4                   14.821157  "
      ]
     },
     "execution_count": 108,
     "metadata": {},
     "output_type": "execute_result"
    }
   ],
   "source": [
    "dup_edu.head()"
   ]
  },
  {
   "cell_type": "markdown",
   "id": "3967ba0d",
   "metadata": {},
   "source": [
    "When it comes to understanding how a particular state's income is high, we look at the education level within the state, and the second part is to see if the minority race has received the same level of education as well. We will examine equally racially distributed states to see if their education level varies and, if so, how it affects income.\n"
   ]
  },
  {
   "cell_type": "code",
   "execution_count": 109,
   "id": "03de797d",
   "metadata": {},
   "outputs": [
    {
     "data": {
      "application/vnd.plotly.v1+json": {
       "config": {
        "plotlyServerURL": "https://plot.ly"
       },
       "data": [
        {
         "alignmentgroup": "True",
         "hovertemplate": "variable=High School Graduate<br>State=%{x}<br>value=%{y}<extra></extra>",
         "legendgroup": "High School Graduate",
         "marker": {
          "color": "#636efa",
          "pattern": {
           "shape": ""
          }
         },
         "name": "High School Graduate",
         "offsetgroup": "High School Graduate",
         "orientation": "v",
         "showlegend": true,
         "textposition": "auto",
         "type": "bar",
         "x": [
          "West Virginia",
          "Pennsylvania",
          "Arkansas",
          "Missouri",
          "Ohio",
          "Tennessee",
          "Indiana",
          "Kentucky",
          "Louisiana",
          "Maine",
          "Iowa",
          "Oklahoma",
          "Wisconsin",
          "South Dakota",
          "Alaska",
          "Alabama",
          "Michigan",
          "Illinois",
          "South Carolina",
          "Vermont",
          "Montana",
          "Georgia",
          "Delaware",
          "Nebraska",
          "Minnesota",
          "Virginia",
          "Mississippi",
          "Wyoming",
          "New York",
          "Kansas",
          "North Dakota",
          "Florida",
          "North Carolina",
          "Nevada",
          "Idaho",
          "New Hampshire",
          "New Mexico",
          "Maryland",
          "Hawaii",
          "Puerto Rico",
          "Oregon",
          "Texas",
          "Connecticut",
          "Rhode Island",
          "New Jersey",
          "Arizona",
          "Washington",
          "Colorado",
          "Massachusetts",
          "Utah",
          "California",
          "District of Columbia"
         ],
         "xaxis": "x",
         "y": [
          32.846588430441884,
          30.325949493007926,
          27.93870741656705,
          27.46192354705963,
          27.443460241444637,
          27.06815568140434,
          26.961417449470712,
          26.86947883333505,
          26.60698641682042,
          26.328051197662905,
          25.834013454265737,
          25.816650793068778,
          25.234950130745982,
          24.637521233021587,
          24.626882149504645,
          24.44480381829849,
          24.194599567741424,
          23.818209401763532,
          23.74683332293317,
          23.105394685326498,
          22.916823815883525,
          22.915388145763245,
          22.71305985696514,
          22.620625015299876,
          22.550558689686092,
          22.479722219954667,
          22.376038717538375,
          22.27890077058623,
          22.159131112234167,
          22.095991674168786,
          22.03940390363142,
          21.875897583260503,
          21.542330174210637,
          21.42264498686916,
          21.08623015124643,
          20.965222394943854,
          20.84072512935177,
          20.834064973790344,
          20.490985868335514,
          20.480024426398355,
          20.17472377506236,
          19.761641891015614,
          19.44035652354469,
          19.37247875707578,
          19.303623319698502,
          18.36674787163157,
          18.29504686542019,
          17.795448982351616,
          17.181025130051943,
          17.160184804572683,
          15.506425946283477,
          9.245916158394895
         ],
         "yaxis": "y"
        },
        {
         "alignmentgroup": "True",
         "hovertemplate": "variable=Some College or Associates degree<br>State=%{x}<br>value=%{y}<extra></extra>",
         "legendgroup": "Some College or Associates degree",
         "marker": {
          "color": "#EF553B",
          "pattern": {
           "shape": ""
          }
         },
         "name": "Some College or Associates degree",
         "offsetgroup": "Some College or Associates degree",
         "orientation": "v",
         "showlegend": true,
         "textposition": "auto",
         "type": "bar",
         "x": [
          "West Virginia",
          "Pennsylvania",
          "Arkansas",
          "Missouri",
          "Ohio",
          "Tennessee",
          "Indiana",
          "Kentucky",
          "Louisiana",
          "Maine",
          "Iowa",
          "Oklahoma",
          "Wisconsin",
          "South Dakota",
          "Alaska",
          "Alabama",
          "Michigan",
          "Illinois",
          "South Carolina",
          "Vermont",
          "Montana",
          "Georgia",
          "Delaware",
          "Nebraska",
          "Minnesota",
          "Virginia",
          "Mississippi",
          "Wyoming",
          "New York",
          "Kansas",
          "North Dakota",
          "Florida",
          "North Carolina",
          "Nevada",
          "Idaho",
          "New Hampshire",
          "New Mexico",
          "Maryland",
          "Hawaii",
          "Puerto Rico",
          "Oregon",
          "Texas",
          "Connecticut",
          "Rhode Island",
          "New Jersey",
          "Arizona",
          "Washington",
          "Colorado",
          "Massachusetts",
          "Utah",
          "California",
          "District of Columbia"
         ],
         "xaxis": "x",
         "y": [
          5.021604232704516,
          6.7807031805282465,
          5.07499948930032,
          5.6109552377786365,
          6.476208601849174,
          4.977991895093734,
          6.426956724844837,
          5.957411799659732,
          4.380526764167239,
          7.6484935700649865,
          9.195769450308104,
          5.0701140254726,
          8.358719642518619,
          8.587940226927701,
          4.149136525249227,
          6.235153401065589,
          7.059831727149818,
          7.200023685504916,
          6.901459771442616,
          6.061742345527837,
          7.093199541453921,
          5.575795974389569,
          6.352994902802515,
          9.32533822842645,
          9.402506165082777,
          5.845971676193166,
          6.896519177235997,
          7.563267392780636,
          8.014875632472823,
          6.9448576303705245,
          10.264961438396503,
          7.0975748708504565,
          7.275457120276775,
          6.147935002406034,
          6.8770887604250435,
          7.876692769818202,
          5.999870415744821,
          5.173300341414327,
          7.727914506074598,
          7.4201903336749,
          6.95825998748588,
          4.908204266729188,
          6.138307777342399,
          6.587978584384479,
          5.081116442826301,
          6.144167739328829,
          7.495405874321492,
          6.6402196946856415,
          6.018996190770217,
          6.655933756746556,
          6.051081865922015,
          1.867747081069455
         ],
         "yaxis": "y"
        },
        {
         "alignmentgroup": "True",
         "hovertemplate": "variable=Bachelors degree or higher<br>State=%{x}<br>value=%{y}<extra></extra>",
         "legendgroup": "Bachelors degree or higher",
         "marker": {
          "color": "#00cc96",
          "pattern": {
           "shape": ""
          }
         },
         "name": "Bachelors degree or higher",
         "offsetgroup": "Bachelors degree or higher",
         "orientation": "v",
         "showlegend": true,
         "textposition": "auto",
         "type": "bar",
         "x": [
          "West Virginia",
          "Pennsylvania",
          "Arkansas",
          "Missouri",
          "Ohio",
          "Tennessee",
          "Indiana",
          "Kentucky",
          "Louisiana",
          "Maine",
          "Iowa",
          "Oklahoma",
          "Wisconsin",
          "South Dakota",
          "Alaska",
          "Alabama",
          "Michigan",
          "Illinois",
          "South Carolina",
          "Vermont",
          "Montana",
          "Georgia",
          "Delaware",
          "Nebraska",
          "Minnesota",
          "Virginia",
          "Mississippi",
          "Wyoming",
          "New York",
          "Kansas",
          "North Dakota",
          "Florida",
          "North Carolina",
          "Nevada",
          "Idaho",
          "New Hampshire",
          "New Mexico",
          "Maryland",
          "Hawaii",
          "Puerto Rico",
          "Oregon",
          "Texas",
          "Connecticut",
          "Rhode Island",
          "New Jersey",
          "Arizona",
          "Washington",
          "Colorado",
          "Massachusetts",
          "Utah",
          "California",
          "District of Columbia"
         ],
         "xaxis": "x",
         "y": [
          11.09466586342928,
          17.204513658739288,
          11.6787009051246,
          14.098443835719097,
          14.821156648715402,
          14.754786343260687,
          13.691107406726458,
          11.67332045651139,
          12.726152519416537,
          21.68415501127501,
          14.370367221947273,
          13.596311604088113,
          17.191092556698667,
          15.817645459835285,
          12.064536995013304,
          13.834592967064637,
          17.16088961074005,
          16.93551451015162,
          15.728661403030008,
          26.863765678290328,
          19.618104067266344,
          15.842056202670351,
          23.062023032390652,
          16.691674276669165,
          17.35168954458909,
          20.48778578379757,
          11.871211633704942,
          17.254169739112864,
          22.500092863532796,
          17.200231562661713,
          16.332146374260056,
          21.342186350726674,
          17.65213634114593,
          17.9452526706416,
          15.71980564704863,
          27.740734686126007,
          16.72897312514545,
          25.467266501680072,
          22.387300954231442,
          18.676859598537213,
          19.422395535083133,
          16.17208579794844,
          28.615828594697565,
          26.140816195350236,
          29.07353953328268,
          18.662582343123816,
          21.4141373277975,
          25.521899423699168,
          32.28100862168498,
          17.27192213016737,
          21.875981284428825,
          48.27523333941746
         ],
         "yaxis": "y"
        }
       ],
       "layout": {
        "barmode": "stack",
        "height": 600,
        "legend": {
         "title": {
          "text": "Education Level"
         },
         "tracegroupgap": 0
        },
        "template": {
         "data": {
          "bar": [
           {
            "error_x": {
             "color": "#2a3f5f"
            },
            "error_y": {
             "color": "#2a3f5f"
            },
            "marker": {
             "line": {
              "color": "#E5ECF6",
              "width": 0.5
             },
             "pattern": {
              "fillmode": "overlay",
              "size": 10,
              "solidity": 0.2
             }
            },
            "type": "bar"
           }
          ],
          "barpolar": [
           {
            "marker": {
             "line": {
              "color": "#E5ECF6",
              "width": 0.5
             },
             "pattern": {
              "fillmode": "overlay",
              "size": 10,
              "solidity": 0.2
             }
            },
            "type": "barpolar"
           }
          ],
          "carpet": [
           {
            "aaxis": {
             "endlinecolor": "#2a3f5f",
             "gridcolor": "white",
             "linecolor": "white",
             "minorgridcolor": "white",
             "startlinecolor": "#2a3f5f"
            },
            "baxis": {
             "endlinecolor": "#2a3f5f",
             "gridcolor": "white",
             "linecolor": "white",
             "minorgridcolor": "white",
             "startlinecolor": "#2a3f5f"
            },
            "type": "carpet"
           }
          ],
          "choropleth": [
           {
            "colorbar": {
             "outlinewidth": 0,
             "ticks": ""
            },
            "type": "choropleth"
           }
          ],
          "contour": [
           {
            "colorbar": {
             "outlinewidth": 0,
             "ticks": ""
            },
            "colorscale": [
             [
              0,
              "#0d0887"
             ],
             [
              0.1111111111111111,
              "#46039f"
             ],
             [
              0.2222222222222222,
              "#7201a8"
             ],
             [
              0.3333333333333333,
              "#9c179e"
             ],
             [
              0.4444444444444444,
              "#bd3786"
             ],
             [
              0.5555555555555556,
              "#d8576b"
             ],
             [
              0.6666666666666666,
              "#ed7953"
             ],
             [
              0.7777777777777778,
              "#fb9f3a"
             ],
             [
              0.8888888888888888,
              "#fdca26"
             ],
             [
              1,
              "#f0f921"
             ]
            ],
            "type": "contour"
           }
          ],
          "contourcarpet": [
           {
            "colorbar": {
             "outlinewidth": 0,
             "ticks": ""
            },
            "type": "contourcarpet"
           }
          ],
          "heatmap": [
           {
            "colorbar": {
             "outlinewidth": 0,
             "ticks": ""
            },
            "colorscale": [
             [
              0,
              "#0d0887"
             ],
             [
              0.1111111111111111,
              "#46039f"
             ],
             [
              0.2222222222222222,
              "#7201a8"
             ],
             [
              0.3333333333333333,
              "#9c179e"
             ],
             [
              0.4444444444444444,
              "#bd3786"
             ],
             [
              0.5555555555555556,
              "#d8576b"
             ],
             [
              0.6666666666666666,
              "#ed7953"
             ],
             [
              0.7777777777777778,
              "#fb9f3a"
             ],
             [
              0.8888888888888888,
              "#fdca26"
             ],
             [
              1,
              "#f0f921"
             ]
            ],
            "type": "heatmap"
           }
          ],
          "heatmapgl": [
           {
            "colorbar": {
             "outlinewidth": 0,
             "ticks": ""
            },
            "colorscale": [
             [
              0,
              "#0d0887"
             ],
             [
              0.1111111111111111,
              "#46039f"
             ],
             [
              0.2222222222222222,
              "#7201a8"
             ],
             [
              0.3333333333333333,
              "#9c179e"
             ],
             [
              0.4444444444444444,
              "#bd3786"
             ],
             [
              0.5555555555555556,
              "#d8576b"
             ],
             [
              0.6666666666666666,
              "#ed7953"
             ],
             [
              0.7777777777777778,
              "#fb9f3a"
             ],
             [
              0.8888888888888888,
              "#fdca26"
             ],
             [
              1,
              "#f0f921"
             ]
            ],
            "type": "heatmapgl"
           }
          ],
          "histogram": [
           {
            "marker": {
             "pattern": {
              "fillmode": "overlay",
              "size": 10,
              "solidity": 0.2
             }
            },
            "type": "histogram"
           }
          ],
          "histogram2d": [
           {
            "colorbar": {
             "outlinewidth": 0,
             "ticks": ""
            },
            "colorscale": [
             [
              0,
              "#0d0887"
             ],
             [
              0.1111111111111111,
              "#46039f"
             ],
             [
              0.2222222222222222,
              "#7201a8"
             ],
             [
              0.3333333333333333,
              "#9c179e"
             ],
             [
              0.4444444444444444,
              "#bd3786"
             ],
             [
              0.5555555555555556,
              "#d8576b"
             ],
             [
              0.6666666666666666,
              "#ed7953"
             ],
             [
              0.7777777777777778,
              "#fb9f3a"
             ],
             [
              0.8888888888888888,
              "#fdca26"
             ],
             [
              1,
              "#f0f921"
             ]
            ],
            "type": "histogram2d"
           }
          ],
          "histogram2dcontour": [
           {
            "colorbar": {
             "outlinewidth": 0,
             "ticks": ""
            },
            "colorscale": [
             [
              0,
              "#0d0887"
             ],
             [
              0.1111111111111111,
              "#46039f"
             ],
             [
              0.2222222222222222,
              "#7201a8"
             ],
             [
              0.3333333333333333,
              "#9c179e"
             ],
             [
              0.4444444444444444,
              "#bd3786"
             ],
             [
              0.5555555555555556,
              "#d8576b"
             ],
             [
              0.6666666666666666,
              "#ed7953"
             ],
             [
              0.7777777777777778,
              "#fb9f3a"
             ],
             [
              0.8888888888888888,
              "#fdca26"
             ],
             [
              1,
              "#f0f921"
             ]
            ],
            "type": "histogram2dcontour"
           }
          ],
          "mesh3d": [
           {
            "colorbar": {
             "outlinewidth": 0,
             "ticks": ""
            },
            "type": "mesh3d"
           }
          ],
          "parcoords": [
           {
            "line": {
             "colorbar": {
              "outlinewidth": 0,
              "ticks": ""
             }
            },
            "type": "parcoords"
           }
          ],
          "pie": [
           {
            "automargin": true,
            "type": "pie"
           }
          ],
          "scatter": [
           {
            "marker": {
             "colorbar": {
              "outlinewidth": 0,
              "ticks": ""
             }
            },
            "type": "scatter"
           }
          ],
          "scatter3d": [
           {
            "line": {
             "colorbar": {
              "outlinewidth": 0,
              "ticks": ""
             }
            },
            "marker": {
             "colorbar": {
              "outlinewidth": 0,
              "ticks": ""
             }
            },
            "type": "scatter3d"
           }
          ],
          "scattercarpet": [
           {
            "marker": {
             "colorbar": {
              "outlinewidth": 0,
              "ticks": ""
             }
            },
            "type": "scattercarpet"
           }
          ],
          "scattergeo": [
           {
            "marker": {
             "colorbar": {
              "outlinewidth": 0,
              "ticks": ""
             }
            },
            "type": "scattergeo"
           }
          ],
          "scattergl": [
           {
            "marker": {
             "colorbar": {
              "outlinewidth": 0,
              "ticks": ""
             }
            },
            "type": "scattergl"
           }
          ],
          "scattermapbox": [
           {
            "marker": {
             "colorbar": {
              "outlinewidth": 0,
              "ticks": ""
             }
            },
            "type": "scattermapbox"
           }
          ],
          "scatterpolar": [
           {
            "marker": {
             "colorbar": {
              "outlinewidth": 0,
              "ticks": ""
             }
            },
            "type": "scatterpolar"
           }
          ],
          "scatterpolargl": [
           {
            "marker": {
             "colorbar": {
              "outlinewidth": 0,
              "ticks": ""
             }
            },
            "type": "scatterpolargl"
           }
          ],
          "scatterternary": [
           {
            "marker": {
             "colorbar": {
              "outlinewidth": 0,
              "ticks": ""
             }
            },
            "type": "scatterternary"
           }
          ],
          "surface": [
           {
            "colorbar": {
             "outlinewidth": 0,
             "ticks": ""
            },
            "colorscale": [
             [
              0,
              "#0d0887"
             ],
             [
              0.1111111111111111,
              "#46039f"
             ],
             [
              0.2222222222222222,
              "#7201a8"
             ],
             [
              0.3333333333333333,
              "#9c179e"
             ],
             [
              0.4444444444444444,
              "#bd3786"
             ],
             [
              0.5555555555555556,
              "#d8576b"
             ],
             [
              0.6666666666666666,
              "#ed7953"
             ],
             [
              0.7777777777777778,
              "#fb9f3a"
             ],
             [
              0.8888888888888888,
              "#fdca26"
             ],
             [
              1,
              "#f0f921"
             ]
            ],
            "type": "surface"
           }
          ],
          "table": [
           {
            "cells": {
             "fill": {
              "color": "#EBF0F8"
             },
             "line": {
              "color": "white"
             }
            },
            "header": {
             "fill": {
              "color": "#C8D4E3"
             },
             "line": {
              "color": "white"
             }
            },
            "type": "table"
           }
          ]
         },
         "layout": {
          "annotationdefaults": {
           "arrowcolor": "#2a3f5f",
           "arrowhead": 0,
           "arrowwidth": 1
          },
          "autotypenumbers": "strict",
          "coloraxis": {
           "colorbar": {
            "outlinewidth": 0,
            "ticks": ""
           }
          },
          "colorscale": {
           "diverging": [
            [
             0,
             "#8e0152"
            ],
            [
             0.1,
             "#c51b7d"
            ],
            [
             0.2,
             "#de77ae"
            ],
            [
             0.3,
             "#f1b6da"
            ],
            [
             0.4,
             "#fde0ef"
            ],
            [
             0.5,
             "#f7f7f7"
            ],
            [
             0.6,
             "#e6f5d0"
            ],
            [
             0.7,
             "#b8e186"
            ],
            [
             0.8,
             "#7fbc41"
            ],
            [
             0.9,
             "#4d9221"
            ],
            [
             1,
             "#276419"
            ]
           ],
           "sequential": [
            [
             0,
             "#0d0887"
            ],
            [
             0.1111111111111111,
             "#46039f"
            ],
            [
             0.2222222222222222,
             "#7201a8"
            ],
            [
             0.3333333333333333,
             "#9c179e"
            ],
            [
             0.4444444444444444,
             "#bd3786"
            ],
            [
             0.5555555555555556,
             "#d8576b"
            ],
            [
             0.6666666666666666,
             "#ed7953"
            ],
            [
             0.7777777777777778,
             "#fb9f3a"
            ],
            [
             0.8888888888888888,
             "#fdca26"
            ],
            [
             1,
             "#f0f921"
            ]
           ],
           "sequentialminus": [
            [
             0,
             "#0d0887"
            ],
            [
             0.1111111111111111,
             "#46039f"
            ],
            [
             0.2222222222222222,
             "#7201a8"
            ],
            [
             0.3333333333333333,
             "#9c179e"
            ],
            [
             0.4444444444444444,
             "#bd3786"
            ],
            [
             0.5555555555555556,
             "#d8576b"
            ],
            [
             0.6666666666666666,
             "#ed7953"
            ],
            [
             0.7777777777777778,
             "#fb9f3a"
            ],
            [
             0.8888888888888888,
             "#fdca26"
            ],
            [
             1,
             "#f0f921"
            ]
           ]
          },
          "colorway": [
           "#636efa",
           "#EF553B",
           "#00cc96",
           "#ab63fa",
           "#FFA15A",
           "#19d3f3",
           "#FF6692",
           "#B6E880",
           "#FF97FF",
           "#FECB52"
          ],
          "font": {
           "color": "#2a3f5f"
          },
          "geo": {
           "bgcolor": "white",
           "lakecolor": "white",
           "landcolor": "#E5ECF6",
           "showlakes": true,
           "showland": true,
           "subunitcolor": "white"
          },
          "hoverlabel": {
           "align": "left"
          },
          "hovermode": "closest",
          "mapbox": {
           "style": "light"
          },
          "paper_bgcolor": "white",
          "plot_bgcolor": "#E5ECF6",
          "polar": {
           "angularaxis": {
            "gridcolor": "white",
            "linecolor": "white",
            "ticks": ""
           },
           "bgcolor": "#E5ECF6",
           "radialaxis": {
            "gridcolor": "white",
            "linecolor": "white",
            "ticks": ""
           }
          },
          "scene": {
           "xaxis": {
            "backgroundcolor": "#E5ECF6",
            "gridcolor": "white",
            "gridwidth": 2,
            "linecolor": "white",
            "showbackground": true,
            "ticks": "",
            "zerolinecolor": "white"
           },
           "yaxis": {
            "backgroundcolor": "#E5ECF6",
            "gridcolor": "white",
            "gridwidth": 2,
            "linecolor": "white",
            "showbackground": true,
            "ticks": "",
            "zerolinecolor": "white"
           },
           "zaxis": {
            "backgroundcolor": "#E5ECF6",
            "gridcolor": "white",
            "gridwidth": 2,
            "linecolor": "white",
            "showbackground": true,
            "ticks": "",
            "zerolinecolor": "white"
           }
          },
          "shapedefaults": {
           "line": {
            "color": "#2a3f5f"
           }
          },
          "ternary": {
           "aaxis": {
            "gridcolor": "white",
            "linecolor": "white",
            "ticks": ""
           },
           "baxis": {
            "gridcolor": "white",
            "linecolor": "white",
            "ticks": ""
           },
           "bgcolor": "#E5ECF6",
           "caxis": {
            "gridcolor": "white",
            "linecolor": "white",
            "ticks": ""
           }
          },
          "title": {
           "x": 0.05
          },
          "xaxis": {
           "automargin": true,
           "gridcolor": "white",
           "linecolor": "white",
           "ticks": "",
           "title": {
            "standoff": 15
           },
           "zerolinecolor": "white",
           "zerolinewidth": 2
          },
          "yaxis": {
           "automargin": true,
           "gridcolor": "white",
           "linecolor": "white",
           "ticks": "",
           "title": {
            "standoff": 15
           },
           "zerolinecolor": "white",
           "zerolinewidth": 2
          }
         }
        },
        "title": {
         "text": "Education Distribution across States",
         "x": 0.4,
         "xanchor": "center",
         "y": 0.9,
         "yanchor": "top"
        },
        "width": 1100,
        "xaxis": {
         "anchor": "y",
         "autorange": true,
         "categoryorder": "total descending",
         "domain": [
          0,
          1
         ],
         "range": [
          -0.5,
          51.5
         ],
         "title": {
          "text": "State"
         },
         "type": "category"
        },
        "yaxis": {
         "anchor": "x",
         "autorange": true,
         "domain": [
          0,
          1
         ],
         "range": [
          0,
          62.51462797777033
         ],
         "title": {
          "text": "Percentage"
         },
         "type": "linear"
        }
       }
      },
      "image/png": "[encoded data removed]",
      "text/html": [
       "<div>                            <div id=\"dd36eab4-b5a4-4bab-99f7-e025662e8e79\" class=\"plotly-graph-div\" style=\"height:600px; width:1100px;\"></div>            <script type=\"text/javascript\">                require([\"plotly\"], function(Plotly) {                    window.PLOTLYENV=window.PLOTLYENV || {};                                    if (document.getElementById(\"dd36eab4-b5a4-4bab-99f7-e025662e8e79\")) {                    Plotly.newPlot(                        \"dd36eab4-b5a4-4bab-99f7-e025662e8e79\",                        [{\"alignmentgroup\":\"True\",\"hovertemplate\":\"variable=High School Graduate<br>State=%{x}<br>value=%{y}<extra></extra>\",\"legendgroup\":\"High School Graduate\",\"marker\":{\"color\":\"#636efa\",\"pattern\":{\"shape\":\"\"}},\"name\":\"High School Graduate\",\"offsetgroup\":\"High School Graduate\",\"orientation\":\"v\",\"showlegend\":true,\"textposition\":\"auto\",\"x\":[\"West Virginia\",\"Pennsylvania\",\"Arkansas\",\"Missouri\",\"Ohio\",\"Tennessee\",\"Indiana\",\"Kentucky\",\"Louisiana\",\"Maine\",\"Iowa\",\"Oklahoma\",\"Wisconsin\",\"South Dakota\",\"Alaska\",\"Alabama\",\"Michigan\",\"Illinois\",\"South Carolina\",\"Vermont\",\"Montana\",\"Georgia\",\"Delaware\",\"Nebraska\",\"Minnesota\",\"Virginia\",\"Mississippi\",\"Wyoming\",\"New York\",\"Kansas\",\"North Dakota\",\"Florida\",\"North Carolina\",\"Nevada\",\"Idaho\",\"New Hampshire\",\"New Mexico\",\"Maryland\",\"Hawaii\",\"Puerto Rico\",\"Oregon\",\"Texas\",\"Connecticut\",\"Rhode Island\",\"New Jersey\",\"Arizona\",\"Washington\",\"Colorado\",\"Massachusetts\",\"Utah\",\"California\",\"District of Columbia\"],\"xaxis\":\"x\",\"y\":[32.846588430441884,30.325949493007926,27.93870741656705,27.46192354705963,27.443460241444637,27.06815568140434,26.961417449470712,26.86947883333505,26.60698641682042,26.328051197662905,25.834013454265737,25.816650793068778,25.234950130745982,24.637521233021587,24.626882149504645,24.44480381829849,24.194599567741424,23.818209401763532,23.74683332293317,23.105394685326498,22.916823815883525,22.915388145763245,22.71305985696514,22.620625015299876,22.550558689686092,22.479722219954667,22.376038717538375,22.27890077058623,22.159131112234167,22.095991674168786,22.03940390363142,21.875897583260503,21.542330174210637,21.42264498686916,21.08623015124643,20.965222394943854,20.84072512935177,20.834064973790344,20.490985868335514,20.480024426398355,20.17472377506236,19.761641891015614,19.44035652354469,19.37247875707578,19.303623319698502,18.36674787163157,18.29504686542019,17.795448982351616,17.181025130051943,17.160184804572683,15.506425946283477,9.245916158394895],\"yaxis\":\"y\",\"type\":\"bar\"},{\"alignmentgroup\":\"True\",\"hovertemplate\":\"variable=Some College or Associates degree<br>State=%{x}<br>value=%{y}<extra></extra>\",\"legendgroup\":\"Some College or Associates degree\",\"marker\":{\"color\":\"#EF553B\",\"pattern\":{\"shape\":\"\"}},\"name\":\"Some College or Associates degree\",\"offsetgroup\":\"Some College or Associates degree\",\"orientation\":\"v\",\"showlegend\":true,\"textposition\":\"auto\",\"x\":[\"West Virginia\",\"Pennsylvania\",\"Arkansas\",\"Missouri\",\"Ohio\",\"Tennessee\",\"Indiana\",\"Kentucky\",\"Louisiana\",\"Maine\",\"Iowa\",\"Oklahoma\",\"Wisconsin\",\"South Dakota\",\"Alaska\",\"Alabama\",\"Michigan\",\"Illinois\",\"South Carolina\",\"Vermont\",\"Montana\",\"Georgia\",\"Delaware\",\"Nebraska\",\"Minnesota\",\"Virginia\",\"Mississippi\",\"Wyoming\",\"New York\",\"Kansas\",\"North Dakota\",\"Florida\",\"North Carolina\",\"Nevada\",\"Idaho\",\"New Hampshire\",\"New Mexico\",\"Maryland\",\"Hawaii\",\"Puerto Rico\",\"Oregon\",\"Texas\",\"Connecticut\",\"Rhode Island\",\"New Jersey\",\"Arizona\",\"Washington\",\"Colorado\",\"Massachusetts\",\"Utah\",\"California\",\"District of Columbia\"],\"xaxis\":\"x\",\"y\":[5.021604232704516,6.7807031805282465,5.07499948930032,5.6109552377786365,6.476208601849174,4.977991895093734,6.426956724844837,5.957411799659732,4.380526764167239,7.6484935700649865,9.195769450308104,5.0701140254726,8.358719642518619,8.587940226927701,4.149136525249227,6.235153401065589,7.059831727149818,7.200023685504916,6.901459771442616,6.061742345527837,7.093199541453921,5.575795974389569,6.352994902802515,9.32533822842645,9.402506165082777,5.845971676193166,6.896519177235997,7.563267392780636,8.014875632472823,6.9448576303705245,10.264961438396503,7.0975748708504565,7.275457120276775,6.147935002406034,6.8770887604250435,7.876692769818202,5.999870415744821,5.173300341414327,7.727914506074598,7.4201903336749,6.95825998748588,4.908204266729188,6.138307777342399,6.587978584384479,5.081116442826301,6.144167739328829,7.495405874321492,6.6402196946856415,6.018996190770217,6.655933756746556,6.051081865922015,1.867747081069455],\"yaxis\":\"y\",\"type\":\"bar\"},{\"alignmentgroup\":\"True\",\"hovertemplate\":\"variable=Bachelors degree or higher<br>State=%{x}<br>value=%{y}<extra></extra>\",\"legendgroup\":\"Bachelors degree or higher\",\"marker\":{\"color\":\"#00cc96\",\"pattern\":{\"shape\":\"\"}},\"name\":\"Bachelors degree or higher\",\"offsetgroup\":\"Bachelors degree or higher\",\"orientation\":\"v\",\"showlegend\":true,\"textposition\":\"auto\",\"x\":[\"West Virginia\",\"Pennsylvania\",\"Arkansas\",\"Missouri\",\"Ohio\",\"Tennessee\",\"Indiana\",\"Kentucky\",\"Louisiana\",\"Maine\",\"Iowa\",\"Oklahoma\",\"Wisconsin\",\"South Dakota\",\"Alaska\",\"Alabama\",\"Michigan\",\"Illinois\",\"South Carolina\",\"Vermont\",\"Montana\",\"Georgia\",\"Delaware\",\"Nebraska\",\"Minnesota\",\"Virginia\",\"Mississippi\",\"Wyoming\",\"New York\",\"Kansas\",\"North Dakota\",\"Florida\",\"North Carolina\",\"Nevada\",\"Idaho\",\"New Hampshire\",\"New Mexico\",\"Maryland\",\"Hawaii\",\"Puerto Rico\",\"Oregon\",\"Texas\",\"Connecticut\",\"Rhode Island\",\"New Jersey\",\"Arizona\",\"Washington\",\"Colorado\",\"Massachusetts\",\"Utah\",\"California\",\"District of Columbia\"],\"xaxis\":\"x\",\"y\":[11.09466586342928,17.204513658739288,11.6787009051246,14.098443835719097,14.821156648715402,14.754786343260687,13.691107406726458,11.67332045651139,12.726152519416537,21.68415501127501,14.370367221947273,13.596311604088113,17.191092556698667,15.817645459835285,12.064536995013304,13.834592967064637,17.16088961074005,16.93551451015162,15.728661403030008,26.863765678290328,19.618104067266344,15.842056202670351,23.062023032390652,16.691674276669165,17.35168954458909,20.48778578379757,11.871211633704942,17.254169739112864,22.500092863532796,17.200231562661713,16.332146374260056,21.342186350726674,17.65213634114593,17.9452526706416,15.71980564704863,27.740734686126007,16.72897312514545,25.467266501680072,22.387300954231442,18.676859598537213,19.422395535083133,16.17208579794844,28.615828594697565,26.140816195350236,29.07353953328268,18.662582343123816,21.4141373277975,25.521899423699168,32.28100862168498,17.27192213016737,21.875981284428825,48.27523333941746],\"yaxis\":\"y\",\"type\":\"bar\"}],                        {\"template\":{\"data\":{\"bar\":[{\"error_x\":{\"color\":\"#2a3f5f\"},\"error_y\":{\"color\":\"#2a3f5f\"},\"marker\":{\"line\":{\"color\":\"#E5ECF6\",\"width\":0.5},\"pattern\":{\"fillmode\":\"overlay\",\"size\":10,\"solidity\":0.2}},\"type\":\"bar\"}],\"barpolar\":[{\"marker\":{\"line\":{\"color\":\"#E5ECF6\",\"width\":0.5},\"pattern\":{\"fillmode\":\"overlay\",\"size\":10,\"solidity\":0.2}},\"type\":\"barpolar\"}],\"carpet\":[{\"aaxis\":{\"endlinecolor\":\"#2a3f5f\",\"gridcolor\":\"white\",\"linecolor\":\"white\",\"minorgridcolor\":\"white\",\"startlinecolor\":\"#2a3f5f\"},\"baxis\":{\"endlinecolor\":\"#2a3f5f\",\"gridcolor\":\"white\",\"linecolor\":\"white\",\"minorgridcolor\":\"white\",\"startlinecolor\":\"#2a3f5f\"},\"type\":\"carpet\"}],\"choropleth\":[{\"colorbar\":{\"outlinewidth\":0,\"ticks\":\"\"},\"type\":\"choropleth\"}],\"contour\":[{\"colorbar\":{\"outlinewidth\":0,\"ticks\":\"\"},\"colorscale\":[[0.0,\"#0d0887\"],[0.1111111111111111,\"#46039f\"],[0.2222222222222222,\"#7201a8\"],[0.3333333333333333,\"#9c179e\"],[0.4444444444444444,\"#bd3786\"],[0.5555555555555556,\"#d8576b\"],[0.6666666666666666,\"#ed7953\"],[0.7777777777777778,\"#fb9f3a\"],[0.8888888888888888,\"#fdca26\"],[1.0,\"#f0f921\"]],\"type\":\"contour\"}],\"contourcarpet\":[{\"colorbar\":{\"outlinewidth\":0,\"ticks\":\"\"},\"type\":\"contourcarpet\"}],\"heatmap\":[{\"colorbar\":{\"outlinewidth\":0,\"ticks\":\"\"},\"colorscale\":[[0.0,\"#0d0887\"],[0.1111111111111111,\"#46039f\"],[0.2222222222222222,\"#7201a8\"],[0.3333333333333333,\"#9c179e\"],[0.4444444444444444,\"#bd3786\"],[0.5555555555555556,\"#d8576b\"],[0.6666666666666666,\"#ed7953\"],[0.7777777777777778,\"#fb9f3a\"],[0.8888888888888888,\"#fdca26\"],[1.0,\"#f0f921\"]],\"type\":\"heatmap\"}],\"heatmapgl\":[{\"colorbar\":{\"outlinewidth\":0,\"ticks\":\"\"},\"colorscale\":[[0.0,\"#0d0887\"],[0.1111111111111111,\"#46039f\"],[0.2222222222222222,\"#7201a8\"],[0.3333333333333333,\"#9c179e\"],[0.4444444444444444,\"#bd3786\"],[0.5555555555555556,\"#d8576b\"],[0.6666666666666666,\"#ed7953\"],[0.7777777777777778,\"#fb9f3a\"],[0.8888888888888888,\"#fdca26\"],[1.0,\"#f0f921\"]],\"type\":\"heatmapgl\"}],\"histogram\":[{\"marker\":{\"pattern\":{\"fillmode\":\"overlay\",\"size\":10,\"solidity\":0.2}},\"type\":\"histogram\"}],\"histogram2d\":[{\"colorbar\":{\"outlinewidth\":0,\"ticks\":\"\"},\"colorscale\":[[0.0,\"#0d0887\"],[0.1111111111111111,\"#46039f\"],[0.2222222222222222,\"#7201a8\"],[0.3333333333333333,\"#9c179e\"],[0.4444444444444444,\"#bd3786\"],[0.5555555555555556,\"#d8576b\"],[0.6666666666666666,\"#ed7953\"],[0.7777777777777778,\"#fb9f3a\"],[0.8888888888888888,\"#fdca26\"],[1.0,\"#f0f921\"]],\"type\":\"histogram2d\"}],\"histogram2dcontour\":[{\"colorbar\":{\"outlinewidth\":0,\"ticks\":\"\"},\"colorscale\":[[0.0,\"#0d0887\"],[0.1111111111111111,\"#46039f\"],[0.2222222222222222,\"#7201a8\"],[0.3333333333333333,\"#9c179e\"],[0.4444444444444444,\"#bd3786\"],[0.5555555555555556,\"#d8576b\"],[0.6666666666666666,\"#ed7953\"],[0.7777777777777778,\"#fb9f3a\"],[0.8888888888888888,\"#fdca26\"],[1.0,\"#f0f921\"]],\"type\":\"histogram2dcontour\"}],\"mesh3d\":[{\"colorbar\":{\"outlinewidth\":0,\"ticks\":\"\"},\"type\":\"mesh3d\"}],\"parcoords\":[{\"line\":{\"colorbar\":{\"outlinewidth\":0,\"ticks\":\"\"}},\"type\":\"parcoords\"}],\"pie\":[{\"automargin\":true,\"type\":\"pie\"}],\"scatter\":[{\"marker\":{\"colorbar\":{\"outlinewidth\":0,\"ticks\":\"\"}},\"type\":\"scatter\"}],\"scatter3d\":[{\"line\":{\"colorbar\":{\"outlinewidth\":0,\"ticks\":\"\"}},\"marker\":{\"colorbar\":{\"outlinewidth\":0,\"ticks\":\"\"}},\"type\":\"scatter3d\"}],\"scattercarpet\":[{\"marker\":{\"colorbar\":{\"outlinewidth\":0,\"ticks\":\"\"}},\"type\":\"scattercarpet\"}],\"scattergeo\":[{\"marker\":{\"colorbar\":{\"outlinewidth\":0,\"ticks\":\"\"}},\"type\":\"scattergeo\"}],\"scattergl\":[{\"marker\":{\"colorbar\":{\"outlinewidth\":0,\"ticks\":\"\"}},\"type\":\"scattergl\"}],\"scattermapbox\":[{\"marker\":{\"colorbar\":{\"outlinewidth\":0,\"ticks\":\"\"}},\"type\":\"scattermapbox\"}],\"scatterpolar\":[{\"marker\":{\"colorbar\":{\"outlinewidth\":0,\"ticks\":\"\"}},\"type\":\"scatterpolar\"}],\"scatterpolargl\":[{\"marker\":{\"colorbar\":{\"outlinewidth\":0,\"ticks\":\"\"}},\"type\":\"scatterpolargl\"}],\"scatterternary\":[{\"marker\":{\"colorbar\":{\"outlinewidth\":0,\"ticks\":\"\"}},\"type\":\"scatterternary\"}],\"surface\":[{\"colorbar\":{\"outlinewidth\":0,\"ticks\":\"\"},\"colorscale\":[[0.0,\"#0d0887\"],[0.1111111111111111,\"#46039f\"],[0.2222222222222222,\"#7201a8\"],[0.3333333333333333,\"#9c179e\"],[0.4444444444444444,\"#bd3786\"],[0.5555555555555556,\"#d8576b\"],[0.6666666666666666,\"#ed7953\"],[0.7777777777777778,\"#fb9f3a\"],[0.8888888888888888,\"#fdca26\"],[1.0,\"#f0f921\"]],\"type\":\"surface\"}],\"table\":[{\"cells\":{\"fill\":{\"color\":\"#EBF0F8\"},\"line\":{\"color\":\"white\"}},\"header\":{\"fill\":{\"color\":\"#C8D4E3\"},\"line\":{\"color\":\"white\"}},\"type\":\"table\"}]},\"layout\":{\"annotationdefaults\":{\"arrowcolor\":\"#2a3f5f\",\"arrowhead\":0,\"arrowwidth\":1},\"autotypenumbers\":\"strict\",\"coloraxis\":{\"colorbar\":{\"outlinewidth\":0,\"ticks\":\"\"}},\"colorscale\":{\"diverging\":[[0,\"#8e0152\"],[0.1,\"#c51b7d\"],[0.2,\"#de77ae\"],[0.3,\"#f1b6da\"],[0.4,\"#fde0ef\"],[0.5,\"#f7f7f7\"],[0.6,\"#e6f5d0\"],[0.7,\"#b8e186\"],[0.8,\"#7fbc41\"],[0.9,\"#4d9221\"],[1,\"#276419\"]],\"sequential\":[[0.0,\"#0d0887\"],[0.1111111111111111,\"#46039f\"],[0.2222222222222222,\"#7201a8\"],[0.3333333333333333,\"#9c179e\"],[0.4444444444444444,\"#bd3786\"],[0.5555555555555556,\"#d8576b\"],[0.6666666666666666,\"#ed7953\"],[0.7777777777777778,\"#fb9f3a\"],[0.8888888888888888,\"#fdca26\"],[1.0,\"#f0f921\"]],\"sequentialminus\":[[0.0,\"#0d0887\"],[0.1111111111111111,\"#46039f\"],[0.2222222222222222,\"#7201a8\"],[0.3333333333333333,\"#9c179e\"],[0.4444444444444444,\"#bd3786\"],[0.5555555555555556,\"#d8576b\"],[0.6666666666666666,\"#ed7953\"],[0.7777777777777778,\"#fb9f3a\"],[0.8888888888888888,\"#fdca26\"],[1.0,\"#f0f921\"]]},\"colorway\":[\"#636efa\",\"#EF553B\",\"#00cc96\",\"#ab63fa\",\"#FFA15A\",\"#19d3f3\",\"#FF6692\",\"#B6E880\",\"#FF97FF\",\"#FECB52\"],\"font\":{\"color\":\"#2a3f5f\"},\"geo\":{\"bgcolor\":\"white\",\"lakecolor\":\"white\",\"landcolor\":\"#E5ECF6\",\"showlakes\":true,\"showland\":true,\"subunitcolor\":\"white\"},\"hoverlabel\":{\"align\":\"left\"},\"hovermode\":\"closest\",\"mapbox\":{\"style\":\"light\"},\"paper_bgcolor\":\"white\",\"plot_bgcolor\":\"#E5ECF6\",\"polar\":{\"angularaxis\":{\"gridcolor\":\"white\",\"linecolor\":\"white\",\"ticks\":\"\"},\"bgcolor\":\"#E5ECF6\",\"radialaxis\":{\"gridcolor\":\"white\",\"linecolor\":\"white\",\"ticks\":\"\"}},\"scene\":{\"xaxis\":{\"backgroundcolor\":\"#E5ECF6\",\"gridcolor\":\"white\",\"gridwidth\":2,\"linecolor\":\"white\",\"showbackground\":true,\"ticks\":\"\",\"zerolinecolor\":\"white\"},\"yaxis\":{\"backgroundcolor\":\"#E5ECF6\",\"gridcolor\":\"white\",\"gridwidth\":2,\"linecolor\":\"white\",\"showbackground\":true,\"ticks\":\"\",\"zerolinecolor\":\"white\"},\"zaxis\":{\"backgroundcolor\":\"#E5ECF6\",\"gridcolor\":\"white\",\"gridwidth\":2,\"linecolor\":\"white\",\"showbackground\":true,\"ticks\":\"\",\"zerolinecolor\":\"white\"}},\"shapedefaults\":{\"line\":{\"color\":\"#2a3f5f\"}},\"ternary\":{\"aaxis\":{\"gridcolor\":\"white\",\"linecolor\":\"white\",\"ticks\":\"\"},\"baxis\":{\"gridcolor\":\"white\",\"linecolor\":\"white\",\"ticks\":\"\"},\"bgcolor\":\"#E5ECF6\",\"caxis\":{\"gridcolor\":\"white\",\"linecolor\":\"white\",\"ticks\":\"\"}},\"title\":{\"x\":0.05},\"xaxis\":{\"automargin\":true,\"gridcolor\":\"white\",\"linecolor\":\"white\",\"ticks\":\"\",\"title\":{\"standoff\":15},\"zerolinecolor\":\"white\",\"zerolinewidth\":2},\"yaxis\":{\"automargin\":true,\"gridcolor\":\"white\",\"linecolor\":\"white\",\"ticks\":\"\",\"title\":{\"standoff\":15},\"zerolinecolor\":\"white\",\"zerolinewidth\":2}}},\"xaxis\":{\"anchor\":\"y\",\"domain\":[0.0,1.0],\"title\":{\"text\":\"State\"},\"categoryorder\":\"total descending\"},\"yaxis\":{\"anchor\":\"x\",\"domain\":[0.0,1.0],\"title\":{\"text\":\"Percentage\"}},\"legend\":{\"title\":{\"text\":\"Education Level\"},\"tracegroupgap\":0},\"title\":{\"text\":\"Education Distribution across States\",\"y\":0.9,\"x\":0.4,\"xanchor\":\"center\",\"yanchor\":\"top\"},\"barmode\":\"stack\",\"height\":600,\"width\":1100},                        {\"responsive\": true}                    ).then(function(){\n",
       "                            \n",
       "var gd = document.getElementById('dd36eab4-b5a4-4bab-99f7-e025662e8e79');\n",
       "var x = new MutationObserver(function (mutations, observer) {{\n",
       "        var display = window.getComputedStyle(gd).display;\n",
       "        if (!display || display === 'none') {{\n",
       "            console.log([gd, 'removed!']);\n",
       "            Plotly.purge(gd);\n",
       "            observer.disconnect();\n",
       "        }}\n",
       "}});\n",
       "\n",
       "// Listen for the removal of the full notebook cells\n",
       "var notebookContainer = gd.closest('#notebook-container');\n",
       "if (notebookContainer) {{\n",
       "    x.observe(notebookContainer, {childList: true});\n",
       "}}\n",
       "\n",
       "// Listen for the clearing of the current output cell\n",
       "var outputEl = gd.closest('.output');\n",
       "if (outputEl) {{\n",
       "    x.observe(outputEl, {childList: true});\n",
       "}}\n",
       "\n",
       "                        })                };                });            </script>        </div>"
      ]
     },
     "metadata": {},
     "output_type": "display_data"
    }
   ],
   "source": [
    "fig = px.bar(dup_edu, x=\"State\", y=['High School Graduate', 'Some College or Associates degree', 'Bachelors degree or higher'], title=\"Education Distribution across States\", width=1100, height=600)\n",
    "fig.update_layout(barmode='stack', xaxis={'categoryorder': 'total descending'})\n",
    "\n",
    "fig.update_layout(\n",
    "    title={\n",
    "        'text': \"Education Distribution across States\",\n",
    "        'y':0.9,\n",
    "        'x':0.4,\n",
    "        'xanchor': 'center',\n",
    "        'yanchor': 'top'},\n",
    "    xaxis_title=\"State\",\n",
    "    yaxis_title=\"Percentage\",\n",
    "    legend_title=\"Education Level\")\n",
    "fig.show()"
   ]
  },
  {
   "cell_type": "code",
   "execution_count": 110,
   "id": "9e3a597b",
   "metadata": {},
   "outputs": [],
   "source": [
    "# ax = dup_edu.plot.bar(x='State', stacked=True, color=['tomato','lightseagreen','Green'], figsize=(35,20),fontsize = 30)\n",
    "# ax.set_title('Education Distribution across States', fontsize=60)\n",
    "# ax.legend(fontsize='xx-large')"
   ]
  },
  {
   "cell_type": "code",
   "execution_count": 111,
   "id": "13d43d49",
   "metadata": {},
   "outputs": [],
   "source": [
    "race_df= df_final[['Hispanic','White','Black','Income','RaceOther','State']]\n",
    "#race_df = race_df[['Hispanic','White','Black','Income','Native','Pacific','Asian']].astype(int)\n",
    "convert_dict = {'Hispanic': int,'White': int,'Black': int,'RaceOther': int}\n",
    " \n",
    "race_df = race_df.astype(convert_dict)\n",
    "#race_df=race_df.astype(int)"
   ]
  },
  {
   "cell_type": "code",
   "execution_count": 112,
   "id": "b12ae923",
   "metadata": {},
   "outputs": [],
   "source": [
    "race_df1 = race_df.loc[race_df['State'] == 'Arkansas']\n",
    "race_df1_hispanic=race_df1['Hispanic'].sum()\n",
    "race_df1_white =race_df1['White'].sum()\n",
    "race_df1_black =race_df1['Black'].sum()\n",
    "race_df1_raceother =race_df1['RaceOther'].sum()\n",
    "\n",
    "data_tx=[race_df1_hispanic,race_df1_white,race_df1_black,race_df1_raceother]\n",
    "race_tx = ['Hispanic', 'White', 'Black','RaceOther']"
   ]
  },
  {
   "cell_type": "code",
   "execution_count": 113,
   "id": "b3c9100e",
   "metadata": {},
   "outputs": [],
   "source": [
    "#data_tx = [2754283, 26149850, 3796945, 2035231]"
   ]
  },
  {
   "cell_type": "code",
   "execution_count": 114,
   "id": "157342b3",
   "metadata": {},
   "outputs": [],
   "source": [
    "race_df2 = race_df.loc[race_df['State'] == 'Connecticut']\n",
    "race_df2_hispanic=race_df2['Hispanic'].sum()\n",
    "race_df2_white =race_df2['White'].sum()\n",
    "race_df2_black =race_df2['Black'].sum()\n",
    "race_df2_raceother =race_df2['RaceOther'].sum()\n",
    "\n",
    "data_ct=[race_df2_hispanic,race_df2_white,race_df2_black,race_df2_raceother]\n",
    "race_ct=['Hispanic', 'White', 'Black','RaceOther']"
   ]
  },
  {
   "cell_type": "code",
   "execution_count": 115,
   "id": "074174ba",
   "metadata": {},
   "outputs": [],
   "source": [
    "# rslt_df2 = race_df.loc[race_df['State'] == 'Puerto Rico']\n",
    "# DOC_Hispanic2=rslt_df2['Hispanic'].sum()\n",
    "# DOC_White2 =rslt_df2['White'].sum()\n",
    "# DOC_Black2 =rslt_df2['Black'].sum()\n",
    "# DOC_RaceOther2 =rslt_df2['RaceOther'].sum()\n"
   ]
  },
  {
   "cell_type": "code",
   "execution_count": 116,
   "id": "0126861a",
   "metadata": {},
   "outputs": [],
   "source": [
    "# data2=[DOC_Hispanic2,DOC_White2,DOC_Black2,DOC_RaceOther2]\n",
    "# race2= ['Hispanic', 'White', 'Black',\n",
    "#         'RaceOther']"
   ]
  },
  {
   "cell_type": "code",
   "execution_count": 117,
   "id": "8ffb3940",
   "metadata": {},
   "outputs": [],
   "source": [
    "# # Creating explode data\n",
    "# explode = (0.1, 0.0, 0.2, 0.3)\n",
    " \n",
    "# # Creating color parameters\n",
    "# colors = ( \"lightpink\", \"cyan\", \"salmon\",\n",
    "#           \"fuchsia\")\n",
    " \n",
    "# # Wedge properties\n",
    "# wp = { 'linewidth' : 1, 'edgecolor' : \"green\" }\n",
    " \n",
    "# # Creating autocpt arguments\n",
    "# def func(pct, allvalues):\n",
    "#     absolute = int(pct / 100.*np.sum(allvalues))\n",
    "#     return \"{:.1f}%\\n({:d})\".format(pct, absolute)\n",
    " \n",
    "# # Creating plot\n",
    "# fig, ax = plt.subplots(figsize =(15, 7))\n",
    "# wedges, texts, autotexts = ax.pie(data2,\n",
    "#                                   autopct = lambda pct: func(pct, data),\n",
    "#                                   explode = explode,\n",
    "#                                   labels = race2,\n",
    "#                                   shadow = False,\n",
    "#                                   colors = colors,\n",
    "#                                   startangle = 50,\n",
    "#                                   wedgeprops = wp,\n",
    "#                                   textprops = dict(color =\"black\"))\n",
    " \n",
    "# # Adding legend\n",
    "# ax.legend(wedges, race2,\n",
    "#           title =\"Race\",\n",
    "#           loc =\"center left\",\n",
    "#           bbox_to_anchor =(1, 0, 0.8, 1))\n",
    " \n",
    "# plt.setp(autotexts, size = 8)\n",
    "# ax.set_title(\"Race Distribution for Puerto Rico (Avg Income = 37K)\")\n",
    " \n",
    "# # show plot\n",
    "# plt.show()"
   ]
  },
  {
   "cell_type": "code",
   "execution_count": 118,
   "id": "4f69605e",
   "metadata": {},
   "outputs": [],
   "source": [
    "# df_final.Income.median()"
   ]
  },
  {
   "cell_type": "code",
   "execution_count": 119,
   "id": "59dd5556",
   "metadata": {},
   "outputs": [],
   "source": [
    "# rslt_df3 = race_df.loc[race_df['State'] == 'North Carolina']\n",
    "# DOC_Hispanic3=rslt_df3['Hispanic'].sum()\n",
    "# DOC_White3 =rslt_df3['White'].sum()\n",
    "# DOC_Black3 =rslt_df3['Black'].sum()\n",
    "# DOC_RaceOther3 =rslt_df3['RaceOther'].sum()\n",
    "\n",
    "# data3 =[DOC_Hispanic3,DOC_White3,DOC_Black3,DOC_RaceOther3]\n",
    "# race3 =['Hispanic', 'White', 'Black','RaceOther']"
   ]
  },
  {
   "cell_type": "code",
   "execution_count": 120,
   "id": "702aac2d",
   "metadata": {},
   "outputs": [],
   "source": [
    "# fig = go.Figure(data=[go.Pie(labels=race3, values=data3, textinfo='label+percent',\n",
    "#                              insidetextorientation='radial'\n",
    "#                             )])\n",
    "# fig.update_layout(title_text='Race Distribution for North Carolina (Avg Income = 83K)')\n",
    "# fig.show()"
   ]
  },
  {
   "cell_type": "code",
   "execution_count": null,
   "id": "e78a44dd",
   "metadata": {},
   "outputs": [],
   "source": []
  },
  {
   "cell_type": "code",
   "execution_count": 121,
   "id": "9beb4ade",
   "metadata": {},
   "outputs": [
    {
     "data": {
      "application/vnd.plotly.v1+json": {
       "config": {
        "plotlyServerURL": "https://plot.ly"
       },
       "data": [
        {
         "domain": {
          "x": [
           0,
           0.45
          ],
          "y": [
           0,
           1
          ]
         },
         "hole": 0.4,
         "hoverinfo": "label+percent+name",
         "labels": [
          "Hispanic",
          "White",
          "Black",
          "RaceOther"
         ],
         "name": "Arkansas",
         "type": "pie",
         "values": [
          166885,
          2246900,
          488586,
          133196
         ]
        },
        {
         "domain": {
          "x": [
           0.55,
           1
          ],
          "y": [
           0,
           1
          ]
         },
         "hole": 0.4,
         "hoverinfo": "label+percent+name",
         "labels": [
          "Hispanic",
          "White",
          "Black",
          "RaceOther"
         ],
         "name": "Connecticut",
         "type": "pie",
         "values": [
          60638,
          2481542,
          449936,
          220980
         ]
        }
       ],
       "layout": {
        "annotations": [
         {
          "font": {
           "size": 13
          },
          "showarrow": false,
          "text": "Arkansas <br> (Avg Income = 62K)",
          "x": 0.15,
          "y": 0.5
         },
         {
          "font": {
           "size": 13
          },
          "showarrow": false,
          "text": "Connecticut <br> (Avg Income = 89K)",
          "x": 0.85,
          "y": 0.51
         }
        ],
        "autosize": true,
        "legend": {
         "title": {
          "text": "Race"
         }
        },
        "template": {
         "data": {
          "bar": [
           {
            "error_x": {
             "color": "#2a3f5f"
            },
            "error_y": {
             "color": "#2a3f5f"
            },
            "marker": {
             "line": {
              "color": "#E5ECF6",
              "width": 0.5
             },
             "pattern": {
              "fillmode": "overlay",
              "size": 10,
              "solidity": 0.2
             }
            },
            "type": "bar"
           }
          ],
          "barpolar": [
           {
            "marker": {
             "line": {
              "color": "#E5ECF6",
              "width": 0.5
             },
             "pattern": {
              "fillmode": "overlay",
              "size": 10,
              "solidity": 0.2
             }
            },
            "type": "barpolar"
           }
          ],
          "carpet": [
           {
            "aaxis": {
             "endlinecolor": "#2a3f5f",
             "gridcolor": "white",
             "linecolor": "white",
             "minorgridcolor": "white",
             "startlinecolor": "#2a3f5f"
            },
            "baxis": {
             "endlinecolor": "#2a3f5f",
             "gridcolor": "white",
             "linecolor": "white",
             "minorgridcolor": "white",
             "startlinecolor": "#2a3f5f"
            },
            "type": "carpet"
           }
          ],
          "choropleth": [
           {
            "colorbar": {
             "outlinewidth": 0,
             "ticks": ""
            },
            "type": "choropleth"
           }
          ],
          "contour": [
           {
            "colorbar": {
             "outlinewidth": 0,
             "ticks": ""
            },
            "colorscale": [
             [
              0,
              "#0d0887"
             ],
             [
              0.1111111111111111,
              "#46039f"
             ],
             [
              0.2222222222222222,
              "#7201a8"
             ],
             [
              0.3333333333333333,
              "#9c179e"
             ],
             [
              0.4444444444444444,
              "#bd3786"
             ],
             [
              0.5555555555555556,
              "#d8576b"
             ],
             [
              0.6666666666666666,
              "#ed7953"
             ],
             [
              0.7777777777777778,
              "#fb9f3a"
             ],
             [
              0.8888888888888888,
              "#fdca26"
             ],
             [
              1,
              "#f0f921"
             ]
            ],
            "type": "contour"
           }
          ],
          "contourcarpet": [
           {
            "colorbar": {
             "outlinewidth": 0,
             "ticks": ""
            },
            "type": "contourcarpet"
           }
          ],
          "heatmap": [
           {
            "colorbar": {
             "outlinewidth": 0,
             "ticks": ""
            },
            "colorscale": [
             [
              0,
              "#0d0887"
             ],
             [
              0.1111111111111111,
              "#46039f"
             ],
             [
              0.2222222222222222,
              "#7201a8"
             ],
             [
              0.3333333333333333,
              "#9c179e"
             ],
             [
              0.4444444444444444,
              "#bd3786"
             ],
             [
              0.5555555555555556,
              "#d8576b"
             ],
             [
              0.6666666666666666,
              "#ed7953"
             ],
             [
              0.7777777777777778,
              "#fb9f3a"
             ],
             [
              0.8888888888888888,
              "#fdca26"
             ],
             [
              1,
              "#f0f921"
             ]
            ],
            "type": "heatmap"
           }
          ],
          "heatmapgl": [
           {
            "colorbar": {
             "outlinewidth": 0,
             "ticks": ""
            },
            "colorscale": [
             [
              0,
              "#0d0887"
             ],
             [
              0.1111111111111111,
              "#46039f"
             ],
             [
              0.2222222222222222,
              "#7201a8"
             ],
             [
              0.3333333333333333,
              "#9c179e"
             ],
             [
              0.4444444444444444,
              "#bd3786"
             ],
             [
              0.5555555555555556,
              "#d8576b"
             ],
             [
              0.6666666666666666,
              "#ed7953"
             ],
             [
              0.7777777777777778,
              "#fb9f3a"
             ],
             [
              0.8888888888888888,
              "#fdca26"
             ],
             [
              1,
              "#f0f921"
             ]
            ],
            "type": "heatmapgl"
           }
          ],
          "histogram": [
           {
            "marker": {
             "pattern": {
              "fillmode": "overlay",
              "size": 10,
              "solidity": 0.2
             }
            },
            "type": "histogram"
           }
          ],
          "histogram2d": [
           {
            "colorbar": {
             "outlinewidth": 0,
             "ticks": ""
            },
            "colorscale": [
             [
              0,
              "#0d0887"
             ],
             [
              0.1111111111111111,
              "#46039f"
             ],
             [
              0.2222222222222222,
              "#7201a8"
             ],
             [
              0.3333333333333333,
              "#9c179e"
             ],
             [
              0.4444444444444444,
              "#bd3786"
             ],
             [
              0.5555555555555556,
              "#d8576b"
             ],
             [
              0.6666666666666666,
              "#ed7953"
             ],
             [
              0.7777777777777778,
              "#fb9f3a"
             ],
             [
              0.8888888888888888,
              "#fdca26"
             ],
             [
              1,
              "#f0f921"
             ]
            ],
            "type": "histogram2d"
           }
          ],
          "histogram2dcontour": [
           {
            "colorbar": {
             "outlinewidth": 0,
             "ticks": ""
            },
            "colorscale": [
             [
              0,
              "#0d0887"
             ],
             [
              0.1111111111111111,
              "#46039f"
             ],
             [
              0.2222222222222222,
              "#7201a8"
             ],
             [
              0.3333333333333333,
              "#9c179e"
             ],
             [
              0.4444444444444444,
              "#bd3786"
             ],
             [
              0.5555555555555556,
              "#d8576b"
             ],
             [
              0.6666666666666666,
              "#ed7953"
             ],
             [
              0.7777777777777778,
              "#fb9f3a"
             ],
             [
              0.8888888888888888,
              "#fdca26"
             ],
             [
              1,
              "#f0f921"
             ]
            ],
            "type": "histogram2dcontour"
           }
          ],
          "mesh3d": [
           {
            "colorbar": {
             "outlinewidth": 0,
             "ticks": ""
            },
            "type": "mesh3d"
           }
          ],
          "parcoords": [
           {
            "line": {
             "colorbar": {
              "outlinewidth": 0,
              "ticks": ""
             }
            },
            "type": "parcoords"
           }
          ],
          "pie": [
           {
            "automargin": true,
            "type": "pie"
           }
          ],
          "scatter": [
           {
            "marker": {
             "colorbar": {
              "outlinewidth": 0,
              "ticks": ""
             }
            },
            "type": "scatter"
           }
          ],
          "scatter3d": [
           {
            "line": {
             "colorbar": {
              "outlinewidth": 0,
              "ticks": ""
             }
            },
            "marker": {
             "colorbar": {
              "outlinewidth": 0,
              "ticks": ""
             }
            },
            "type": "scatter3d"
           }
          ],
          "scattercarpet": [
           {
            "marker": {
             "colorbar": {
              "outlinewidth": 0,
              "ticks": ""
             }
            },
            "type": "scattercarpet"
           }
          ],
          "scattergeo": [
           {
            "marker": {
             "colorbar": {
              "outlinewidth": 0,
              "ticks": ""
             }
            },
            "type": "scattergeo"
           }
          ],
          "scattergl": [
           {
            "marker": {
             "colorbar": {
              "outlinewidth": 0,
              "ticks": ""
             }
            },
            "type": "scattergl"
           }
          ],
          "scattermapbox": [
           {
            "marker": {
             "colorbar": {
              "outlinewidth": 0,
              "ticks": ""
             }
            },
            "type": "scattermapbox"
           }
          ],
          "scatterpolar": [
           {
            "marker": {
             "colorbar": {
              "outlinewidth": 0,
              "ticks": ""
             }
            },
            "type": "scatterpolar"
           }
          ],
          "scatterpolargl": [
           {
            "marker": {
             "colorbar": {
              "outlinewidth": 0,
              "ticks": ""
             }
            },
            "type": "scatterpolargl"
           }
          ],
          "scatterternary": [
           {
            "marker": {
             "colorbar": {
              "outlinewidth": 0,
              "ticks": ""
             }
            },
            "type": "scatterternary"
           }
          ],
          "surface": [
           {
            "colorbar": {
             "outlinewidth": 0,
             "ticks": ""
            },
            "colorscale": [
             [
              0,
              "#0d0887"
             ],
             [
              0.1111111111111111,
              "#46039f"
             ],
             [
              0.2222222222222222,
              "#7201a8"
             ],
             [
              0.3333333333333333,
              "#9c179e"
             ],
             [
              0.4444444444444444,
              "#bd3786"
             ],
             [
              0.5555555555555556,
              "#d8576b"
             ],
             [
              0.6666666666666666,
              "#ed7953"
             ],
             [
              0.7777777777777778,
              "#fb9f3a"
             ],
             [
              0.8888888888888888,
              "#fdca26"
             ],
             [
              1,
              "#f0f921"
             ]
            ],
            "type": "surface"
           }
          ],
          "table": [
           {
            "cells": {
             "fill": {
              "color": "#EBF0F8"
             },
             "line": {
              "color": "white"
             }
            },
            "header": {
             "fill": {
              "color": "#C8D4E3"
             },
             "line": {
              "color": "white"
             }
            },
            "type": "table"
           }
          ]
         },
         "layout": {
          "annotationdefaults": {
           "arrowcolor": "#2a3f5f",
           "arrowhead": 0,
           "arrowwidth": 1
          },
          "autotypenumbers": "strict",
          "coloraxis": {
           "colorbar": {
            "outlinewidth": 0,
            "ticks": ""
           }
          },
          "colorscale": {
           "diverging": [
            [
             0,
             "#8e0152"
            ],
            [
             0.1,
             "#c51b7d"
            ],
            [
             0.2,
             "#de77ae"
            ],
            [
             0.3,
             "#f1b6da"
            ],
            [
             0.4,
             "#fde0ef"
            ],
            [
             0.5,
             "#f7f7f7"
            ],
            [
             0.6,
             "#e6f5d0"
            ],
            [
             0.7,
             "#b8e186"
            ],
            [
             0.8,
             "#7fbc41"
            ],
            [
             0.9,
             "#4d9221"
            ],
            [
             1,
             "#276419"
            ]
           ],
           "sequential": [
            [
             0,
             "#0d0887"
            ],
            [
             0.1111111111111111,
             "#46039f"
            ],
            [
             0.2222222222222222,
             "#7201a8"
            ],
            [
             0.3333333333333333,
             "#9c179e"
            ],
            [
             0.4444444444444444,
             "#bd3786"
            ],
            [
             0.5555555555555556,
             "#d8576b"
            ],
            [
             0.6666666666666666,
             "#ed7953"
            ],
            [
             0.7777777777777778,
             "#fb9f3a"
            ],
            [
             0.8888888888888888,
             "#fdca26"
            ],
            [
             1,
             "#f0f921"
            ]
           ],
           "sequentialminus": [
            [
             0,
             "#0d0887"
            ],
            [
             0.1111111111111111,
             "#46039f"
            ],
            [
             0.2222222222222222,
             "#7201a8"
            ],
            [
             0.3333333333333333,
             "#9c179e"
            ],
            [
             0.4444444444444444,
             "#bd3786"
            ],
            [
             0.5555555555555556,
             "#d8576b"
            ],
            [
             0.6666666666666666,
             "#ed7953"
            ],
            [
             0.7777777777777778,
             "#fb9f3a"
            ],
            [
             0.8888888888888888,
             "#fdca26"
            ],
            [
             1,
             "#f0f921"
            ]
           ]
          },
          "colorway": [
           "#636efa",
           "#EF553B",
           "#00cc96",
           "#ab63fa",
           "#FFA15A",
           "#19d3f3",
           "#FF6692",
           "#B6E880",
           "#FF97FF",
           "#FECB52"
          ],
          "font": {
           "color": "#2a3f5f"
          },
          "geo": {
           "bgcolor": "white",
           "lakecolor": "white",
           "landcolor": "#E5ECF6",
           "showlakes": true,
           "showland": true,
           "subunitcolor": "white"
          },
          "hoverlabel": {
           "align": "left"
          },
          "hovermode": "closest",
          "mapbox": {
           "style": "light"
          },
          "paper_bgcolor": "white",
          "plot_bgcolor": "#E5ECF6",
          "polar": {
           "angularaxis": {
            "gridcolor": "white",
            "linecolor": "white",
            "ticks": ""
           },
           "bgcolor": "#E5ECF6",
           "radialaxis": {
            "gridcolor": "white",
            "linecolor": "white",
            "ticks": ""
           }
          },
          "scene": {
           "xaxis": {
            "backgroundcolor": "#E5ECF6",
            "gridcolor": "white",
            "gridwidth": 2,
            "linecolor": "white",
            "showbackground": true,
            "ticks": "",
            "zerolinecolor": "white"
           },
           "yaxis": {
            "backgroundcolor": "#E5ECF6",
            "gridcolor": "white",
            "gridwidth": 2,
            "linecolor": "white",
            "showbackground": true,
            "ticks": "",
            "zerolinecolor": "white"
           },
           "zaxis": {
            "backgroundcolor": "#E5ECF6",
            "gridcolor": "white",
            "gridwidth": 2,
            "linecolor": "white",
            "showbackground": true,
            "ticks": "",
            "zerolinecolor": "white"
           }
          },
          "shapedefaults": {
           "line": {
            "color": "#2a3f5f"
           }
          },
          "ternary": {
           "aaxis": {
            "gridcolor": "white",
            "linecolor": "white",
            "ticks": ""
           },
           "baxis": {
            "gridcolor": "white",
            "linecolor": "white",
            "ticks": ""
           },
           "bgcolor": "#E5ECF6",
           "caxis": {
            "gridcolor": "white",
            "linecolor": "white",
            "ticks": ""
           }
          },
          "title": {
           "x": 0.05
          },
          "xaxis": {
           "automargin": true,
           "gridcolor": "white",
           "linecolor": "white",
           "ticks": "",
           "title": {
            "standoff": 15
           },
           "zerolinecolor": "white",
           "zerolinewidth": 2
          },
          "yaxis": {
           "automargin": true,
           "gridcolor": "white",
           "linecolor": "white",
           "ticks": "",
           "title": {
            "standoff": 15
           },
           "zerolinecolor": "white",
           "zerolinewidth": 2
          }
         }
        },
        "title": {
         "text": "Race Distribution in Arkansas and Connecticut",
         "x": 0.4,
         "xanchor": "center",
         "y": 0.9,
         "yanchor": "top"
        }
       }
      },
      "image/png": "[encoded data removed]",
      "text/html": [
       "<div>                            <div id=\"039d6250-57df-443e-8740-0a24469ffa07\" class=\"plotly-graph-div\" style=\"height:525px; width:100%;\"></div>            <script type=\"text/javascript\">                require([\"plotly\"], function(Plotly) {                    window.PLOTLYENV=window.PLOTLYENV || {};                                    if (document.getElementById(\"039d6250-57df-443e-8740-0a24469ffa07\")) {                    Plotly.newPlot(                        \"039d6250-57df-443e-8740-0a24469ffa07\",                        [{\"labels\":[\"Hispanic\",\"White\",\"Black\",\"RaceOther\"],\"name\":\"Arkansas\",\"values\":[166885,2246900,488586,133196],\"type\":\"pie\",\"domain\":{\"x\":[0.0,0.45],\"y\":[0.0,1.0]},\"hole\":0.4,\"hoverinfo\":\"label+percent+name\"},{\"labels\":[\"Hispanic\",\"White\",\"Black\",\"RaceOther\"],\"name\":\"Connecticut\",\"values\":[60638,2481542,449936,220980],\"type\":\"pie\",\"domain\":{\"x\":[0.55,1.0],\"y\":[0.0,1.0]},\"hole\":0.4,\"hoverinfo\":\"label+percent+name\"}],                        {\"template\":{\"data\":{\"bar\":[{\"error_x\":{\"color\":\"#2a3f5f\"},\"error_y\":{\"color\":\"#2a3f5f\"},\"marker\":{\"line\":{\"color\":\"#E5ECF6\",\"width\":0.5},\"pattern\":{\"fillmode\":\"overlay\",\"size\":10,\"solidity\":0.2}},\"type\":\"bar\"}],\"barpolar\":[{\"marker\":{\"line\":{\"color\":\"#E5ECF6\",\"width\":0.5},\"pattern\":{\"fillmode\":\"overlay\",\"size\":10,\"solidity\":0.2}},\"type\":\"barpolar\"}],\"carpet\":[{\"aaxis\":{\"endlinecolor\":\"#2a3f5f\",\"gridcolor\":\"white\",\"linecolor\":\"white\",\"minorgridcolor\":\"white\",\"startlinecolor\":\"#2a3f5f\"},\"baxis\":{\"endlinecolor\":\"#2a3f5f\",\"gridcolor\":\"white\",\"linecolor\":\"white\",\"minorgridcolor\":\"white\",\"startlinecolor\":\"#2a3f5f\"},\"type\":\"carpet\"}],\"choropleth\":[{\"colorbar\":{\"outlinewidth\":0,\"ticks\":\"\"},\"type\":\"choropleth\"}],\"contour\":[{\"colorbar\":{\"outlinewidth\":0,\"ticks\":\"\"},\"colorscale\":[[0.0,\"#0d0887\"],[0.1111111111111111,\"#46039f\"],[0.2222222222222222,\"#7201a8\"],[0.3333333333333333,\"#9c179e\"],[0.4444444444444444,\"#bd3786\"],[0.5555555555555556,\"#d8576b\"],[0.6666666666666666,\"#ed7953\"],[0.7777777777777778,\"#fb9f3a\"],[0.8888888888888888,\"#fdca26\"],[1.0,\"#f0f921\"]],\"type\":\"contour\"}],\"contourcarpet\":[{\"colorbar\":{\"outlinewidth\":0,\"ticks\":\"\"},\"type\":\"contourcarpet\"}],\"heatmap\":[{\"colorbar\":{\"outlinewidth\":0,\"ticks\":\"\"},\"colorscale\":[[0.0,\"#0d0887\"],[0.1111111111111111,\"#46039f\"],[0.2222222222222222,\"#7201a8\"],[0.3333333333333333,\"#9c179e\"],[0.4444444444444444,\"#bd3786\"],[0.5555555555555556,\"#d8576b\"],[0.6666666666666666,\"#ed7953\"],[0.7777777777777778,\"#fb9f3a\"],[0.8888888888888888,\"#fdca26\"],[1.0,\"#f0f921\"]],\"type\":\"heatmap\"}],\"heatmapgl\":[{\"colorbar\":{\"outlinewidth\":0,\"ticks\":\"\"},\"colorscale\":[[0.0,\"#0d0887\"],[0.1111111111111111,\"#46039f\"],[0.2222222222222222,\"#7201a8\"],[0.3333333333333333,\"#9c179e\"],[0.4444444444444444,\"#bd3786\"],[0.5555555555555556,\"#d8576b\"],[0.6666666666666666,\"#ed7953\"],[0.7777777777777778,\"#fb9f3a\"],[0.8888888888888888,\"#fdca26\"],[1.0,\"#f0f921\"]],\"type\":\"heatmapgl\"}],\"histogram\":[{\"marker\":{\"pattern\":{\"fillmode\":\"overlay\",\"size\":10,\"solidity\":0.2}},\"type\":\"histogram\"}],\"histogram2d\":[{\"colorbar\":{\"outlinewidth\":0,\"ticks\":\"\"},\"colorscale\":[[0.0,\"#0d0887\"],[0.1111111111111111,\"#46039f\"],[0.2222222222222222,\"#7201a8\"],[0.3333333333333333,\"#9c179e\"],[0.4444444444444444,\"#bd3786\"],[0.5555555555555556,\"#d8576b\"],[0.6666666666666666,\"#ed7953\"],[0.7777777777777778,\"#fb9f3a\"],[0.8888888888888888,\"#fdca26\"],[1.0,\"#f0f921\"]],\"type\":\"histogram2d\"}],\"histogram2dcontour\":[{\"colorbar\":{\"outlinewidth\":0,\"ticks\":\"\"},\"colorscale\":[[0.0,\"#0d0887\"],[0.1111111111111111,\"#46039f\"],[0.2222222222222222,\"#7201a8\"],[0.3333333333333333,\"#9c179e\"],[0.4444444444444444,\"#bd3786\"],[0.5555555555555556,\"#d8576b\"],[0.6666666666666666,\"#ed7953\"],[0.7777777777777778,\"#fb9f3a\"],[0.8888888888888888,\"#fdca26\"],[1.0,\"#f0f921\"]],\"type\":\"histogram2dcontour\"}],\"mesh3d\":[{\"colorbar\":{\"outlinewidth\":0,\"ticks\":\"\"},\"type\":\"mesh3d\"}],\"parcoords\":[{\"line\":{\"colorbar\":{\"outlinewidth\":0,\"ticks\":\"\"}},\"type\":\"parcoords\"}],\"pie\":[{\"automargin\":true,\"type\":\"pie\"}],\"scatter\":[{\"marker\":{\"colorbar\":{\"outlinewidth\":0,\"ticks\":\"\"}},\"type\":\"scatter\"}],\"scatter3d\":[{\"line\":{\"colorbar\":{\"outlinewidth\":0,\"ticks\":\"\"}},\"marker\":{\"colorbar\":{\"outlinewidth\":0,\"ticks\":\"\"}},\"type\":\"scatter3d\"}],\"scattercarpet\":[{\"marker\":{\"colorbar\":{\"outlinewidth\":0,\"ticks\":\"\"}},\"type\":\"scattercarpet\"}],\"scattergeo\":[{\"marker\":{\"colorbar\":{\"outlinewidth\":0,\"ticks\":\"\"}},\"type\":\"scattergeo\"}],\"scattergl\":[{\"marker\":{\"colorbar\":{\"outlinewidth\":0,\"ticks\":\"\"}},\"type\":\"scattergl\"}],\"scattermapbox\":[{\"marker\":{\"colorbar\":{\"outlinewidth\":0,\"ticks\":\"\"}},\"type\":\"scattermapbox\"}],\"scatterpolar\":[{\"marker\":{\"colorbar\":{\"outlinewidth\":0,\"ticks\":\"\"}},\"type\":\"scatterpolar\"}],\"scatterpolargl\":[{\"marker\":{\"colorbar\":{\"outlinewidth\":0,\"ticks\":\"\"}},\"type\":\"scatterpolargl\"}],\"scatterternary\":[{\"marker\":{\"colorbar\":{\"outlinewidth\":0,\"ticks\":\"\"}},\"type\":\"scatterternary\"}],\"surface\":[{\"colorbar\":{\"outlinewidth\":0,\"ticks\":\"\"},\"colorscale\":[[0.0,\"#0d0887\"],[0.1111111111111111,\"#46039f\"],[0.2222222222222222,\"#7201a8\"],[0.3333333333333333,\"#9c179e\"],[0.4444444444444444,\"#bd3786\"],[0.5555555555555556,\"#d8576b\"],[0.6666666666666666,\"#ed7953\"],[0.7777777777777778,\"#fb9f3a\"],[0.8888888888888888,\"#fdca26\"],[1.0,\"#f0f921\"]],\"type\":\"surface\"}],\"table\":[{\"cells\":{\"fill\":{\"color\":\"#EBF0F8\"},\"line\":{\"color\":\"white\"}},\"header\":{\"fill\":{\"color\":\"#C8D4E3\"},\"line\":{\"color\":\"white\"}},\"type\":\"table\"}]},\"layout\":{\"annotationdefaults\":{\"arrowcolor\":\"#2a3f5f\",\"arrowhead\":0,\"arrowwidth\":1},\"autotypenumbers\":\"strict\",\"coloraxis\":{\"colorbar\":{\"outlinewidth\":0,\"ticks\":\"\"}},\"colorscale\":{\"diverging\":[[0,\"#8e0152\"],[0.1,\"#c51b7d\"],[0.2,\"#de77ae\"],[0.3,\"#f1b6da\"],[0.4,\"#fde0ef\"],[0.5,\"#f7f7f7\"],[0.6,\"#e6f5d0\"],[0.7,\"#b8e186\"],[0.8,\"#7fbc41\"],[0.9,\"#4d9221\"],[1,\"#276419\"]],\"sequential\":[[0.0,\"#0d0887\"],[0.1111111111111111,\"#46039f\"],[0.2222222222222222,\"#7201a8\"],[0.3333333333333333,\"#9c179e\"],[0.4444444444444444,\"#bd3786\"],[0.5555555555555556,\"#d8576b\"],[0.6666666666666666,\"#ed7953\"],[0.7777777777777778,\"#fb9f3a\"],[0.8888888888888888,\"#fdca26\"],[1.0,\"#f0f921\"]],\"sequentialminus\":[[0.0,\"#0d0887\"],[0.1111111111111111,\"#46039f\"],[0.2222222222222222,\"#7201a8\"],[0.3333333333333333,\"#9c179e\"],[0.4444444444444444,\"#bd3786\"],[0.5555555555555556,\"#d8576b\"],[0.6666666666666666,\"#ed7953\"],[0.7777777777777778,\"#fb9f3a\"],[0.8888888888888888,\"#fdca26\"],[1.0,\"#f0f921\"]]},\"colorway\":[\"#636efa\",\"#EF553B\",\"#00cc96\",\"#ab63fa\",\"#FFA15A\",\"#19d3f3\",\"#FF6692\",\"#B6E880\",\"#FF97FF\",\"#FECB52\"],\"font\":{\"color\":\"#2a3f5f\"},\"geo\":{\"bgcolor\":\"white\",\"lakecolor\":\"white\",\"landcolor\":\"#E5ECF6\",\"showlakes\":true,\"showland\":true,\"subunitcolor\":\"white\"},\"hoverlabel\":{\"align\":\"left\"},\"hovermode\":\"closest\",\"mapbox\":{\"style\":\"light\"},\"paper_bgcolor\":\"white\",\"plot_bgcolor\":\"#E5ECF6\",\"polar\":{\"angularaxis\":{\"gridcolor\":\"white\",\"linecolor\":\"white\",\"ticks\":\"\"},\"bgcolor\":\"#E5ECF6\",\"radialaxis\":{\"gridcolor\":\"white\",\"linecolor\":\"white\",\"ticks\":\"\"}},\"scene\":{\"xaxis\":{\"backgroundcolor\":\"#E5ECF6\",\"gridcolor\":\"white\",\"gridwidth\":2,\"linecolor\":\"white\",\"showbackground\":true,\"ticks\":\"\",\"zerolinecolor\":\"white\"},\"yaxis\":{\"backgroundcolor\":\"#E5ECF6\",\"gridcolor\":\"white\",\"gridwidth\":2,\"linecolor\":\"white\",\"showbackground\":true,\"ticks\":\"\",\"zerolinecolor\":\"white\"},\"zaxis\":{\"backgroundcolor\":\"#E5ECF6\",\"gridcolor\":\"white\",\"gridwidth\":2,\"linecolor\":\"white\",\"showbackground\":true,\"ticks\":\"\",\"zerolinecolor\":\"white\"}},\"shapedefaults\":{\"line\":{\"color\":\"#2a3f5f\"}},\"ternary\":{\"aaxis\":{\"gridcolor\":\"white\",\"linecolor\":\"white\",\"ticks\":\"\"},\"baxis\":{\"gridcolor\":\"white\",\"linecolor\":\"white\",\"ticks\":\"\"},\"bgcolor\":\"#E5ECF6\",\"caxis\":{\"gridcolor\":\"white\",\"linecolor\":\"white\",\"ticks\":\"\"}},\"title\":{\"x\":0.05},\"xaxis\":{\"automargin\":true,\"gridcolor\":\"white\",\"linecolor\":\"white\",\"ticks\":\"\",\"title\":{\"standoff\":15},\"zerolinecolor\":\"white\",\"zerolinewidth\":2},\"yaxis\":{\"automargin\":true,\"gridcolor\":\"white\",\"linecolor\":\"white\",\"ticks\":\"\",\"title\":{\"standoff\":15},\"zerolinecolor\":\"white\",\"zerolinewidth\":2}}},\"title\":{\"text\":\"Race Distribution in Arkansas and Connecticut\",\"y\":0.9,\"x\":0.4,\"xanchor\":\"center\",\"yanchor\":\"top\"},\"legend\":{\"title\":{\"text\":\"Race\"}},\"annotations\":[{\"showarrow\":false,\"text\":\"Arkansas <br> (Avg Income = 62K)\",\"x\":0.15,\"y\":0.5,\"font\":{\"size\":13}},{\"showarrow\":false,\"text\":\"Connecticut <br> (Avg Income = 89K)\",\"x\":0.85,\"y\":0.51,\"font\":{\"size\":13}}]},                        {\"responsive\": true}                    ).then(function(){\n",
       "                            \n",
       "var gd = document.getElementById('039d6250-57df-443e-8740-0a24469ffa07');\n",
       "var x = new MutationObserver(function (mutations, observer) {{\n",
       "        var display = window.getComputedStyle(gd).display;\n",
       "        if (!display || display === 'none') {{\n",
       "            console.log([gd, 'removed!']);\n",
       "            Plotly.purge(gd);\n",
       "            observer.disconnect();\n",
       "        }}\n",
       "}});\n",
       "\n",
       "// Listen for the removal of the full notebook cells\n",
       "var notebookContainer = gd.closest('#notebook-container');\n",
       "if (notebookContainer) {{\n",
       "    x.observe(notebookContainer, {childList: true});\n",
       "}}\n",
       "\n",
       "// Listen for the clearing of the current output cell\n",
       "var outputEl = gd.closest('.output');\n",
       "if (outputEl) {{\n",
       "    x.observe(outputEl, {childList: true});\n",
       "}}\n",
       "\n",
       "                        })                };                });            </script>        </div>"
      ]
     },
     "metadata": {},
     "output_type": "display_data"
    }
   ],
   "source": [
    "labels = ['Hispanic', 'White', 'Black','RaceOther']\n",
    "\n",
    "# To create a subplots and using 'domain' type for Pie subplot\n",
    "fig = make_subplots(rows=1, cols=2, specs=[[{'type':'domain'}, {'type':'domain'}]])\n",
    "fig.add_trace(go.Pie(labels=labels, values=data_tx, name=\"Arkansas\"),\n",
    "              1, 1)\n",
    "fig.add_trace(go.Pie(labels=labels, values=data_ct, name=\"Connecticut\"),\n",
    "              1, 2)\n",
    "\n",
    "# To create a donut-like pie chart\n",
    "fig.update_traces(hole=.4, hoverinfo=\"label+percent+name\")\n",
    "\n",
    "# To update the title and legend\n",
    "fig.update_layout(\n",
    "    title={\n",
    "        'text': \"Race Distribution in Arkansas and Connecticut\",\n",
    "        'y':0.9,\n",
    "        'x':0.4,\n",
    "        'xanchor': 'center',\n",
    "        'yanchor': 'top'},\n",
    "        legend_title=\"Race\",\n",
    "    # To Add annotations in the center of the donut pies.\n",
    "    annotations=[dict(text='Arkansas <br> (Avg Income = 62K)', x=0.15, y=0.5, font_size=13, showarrow=False),\n",
    "                 dict(text='Connecticut <br> (Avg Income = 89K)', x=0.85, y=0.51, font_size=13, showarrow=False)])\n",
    "\n",
    "fig.show()"
   ]
  },
  {
   "cell_type": "markdown",
   "id": "8b24c457",
   "metadata": {},
   "source": [
    "#### Observation: \n",
    "The stack barchart is very straightforward. It displays the educational levels of each state as well as the proportion of its population that is educated. Furthermore, the chart is arranged in descending order, beginning with the state with the highest percentage of educated people and ending with the state with the lowest. The donut chart depicts the percentage distribution of race in Texas and Connecticut, which are nearly identical.\n",
    "\n",
    "\n",
    "#### Inference: \n",
    "The inference from the bar shows a trend of how education levels vary in each state, and thus income fluctuation will also stand in accordance with it. Later, we examine two equally racially distributed states, Connecticut (median household income - 67k) and Texas (median household income - 90k), and examine their education distribution. The bar chart shows that Texas has a good number of high school graduates but falls short in terms of professionally educated citizens, whereas Connecticut has a higher level of professionally educated citizens. This indicates that more efforts should be made to provide professional education to Texas citizens. To begin with, increasing professional education in Texas can be a long-term effective method of increasing income above 67K and providing a stabilizing effect in comparison to Connecticut.\n",
    "\n"
   ]
  },
  {
   "cell_type": "code",
   "execution_count": 122,
   "id": "b5fccf0c",
   "metadata": {},
   "outputs": [
    {
     "ename": "NameError",
     "evalue": "name 'rslt_df' is not defined",
     "output_type": "error",
     "traceback": [
      "\u001b[1;31m---------------------------------------------------------------------------\u001b[0m",
      "\u001b[1;31mNameError\u001b[0m                                 Traceback (most recent call last)",
      "Input \u001b[1;32mIn [122]\u001b[0m, in \u001b[0;36m<cell line: 1>\u001b[1;34m()\u001b[0m\n\u001b[1;32m----> 1\u001b[0m \u001b[43mrslt_df\u001b[49m[[\u001b[38;5;124m'\u001b[39m\u001b[38;5;124mIncome\u001b[39m\u001b[38;5;124m'\u001b[39m, \u001b[38;5;124m'\u001b[39m\u001b[38;5;124mState\u001b[39m\u001b[38;5;124m'\u001b[39m]]\u001b[38;5;241m.\u001b[39msort_values(\u001b[38;5;124m'\u001b[39m\u001b[38;5;124mIncome\u001b[39m\u001b[38;5;124m'\u001b[39m)\u001b[38;5;241m.\u001b[39mhead(\u001b[38;5;241m1\u001b[39m)\n",
      "\u001b[1;31mNameError\u001b[0m: name 'rslt_df' is not defined"
     ]
    }
   ],
   "source": [
    "rslt_df[['Income', 'State']].sort_values('Income').head(1)"
   ]
  },
  {
   "cell_type": "code",
   "execution_count": 123,
   "id": "b3e977f7",
   "metadata": {},
   "outputs": [
    {
     "ename": "NameError",
     "evalue": "name 'rslt_df' is not defined",
     "output_type": "error",
     "traceback": [
      "\u001b[1;31m---------------------------------------------------------------------------\u001b[0m",
      "\u001b[1;31mNameError\u001b[0m                                 Traceback (most recent call last)",
      "Input \u001b[1;32mIn [123]\u001b[0m, in \u001b[0;36m<cell line: 1>\u001b[1;34m()\u001b[0m\n\u001b[1;32m----> 1\u001b[0m \u001b[43mrslt_df\u001b[49m[[\u001b[38;5;124m'\u001b[39m\u001b[38;5;124mIncome\u001b[39m\u001b[38;5;124m'\u001b[39m, \u001b[38;5;124m'\u001b[39m\u001b[38;5;124mState\u001b[39m\u001b[38;5;124m'\u001b[39m]]\u001b[38;5;241m.\u001b[39msort_values(\u001b[38;5;124m'\u001b[39m\u001b[38;5;124mIncome\u001b[39m\u001b[38;5;124m'\u001b[39m, ascending\u001b[38;5;241m=\u001b[39m\u001b[38;5;28;01mFalse\u001b[39;00m)\u001b[38;5;241m.\u001b[39mhead(\u001b[38;5;241m1\u001b[39m)\n",
      "\u001b[1;31mNameError\u001b[0m: name 'rslt_df' is not defined"
     ]
    }
   ],
   "source": [
    "rslt_df[['Income', 'State']].sort_values('Income', ascending=False).head(1)"
   ]
  },
  {
   "cell_type": "code",
   "execution_count": 124,
   "id": "fbceb371",
   "metadata": {},
   "outputs": [
    {
     "ename": "NameError",
     "evalue": "name 'rslt_df2' is not defined",
     "output_type": "error",
     "traceback": [
      "\u001b[1;31m---------------------------------------------------------------------------\u001b[0m",
      "\u001b[1;31mNameError\u001b[0m                                 Traceback (most recent call last)",
      "Input \u001b[1;32mIn [124]\u001b[0m, in \u001b[0;36m<cell line: 1>\u001b[1;34m()\u001b[0m\n\u001b[1;32m----> 1\u001b[0m \u001b[43mrslt_df2\u001b[49m[[\u001b[38;5;124m'\u001b[39m\u001b[38;5;124mIncome\u001b[39m\u001b[38;5;124m'\u001b[39m, \u001b[38;5;124m'\u001b[39m\u001b[38;5;124mState\u001b[39m\u001b[38;5;124m'\u001b[39m]]\u001b[38;5;241m.\u001b[39msort_values(\u001b[38;5;124m'\u001b[39m\u001b[38;5;124mIncome\u001b[39m\u001b[38;5;124m'\u001b[39m)\u001b[38;5;241m.\u001b[39mhead(\u001b[38;5;241m1\u001b[39m)\n",
      "\u001b[1;31mNameError\u001b[0m: name 'rslt_df2' is not defined"
     ]
    }
   ],
   "source": [
    "rslt_df2[['Income', 'State']].sort_values('Income').head(1)"
   ]
  },
  {
   "cell_type": "code",
   "execution_count": 125,
   "id": "1c481e69",
   "metadata": {},
   "outputs": [
    {
     "ename": "NameError",
     "evalue": "name 'rslt_df2' is not defined",
     "output_type": "error",
     "traceback": [
      "\u001b[1;31m---------------------------------------------------------------------------\u001b[0m",
      "\u001b[1;31mNameError\u001b[0m                                 Traceback (most recent call last)",
      "Input \u001b[1;32mIn [125]\u001b[0m, in \u001b[0;36m<cell line: 1>\u001b[1;34m()\u001b[0m\n\u001b[1;32m----> 1\u001b[0m \u001b[43mrslt_df2\u001b[49m[[\u001b[38;5;124m'\u001b[39m\u001b[38;5;124mIncome\u001b[39m\u001b[38;5;124m'\u001b[39m, \u001b[38;5;124m'\u001b[39m\u001b[38;5;124mState\u001b[39m\u001b[38;5;124m'\u001b[39m]]\u001b[38;5;241m.\u001b[39msort_values(\u001b[38;5;124m'\u001b[39m\u001b[38;5;124mIncome\u001b[39m\u001b[38;5;124m'\u001b[39m, ascending\u001b[38;5;241m=\u001b[39m\u001b[38;5;28;01mFalse\u001b[39;00m)\u001b[38;5;241m.\u001b[39mhead(\u001b[38;5;241m1\u001b[39m)\n",
      "\u001b[1;31mNameError\u001b[0m: name 'rslt_df2' is not defined"
     ]
    }
   ],
   "source": [
    "rslt_df2[['Income', 'State']].sort_values('Income', ascending=False).head(1)"
   ]
  },
  {
   "cell_type": "code",
   "execution_count": null,
   "id": "122fcfae-8089-4447-b675-9264140d6a35",
   "metadata": {},
   "outputs": [],
   "source": []
  },
  {
   "cell_type": "code",
   "execution_count": null,
   "id": "5358691f-0291-47f8-aca0-d4fdc7b16728",
   "metadata": {},
   "outputs": [],
   "source": []
  },
  {
   "cell_type": "code",
   "execution_count": null,
   "id": "c72960d3-65cf-4960-ae23-085c136c0fab",
   "metadata": {},
   "outputs": [],
   "source": []
  },
  {
   "cell_type": "code",
   "execution_count": null,
   "id": "5d68c969-090f-4569-9881-6e046d422b1d",
   "metadata": {},
   "outputs": [],
   "source": []
  },
  {
   "cell_type": "code",
   "execution_count": null,
   "id": "c4fedd3d-cb74-4a57-a90c-eaf548602c77",
   "metadata": {},
   "outputs": [],
   "source": []
  },
  {
   "cell_type": "code",
   "execution_count": null,
   "id": "b1d98f78-2731-4780-80a2-e3da57774208",
   "metadata": {},
   "outputs": [],
   "source": []
  },
  {
   "cell_type": "code",
   "execution_count": null,
   "id": "95adaa0a-8bb3-4cfc-89f6-3dead9eb9878",
   "metadata": {},
   "outputs": [],
   "source": []
  },
  {
   "cell_type": "code",
   "execution_count": null,
   "id": "ec8e6af8-537f-403b-ad54-5aab907a72ed",
   "metadata": {},
   "outputs": [],
   "source": []
  },
  {
   "cell_type": "code",
   "execution_count": null,
   "id": "c1d542b0-982d-4328-bc1c-e3d1c5516bf6",
   "metadata": {},
   "outputs": [],
   "source": []
  },
  {
   "cell_type": "code",
   "execution_count": null,
   "id": "60fa916f-dbfb-48f1-bbf9-afca99b84896",
   "metadata": {},
   "outputs": [],
   "source": []
  },
  {
   "cell_type": "code",
   "execution_count": null,
   "id": "fdb59da2-7c55-4e3d-9f0c-b39ba0b730b2",
   "metadata": {},
   "outputs": [],
   "source": []
  },
  {
   "cell_type": "markdown",
   "id": "a532d988-c99b-4ebf-980d-6a76eb757d46",
   "metadata": {},
   "source": [
    "<h4> Q5 </h4>\n",
    "By creating a machine learning model that will make use of the above variables (which were found to have high correlation with income), we will learn how do changes in the said variables affect the median household income of a state in the US. \n",
    "\n",
    "Further, the combination of the Community Needs Index and our model would be a solution for companies to get information on what geographical areas to work in and what factors to work on?"
   ]
  },
  {
   "cell_type": "code",
   "execution_count": null,
   "id": "dcb79cb6-ebdd-4f2a-91f1-ae0129386a0c",
   "metadata": {},
   "outputs": [],
   "source": []
  },
  {
   "cell_type": "code",
   "execution_count": 129,
   "id": "d0c91cb1-e925-41e8-a77d-65ff36c0429e",
   "metadata": {},
   "outputs": [],
   "source": [
    "df_delaware=df_final[df_final['State']=='KS']"
   ]
  },
  {
   "cell_type": "code",
   "execution_count": 185,
   "id": "b94a927a-6561-40db-916b-86675f3e211c",
   "metadata": {},
   "outputs": [],
   "source": [
    "df_kansas=df_final[df_final['State']=='Alabama']\n",
    "\n"
   ]
  },
  {
   "cell_type": "code",
   "execution_count": 186,
   "id": "34f5680f-5316-40f3-a179-8b76b5eee0e9",
   "metadata": {},
   "outputs": [
    {
     "data": {
      "text/html": [
       "<div>\n",
       "<style scoped>\n",
       "    .dataframe tbody tr th:only-of-type {\n",
       "        vertical-align: middle;\n",
       "    }\n",
       "\n",
       "    .dataframe tbody tr th {\n",
       "        vertical-align: top;\n",
       "    }\n",
       "\n",
       "    .dataframe thead th {\n",
       "        text-align: right;\n",
       "    }\n",
       "</style>\n",
       "<table border=\"1\" class=\"dataframe\">\n",
       "  <thead>\n",
       "    <tr style=\"text-align: right;\">\n",
       "      <th></th>\n",
       "      <th>Income</th>\n",
       "      <th>IncomeErr</th>\n",
       "      <th>IncomePerCap</th>\n",
       "      <th>IncomePerCapErr</th>\n",
       "      <th>Professional</th>\n",
       "      <th>Service</th>\n",
       "      <th>Office</th>\n",
       "      <th>Construction</th>\n",
       "      <th>Production</th>\n",
       "      <th>Drive</th>\n",
       "      <th>...</th>\n",
       "      <th>Black</th>\n",
       "      <th>Citizen</th>\n",
       "      <th>Housing with Mortgage</th>\n",
       "      <th>Median Monthly housing costs</th>\n",
       "      <th>High School Graduate</th>\n",
       "      <th>Some College or Associates degree</th>\n",
       "      <th>Bachelors degree or higher</th>\n",
       "      <th>City</th>\n",
       "      <th>State</th>\n",
       "      <th>RaceOther</th>\n",
       "    </tr>\n",
       "    <tr>\n",
       "      <th>ZipCode</th>\n",
       "      <th></th>\n",
       "      <th></th>\n",
       "      <th></th>\n",
       "      <th></th>\n",
       "      <th></th>\n",
       "      <th></th>\n",
       "      <th></th>\n",
       "      <th></th>\n",
       "      <th></th>\n",
       "      <th></th>\n",
       "      <th></th>\n",
       "      <th></th>\n",
       "      <th></th>\n",
       "      <th></th>\n",
       "      <th></th>\n",
       "      <th></th>\n",
       "      <th></th>\n",
       "      <th></th>\n",
       "      <th></th>\n",
       "      <th></th>\n",
       "      <th></th>\n",
       "    </tr>\n",
       "  </thead>\n",
       "  <tbody>\n",
       "    <tr>\n",
       "      <th>35004</th>\n",
       "      <td>64987</td>\n",
       "      <td>10461</td>\n",
       "      <td>30604</td>\n",
       "      <td>3206</td>\n",
       "      <td>2112</td>\n",
       "      <td>857</td>\n",
       "      <td>1357</td>\n",
       "      <td>503</td>\n",
       "      <td>843</td>\n",
       "      <td>5228</td>\n",
       "      <td>...</td>\n",
       "      <td>1303</td>\n",
       "      <td>9254</td>\n",
       "      <td>2509</td>\n",
       "      <td>1122</td>\n",
       "      <td>27.670797</td>\n",
       "      <td>7.560281</td>\n",
       "      <td>14.057267</td>\n",
       "      <td>Moody</td>\n",
       "      <td>Alabama</td>\n",
       "      <td>421</td>\n",
       "    </tr>\n",
       "    <tr>\n",
       "      <th>35005</th>\n",
       "      <td>49702</td>\n",
       "      <td>7115</td>\n",
       "      <td>23100</td>\n",
       "      <td>1949</td>\n",
       "      <td>1118</td>\n",
       "      <td>455</td>\n",
       "      <td>1352</td>\n",
       "      <td>174</td>\n",
       "      <td>707</td>\n",
       "      <td>3242</td>\n",
       "      <td>...</td>\n",
       "      <td>4167</td>\n",
       "      <td>6872</td>\n",
       "      <td>1490</td>\n",
       "      <td>1105</td>\n",
       "      <td>33.783324</td>\n",
       "      <td>4.049915</td>\n",
       "      <td>8.893931</td>\n",
       "      <td>Adamsville</td>\n",
       "      <td>Alabama</td>\n",
       "      <td>306</td>\n",
       "    </tr>\n",
       "    <tr>\n",
       "      <th>35006</th>\n",
       "      <td>52788</td>\n",
       "      <td>10555</td>\n",
       "      <td>26175</td>\n",
       "      <td>5033</td>\n",
       "      <td>132</td>\n",
       "      <td>216</td>\n",
       "      <td>609</td>\n",
       "      <td>66</td>\n",
       "      <td>135</td>\n",
       "      <td>1204</td>\n",
       "      <td>...</td>\n",
       "      <td>103</td>\n",
       "      <td>2600</td>\n",
       "      <td>446</td>\n",
       "      <td>823</td>\n",
       "      <td>37.381703</td>\n",
       "      <td>3.091483</td>\n",
       "      <td>4.416404</td>\n",
       "      <td>Adger</td>\n",
       "      <td>Alabama</td>\n",
       "      <td>6</td>\n",
       "    </tr>\n",
       "    <tr>\n",
       "      <th>35007</th>\n",
       "      <td>75372</td>\n",
       "      <td>7390</td>\n",
       "      <td>32656</td>\n",
       "      <td>2565</td>\n",
       "      <td>5601</td>\n",
       "      <td>2055</td>\n",
       "      <td>3360</td>\n",
       "      <td>811</td>\n",
       "      <td>1196</td>\n",
       "      <td>10720</td>\n",
       "      <td>...</td>\n",
       "      <td>4680</td>\n",
       "      <td>18950</td>\n",
       "      <td>5632</td>\n",
       "      <td>1234</td>\n",
       "      <td>15.695964</td>\n",
       "      <td>6.325915</td>\n",
       "      <td>23.353452</td>\n",
       "      <td>Alabaster</td>\n",
       "      <td>Alabama</td>\n",
       "      <td>1053</td>\n",
       "    </tr>\n",
       "    <tr>\n",
       "      <th>35010</th>\n",
       "      <td>44690</td>\n",
       "      <td>5349</td>\n",
       "      <td>24821</td>\n",
       "      <td>1452</td>\n",
       "      <td>2127</td>\n",
       "      <td>1600</td>\n",
       "      <td>1851</td>\n",
       "      <td>590</td>\n",
       "      <td>2070</td>\n",
       "      <td>7031</td>\n",
       "      <td>...</td>\n",
       "      <td>6452</td>\n",
       "      <td>15492</td>\n",
       "      <td>2558</td>\n",
       "      <td>994</td>\n",
       "      <td>24.742676</td>\n",
       "      <td>5.289984</td>\n",
       "      <td>11.411322</td>\n",
       "      <td>Alexander City</td>\n",
       "      <td>Alabama</td>\n",
       "      <td>255</td>\n",
       "    </tr>\n",
       "    <tr>\n",
       "      <th>...</th>\n",
       "      <td>...</td>\n",
       "      <td>...</td>\n",
       "      <td>...</td>\n",
       "      <td>...</td>\n",
       "      <td>...</td>\n",
       "      <td>...</td>\n",
       "      <td>...</td>\n",
       "      <td>...</td>\n",
       "      <td>...</td>\n",
       "      <td>...</td>\n",
       "      <td>...</td>\n",
       "      <td>...</td>\n",
       "      <td>...</td>\n",
       "      <td>...</td>\n",
       "      <td>...</td>\n",
       "      <td>...</td>\n",
       "      <td>...</td>\n",
       "      <td>...</td>\n",
       "      <td>...</td>\n",
       "      <td>...</td>\n",
       "      <td>...</td>\n",
       "    </tr>\n",
       "    <tr>\n",
       "      <th>36915</th>\n",
       "      <td>32813</td>\n",
       "      <td>31837</td>\n",
       "      <td>20084</td>\n",
       "      <td>5390</td>\n",
       "      <td>96</td>\n",
       "      <td>0</td>\n",
       "      <td>19</td>\n",
       "      <td>6</td>\n",
       "      <td>33</td>\n",
       "      <td>158</td>\n",
       "      <td>...</td>\n",
       "      <td>148</td>\n",
       "      <td>533</td>\n",
       "      <td>30</td>\n",
       "      <td>944</td>\n",
       "      <td>26.046512</td>\n",
       "      <td>3.565891</td>\n",
       "      <td>11.007752</td>\n",
       "      <td>Needham</td>\n",
       "      <td>Alabama</td>\n",
       "      <td>1</td>\n",
       "    </tr>\n",
       "    <tr>\n",
       "      <th>36916</th>\n",
       "      <td>33333</td>\n",
       "      <td>13738</td>\n",
       "      <td>22437</td>\n",
       "      <td>4114</td>\n",
       "      <td>79</td>\n",
       "      <td>19</td>\n",
       "      <td>78</td>\n",
       "      <td>43</td>\n",
       "      <td>40</td>\n",
       "      <td>260</td>\n",
       "      <td>...</td>\n",
       "      <td>543</td>\n",
       "      <td>770</td>\n",
       "      <td>50</td>\n",
       "      <td>1125</td>\n",
       "      <td>22.427184</td>\n",
       "      <td>15.048544</td>\n",
       "      <td>4.854369</td>\n",
       "      <td>Pennington</td>\n",
       "      <td>Alabama</td>\n",
       "      <td>0</td>\n",
       "    </tr>\n",
       "    <tr>\n",
       "      <th>36919</th>\n",
       "      <td>30648</td>\n",
       "      <td>12720</td>\n",
       "      <td>21662</td>\n",
       "      <td>4231</td>\n",
       "      <td>187</td>\n",
       "      <td>130</td>\n",
       "      <td>81</td>\n",
       "      <td>29</td>\n",
       "      <td>114</td>\n",
       "      <td>455</td>\n",
       "      <td>...</td>\n",
       "      <td>836</td>\n",
       "      <td>1337</td>\n",
       "      <td>147</td>\n",
       "      <td>887</td>\n",
       "      <td>29.232572</td>\n",
       "      <td>7.498535</td>\n",
       "      <td>5.155243</td>\n",
       "      <td>Silas</td>\n",
       "      <td>Alabama</td>\n",
       "      <td>2</td>\n",
       "    </tr>\n",
       "    <tr>\n",
       "      <th>36921</th>\n",
       "      <td>28100</td>\n",
       "      <td>30294</td>\n",
       "      <td>28468</td>\n",
       "      <td>7618</td>\n",
       "      <td>91</td>\n",
       "      <td>45</td>\n",
       "      <td>57</td>\n",
       "      <td>36</td>\n",
       "      <td>48</td>\n",
       "      <td>254</td>\n",
       "      <td>...</td>\n",
       "      <td>46</td>\n",
       "      <td>783</td>\n",
       "      <td>131</td>\n",
       "      <td>1034</td>\n",
       "      <td>30.712531</td>\n",
       "      <td>11.670762</td>\n",
       "      <td>7.002457</td>\n",
       "      <td>Toxey</td>\n",
       "      <td>Alabama</td>\n",
       "      <td>0</td>\n",
       "    </tr>\n",
       "    <tr>\n",
       "      <th>36925</th>\n",
       "      <td>36275</td>\n",
       "      <td>7431</td>\n",
       "      <td>17398</td>\n",
       "      <td>2269</td>\n",
       "      <td>250</td>\n",
       "      <td>321</td>\n",
       "      <td>277</td>\n",
       "      <td>20</td>\n",
       "      <td>182</td>\n",
       "      <td>987</td>\n",
       "      <td>...</td>\n",
       "      <td>2545</td>\n",
       "      <td>2233</td>\n",
       "      <td>321</td>\n",
       "      <td>773</td>\n",
       "      <td>23.134583</td>\n",
       "      <td>5.144804</td>\n",
       "      <td>9.982964</td>\n",
       "      <td>York</td>\n",
       "      <td>Alabama</td>\n",
       "      <td>0</td>\n",
       "    </tr>\n",
       "  </tbody>\n",
       "</table>\n",
       "<p>561 rows × 36 columns</p>\n",
       "</div>"
      ],
      "text/plain": [
       "         Income IncomeErr IncomePerCap IncomePerCapErr  Professional  Service  \\\n",
       "ZipCode                                                                         \n",
       "35004     64987     10461        30604            3206          2112      857   \n",
       "35005     49702      7115        23100            1949          1118      455   \n",
       "35006     52788     10555        26175            5033           132      216   \n",
       "35007     75372      7390        32656            2565          5601     2055   \n",
       "35010     44690      5349        24821            1452          2127     1600   \n",
       "...         ...       ...          ...             ...           ...      ...   \n",
       "36915     32813     31837        20084            5390            96        0   \n",
       "36916     33333     13738        22437            4114            79       19   \n",
       "36919     30648     12720        21662            4231           187      130   \n",
       "36921     28100     30294        28468            7618            91       45   \n",
       "36925     36275      7431        17398            2269           250      321   \n",
       "\n",
       "         Office  Construction  Production  Drive  ...  Black  Citizen  \\\n",
       "ZipCode                                           ...                   \n",
       "35004      1357           503         843   5228  ...   1303     9254   \n",
       "35005      1352           174         707   3242  ...   4167     6872   \n",
       "35006       609            66         135   1204  ...    103     2600   \n",
       "35007      3360           811        1196  10720  ...   4680    18950   \n",
       "35010      1851           590        2070   7031  ...   6452    15492   \n",
       "...         ...           ...         ...    ...  ...    ...      ...   \n",
       "36915        19             6          33    158  ...    148      533   \n",
       "36916        78            43          40    260  ...    543      770   \n",
       "36919        81            29         114    455  ...    836     1337   \n",
       "36921        57            36          48    254  ...     46      783   \n",
       "36925       277            20         182    987  ...   2545     2233   \n",
       "\n",
       "         Housing with Mortgage  Median Monthly housing costs  \\\n",
       "ZipCode                                                        \n",
       "35004                     2509                          1122   \n",
       "35005                     1490                          1105   \n",
       "35006                      446                           823   \n",
       "35007                     5632                          1234   \n",
       "35010                     2558                           994   \n",
       "...                        ...                           ...   \n",
       "36915                       30                           944   \n",
       "36916                       50                          1125   \n",
       "36919                      147                           887   \n",
       "36921                      131                          1034   \n",
       "36925                      321                           773   \n",
       "\n",
       "         High School Graduate  Some College or Associates degree  \\\n",
       "ZipCode                                                            \n",
       "35004               27.670797                           7.560281   \n",
       "35005               33.783324                           4.049915   \n",
       "35006               37.381703                           3.091483   \n",
       "35007               15.695964                           6.325915   \n",
       "35010               24.742676                           5.289984   \n",
       "...                       ...                                ...   \n",
       "36915               26.046512                           3.565891   \n",
       "36916               22.427184                          15.048544   \n",
       "36919               29.232572                           7.498535   \n",
       "36921               30.712531                          11.670762   \n",
       "36925               23.134583                           5.144804   \n",
       "\n",
       "         Bachelors degree or higher            City    State  RaceOther  \n",
       "ZipCode                                                                  \n",
       "35004                     14.057267           Moody  Alabama        421  \n",
       "35005                      8.893931      Adamsville  Alabama        306  \n",
       "35006                      4.416404           Adger  Alabama          6  \n",
       "35007                     23.353452       Alabaster  Alabama       1053  \n",
       "35010                     11.411322  Alexander City  Alabama        255  \n",
       "...                             ...             ...      ...        ...  \n",
       "36915                     11.007752         Needham  Alabama          1  \n",
       "36916                      4.854369      Pennington  Alabama          0  \n",
       "36919                      5.155243           Silas  Alabama          2  \n",
       "36921                      7.002457           Toxey  Alabama          0  \n",
       "36925                      9.982964            York  Alabama          0  \n",
       "\n",
       "[561 rows x 36 columns]"
      ]
     },
     "execution_count": 186,
     "metadata": {},
     "output_type": "execute_result"
    }
   ],
   "source": [
    "df_kansas"
   ]
  },
  {
   "cell_type": "code",
   "execution_count": null,
   "id": "80b12254-6354-49a4-b1d0-ae4a3e063a42",
   "metadata": {},
   "outputs": [],
   "source": []
  },
  {
   "cell_type": "code",
   "execution_count": 178,
   "id": "45100096-65f7-4563-b8ca-2fe6cf8962fa",
   "metadata": {},
   "outputs": [
    {
     "name": "stdout",
     "output_type": "stream",
     "text": [
      "LinearRegression()\n",
      "\tMean absolute error: 9686.700880439974\n",
      "\tR2 score: 0.6877537666319127\n",
      "0.17652857608102576\n"
     ]
    },
    {
     "name": "stderr",
     "output_type": "stream",
     "text": [
      "C:\\Users\\satvik\\Anaconda3\\lib\\site-packages\\seaborn\\distributions.py:2619: FutureWarning:\n",
      "\n",
      "`distplot` is a deprecated function and will be removed in a future version. Please adapt your code to use either `displot` (a figure-level function with similar flexibility) or `kdeplot` (an axes-level function for kernel density plots).\n",
      "\n",
      "C:\\Users\\satvik\\Anaconda3\\lib\\site-packages\\seaborn\\distributions.py:2619: FutureWarning:\n",
      "\n",
      "`distplot` is a deprecated function and will be removed in a future version. Please adapt your code to use either `displot` (a figure-level function with similar flexibility) or `kdeplot` (an axes-level function for kernel density plots).\n",
      "\n"
     ]
    },
    {
     "data": {
      "image/png": "[encoded data removed]",
      "text/plain": [
       "<Figure size 432x288 with 1 Axes>"
      ]
     },
     "metadata": {
      "needs_background": "light"
     },
     "output_type": "display_data"
    }
   ],
   "source": [
    "from sklearn.model_selection import train_test_split\n",
    "from sklearn.linear_model import LinearRegression\n",
    "from sklearn.metrics import explained_variance_score,mean_absolute_error,r2_score,mean_absolute_percentage_error\n",
    "\n",
    "x_features = df_final.drop(['Income', 'IncomeErr', 'IncomePerCap', 'IncomePerCapErr',\"City\",\"State\",\"RaceOther\"], axis=1)\n",
    "y_output = df_final['Income']\n",
    "\n",
    "x_train, x_test, y_train, y_test = train_test_split(x_features, y_output, shuffle=True)\n",
    "\n",
    "\n",
    "\n",
    "model=LinearRegression()\n",
    "model.fit(x_train, y_train)\n",
    "y_pred = model.predict(x_test)\n",
    "print(model)\n",
    "print(\"\\tMean absolute error:\", mean_absolute_error(y_test, y_pred))\n",
    "print(\"\\tR2 score:\", r2_score(y_test, y_pred))\n",
    "print(mean_absolute_percentage_error(y_test, model.predict(x_test))) \n",
    "\n",
    "\n",
    "x_feat=df_final[['Professional', 'WorkAtHome','Transit', 'Employed', 'PrivateWork', \n",
    "                 'Housing with Mortgage', 'Median Monthly housing costs','Bachelors degree or higher' ,'Some College or Associates degree']]\n",
    "\n",
    "x_train2, x_test2, y_train2, y_test2 = train_test_split(x_feat, y_output, shuffle=True)\n",
    "\n",
    "#model2=LinearRegression()\n",
    "#model.fit(x_train2, y_train2)\n",
    "#y_pred2 = model.predict(x_test2)\n",
    "#print(model2)\n",
    "#print(\"\\tMean absolute error:\", mean_absolute_error(y_test2, y_pred2))\n",
    "#print(\"\\tR2 score:\", r2_score(y_test2, y_pred2))\n",
    "#print(mean_absolute_percentage_error(y_test2, model.predict(x_test2))) \n",
    "\n",
    "\n",
    "plt.figure()\n",
    "ax1 = sns.distplot(y_test, hist=False, color=\"r\", label=\"Actual Value\")\n",
    "sns.distplot(y_pred2, hist=False, color=\"b\", label=\"Fitted Values\" , ax=ax1)\n",
    "\n",
    "plt.title('Actual vs Fitted Values')\n",
    "plt.xlabel('Income')\n",
    "\n",
    "plt.show()\n",
    "plt.close()"
   ]
  },
  {
   "cell_type": "code",
   "execution_count": 187,
   "id": "66e3ded6-ae23-4883-946e-8a2a970c66d9",
   "metadata": {},
   "outputs": [
    {
     "data": {
      "text/html": [
       "<div>\n",
       "<style scoped>\n",
       "    .dataframe tbody tr th:only-of-type {\n",
       "        vertical-align: middle;\n",
       "    }\n",
       "\n",
       "    .dataframe tbody tr th {\n",
       "        vertical-align: top;\n",
       "    }\n",
       "\n",
       "    .dataframe thead th {\n",
       "        text-align: right;\n",
       "    }\n",
       "</style>\n",
       "<table border=\"1\" class=\"dataframe\">\n",
       "  <thead>\n",
       "    <tr style=\"text-align: right;\">\n",
       "      <th></th>\n",
       "      <th>Professional</th>\n",
       "      <th>Service</th>\n",
       "      <th>Office</th>\n",
       "      <th>Construction</th>\n",
       "      <th>Production</th>\n",
       "      <th>Drive</th>\n",
       "      <th>Carpool</th>\n",
       "      <th>Transit</th>\n",
       "      <th>Walk</th>\n",
       "      <th>OtherTransp</th>\n",
       "      <th>...</th>\n",
       "      <th>Women</th>\n",
       "      <th>Hispanic</th>\n",
       "      <th>White</th>\n",
       "      <th>Black</th>\n",
       "      <th>Citizen</th>\n",
       "      <th>Housing with Mortgage</th>\n",
       "      <th>Median Monthly housing costs</th>\n",
       "      <th>High School Graduate</th>\n",
       "      <th>Some College or Associates degree</th>\n",
       "      <th>Bachelors degree or higher</th>\n",
       "    </tr>\n",
       "    <tr>\n",
       "      <th>ZipCode</th>\n",
       "      <th></th>\n",
       "      <th></th>\n",
       "      <th></th>\n",
       "      <th></th>\n",
       "      <th></th>\n",
       "      <th></th>\n",
       "      <th></th>\n",
       "      <th></th>\n",
       "      <th></th>\n",
       "      <th></th>\n",
       "      <th></th>\n",
       "      <th></th>\n",
       "      <th></th>\n",
       "      <th></th>\n",
       "      <th></th>\n",
       "      <th></th>\n",
       "      <th></th>\n",
       "      <th></th>\n",
       "      <th></th>\n",
       "      <th></th>\n",
       "      <th></th>\n",
       "    </tr>\n",
       "  </thead>\n",
       "  <tbody>\n",
       "    <tr>\n",
       "      <th>18077</th>\n",
       "      <td>538</td>\n",
       "      <td>61</td>\n",
       "      <td>223</td>\n",
       "      <td>81</td>\n",
       "      <td>143</td>\n",
       "      <td>810</td>\n",
       "      <td>23</td>\n",
       "      <td>8</td>\n",
       "      <td>60</td>\n",
       "      <td>0</td>\n",
       "      <td>...</td>\n",
       "      <td>1077</td>\n",
       "      <td>7</td>\n",
       "      <td>2245</td>\n",
       "      <td>28</td>\n",
       "      <td>1873</td>\n",
       "      <td>414</td>\n",
       "      <td>1880</td>\n",
       "      <td>17.288284</td>\n",
       "      <td>2.896007</td>\n",
       "      <td>41.860465</td>\n",
       "    </tr>\n",
       "    <tr>\n",
       "      <th>72758</th>\n",
       "      <td>8024</td>\n",
       "      <td>3113</td>\n",
       "      <td>5232</td>\n",
       "      <td>1232</td>\n",
       "      <td>3865</td>\n",
       "      <td>18087</td>\n",
       "      <td>1848</td>\n",
       "      <td>0</td>\n",
       "      <td>154</td>\n",
       "      <td>81</td>\n",
       "      <td>...</td>\n",
       "      <td>21634</td>\n",
       "      <td>7848</td>\n",
       "      <td>34769</td>\n",
       "      <td>1548</td>\n",
       "      <td>26403</td>\n",
       "      <td>6338</td>\n",
       "      <td>1587</td>\n",
       "      <td>14.957457</td>\n",
       "      <td>3.441329</td>\n",
       "      <td>24.477994</td>\n",
       "    </tr>\n",
       "    <tr>\n",
       "      <th>19503</th>\n",
       "      <td>199</td>\n",
       "      <td>131</td>\n",
       "      <td>162</td>\n",
       "      <td>82</td>\n",
       "      <td>223</td>\n",
       "      <td>679</td>\n",
       "      <td>50</td>\n",
       "      <td>0</td>\n",
       "      <td>30</td>\n",
       "      <td>4</td>\n",
       "      <td>...</td>\n",
       "      <td>719</td>\n",
       "      <td>0</td>\n",
       "      <td>1296</td>\n",
       "      <td>9</td>\n",
       "      <td>1069</td>\n",
       "      <td>270</td>\n",
       "      <td>1568</td>\n",
       "      <td>31.985816</td>\n",
       "      <td>6.312057</td>\n",
       "      <td>10.425532</td>\n",
       "    </tr>\n",
       "    <tr>\n",
       "      <th>62536</th>\n",
       "      <td>158</td>\n",
       "      <td>65</td>\n",
       "      <td>21</td>\n",
       "      <td>0</td>\n",
       "      <td>5</td>\n",
       "      <td>200</td>\n",
       "      <td>38</td>\n",
       "      <td>0</td>\n",
       "      <td>0</td>\n",
       "      <td>0</td>\n",
       "      <td>...</td>\n",
       "      <td>178</td>\n",
       "      <td>12</td>\n",
       "      <td>453</td>\n",
       "      <td>0</td>\n",
       "      <td>411</td>\n",
       "      <td>92</td>\n",
       "      <td>1725</td>\n",
       "      <td>24.166667</td>\n",
       "      <td>11.041667</td>\n",
       "      <td>28.125000</td>\n",
       "    </tr>\n",
       "    <tr>\n",
       "      <th>80106</th>\n",
       "      <td>1441</td>\n",
       "      <td>420</td>\n",
       "      <td>726</td>\n",
       "      <td>330</td>\n",
       "      <td>143</td>\n",
       "      <td>2081</td>\n",
       "      <td>383</td>\n",
       "      <td>0</td>\n",
       "      <td>34</td>\n",
       "      <td>16</td>\n",
       "      <td>...</td>\n",
       "      <td>3145</td>\n",
       "      <td>343</td>\n",
       "      <td>5485</td>\n",
       "      <td>219</td>\n",
       "      <td>4774</td>\n",
       "      <td>1711</td>\n",
       "      <td>2219</td>\n",
       "      <td>12.500000</td>\n",
       "      <td>10.686275</td>\n",
       "      <td>29.787582</td>\n",
       "    </tr>\n",
       "    <tr>\n",
       "      <th>...</th>\n",
       "      <td>...</td>\n",
       "      <td>...</td>\n",
       "      <td>...</td>\n",
       "      <td>...</td>\n",
       "      <td>...</td>\n",
       "      <td>...</td>\n",
       "      <td>...</td>\n",
       "      <td>...</td>\n",
       "      <td>...</td>\n",
       "      <td>...</td>\n",
       "      <td>...</td>\n",
       "      <td>...</td>\n",
       "      <td>...</td>\n",
       "      <td>...</td>\n",
       "      <td>...</td>\n",
       "      <td>...</td>\n",
       "      <td>...</td>\n",
       "      <td>...</td>\n",
       "      <td>...</td>\n",
       "      <td>...</td>\n",
       "      <td>...</td>\n",
       "    </tr>\n",
       "    <tr>\n",
       "      <th>07016</th>\n",
       "      <td>7767</td>\n",
       "      <td>1178</td>\n",
       "      <td>2465</td>\n",
       "      <td>539</td>\n",
       "      <td>552</td>\n",
       "      <td>8456</td>\n",
       "      <td>571</td>\n",
       "      <td>1944</td>\n",
       "      <td>202</td>\n",
       "      <td>44</td>\n",
       "      <td>...</td>\n",
       "      <td>12211</td>\n",
       "      <td>68</td>\n",
       "      <td>21226</td>\n",
       "      <td>538</td>\n",
       "      <td>17739</td>\n",
       "      <td>4925</td>\n",
       "      <td>3152</td>\n",
       "      <td>13.334165</td>\n",
       "      <td>3.448993</td>\n",
       "      <td>41.841405</td>\n",
       "    </tr>\n",
       "    <tr>\n",
       "      <th>22539</th>\n",
       "      <td>185</td>\n",
       "      <td>174</td>\n",
       "      <td>241</td>\n",
       "      <td>95</td>\n",
       "      <td>82</td>\n",
       "      <td>521</td>\n",
       "      <td>106</td>\n",
       "      <td>0</td>\n",
       "      <td>0</td>\n",
       "      <td>6</td>\n",
       "      <td>...</td>\n",
       "      <td>1261</td>\n",
       "      <td>0</td>\n",
       "      <td>2226</td>\n",
       "      <td>140</td>\n",
       "      <td>2248</td>\n",
       "      <td>533</td>\n",
       "      <td>1548</td>\n",
       "      <td>19.637711</td>\n",
       "      <td>10.951009</td>\n",
       "      <td>34.952655</td>\n",
       "    </tr>\n",
       "    <tr>\n",
       "      <th>85377</th>\n",
       "      <td>716</td>\n",
       "      <td>112</td>\n",
       "      <td>188</td>\n",
       "      <td>226</td>\n",
       "      <td>19</td>\n",
       "      <td>699</td>\n",
       "      <td>46</td>\n",
       "      <td>0</td>\n",
       "      <td>0</td>\n",
       "      <td>29</td>\n",
       "      <td>...</td>\n",
       "      <td>1736</td>\n",
       "      <td>2</td>\n",
       "      <td>3574</td>\n",
       "      <td>3</td>\n",
       "      <td>3454</td>\n",
       "      <td>665</td>\n",
       "      <td>2187</td>\n",
       "      <td>13.792143</td>\n",
       "      <td>5.266091</td>\n",
       "      <td>54.583449</td>\n",
       "    </tr>\n",
       "    <tr>\n",
       "      <th>34287</th>\n",
       "      <td>2966</td>\n",
       "      <td>2523</td>\n",
       "      <td>2079</td>\n",
       "      <td>1152</td>\n",
       "      <td>855</td>\n",
       "      <td>7683</td>\n",
       "      <td>966</td>\n",
       "      <td>31</td>\n",
       "      <td>6</td>\n",
       "      <td>53</td>\n",
       "      <td>...</td>\n",
       "      <td>14632</td>\n",
       "      <td>309</td>\n",
       "      <td>24640</td>\n",
       "      <td>1529</td>\n",
       "      <td>22839</td>\n",
       "      <td>4150</td>\n",
       "      <td>1191</td>\n",
       "      <td>28.638668</td>\n",
       "      <td>8.577118</td>\n",
       "      <td>16.125996</td>\n",
       "    </tr>\n",
       "    <tr>\n",
       "      <th>04745</th>\n",
       "      <td>42</td>\n",
       "      <td>83</td>\n",
       "      <td>78</td>\n",
       "      <td>31</td>\n",
       "      <td>95</td>\n",
       "      <td>309</td>\n",
       "      <td>38</td>\n",
       "      <td>0</td>\n",
       "      <td>6</td>\n",
       "      <td>0</td>\n",
       "      <td>...</td>\n",
       "      <td>419</td>\n",
       "      <td>0</td>\n",
       "      <td>881</td>\n",
       "      <td>0</td>\n",
       "      <td>699</td>\n",
       "      <td>187</td>\n",
       "      <td>1010</td>\n",
       "      <td>46.666667</td>\n",
       "      <td>5.084746</td>\n",
       "      <td>10.395480</td>\n",
       "    </tr>\n",
       "  </tbody>\n",
       "</table>\n",
       "<p>7132 rows × 29 columns</p>\n",
       "</div>"
      ],
      "text/plain": [
       "         Professional  Service  Office  Construction  Production  Drive  \\\n",
       "ZipCode                                                                   \n",
       "18077             538       61     223            81         143    810   \n",
       "72758            8024     3113    5232          1232        3865  18087   \n",
       "19503             199      131     162            82         223    679   \n",
       "62536             158       65      21             0           5    200   \n",
       "80106            1441      420     726           330         143   2081   \n",
       "...               ...      ...     ...           ...         ...    ...   \n",
       "07016            7767     1178    2465           539         552   8456   \n",
       "22539             185      174     241            95          82    521   \n",
       "85377             716      112     188           226          19    699   \n",
       "34287            2966     2523    2079          1152         855   7683   \n",
       "04745              42       83      78            31          95    309   \n",
       "\n",
       "         Carpool  Transit  Walk  OtherTransp  ...  Women  Hispanic  White  \\\n",
       "ZipCode                                       ...                           \n",
       "18077         23        8    60            0  ...   1077         7   2245   \n",
       "72758       1848        0   154           81  ...  21634      7848  34769   \n",
       "19503         50        0    30            4  ...    719         0   1296   \n",
       "62536         38        0     0            0  ...    178        12    453   \n",
       "80106        383        0    34           16  ...   3145       343   5485   \n",
       "...          ...      ...   ...          ...  ...    ...       ...    ...   \n",
       "07016        571     1944   202           44  ...  12211        68  21226   \n",
       "22539        106        0     0            6  ...   1261         0   2226   \n",
       "85377         46        0     0           29  ...   1736         2   3574   \n",
       "34287        966       31     6           53  ...  14632       309  24640   \n",
       "04745         38        0     6            0  ...    419         0    881   \n",
       "\n",
       "         Black  Citizen  Housing with Mortgage  Median Monthly housing costs  \\\n",
       "ZipCode                                                                        \n",
       "18077       28     1873                    414                          1880   \n",
       "72758     1548    26403                   6338                          1587   \n",
       "19503        9     1069                    270                          1568   \n",
       "62536        0      411                     92                          1725   \n",
       "80106      219     4774                   1711                          2219   \n",
       "...        ...      ...                    ...                           ...   \n",
       "07016      538    17739                   4925                          3152   \n",
       "22539      140     2248                    533                          1548   \n",
       "85377        3     3454                    665                          2187   \n",
       "34287     1529    22839                   4150                          1191   \n",
       "04745        0      699                    187                          1010   \n",
       "\n",
       "         High School Graduate  Some College or Associates degree  \\\n",
       "ZipCode                                                            \n",
       "18077               17.288284                           2.896007   \n",
       "72758               14.957457                           3.441329   \n",
       "19503               31.985816                           6.312057   \n",
       "62536               24.166667                          11.041667   \n",
       "80106               12.500000                          10.686275   \n",
       "...                       ...                                ...   \n",
       "07016               13.334165                           3.448993   \n",
       "22539               19.637711                          10.951009   \n",
       "85377               13.792143                           5.266091   \n",
       "34287               28.638668                           8.577118   \n",
       "04745               46.666667                           5.084746   \n",
       "\n",
       "         Bachelors degree or higher  \n",
       "ZipCode                              \n",
       "18077                     41.860465  \n",
       "72758                     24.477994  \n",
       "19503                     10.425532  \n",
       "62536                     28.125000  \n",
       "80106                     29.787582  \n",
       "...                             ...  \n",
       "07016                     41.841405  \n",
       "22539                     34.952655  \n",
       "85377                     54.583449  \n",
       "34287                     16.125996  \n",
       "04745                     10.395480  \n",
       "\n",
       "[7132 rows x 29 columns]"
      ]
     },
     "execution_count": 187,
     "metadata": {},
     "output_type": "execute_result"
    }
   ],
   "source": [
    "x_test"
   ]
  },
  {
   "cell_type": "code",
   "execution_count": null,
   "id": "e2ef8c0d-5e7a-4c84-be15-654f1aa458de",
   "metadata": {},
   "outputs": [],
   "source": []
  },
  {
   "cell_type": "code",
   "execution_count": null,
   "id": "b6922b4a-3576-4721-9521-f7d3e256e4e7",
   "metadata": {},
   "outputs": [],
   "source": []
  },
  {
   "cell_type": "code",
   "execution_count": 188,
   "id": "de877739-aa05-417e-8969-5b13af0e8c5a",
   "metadata": {},
   "outputs": [],
   "source": [
    "df_kansas = df_kansas.drop(['Income', 'IncomeErr', 'IncomePerCap', 'IncomePerCapErr',\"City\",\"State\",\"RaceOther\"], axis=1)"
   ]
  },
  {
   "cell_type": "code",
   "execution_count": 189,
   "id": "0ba14234-c6fe-4251-a55f-927748fb21ad",
   "metadata": {},
   "outputs": [
    {
     "data": {
      "text/html": [
       "<div>\n",
       "<style scoped>\n",
       "    .dataframe tbody tr th:only-of-type {\n",
       "        vertical-align: middle;\n",
       "    }\n",
       "\n",
       "    .dataframe tbody tr th {\n",
       "        vertical-align: top;\n",
       "    }\n",
       "\n",
       "    .dataframe thead th {\n",
       "        text-align: right;\n",
       "    }\n",
       "</style>\n",
       "<table border=\"1\" class=\"dataframe\">\n",
       "  <thead>\n",
       "    <tr style=\"text-align: right;\">\n",
       "      <th></th>\n",
       "      <th>Professional</th>\n",
       "      <th>Service</th>\n",
       "      <th>Office</th>\n",
       "      <th>Construction</th>\n",
       "      <th>Production</th>\n",
       "      <th>Drive</th>\n",
       "      <th>Carpool</th>\n",
       "      <th>Transit</th>\n",
       "      <th>Walk</th>\n",
       "      <th>OtherTransp</th>\n",
       "      <th>...</th>\n",
       "      <th>Women</th>\n",
       "      <th>Hispanic</th>\n",
       "      <th>White</th>\n",
       "      <th>Black</th>\n",
       "      <th>Citizen</th>\n",
       "      <th>Housing with Mortgage</th>\n",
       "      <th>Median Monthly housing costs</th>\n",
       "      <th>High School Graduate</th>\n",
       "      <th>Some College or Associates degree</th>\n",
       "      <th>Bachelors degree or higher</th>\n",
       "    </tr>\n",
       "    <tr>\n",
       "      <th>ZipCode</th>\n",
       "      <th></th>\n",
       "      <th></th>\n",
       "      <th></th>\n",
       "      <th></th>\n",
       "      <th></th>\n",
       "      <th></th>\n",
       "      <th></th>\n",
       "      <th></th>\n",
       "      <th></th>\n",
       "      <th></th>\n",
       "      <th></th>\n",
       "      <th></th>\n",
       "      <th></th>\n",
       "      <th></th>\n",
       "      <th></th>\n",
       "      <th></th>\n",
       "      <th></th>\n",
       "      <th></th>\n",
       "      <th></th>\n",
       "      <th></th>\n",
       "      <th></th>\n",
       "    </tr>\n",
       "  </thead>\n",
       "  <tbody>\n",
       "    <tr>\n",
       "      <th>35004</th>\n",
       "      <td>2112</td>\n",
       "      <td>857</td>\n",
       "      <td>1357</td>\n",
       "      <td>503</td>\n",
       "      <td>843</td>\n",
       "      <td>5228</td>\n",
       "      <td>272</td>\n",
       "      <td>0</td>\n",
       "      <td>8</td>\n",
       "      <td>0</td>\n",
       "      <td>...</td>\n",
       "      <td>6245</td>\n",
       "      <td>0</td>\n",
       "      <td>10142</td>\n",
       "      <td>1303</td>\n",
       "      <td>9254</td>\n",
       "      <td>2509</td>\n",
       "      <td>1122</td>\n",
       "      <td>27.670797</td>\n",
       "      <td>7.560281</td>\n",
       "      <td>14.057267</td>\n",
       "    </tr>\n",
       "    <tr>\n",
       "      <th>35005</th>\n",
       "      <td>1118</td>\n",
       "      <td>455</td>\n",
       "      <td>1352</td>\n",
       "      <td>174</td>\n",
       "      <td>707</td>\n",
       "      <td>3242</td>\n",
       "      <td>330</td>\n",
       "      <td>0</td>\n",
       "      <td>18</td>\n",
       "      <td>3</td>\n",
       "      <td>...</td>\n",
       "      <td>4869</td>\n",
       "      <td>43</td>\n",
       "      <td>4299</td>\n",
       "      <td>4167</td>\n",
       "      <td>6872</td>\n",
       "      <td>1490</td>\n",
       "      <td>1105</td>\n",
       "      <td>33.783324</td>\n",
       "      <td>4.049915</td>\n",
       "      <td>8.893931</td>\n",
       "    </tr>\n",
       "    <tr>\n",
       "      <th>35006</th>\n",
       "      <td>132</td>\n",
       "      <td>216</td>\n",
       "      <td>609</td>\n",
       "      <td>66</td>\n",
       "      <td>135</td>\n",
       "      <td>1204</td>\n",
       "      <td>92</td>\n",
       "      <td>0</td>\n",
       "      <td>11</td>\n",
       "      <td>0</td>\n",
       "      <td>...</td>\n",
       "      <td>1565</td>\n",
       "      <td>0</td>\n",
       "      <td>3061</td>\n",
       "      <td>103</td>\n",
       "      <td>2600</td>\n",
       "      <td>446</td>\n",
       "      <td>823</td>\n",
       "      <td>37.381703</td>\n",
       "      <td>3.091483</td>\n",
       "      <td>4.416404</td>\n",
       "    </tr>\n",
       "    <tr>\n",
       "      <th>35007</th>\n",
       "      <td>5601</td>\n",
       "      <td>2055</td>\n",
       "      <td>3360</td>\n",
       "      <td>811</td>\n",
       "      <td>1196</td>\n",
       "      <td>10720</td>\n",
       "      <td>1349</td>\n",
       "      <td>0</td>\n",
       "      <td>16</td>\n",
       "      <td>72</td>\n",
       "      <td>...</td>\n",
       "      <td>13910</td>\n",
       "      <td>1514</td>\n",
       "      <td>19291</td>\n",
       "      <td>4680</td>\n",
       "      <td>18950</td>\n",
       "      <td>5632</td>\n",
       "      <td>1234</td>\n",
       "      <td>15.695964</td>\n",
       "      <td>6.325915</td>\n",
       "      <td>23.353452</td>\n",
       "    </tr>\n",
       "    <tr>\n",
       "      <th>35010</th>\n",
       "      <td>2127</td>\n",
       "      <td>1600</td>\n",
       "      <td>1851</td>\n",
       "      <td>590</td>\n",
       "      <td>2070</td>\n",
       "      <td>7031</td>\n",
       "      <td>1071</td>\n",
       "      <td>9</td>\n",
       "      <td>17</td>\n",
       "      <td>40</td>\n",
       "      <td>...</td>\n",
       "      <td>10464</td>\n",
       "      <td>712</td>\n",
       "      <td>13162</td>\n",
       "      <td>6452</td>\n",
       "      <td>15492</td>\n",
       "      <td>2558</td>\n",
       "      <td>994</td>\n",
       "      <td>24.742676</td>\n",
       "      <td>5.289984</td>\n",
       "      <td>11.411322</td>\n",
       "    </tr>\n",
       "    <tr>\n",
       "      <th>...</th>\n",
       "      <td>...</td>\n",
       "      <td>...</td>\n",
       "      <td>...</td>\n",
       "      <td>...</td>\n",
       "      <td>...</td>\n",
       "      <td>...</td>\n",
       "      <td>...</td>\n",
       "      <td>...</td>\n",
       "      <td>...</td>\n",
       "      <td>...</td>\n",
       "      <td>...</td>\n",
       "      <td>...</td>\n",
       "      <td>...</td>\n",
       "      <td>...</td>\n",
       "      <td>...</td>\n",
       "      <td>...</td>\n",
       "      <td>...</td>\n",
       "      <td>...</td>\n",
       "      <td>...</td>\n",
       "      <td>...</td>\n",
       "      <td>...</td>\n",
       "    </tr>\n",
       "    <tr>\n",
       "      <th>36915</th>\n",
       "      <td>96</td>\n",
       "      <td>0</td>\n",
       "      <td>19</td>\n",
       "      <td>6</td>\n",
       "      <td>33</td>\n",
       "      <td>158</td>\n",
       "      <td>79</td>\n",
       "      <td>0</td>\n",
       "      <td>0</td>\n",
       "      <td>0</td>\n",
       "      <td>...</td>\n",
       "      <td>420</td>\n",
       "      <td>0</td>\n",
       "      <td>496</td>\n",
       "      <td>148</td>\n",
       "      <td>533</td>\n",
       "      <td>30</td>\n",
       "      <td>944</td>\n",
       "      <td>26.046512</td>\n",
       "      <td>3.565891</td>\n",
       "      <td>11.007752</td>\n",
       "    </tr>\n",
       "    <tr>\n",
       "      <th>36916</th>\n",
       "      <td>79</td>\n",
       "      <td>19</td>\n",
       "      <td>78</td>\n",
       "      <td>43</td>\n",
       "      <td>40</td>\n",
       "      <td>260</td>\n",
       "      <td>32</td>\n",
       "      <td>0</td>\n",
       "      <td>3</td>\n",
       "      <td>1</td>\n",
       "      <td>...</td>\n",
       "      <td>502</td>\n",
       "      <td>0</td>\n",
       "      <td>487</td>\n",
       "      <td>543</td>\n",
       "      <td>770</td>\n",
       "      <td>50</td>\n",
       "      <td>1125</td>\n",
       "      <td>22.427184</td>\n",
       "      <td>15.048544</td>\n",
       "      <td>4.854369</td>\n",
       "    </tr>\n",
       "    <tr>\n",
       "      <th>36919</th>\n",
       "      <td>187</td>\n",
       "      <td>130</td>\n",
       "      <td>81</td>\n",
       "      <td>29</td>\n",
       "      <td>114</td>\n",
       "      <td>455</td>\n",
       "      <td>57</td>\n",
       "      <td>0</td>\n",
       "      <td>11</td>\n",
       "      <td>10</td>\n",
       "      <td>...</td>\n",
       "      <td>881</td>\n",
       "      <td>0</td>\n",
       "      <td>869</td>\n",
       "      <td>836</td>\n",
       "      <td>1337</td>\n",
       "      <td>147</td>\n",
       "      <td>887</td>\n",
       "      <td>29.232572</td>\n",
       "      <td>7.498535</td>\n",
       "      <td>5.155243</td>\n",
       "    </tr>\n",
       "    <tr>\n",
       "      <th>36921</th>\n",
       "      <td>91</td>\n",
       "      <td>45</td>\n",
       "      <td>57</td>\n",
       "      <td>36</td>\n",
       "      <td>48</td>\n",
       "      <td>254</td>\n",
       "      <td>28</td>\n",
       "      <td>0</td>\n",
       "      <td>0</td>\n",
       "      <td>0</td>\n",
       "      <td>...</td>\n",
       "      <td>447</td>\n",
       "      <td>0</td>\n",
       "      <td>768</td>\n",
       "      <td>46</td>\n",
       "      <td>783</td>\n",
       "      <td>131</td>\n",
       "      <td>1034</td>\n",
       "      <td>30.712531</td>\n",
       "      <td>11.670762</td>\n",
       "      <td>7.002457</td>\n",
       "    </tr>\n",
       "    <tr>\n",
       "      <th>36925</th>\n",
       "      <td>250</td>\n",
       "      <td>321</td>\n",
       "      <td>277</td>\n",
       "      <td>20</td>\n",
       "      <td>182</td>\n",
       "      <td>987</td>\n",
       "      <td>31</td>\n",
       "      <td>0</td>\n",
       "      <td>0</td>\n",
       "      <td>0</td>\n",
       "      <td>...</td>\n",
       "      <td>1597</td>\n",
       "      <td>70</td>\n",
       "      <td>286</td>\n",
       "      <td>2545</td>\n",
       "      <td>2233</td>\n",
       "      <td>321</td>\n",
       "      <td>773</td>\n",
       "      <td>23.134583</td>\n",
       "      <td>5.144804</td>\n",
       "      <td>9.982964</td>\n",
       "    </tr>\n",
       "  </tbody>\n",
       "</table>\n",
       "<p>561 rows × 29 columns</p>\n",
       "</div>"
      ],
      "text/plain": [
       "         Professional  Service  Office  Construction  Production  Drive  \\\n",
       "ZipCode                                                                   \n",
       "35004            2112      857    1357           503         843   5228   \n",
       "35005            1118      455    1352           174         707   3242   \n",
       "35006             132      216     609            66         135   1204   \n",
       "35007            5601     2055    3360           811        1196  10720   \n",
       "35010            2127     1600    1851           590        2070   7031   \n",
       "...               ...      ...     ...           ...         ...    ...   \n",
       "36915              96        0      19             6          33    158   \n",
       "36916              79       19      78            43          40    260   \n",
       "36919             187      130      81            29         114    455   \n",
       "36921              91       45      57            36          48    254   \n",
       "36925             250      321     277            20         182    987   \n",
       "\n",
       "         Carpool  Transit  Walk  OtherTransp  ...  Women  Hispanic  White  \\\n",
       "ZipCode                                       ...                           \n",
       "35004        272        0     8            0  ...   6245         0  10142   \n",
       "35005        330        0    18            3  ...   4869        43   4299   \n",
       "35006         92        0    11            0  ...   1565         0   3061   \n",
       "35007       1349        0    16           72  ...  13910      1514  19291   \n",
       "35010       1071        9    17           40  ...  10464       712  13162   \n",
       "...          ...      ...   ...          ...  ...    ...       ...    ...   \n",
       "36915         79        0     0            0  ...    420         0    496   \n",
       "36916         32        0     3            1  ...    502         0    487   \n",
       "36919         57        0    11           10  ...    881         0    869   \n",
       "36921         28        0     0            0  ...    447         0    768   \n",
       "36925         31        0     0            0  ...   1597        70    286   \n",
       "\n",
       "         Black  Citizen  Housing with Mortgage  Median Monthly housing costs  \\\n",
       "ZipCode                                                                        \n",
       "35004     1303     9254                   2509                          1122   \n",
       "35005     4167     6872                   1490                          1105   \n",
       "35006      103     2600                    446                           823   \n",
       "35007     4680    18950                   5632                          1234   \n",
       "35010     6452    15492                   2558                           994   \n",
       "...        ...      ...                    ...                           ...   \n",
       "36915      148      533                     30                           944   \n",
       "36916      543      770                     50                          1125   \n",
       "36919      836     1337                    147                           887   \n",
       "36921       46      783                    131                          1034   \n",
       "36925     2545     2233                    321                           773   \n",
       "\n",
       "         High School Graduate  Some College or Associates degree  \\\n",
       "ZipCode                                                            \n",
       "35004               27.670797                           7.560281   \n",
       "35005               33.783324                           4.049915   \n",
       "35006               37.381703                           3.091483   \n",
       "35007               15.695964                           6.325915   \n",
       "35010               24.742676                           5.289984   \n",
       "...                       ...                                ...   \n",
       "36915               26.046512                           3.565891   \n",
       "36916               22.427184                          15.048544   \n",
       "36919               29.232572                           7.498535   \n",
       "36921               30.712531                          11.670762   \n",
       "36925               23.134583                           5.144804   \n",
       "\n",
       "         Bachelors degree or higher  \n",
       "ZipCode                              \n",
       "35004                     14.057267  \n",
       "35005                      8.893931  \n",
       "35006                      4.416404  \n",
       "35007                     23.353452  \n",
       "35010                     11.411322  \n",
       "...                             ...  \n",
       "36915                     11.007752  \n",
       "36916                      4.854369  \n",
       "36919                      5.155243  \n",
       "36921                      7.002457  \n",
       "36925                      9.982964  \n",
       "\n",
       "[561 rows x 29 columns]"
      ]
     },
     "execution_count": 189,
     "metadata": {},
     "output_type": "execute_result"
    }
   ],
   "source": [
    "df_kansas"
   ]
  },
  {
   "cell_type": "code",
   "execution_count": 190,
   "id": "af7737ce-1d88-4669-9292-087d2130bad7",
   "metadata": {},
   "outputs": [],
   "source": [
    "y_pred_del = model.predict(df_kansas)"
   ]
  },
  {
   "cell_type": "code",
   "execution_count": 191,
   "id": "644bd886-f677-4196-a690-7e66b9f640f3",
   "metadata": {},
   "outputs": [
    {
     "data": {
      "text/plain": [
       "52717.55981916714"
      ]
     },
     "execution_count": 191,
     "metadata": {},
     "output_type": "execute_result"
    }
   ],
   "source": [
    "y_pred_del.mean()"
   ]
  },
  {
   "cell_type": "code",
   "execution_count": null,
   "id": "4c599bf8-7e9e-4ffe-be28-dc1112e8ea80",
   "metadata": {},
   "outputs": [],
   "source": []
  },
  {
   "cell_type": "code",
   "execution_count": 192,
   "id": "a2f6a7b6-5068-4115-bf7a-4601720b1bc8",
   "metadata": {},
   "outputs": [
    {
     "data": {
      "text/html": [
       "<div>\n",
       "<style scoped>\n",
       "    .dataframe tbody tr th:only-of-type {\n",
       "        vertical-align: middle;\n",
       "    }\n",
       "\n",
       "    .dataframe tbody tr th {\n",
       "        vertical-align: top;\n",
       "    }\n",
       "\n",
       "    .dataframe thead th {\n",
       "        text-align: right;\n",
       "    }\n",
       "</style>\n",
       "<table border=\"1\" class=\"dataframe\">\n",
       "  <thead>\n",
       "    <tr style=\"text-align: right;\">\n",
       "      <th></th>\n",
       "      <th>State</th>\n",
       "      <th>Income</th>\n",
       "    </tr>\n",
       "  </thead>\n",
       "  <tbody>\n",
       "    <tr>\n",
       "      <th>0</th>\n",
       "      <td>AL</td>\n",
       "      <td>49457.13369</td>\n",
       "    </tr>\n",
       "  </tbody>\n",
       "</table>\n",
       "</div>"
      ],
      "text/plain": [
       "  State       Income\n",
       "0    AL  49457.13369"
      ]
     },
     "execution_count": 192,
     "metadata": {},
     "output_type": "execute_result"
    }
   ],
   "source": [
    "income_state[income_state['State']=='AL']"
   ]
  },
  {
   "cell_type": "code",
   "execution_count": null,
   "id": "6902b407-7c85-4593-94a4-e74a095d76c9",
   "metadata": {},
   "outputs": [],
   "source": []
  },
  {
   "cell_type": "code",
   "execution_count": null,
   "id": "74627d57-fc82-4e28-a5dd-a686b9dfe066",
   "metadata": {},
   "outputs": [],
   "source": []
  },
  {
   "cell_type": "code",
   "execution_count": 638,
   "id": "09f71c4c",
   "metadata": {},
   "outputs": [],
   "source": [
    "df_copy = df_final.copy()"
   ]
  },
  {
   "cell_type": "code",
   "execution_count": 639,
   "id": "30e13d06",
   "metadata": {},
   "outputs": [],
   "source": [
    "rslt_df = df_copy.loc[df_copy['State'] == 'Texas']"
   ]
  },
  {
   "cell_type": "code",
   "execution_count": 640,
   "id": "19c116a2",
   "metadata": {},
   "outputs": [],
   "source": [
    "rslt_df.reset_index(inplace=True)"
   ]
  },
  {
   "cell_type": "code",
   "execution_count": 641,
   "id": "1c864ca3",
   "metadata": {},
   "outputs": [
    {
     "data": {
      "text/html": [
       "<div>\n",
       "<style scoped>\n",
       "    .dataframe tbody tr th:only-of-type {\n",
       "        vertical-align: middle;\n",
       "    }\n",
       "\n",
       "    .dataframe tbody tr th {\n",
       "        vertical-align: top;\n",
       "    }\n",
       "\n",
       "    .dataframe thead th {\n",
       "        text-align: right;\n",
       "    }\n",
       "</style>\n",
       "<table border=\"1\" class=\"dataframe\">\n",
       "  <thead>\n",
       "    <tr style=\"text-align: right;\">\n",
       "      <th></th>\n",
       "      <th>ZipCode</th>\n",
       "      <th>Hispanic</th>\n",
       "      <th>White</th>\n",
       "    </tr>\n",
       "  </thead>\n",
       "  <tbody>\n",
       "    <tr>\n",
       "      <th>1593</th>\n",
       "      <td>79936</td>\n",
       "      <td>90278</td>\n",
       "      <td>81426</td>\n",
       "    </tr>\n",
       "    <tr>\n",
       "      <th>1182</th>\n",
       "      <td>78521</td>\n",
       "      <td>83015</td>\n",
       "      <td>77692</td>\n",
       "    </tr>\n",
       "    <tr>\n",
       "      <th>1189</th>\n",
       "      <td>78542</td>\n",
       "      <td>73345</td>\n",
       "      <td>61153</td>\n",
       "    </tr>\n",
       "    <tr>\n",
       "      <th>1207</th>\n",
       "      <td>78577</td>\n",
       "      <td>71960</td>\n",
       "      <td>65429</td>\n",
       "    </tr>\n",
       "    <tr>\n",
       "      <th>1202</th>\n",
       "      <td>78572</td>\n",
       "      <td>66904</td>\n",
       "      <td>59071</td>\n",
       "    </tr>\n",
       "    <tr>\n",
       "      <th>1028</th>\n",
       "      <td>78046</td>\n",
       "      <td>66600</td>\n",
       "      <td>58276</td>\n",
       "    </tr>\n",
       "    <tr>\n",
       "      <th>1594</th>\n",
       "      <td>79938</td>\n",
       "      <td>65106</td>\n",
       "      <td>61705</td>\n",
       "    </tr>\n",
       "    <tr>\n",
       "      <th>1219</th>\n",
       "      <td>78596</td>\n",
       "      <td>60230</td>\n",
       "      <td>52300</td>\n",
       "    </tr>\n",
       "    <tr>\n",
       "      <th>1027</th>\n",
       "      <td>78045</td>\n",
       "      <td>58917</td>\n",
       "      <td>56454</td>\n",
       "    </tr>\n",
       "    <tr>\n",
       "      <th>1204</th>\n",
       "      <td>78574</td>\n",
       "      <td>58043</td>\n",
       "      <td>50619</td>\n",
       "    </tr>\n",
       "    <tr>\n",
       "      <th>124</th>\n",
       "      <td>75217</td>\n",
       "      <td>57190</td>\n",
       "      <td>53179</td>\n",
       "    </tr>\n",
       "    <tr>\n",
       "      <th>119</th>\n",
       "      <td>75211</td>\n",
       "      <td>56469</td>\n",
       "      <td>57603</td>\n",
       "    </tr>\n",
       "    <tr>\n",
       "      <th>1214</th>\n",
       "      <td>78586</td>\n",
       "      <td>54340</td>\n",
       "      <td>48798</td>\n",
       "    </tr>\n",
       "    <tr>\n",
       "      <th>1582</th>\n",
       "      <td>79912</td>\n",
       "      <td>53941</td>\n",
       "      <td>53504</td>\n",
       "    </tr>\n",
       "    <tr>\n",
       "      <th>1181</th>\n",
       "      <td>78520</td>\n",
       "      <td>53517</td>\n",
       "      <td>51094</td>\n",
       "    </tr>\n",
       "    <tr>\n",
       "      <th>1588</th>\n",
       "      <td>79928</td>\n",
       "      <td>52798</td>\n",
       "      <td>47471</td>\n",
       "    </tr>\n",
       "    <tr>\n",
       "      <th>1326</th>\n",
       "      <td>78852</td>\n",
       "      <td>52436</td>\n",
       "      <td>46392</td>\n",
       "    </tr>\n",
       "    <tr>\n",
       "      <th>1177</th>\n",
       "      <td>78501</td>\n",
       "      <td>50959</td>\n",
       "      <td>38678</td>\n",
       "    </tr>\n",
       "    <tr>\n",
       "      <th>1100</th>\n",
       "      <td>78228</td>\n",
       "      <td>49563</td>\n",
       "      <td>46228</td>\n",
       "    </tr>\n",
       "    <tr>\n",
       "      <th>1079</th>\n",
       "      <td>78207</td>\n",
       "      <td>48175</td>\n",
       "      <td>44013</td>\n",
       "    </tr>\n",
       "  </tbody>\n",
       "</table>\n",
       "</div>"
      ],
      "text/plain": [
       "     ZipCode  Hispanic  White\n",
       "1593   79936     90278  81426\n",
       "1182   78521     83015  77692\n",
       "1189   78542     73345  61153\n",
       "1207   78577     71960  65429\n",
       "1202   78572     66904  59071\n",
       "1028   78046     66600  58276\n",
       "1594   79938     65106  61705\n",
       "1219   78596     60230  52300\n",
       "1027   78045     58917  56454\n",
       "1204   78574     58043  50619\n",
       "124    75217     57190  53179\n",
       "119    75211     56469  57603\n",
       "1214   78586     54340  48798\n",
       "1582   79912     53941  53504\n",
       "1181   78520     53517  51094\n",
       "1588   79928     52798  47471\n",
       "1326   78852     52436  46392\n",
       "1177   78501     50959  38678\n",
       "1100   78228     49563  46228\n",
       "1079   78207     48175  44013"
      ]
     },
     "execution_count": 641,
     "metadata": {},
     "output_type": "execute_result"
    }
   ],
   "source": [
    "rslt_df[['ZipCode','Hispanic', 'White']].sort_values('Hispanic', ascending= False).head(20)"
   ]
  },
  {
   "cell_type": "code",
   "execution_count": 642,
   "id": "0c68b749",
   "metadata": {},
   "outputs": [
    {
     "data": {
      "text/plain": [
       "9454283"
      ]
     },
     "execution_count": 642,
     "metadata": {},
     "output_type": "execute_result"
    }
   ],
   "source": [
    "rslt_df['Hispanic'].sum()"
   ]
  },
  {
   "cell_type": "code",
   "execution_count": null,
   "id": "14b08d15",
   "metadata": {},
   "outputs": [],
   "source": []
  }
 ],
 "metadata": {
  "kernelspec": {
   "display_name": "Python 3 (ipykernel)",
   "language": "python",
   "name": "python3"
  },
  "language_info": {
   "codemirror_mode": {
    "name": "ipython",
    "version": 3
   },
   "file_extension": ".py",
   "mimetype": "text/x-python",
   "name": "python",
   "nbconvert_exporter": "python",
   "pygments_lexer": "ipython3",
   "version": "3.9.12"
  }
 },
 "nbformat": 4,
 "nbformat_minor": 5
}
