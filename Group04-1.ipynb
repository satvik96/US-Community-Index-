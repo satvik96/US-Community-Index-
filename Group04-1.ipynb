{
 "cells": [
  {
   "cell_type": "markdown",
   "id": "2c8cdebb-5285-4cb5-9ef5-a1e590d5c026",
   "metadata": {},
   "source": [
    "# BUDT704 Project Update -- Group 4: The Smithbusters"
   ]
  },
  {
   "cell_type": "markdown",
   "id": "20f24467",
   "metadata": {},
   "source": [
    "## \"Are we doing okay?\" - The Community Need Index may have answers."
   ]
  },
  {
   "cell_type": "markdown",
   "id": "af61b096",
   "metadata": {},
   "source": [
    "Many a time, we as a community find ourselves in a conundrum. \"Is my town doing good?\", \"Are my needs getting met?\", \"Do I walk more than I should to get the most basic of things?\", these are things we usually ponder about. The Smithbusters, however, took it personally. The Community Need Index (CNI) provides us with tons of data on how a region in the US is doing. Ideally, the CNI is a great place to start looking and diving deep into. \n"
   ]
  },
  {
   "cell_type": "markdown",
   "id": "d24b514b-8abc-40eb-ab1e-cc49812ad708",
   "metadata": {},
   "source": [
    "### Section 1: Project Overview"
   ]
  },
  {
   "cell_type": "markdown",
   "id": "b96416e2-7548-4639-9216-f7b92a67b426",
   "metadata": {},
   "source": [
    "The Community Need Index (CNI) is a regional code-based score that accounts for a community's unmet needs with respect to livelihood and is publicly accessible via the internet.\n",
    "\n",
    "To understand the trends for the Needs Index, the Smithbusters will use US Census data from 2020. It is a multi-dimensional non-profit assessment of needs in the United States. As part of the Census, the United States government collects data from the population on various parameters such as Demographics, Education, Income, and so on.\n",
    "\n",
    "#### What The Smithbusters intend to do with the information:\n",
    "\n",
    "With the data from US Census, the Smithbusters will create visualizations that helps us picture which regions require help in any of the parameters such as education and healthcare as listed, and make predictions about how the various parameters we study affect the population demographic and the livelihood of the people of the United States in different ways.\n",
    "\n",
    "The analysis that stems from the Common Needs Index (\"CNI\") can be used by non-profit and community-based organizations to develop initiatives that best address the needs of a given community and, as a result, elevate their status. The predictive model will identify CNI core competencies that can be shared with community partners in order to justify grants, allocate resources, or even put in place better policies."
   ]
  },
  {
   "cell_type": "markdown",
   "id": "4f00f802-39a8-45ca-9bf0-d7b5781ae7dc",
   "metadata": {},
   "source": [
    "### Section 2: Milestones and Progress"
   ]
  },
  {
   "cell_type": "markdown",
   "id": "18af40a7-0d70-43f0-9644-09e30cb113b5",
   "metadata": {
    "tags": []
   },
   "source": [
    "\n",
    "### Sprint 1: Complete\n",
    "##### Oct 14 to Oct 25\n",
    "        \n",
    "| Sr No | Date | Task | Lead | Status |\n",
    "| --- | --- | --- | --- | --- |\n",
    "1 | 10/14/2022 | Project Proposal submission | Satvik | Completed |\n",
    "2 | 10/18/2022 | Research, explore and learn about the data | Shweta | Completed |\n",
    "3 | 10/21/2022 | Dataset Consolidation | Rishi | Completed |\n",
    "4 | 10/23/2022 | Data cleaning | Anushka | Completed |\n",
    "5 | 10/26/2022 | Data preparation | Satvik | Completed |\n",
    "6 | 10/28/2022 | Sprint 1 - Review | Anushka | Completed |\n",
    "7 | 10/29/2022 | Documentation | Rishi | Completed |\n",
    "\n",
    "\n",
    "### Sprint 2: Ongoing\n",
    "##### Oct 30 to Nov 11\n",
    " \n",
    "\n",
    "| Sr No | Date | Task | Lead | Status |\n",
    "| --- | --- | --- | --- | --- |\n",
    "1 | 10/31/2022 | Exploratory data analysis (EDA) | Shweta | Completed |\n",
    "2 | 11/02/2022 | EDA for the Community Needs Index, in entirety | Yash | Ongoing |\n",
    "3 | 11/09/2022 | Visualizations and comparisons | Shweta | Ongoing |\n",
    "4 | 11/11/2022 | Sprint 2 - Review | Yash | Ongoing |\n",
    "\n",
    "### Sprint 3: TBD\n",
    "##### Nov 11 to Dec 05\n",
    "\n",
    "| Sr No | Date | Task | Lead | Status |\n",
    "| --- | --- | --- | --- | --- |\n",
    "1 | 11/14/2022 | Data Modelling | Satvik | TBD |\n",
    "2 | 11/21/2022 | Comparison: Compare different ML Models | Satvik | TBD |\n",
    "3 | 11/28/2022 | Accuracy tests | Nahome | TBD |\n",
    "4 | 11/30/2022 | Sprint 3 - Review | Anushka | TBD |\n",
    "5 | 12/02/2022 | Sprint 3 - Documentation | Rishi | TBD |\n",
    "6 | 12/03/2022 | Conclusions: Observation and Inferences | Rishi | TBD |\n",
    "7 | 12/04/2022 | Project Report Generation | Nahome | TBD |\n",
    "4 | 12/05/2022 | Project Showcase and Presentation | Rishi | TBD |\n"
   ]
  },
  {
   "cell_type": "markdown",
   "id": "f9c879d4",
   "metadata": {},
   "source": [
    "We have completed upto Sprint 2 (Sr. No 1). For the remaining steps (EDA) we are evaulating different types of visualizations that can explain correlation between the variables of inetrest Education and Housing. We are also trying to figure out how we can implement map based charts in python so as to give the better clarity on our regional data."
   ]
  },
  {
   "cell_type": "markdown",
   "id": "f45c8fca-b641-4eed-b17c-ff36bc8e642a",
   "metadata": {},
   "source": [
    "### Section 3: Data Acquisition and Cleaning Code (Markdown + Code)"
   ]
  },
  {
   "cell_type": "markdown",
   "id": "17fcfce0-67e9-44a6-b5eb-4d502e1718e0",
   "metadata": {},
   "source": [
    "#### Section 3a: Data Acquisition"
   ]
  },
  {
   "cell_type": "markdown",
   "id": "a9fcb11b",
   "metadata": {},
   "source": [
    "The American Community Survey (ACS) produces population, demographic and housing unit estimates and the Census Bureau's Population Estimates Program produces and disseminates the official estimates of the population for the nation, states, counties, cities, and towns and estimates of housing units for states and counties. Our data was available in the US Census data website https://data.census.gov/ from where we used 4 tables from the American Community Survey 2020: <br>\n",
    "DP03 - Selected economic characteristics<br>\n",
    "DP05 - ACS demographic and housing estimates <br>\n",
    "S1501 - Educational attainment <br>\n",
    "S2506 - Financial characteristics for housing units <br><br>\n",
    "\n",
    "These data tables included the estimates, margins of error and the percentage of error but for our analysis we are only concerned with the estimate. We also used an additional dataset to map the zipcode with the respective cities and states - https://simplemaps.com/data/us-zips <br>\n",
    "\n",
    "The columns we chose for our analysis largely had to do with how they relate to our objective. We needed to understand what factors affected the income of an individual and how his income affects his living conditions. DP03 gave us data on the income and income characteristics for the population and DP05 was about population characteristics and ethnicity. We used S1501 to understand the levels of educational attainment and of how many people in a city were educated up to high school, college and undergrad level. S2506 gave us two columns that informed us the mortgaged houses and what the median value was. <br>"
   ]
  },
  {
   "cell_type": "markdown",
   "id": "b0c34789-5881-4bd7-a947-98acc741d245",
   "metadata": {},
   "source": [
    "#### Section 3b: Data Importing\n",
    "\n",
    "The source files gathered from US Census website are stored in the directory '.\\Data\\\\', from where we will be importing the csv files in a dataframe for processing and analysis.<br> The following steps were perfromed as part of importing the data:\n",
    "1. Importing the csv file downloaded from US Census website into different dataframes.\n",
    "2. Filtering out the columns which will be useful in our analysis\n",
    "3. Merging the dataframe into a consolidated dataframe for analysis.\n"
   ]
  },
  {
   "cell_type": "code",
   "execution_count": 2,
   "id": "f3e55831-2f08-44e3-8ce1-6293e3bff1dc",
   "metadata": {},
   "outputs": [],
   "source": [
    "# importing libararies \n",
    "\n",
    "import pandas as pd\n",
    "import matplotlib.pyplot as plt\n",
    "%matplotlib inline\n",
    "import seaborn as sns\n",
    "import numpy as np"
   ]
  },
  {
   "cell_type": "code",
   "execution_count": 3,
   "id": "1e682871-e582-4020-bd79-ed4a6ada4764",
   "metadata": {},
   "outputs": [],
   "source": [
    "# reading the data reference csv containing list of columns and source tables to be used from the US Census website\n",
    "df1=pd.read_csv('.\\data\\DataReference.csv')"
   ]
  },
  {
   "cell_type": "code",
   "execution_count": 4,
   "id": "680c36f3-600c-483e-ab3a-ba753d669278",
   "metadata": {},
   "outputs": [
    {
     "data": {
      "text/html": [
       "<div>\n",
       "<style scoped>\n",
       "    .dataframe tbody tr th:only-of-type {\n",
       "        vertical-align: middle;\n",
       "    }\n",
       "\n",
       "    .dataframe tbody tr th {\n",
       "        vertical-align: top;\n",
       "    }\n",
       "\n",
       "    .dataframe thead th {\n",
       "        text-align: right;\n",
       "    }\n",
       "</style>\n",
       "<table border=\"1\" class=\"dataframe\">\n",
       "  <thead>\n",
       "    <tr style=\"text-align: right;\">\n",
       "      <th></th>\n",
       "      <th>ColName</th>\n",
       "      <th>TabName</th>\n",
       "    </tr>\n",
       "  </thead>\n",
       "  <tbody>\n",
       "    <tr>\n",
       "      <th>0</th>\n",
       "      <td>TotalPop</td>\n",
       "      <td>DP05_0001E</td>\n",
       "    </tr>\n",
       "    <tr>\n",
       "      <th>1</th>\n",
       "      <td>Men</td>\n",
       "      <td>DP05_0002E</td>\n",
       "    </tr>\n",
       "    <tr>\n",
       "      <th>2</th>\n",
       "      <td>Women</td>\n",
       "      <td>DP05_0003E</td>\n",
       "    </tr>\n",
       "    <tr>\n",
       "      <th>3</th>\n",
       "      <td>Hispanic</td>\n",
       "      <td>DP05_0003E</td>\n",
       "    </tr>\n",
       "    <tr>\n",
       "      <th>4</th>\n",
       "      <td>White</td>\n",
       "      <td>DP05_0064E</td>\n",
       "    </tr>\n",
       "    <tr>\n",
       "      <th>5</th>\n",
       "      <td>Black</td>\n",
       "      <td>DP05_0065E</td>\n",
       "    </tr>\n",
       "    <tr>\n",
       "      <th>6</th>\n",
       "      <td>Native</td>\n",
       "      <td>DP05_0066E</td>\n",
       "    </tr>\n",
       "    <tr>\n",
       "      <th>7</th>\n",
       "      <td>Asian</td>\n",
       "      <td>DP05_0067E</td>\n",
       "    </tr>\n",
       "    <tr>\n",
       "      <th>8</th>\n",
       "      <td>Pacific</td>\n",
       "      <td>DP05_0068E</td>\n",
       "    </tr>\n",
       "    <tr>\n",
       "      <th>9</th>\n",
       "      <td>Citizen</td>\n",
       "      <td>DP05_0087E</td>\n",
       "    </tr>\n",
       "    <tr>\n",
       "      <th>10</th>\n",
       "      <td>Income</td>\n",
       "      <td>DP03_0087E</td>\n",
       "    </tr>\n",
       "    <tr>\n",
       "      <th>11</th>\n",
       "      <td>IncomeErr</td>\n",
       "      <td>DP03_0087M</td>\n",
       "    </tr>\n",
       "    <tr>\n",
       "      <th>12</th>\n",
       "      <td>IncomePerCap</td>\n",
       "      <td>DP03_0088E</td>\n",
       "    </tr>\n",
       "    <tr>\n",
       "      <th>13</th>\n",
       "      <td>IncomePerCapErr</td>\n",
       "      <td>DP03_0088M</td>\n",
       "    </tr>\n",
       "    <tr>\n",
       "      <th>14</th>\n",
       "      <td>Poverty</td>\n",
       "      <td>DP03_0128E</td>\n",
       "    </tr>\n",
       "    <tr>\n",
       "      <th>15</th>\n",
       "      <td>ChildPoverty</td>\n",
       "      <td>DP03_0129E</td>\n",
       "    </tr>\n",
       "    <tr>\n",
       "      <th>16</th>\n",
       "      <td>Professional</td>\n",
       "      <td>DP03_0027E</td>\n",
       "    </tr>\n",
       "    <tr>\n",
       "      <th>17</th>\n",
       "      <td>Service</td>\n",
       "      <td>DP03_0028E</td>\n",
       "    </tr>\n",
       "    <tr>\n",
       "      <th>18</th>\n",
       "      <td>Office</td>\n",
       "      <td>DP03_0029E</td>\n",
       "    </tr>\n",
       "    <tr>\n",
       "      <th>19</th>\n",
       "      <td>Construction</td>\n",
       "      <td>DP03_0034E</td>\n",
       "    </tr>\n",
       "    <tr>\n",
       "      <th>20</th>\n",
       "      <td>Production</td>\n",
       "      <td>DP03_0031E</td>\n",
       "    </tr>\n",
       "    <tr>\n",
       "      <th>21</th>\n",
       "      <td>Drive</td>\n",
       "      <td>DP03_0019E</td>\n",
       "    </tr>\n",
       "    <tr>\n",
       "      <th>22</th>\n",
       "      <td>Carpool</td>\n",
       "      <td>DP03_0020E</td>\n",
       "    </tr>\n",
       "    <tr>\n",
       "      <th>23</th>\n",
       "      <td>Transit</td>\n",
       "      <td>DP03_0021E</td>\n",
       "    </tr>\n",
       "    <tr>\n",
       "      <th>24</th>\n",
       "      <td>Walk</td>\n",
       "      <td>DP03_0022E</td>\n",
       "    </tr>\n",
       "    <tr>\n",
       "      <th>25</th>\n",
       "      <td>OtherTransp</td>\n",
       "      <td>DP03_0023E</td>\n",
       "    </tr>\n",
       "    <tr>\n",
       "      <th>26</th>\n",
       "      <td>WorkAtHome</td>\n",
       "      <td>DP03_0024E</td>\n",
       "    </tr>\n",
       "    <tr>\n",
       "      <th>27</th>\n",
       "      <td>MeanCommute</td>\n",
       "      <td>DP03_0025E</td>\n",
       "    </tr>\n",
       "    <tr>\n",
       "      <th>28</th>\n",
       "      <td>Employed</td>\n",
       "      <td>DP03_0004E</td>\n",
       "    </tr>\n",
       "    <tr>\n",
       "      <th>29</th>\n",
       "      <td>PrivateWork</td>\n",
       "      <td>DP03_0047E</td>\n",
       "    </tr>\n",
       "    <tr>\n",
       "      <th>30</th>\n",
       "      <td>PublicWork</td>\n",
       "      <td>DP03_0048E</td>\n",
       "    </tr>\n",
       "    <tr>\n",
       "      <th>31</th>\n",
       "      <td>SelfEmployed</td>\n",
       "      <td>DP03_0049E</td>\n",
       "    </tr>\n",
       "    <tr>\n",
       "      <th>32</th>\n",
       "      <td>FamilyWork</td>\n",
       "      <td>DP03_0050E</td>\n",
       "    </tr>\n",
       "    <tr>\n",
       "      <th>33</th>\n",
       "      <td>Unemployment</td>\n",
       "      <td>DP03_0005E</td>\n",
       "    </tr>\n",
       "    <tr>\n",
       "      <th>34</th>\n",
       "      <td>Housing with Mortgage</td>\n",
       "      <td>S2506_C01_001E</td>\n",
       "    </tr>\n",
       "    <tr>\n",
       "      <th>35</th>\n",
       "      <td>Median Monthly housing costs</td>\n",
       "      <td>S2506_C02_040E</td>\n",
       "    </tr>\n",
       "    <tr>\n",
       "      <th>36</th>\n",
       "      <td>Less than High School Graduate</td>\n",
       "      <td>S1501_C01_002E</td>\n",
       "    </tr>\n",
       "    <tr>\n",
       "      <th>37</th>\n",
       "      <td>Some College or Associates degree</td>\n",
       "      <td>S1501_C01_004E</td>\n",
       "    </tr>\n",
       "    <tr>\n",
       "      <th>38</th>\n",
       "      <td>Bachelors degree or higher</td>\n",
       "      <td>S1501_C01_005E</td>\n",
       "    </tr>\n",
       "  </tbody>\n",
       "</table>\n",
       "</div>"
      ],
      "text/plain": [
       "                              ColName         TabName\n",
       "0                            TotalPop      DP05_0001E\n",
       "1                                 Men      DP05_0002E\n",
       "2                               Women      DP05_0003E\n",
       "3                            Hispanic      DP05_0003E\n",
       "4                               White      DP05_0064E\n",
       "5                               Black      DP05_0065E\n",
       "6                              Native      DP05_0066E\n",
       "7                               Asian      DP05_0067E\n",
       "8                             Pacific      DP05_0068E\n",
       "9                             Citizen      DP05_0087E\n",
       "10                             Income      DP03_0087E\n",
       "11                          IncomeErr      DP03_0087M\n",
       "12                       IncomePerCap      DP03_0088E\n",
       "13                    IncomePerCapErr      DP03_0088M\n",
       "14                            Poverty      DP03_0128E\n",
       "15                       ChildPoverty      DP03_0129E\n",
       "16                       Professional      DP03_0027E\n",
       "17                            Service      DP03_0028E\n",
       "18                             Office      DP03_0029E\n",
       "19                       Construction      DP03_0034E\n",
       "20                         Production      DP03_0031E\n",
       "21                              Drive      DP03_0019E\n",
       "22                            Carpool      DP03_0020E\n",
       "23                            Transit      DP03_0021E\n",
       "24                               Walk      DP03_0022E\n",
       "25                        OtherTransp      DP03_0023E\n",
       "26                         WorkAtHome      DP03_0024E\n",
       "27                        MeanCommute      DP03_0025E\n",
       "28                           Employed      DP03_0004E\n",
       "29                        PrivateWork      DP03_0047E\n",
       "30                         PublicWork      DP03_0048E\n",
       "31                       SelfEmployed      DP03_0049E\n",
       "32                         FamilyWork      DP03_0050E\n",
       "33                       Unemployment      DP03_0005E\n",
       "34              Housing with Mortgage  S2506_C01_001E\n",
       "35       Median Monthly housing costs  S2506_C02_040E\n",
       "36     Less than High School Graduate  S1501_C01_002E\n",
       "37  Some College or Associates degree  S1501_C01_004E\n",
       "38         Bachelors degree or higher  S1501_C01_005E"
      ]
     },
     "execution_count": 4,
     "metadata": {},
     "output_type": "execute_result"
    }
   ],
   "source": [
    "df1"
   ]
  },
  {
   "cell_type": "code",
   "execution_count": 5,
   "id": "bb1db807-98d6-4353-92e4-e3311d13c2ac",
   "metadata": {},
   "outputs": [],
   "source": [
    "#creating a list of respective columns to be filtered from each of the source tables\n",
    "\n",
    "cols_DP03=df1[df1['TabName'].str.contains('DP03')].values[:,1].tolist()\n",
    "cols_DP05=df1[df1['TabName'].str.contains('DP05')].values[:,1].tolist()\n",
    "cols_S2506=df1[df1['TabName'].str.contains('S2506')].values[:,1].tolist()\n",
    "cols_S1501=df1[df1['TabName'].str.contains('S1501')].values[:,1].tolist()"
   ]
  },
  {
   "cell_type": "code",
   "execution_count": 6,
   "id": "19e54128-4c81-436f-a4b5-02cf6475cb77",
   "metadata": {},
   "outputs": [],
   "source": [
    "# 'Name' column would be used as the key to join the data \n",
    "\n",
    "cols_DP03.insert(0,'NAME')\n",
    "cols_DP05.insert(0,'NAME')\n",
    "cols_S2506.insert(0,'NAME')\n",
    "cols_S1501.insert(0,'NAME')"
   ]
  },
  {
   "cell_type": "code",
   "execution_count": 7,
   "id": "3c7754f7-d387-4fee-a706-19d43ca50418",
   "metadata": {},
   "outputs": [],
   "source": [
    "# importing the csv files downloaded from US Census website\n",
    "\n",
    "df_DP05=pd.read_csv(r'.\\data\\ACSDP5Y2020.DP05-Data.csv', dtype='str',header=0)\n",
    "df_DP03=pd.read_csv(r'.\\data\\ACSDP5Y2020.DP03-Data.csv', dtype='str',header=0)\n",
    "df_S2506=pd.read_csv(r'.\\data\\ACSST5Y2020.S2506-Data.csv', dtype='str',header=0)\n",
    "df_S1501=pd.read_csv(r'.\\data\\ACSST5Y2020.S1501-Data.csv', dtype='str',header=0)"
   ]
  },
  {
   "cell_type": "code",
   "execution_count": 8,
   "id": "8eedc86f-11d7-41ad-b090-f9554c7f1f21",
   "metadata": {},
   "outputs": [
    {
     "data": {
      "text/plain": [
       "0        Estimate!!SEX AND AGE!!Total population!!Female\n",
       "1                                                   8455\n",
       "2                                                  18934\n",
       "3                                                  23470\n",
       "4                                                   3156\n",
       "                              ...                       \n",
       "33116                                                 12\n",
       "33117                                                438\n",
       "33118                                                716\n",
       "33119                                                  0\n",
       "33120                                               1153\n",
       "Name: DP05_0003E, Length: 33121, dtype: object"
      ]
     },
     "execution_count": 8,
     "metadata": {},
     "output_type": "execute_result"
    }
   ],
   "source": [
    "df_DP05['DP05_0003E']"
   ]
  },
  {
   "cell_type": "code",
   "execution_count": 9,
   "id": "a8e81172-8399-4d49-a988-c72900bb4ade",
   "metadata": {},
   "outputs": [],
   "source": [
    "# First 2 rows indicate the header\n",
    "\n",
    "df_DP05.drop([0], axis=0, inplace=True)\n",
    "df_DP03.drop([0], axis=0, inplace=True)\n",
    "df_S2506.drop([0], axis=0, inplace=True)\n",
    "df_S1501.drop([0], axis=0, inplace=True)\n"
   ]
  },
  {
   "cell_type": "code",
   "execution_count": 10,
   "id": "590967fa-4d56-45d5-9816-04bbd8d623ee",
   "metadata": {},
   "outputs": [],
   "source": [
    "# Final dataframe would consists of the individual dataframes joined together on the key 'NAME' (which stored the zip code)\n",
    "\n",
    "df_merged=pd.merge(df_DP03[cols_DP03], df_DP05[cols_DP05], on='NAME')\n",
    "df_merged=pd.merge(df_merged,df_S2506[cols_S2506], on='NAME')\n",
    "df_merged=pd.merge(df_merged,df_S1501[cols_S1501], on='NAME')"
   ]
  },
  {
   "cell_type": "markdown",
   "id": "4d93c0c0",
   "metadata": {},
   "source": [
    "#### Section 3c: Data Processing and Cleaning\n",
    "\n",
    "The final dataframe created after merging the relevant columns consists of 32921 rows and 39 columns. As part of cleaning this data, we will perform the following activities:\n",
    "\n",
    "<b>1. Renaming the columns:</b> <br>\n",
    "The column names imported from the csv files from US Census website is present in a coded format (Ex - DP05_0001E). Using the metadata information (also available from the website) we have renamed the columns as per their description provided in the metadata.<br>\n",
    "<b>2. Extracting Zip code values:</b><br>\n",
    "The column ‘Name’ contains the zip code values prefixed with another code, called zipcode tabulation code (Ex - ZCTA5 00601). We use a regular expression to extract 5 numeric digits from the this column which represents the zip code. <br>\n",
    "<b>3. Mapping City and State information with Zipcode:</b><br>\n",
    "We will add the city and state information about the zipcodes in order to evaluate the mean of different parameters (such as Income, Education etc) at a geographical level and compare the results with the zip code. This will help in identifying how the a particular zip code is performing when compared to the city or state average.\n",
    "<br>\n",
    "<b>4. Identification of columns with null/inconsistent values: </b><br>\n",
    "For our analysis, we came up with relevant factors such as average Income, Education, and Financial details of a person in a zipcode. From our list of factors, we identified 2 factors - ‘Poverty’ and ‘Child Poverty’ for which no data was available for any zip code. These columns were hence dropped from the analysis.\n",
    "<br>\n",
    "<b>5. Identification of rows with null/inconsistent values: </b><br>\n",
    "We analyzed the column 'Income' and found 1669 zip codes contain inconsistent values such as '*' or '-'. This value amounts to ~5% of the total population hence we decided to exclude them from our analysis by dropping them.\n",
    "<br>\n",
    "<b>6. Data type conversion for numeric columns:</b><br>\n",
    "In order to perform aggregations such as average across a all the zipcodes in a state, we need to convert the data type of columns from existing type (string) to an integer.\n",
    "<br>"
   ]
  },
  {
   "cell_type": "code",
   "execution_count": 11,
   "id": "81692cc0",
   "metadata": {},
   "outputs": [
    {
     "data": {
      "text/plain": [
       "Index(['NAME', 'DP03_0087E', 'DP03_0087M', 'DP03_0088E', 'DP03_0088M',\n",
       "       'DP03_0128E', 'DP03_0129E', 'DP03_0027E', 'DP03_0028E', 'DP03_0029E',\n",
       "       'DP03_0034E', 'DP03_0031E', 'DP03_0019E', 'DP03_0020E', 'DP03_0021E',\n",
       "       'DP03_0022E', 'DP03_0023E', 'DP03_0024E', 'DP03_0025E', 'DP03_0004E',\n",
       "       'DP03_0047E', 'DP03_0048E', 'DP03_0049E', 'DP03_0050E', 'DP03_0005E',\n",
       "       'DP05_0001E', 'DP05_0002E', 'DP05_0003E', 'DP05_0003E', 'DP05_0064E',\n",
       "       'DP05_0065E', 'DP05_0066E', 'DP05_0067E', 'DP05_0068E', 'DP05_0087E',\n",
       "       'S2506_C01_001E', 'S2506_C02_040E', 'S1501_C01_002E', 'S1501_C01_004E',\n",
       "       'S1501_C01_005E'],\n",
       "      dtype='object')"
      ]
     },
     "execution_count": 11,
     "metadata": {},
     "output_type": "execute_result"
    }
   ],
   "source": [
    "# To check the name of all the columns of the data frame\n",
    "df_merged.columns"
   ]
  },
  {
   "cell_type": "markdown",
   "id": "736cc1c0",
   "metadata": {},
   "source": [
    "1. Renaming the columns: \n",
    "\n",
    "Now we will rename the column name based on the Table name. As there are 30+ columns converting data frame into dictionary to get the list of all the column name and table name. "
   ]
  },
  {
   "cell_type": "code",
   "execution_count": 12,
   "id": "efc93e39",
   "metadata": {},
   "outputs": [
    {
     "data": {
      "text/plain": [
       "{'DP05_0001E': 'TotalPop',\n",
       " 'DP05_0002E': 'Men',\n",
       " 'DP05_0003E': 'Hispanic',\n",
       " 'DP05_0064E': 'White',\n",
       " 'DP05_0065E': 'Black',\n",
       " 'DP05_0066E': 'Native',\n",
       " 'DP05_0067E': 'Asian',\n",
       " 'DP05_0068E': 'Pacific',\n",
       " 'DP05_0087E': 'Citizen',\n",
       " 'DP03_0087E': 'Income',\n",
       " 'DP03_0087M': 'IncomeErr',\n",
       " 'DP03_0088E': 'IncomePerCap',\n",
       " 'DP03_0088M': 'IncomePerCapErr',\n",
       " 'DP03_0128E': 'Poverty',\n",
       " 'DP03_0129E': 'ChildPoverty',\n",
       " 'DP03_0027E': 'Professional',\n",
       " 'DP03_0028E': 'Service',\n",
       " 'DP03_0029E': 'Office',\n",
       " 'DP03_0034E': 'Construction',\n",
       " 'DP03_0031E': 'Production',\n",
       " 'DP03_0019E': 'Drive',\n",
       " 'DP03_0020E': 'Carpool',\n",
       " 'DP03_0021E': 'Transit',\n",
       " 'DP03_0022E': 'Walk',\n",
       " 'DP03_0023E': 'OtherTransp',\n",
       " 'DP03_0024E': 'WorkAtHome',\n",
       " 'DP03_0025E': 'MeanCommute',\n",
       " 'DP03_0004E': 'Employed',\n",
       " 'DP03_0047E': 'PrivateWork',\n",
       " 'DP03_0048E': 'PublicWork',\n",
       " 'DP03_0049E': 'SelfEmployed',\n",
       " 'DP03_0050E': 'FamilyWork',\n",
       " 'DP03_0005E': 'Unemployment',\n",
       " 'S2506_C01_001E': 'Housing with Mortgage',\n",
       " 'S2506_C02_040E': 'Median Monthly housing costs',\n",
       " 'S1501_C01_002E': 'Less than High School Graduate',\n",
       " 'S1501_C01_004E': 'Some College or Associates degree',\n",
       " 'S1501_C01_005E': 'Bachelors degree or higher'}"
      ]
     },
     "execution_count": 12,
     "metadata": {},
     "output_type": "execute_result"
    }
   ],
   "source": [
    "# To convert the data frame having column name and table name into dictionary. Column Name as a key and Table Name as a value in dictionary.\n",
    "pd.Series(df1.ColName.values,index=df1.TabName).to_dict()"
   ]
  },
  {
   "cell_type": "code",
   "execution_count": 13,
   "id": "be0ce5a7",
   "metadata": {
    "tags": []
   },
   "outputs": [],
   "source": [
    "# To rename the columns names\n",
    "df_merged.rename(columns = {'DP05_0001E': 'TotalPop',\n",
    " 'DP05_0002E': 'Men',\n",
    " 'DP05_0003E': 'Hispanic',\n",
    " 'DP05_0064E': 'White',\n",
    " 'DP05_0065E': 'Black',\n",
    " 'DP05_0066E': 'Native',\n",
    " 'DP05_0067E': 'Asian',\n",
    " 'DP05_0068E': 'Pacific',\n",
    " 'DP05_0087E': 'Citizen',\n",
    " 'DP03_0087E': 'Income',\n",
    " 'DP03_0087M': 'IncomeErr',\n",
    " 'DP03_0088E': 'IncomePerCap',\n",
    " 'DP03_0088M': 'IncomePerCapErr',\n",
    " 'DP03_0128E': 'Poverty',\n",
    " 'DP03_0129E': 'ChildPoverty',\n",
    " 'DP03_0027E': 'Professional',\n",
    " 'DP03_0028E': 'Service',\n",
    " 'DP03_0029E': 'Office',\n",
    " 'DP03_0034E': 'Construction',\n",
    " 'DP03_0031E': 'Production',\n",
    " 'DP03_0019E': 'Drive',\n",
    " 'DP03_0020E': 'Carpool',\n",
    " 'DP03_0021E': 'Transit',\n",
    " 'DP03_0022E': 'Walk',\n",
    " 'DP03_0023E': 'OtherTransp',\n",
    " 'DP03_0024E': 'WorkAtHome',\n",
    " 'DP03_0025E': 'MeanCommute',\n",
    " 'DP03_0004E': 'Employed',\n",
    " 'DP03_0047E': 'PrivateWork',\n",
    " 'DP03_0048E': 'PublicWork',\n",
    " 'DP03_0049E': 'SelfEmployed',\n",
    " 'DP03_0050E': 'FamilyWork',\n",
    " 'DP03_0005E': 'Unemployment', \n",
    " 'S2506_C01_001E': 'Housing with Mortgage',\n",
    " 'S2506_C02_040E': 'Median Monthly housing costs',\n",
    " 'S1501_C01_002E': 'Less than High School Graduate',\n",
    " 'S1501_C01_004E': 'Some College or Associates degree',\n",
    " 'S1501_C01_005E': 'Bachelors degree or higher'\n",
    "                             },inplace=True)"
   ]
  },
  {
   "cell_type": "code",
   "execution_count": 14,
   "id": "22fe9bba",
   "metadata": {},
   "outputs": [
    {
     "data": {
      "text/html": [
       "<div>\n",
       "<style scoped>\n",
       "    .dataframe tbody tr th:only-of-type {\n",
       "        vertical-align: middle;\n",
       "    }\n",
       "\n",
       "    .dataframe tbody tr th {\n",
       "        vertical-align: top;\n",
       "    }\n",
       "\n",
       "    .dataframe thead th {\n",
       "        text-align: right;\n",
       "    }\n",
       "</style>\n",
       "<table border=\"1\" class=\"dataframe\">\n",
       "  <thead>\n",
       "    <tr style=\"text-align: right;\">\n",
       "      <th></th>\n",
       "      <th>NAME</th>\n",
       "      <th>Income</th>\n",
       "      <th>IncomeErr</th>\n",
       "      <th>IncomePerCap</th>\n",
       "      <th>IncomePerCapErr</th>\n",
       "      <th>Poverty</th>\n",
       "      <th>ChildPoverty</th>\n",
       "      <th>Professional</th>\n",
       "      <th>Service</th>\n",
       "      <th>Office</th>\n",
       "      <th>...</th>\n",
       "      <th>Black</th>\n",
       "      <th>Native</th>\n",
       "      <th>Asian</th>\n",
       "      <th>Pacific</th>\n",
       "      <th>Citizen</th>\n",
       "      <th>Housing with Mortgage</th>\n",
       "      <th>Median Monthly housing costs</th>\n",
       "      <th>Less than High School Graduate</th>\n",
       "      <th>Some College or Associates degree</th>\n",
       "      <th>Bachelors degree or higher</th>\n",
       "    </tr>\n",
       "  </thead>\n",
       "  <tbody>\n",
       "    <tr>\n",
       "      <th>0</th>\n",
       "      <td>ZCTA5 00601</td>\n",
       "      <td>21705</td>\n",
       "      <td>2379</td>\n",
       "      <td>7256</td>\n",
       "      <td>639</td>\n",
       "      <td>(X)</td>\n",
       "      <td>(X)</td>\n",
       "      <td>1005</td>\n",
       "      <td>1088</td>\n",
       "      <td>587</td>\n",
       "      <td>...</td>\n",
       "      <td>427</td>\n",
       "      <td>102</td>\n",
       "      <td>2</td>\n",
       "      <td>0</td>\n",
       "      <td>13421</td>\n",
       "      <td>596</td>\n",
       "      <td>747</td>\n",
       "      <td>235</td>\n",
       "      <td>719</td>\n",
       "      <td>204</td>\n",
       "    </tr>\n",
       "    <tr>\n",
       "      <th>1</th>\n",
       "      <td>ZCTA5 00602</td>\n",
       "      <td>29986</td>\n",
       "      <td>2297</td>\n",
       "      <td>9981</td>\n",
       "      <td>594</td>\n",
       "      <td>(X)</td>\n",
       "      <td>(X)</td>\n",
       "      <td>2828</td>\n",
       "      <td>2455</td>\n",
       "      <td>2654</td>\n",
       "      <td>...</td>\n",
       "      <td>6708</td>\n",
       "      <td>4740</td>\n",
       "      <td>17</td>\n",
       "      <td>0</td>\n",
       "      <td>30430</td>\n",
       "      <td>1908</td>\n",
       "      <td>855</td>\n",
       "      <td>219</td>\n",
       "      <td>1890</td>\n",
       "      <td>604</td>\n",
       "    </tr>\n",
       "    <tr>\n",
       "      <th>2</th>\n",
       "      <td>ZCTA5 00603</td>\n",
       "      <td>31402</td>\n",
       "      <td>3520</td>\n",
       "      <td>11794</td>\n",
       "      <td>1030</td>\n",
       "      <td>(X)</td>\n",
       "      <td>(X)</td>\n",
       "      <td>3654</td>\n",
       "      <td>2615</td>\n",
       "      <td>2940</td>\n",
       "      <td>...</td>\n",
       "      <td>2026</td>\n",
       "      <td>300</td>\n",
       "      <td>74</td>\n",
       "      <td>14</td>\n",
       "      <td>36770</td>\n",
       "      <td>3528</td>\n",
       "      <td>814</td>\n",
       "      <td>487</td>\n",
       "      <td>2002</td>\n",
       "      <td>331</td>\n",
       "    </tr>\n",
       "    <tr>\n",
       "      <th>3</th>\n",
       "      <td>ZCTA5 00606</td>\n",
       "      <td>20062</td>\n",
       "      <td>2954</td>\n",
       "      <td>6901</td>\n",
       "      <td>862</td>\n",
       "      <td>(X)</td>\n",
       "      <td>(X)</td>\n",
       "      <td>150</td>\n",
       "      <td>316</td>\n",
       "      <td>237</td>\n",
       "      <td>...</td>\n",
       "      <td>168</td>\n",
       "      <td>22</td>\n",
       "      <td>0</td>\n",
       "      <td>0</td>\n",
       "      <td>5007</td>\n",
       "      <td>174</td>\n",
       "      <td>549</td>\n",
       "      <td>74</td>\n",
       "      <td>328</td>\n",
       "      <td>60</td>\n",
       "    </tr>\n",
       "    <tr>\n",
       "      <th>4</th>\n",
       "      <td>ZCTA5 00610</td>\n",
       "      <td>32154</td>\n",
       "      <td>3137</td>\n",
       "      <td>10643</td>\n",
       "      <td>832</td>\n",
       "      <td>(X)</td>\n",
       "      <td>(X)</td>\n",
       "      <td>1787</td>\n",
       "      <td>1942</td>\n",
       "      <td>1910</td>\n",
       "      <td>...</td>\n",
       "      <td>4229</td>\n",
       "      <td>2926</td>\n",
       "      <td>9</td>\n",
       "      <td>1</td>\n",
       "      <td>21725</td>\n",
       "      <td>1868</td>\n",
       "      <td>733</td>\n",
       "      <td>154</td>\n",
       "      <td>1520</td>\n",
       "      <td>349</td>\n",
       "    </tr>\n",
       "  </tbody>\n",
       "</table>\n",
       "<p>5 rows × 40 columns</p>\n",
       "</div>"
      ],
      "text/plain": [
       "          NAME Income IncomeErr IncomePerCap IncomePerCapErr Poverty  \\\n",
       "0  ZCTA5 00601  21705      2379         7256             639     (X)   \n",
       "1  ZCTA5 00602  29986      2297         9981             594     (X)   \n",
       "2  ZCTA5 00603  31402      3520        11794            1030     (X)   \n",
       "3  ZCTA5 00606  20062      2954         6901             862     (X)   \n",
       "4  ZCTA5 00610  32154      3137        10643             832     (X)   \n",
       "\n",
       "  ChildPoverty Professional Service Office  ... Black Native Asian Pacific  \\\n",
       "0          (X)         1005    1088    587  ...   427    102     2       0   \n",
       "1          (X)         2828    2455   2654  ...  6708   4740    17       0   \n",
       "2          (X)         3654    2615   2940  ...  2026    300    74      14   \n",
       "3          (X)          150     316    237  ...   168     22     0       0   \n",
       "4          (X)         1787    1942   1910  ...  4229   2926     9       1   \n",
       "\n",
       "  Citizen Housing with Mortgage Median Monthly housing costs  \\\n",
       "0   13421                   596                          747   \n",
       "1   30430                  1908                          855   \n",
       "2   36770                  3528                          814   \n",
       "3    5007                   174                          549   \n",
       "4   21725                  1868                          733   \n",
       "\n",
       "  Less than High School Graduate Some College or Associates degree  \\\n",
       "0                            235                               719   \n",
       "1                            219                              1890   \n",
       "2                            487                              2002   \n",
       "3                             74                               328   \n",
       "4                            154                              1520   \n",
       "\n",
       "  Bachelors degree or higher  \n",
       "0                        204  \n",
       "1                        604  \n",
       "2                        331  \n",
       "3                         60  \n",
       "4                        349  \n",
       "\n",
       "[5 rows x 40 columns]"
      ]
     },
     "execution_count": 14,
     "metadata": {},
     "output_type": "execute_result"
    }
   ],
   "source": [
    "# To verify the column name of the data frame\n",
    "df_merged.head()"
   ]
  },
  {
   "cell_type": "code",
   "execution_count": 15,
   "id": "5699f855",
   "metadata": {},
   "outputs": [],
   "source": [
    "# To extract the Zip Code from the NAME column and giving it a new column name 'ZipCode'\n",
    "df_merged['ZipCode'] = df_merged['NAME'].str.findall(r'\\d{5}')"
   ]
  },
  {
   "cell_type": "code",
   "execution_count": 16,
   "id": "37303c9a",
   "metadata": {},
   "outputs": [],
   "source": [
    "# To get the first element of the list of the Zip Code column\n",
    "df_merged.ZipCode = df_merged.ZipCode.map(lambda x: x[0])"
   ]
  },
  {
   "cell_type": "markdown",
   "id": "efc7505e",
   "metadata": {},
   "source": [
    "2. We will map the zip code with the State and city\n",
    "\n",
    "We add the city and state information about the zipcodes in order to evaluate the mean of different parameters (such as Income, Education etc) at a geographical level and compare the results with the zip code. This will help in identifying how the a particular zip code is performing when compared to the city or state average."
   ]
  },
  {
   "cell_type": "code",
   "execution_count": 17,
   "id": "cb7999bd",
   "metadata": {},
   "outputs": [],
   "source": [
    "# To add city and state information and map with the zip code\n",
    "city_state_mapping_df = pd.read_csv(r'.\\data\\uszips.csv', dtype='str', header=0)"
   ]
  },
  {
   "cell_type": "code",
   "execution_count": 18,
   "id": "3818104a",
   "metadata": {},
   "outputs": [],
   "source": [
    "# To map the Zip code, city and state name\n",
    "city_state_mapping_df = city_state_mapping_df[['zip','city','state_name']]"
   ]
  },
  {
   "cell_type": "code",
   "execution_count": 19,
   "id": "c7d09c84",
   "metadata": {},
   "outputs": [],
   "source": [
    "# To rename the Zip Code, State and City columns\n",
    "city_state_mapping_df.rename(columns = {'zip':'ZipCode', 'city':'City',  'state_name':'State' }, inplace = True)"
   ]
  },
  {
   "cell_type": "code",
   "execution_count": 20,
   "id": "5fc71106",
   "metadata": {},
   "outputs": [],
   "source": [
    "# To merge city and state based on the Zip code\n",
    "df_merged = pd.merge(df_merged , city_state_mapping_df, on='ZipCode')"
   ]
  },
  {
   "cell_type": "code",
   "execution_count": 21,
   "id": "f5b43a99",
   "metadata": {},
   "outputs": [
    {
     "data": {
      "text/html": [
       "<div>\n",
       "<style scoped>\n",
       "    .dataframe tbody tr th:only-of-type {\n",
       "        vertical-align: middle;\n",
       "    }\n",
       "\n",
       "    .dataframe tbody tr th {\n",
       "        vertical-align: top;\n",
       "    }\n",
       "\n",
       "    .dataframe thead th {\n",
       "        text-align: right;\n",
       "    }\n",
       "</style>\n",
       "<table border=\"1\" class=\"dataframe\">\n",
       "  <thead>\n",
       "    <tr style=\"text-align: right;\">\n",
       "      <th></th>\n",
       "      <th>NAME</th>\n",
       "      <th>Income</th>\n",
       "      <th>IncomeErr</th>\n",
       "      <th>IncomePerCap</th>\n",
       "      <th>IncomePerCapErr</th>\n",
       "      <th>Poverty</th>\n",
       "      <th>ChildPoverty</th>\n",
       "      <th>Professional</th>\n",
       "      <th>Service</th>\n",
       "      <th>Office</th>\n",
       "      <th>...</th>\n",
       "      <th>Pacific</th>\n",
       "      <th>Citizen</th>\n",
       "      <th>Housing with Mortgage</th>\n",
       "      <th>Median Monthly housing costs</th>\n",
       "      <th>Less than High School Graduate</th>\n",
       "      <th>Some College or Associates degree</th>\n",
       "      <th>Bachelors degree or higher</th>\n",
       "      <th>ZipCode</th>\n",
       "      <th>City</th>\n",
       "      <th>State</th>\n",
       "    </tr>\n",
       "  </thead>\n",
       "  <tbody>\n",
       "    <tr>\n",
       "      <th>0</th>\n",
       "      <td>ZCTA5 00601</td>\n",
       "      <td>21705</td>\n",
       "      <td>2379</td>\n",
       "      <td>7256</td>\n",
       "      <td>639</td>\n",
       "      <td>(X)</td>\n",
       "      <td>(X)</td>\n",
       "      <td>1005</td>\n",
       "      <td>1088</td>\n",
       "      <td>587</td>\n",
       "      <td>...</td>\n",
       "      <td>0</td>\n",
       "      <td>13421</td>\n",
       "      <td>596</td>\n",
       "      <td>747</td>\n",
       "      <td>235</td>\n",
       "      <td>719</td>\n",
       "      <td>204</td>\n",
       "      <td>00601</td>\n",
       "      <td>Adjuntas</td>\n",
       "      <td>Puerto Rico</td>\n",
       "    </tr>\n",
       "    <tr>\n",
       "      <th>1</th>\n",
       "      <td>ZCTA5 00602</td>\n",
       "      <td>29986</td>\n",
       "      <td>2297</td>\n",
       "      <td>9981</td>\n",
       "      <td>594</td>\n",
       "      <td>(X)</td>\n",
       "      <td>(X)</td>\n",
       "      <td>2828</td>\n",
       "      <td>2455</td>\n",
       "      <td>2654</td>\n",
       "      <td>...</td>\n",
       "      <td>0</td>\n",
       "      <td>30430</td>\n",
       "      <td>1908</td>\n",
       "      <td>855</td>\n",
       "      <td>219</td>\n",
       "      <td>1890</td>\n",
       "      <td>604</td>\n",
       "      <td>00602</td>\n",
       "      <td>Aguada</td>\n",
       "      <td>Puerto Rico</td>\n",
       "    </tr>\n",
       "    <tr>\n",
       "      <th>2</th>\n",
       "      <td>ZCTA5 00603</td>\n",
       "      <td>31402</td>\n",
       "      <td>3520</td>\n",
       "      <td>11794</td>\n",
       "      <td>1030</td>\n",
       "      <td>(X)</td>\n",
       "      <td>(X)</td>\n",
       "      <td>3654</td>\n",
       "      <td>2615</td>\n",
       "      <td>2940</td>\n",
       "      <td>...</td>\n",
       "      <td>14</td>\n",
       "      <td>36770</td>\n",
       "      <td>3528</td>\n",
       "      <td>814</td>\n",
       "      <td>487</td>\n",
       "      <td>2002</td>\n",
       "      <td>331</td>\n",
       "      <td>00603</td>\n",
       "      <td>Aguadilla</td>\n",
       "      <td>Puerto Rico</td>\n",
       "    </tr>\n",
       "    <tr>\n",
       "      <th>3</th>\n",
       "      <td>ZCTA5 00606</td>\n",
       "      <td>20062</td>\n",
       "      <td>2954</td>\n",
       "      <td>6901</td>\n",
       "      <td>862</td>\n",
       "      <td>(X)</td>\n",
       "      <td>(X)</td>\n",
       "      <td>150</td>\n",
       "      <td>316</td>\n",
       "      <td>237</td>\n",
       "      <td>...</td>\n",
       "      <td>0</td>\n",
       "      <td>5007</td>\n",
       "      <td>174</td>\n",
       "      <td>549</td>\n",
       "      <td>74</td>\n",
       "      <td>328</td>\n",
       "      <td>60</td>\n",
       "      <td>00606</td>\n",
       "      <td>Maricao</td>\n",
       "      <td>Puerto Rico</td>\n",
       "    </tr>\n",
       "    <tr>\n",
       "      <th>4</th>\n",
       "      <td>ZCTA5 00610</td>\n",
       "      <td>32154</td>\n",
       "      <td>3137</td>\n",
       "      <td>10643</td>\n",
       "      <td>832</td>\n",
       "      <td>(X)</td>\n",
       "      <td>(X)</td>\n",
       "      <td>1787</td>\n",
       "      <td>1942</td>\n",
       "      <td>1910</td>\n",
       "      <td>...</td>\n",
       "      <td>1</td>\n",
       "      <td>21725</td>\n",
       "      <td>1868</td>\n",
       "      <td>733</td>\n",
       "      <td>154</td>\n",
       "      <td>1520</td>\n",
       "      <td>349</td>\n",
       "      <td>00610</td>\n",
       "      <td>Anasco</td>\n",
       "      <td>Puerto Rico</td>\n",
       "    </tr>\n",
       "  </tbody>\n",
       "</table>\n",
       "<p>5 rows × 43 columns</p>\n",
       "</div>"
      ],
      "text/plain": [
       "          NAME Income IncomeErr IncomePerCap IncomePerCapErr Poverty  \\\n",
       "0  ZCTA5 00601  21705      2379         7256             639     (X)   \n",
       "1  ZCTA5 00602  29986      2297         9981             594     (X)   \n",
       "2  ZCTA5 00603  31402      3520        11794            1030     (X)   \n",
       "3  ZCTA5 00606  20062      2954         6901             862     (X)   \n",
       "4  ZCTA5 00610  32154      3137        10643             832     (X)   \n",
       "\n",
       "  ChildPoverty Professional Service Office  ... Pacific Citizen  \\\n",
       "0          (X)         1005    1088    587  ...       0   13421   \n",
       "1          (X)         2828    2455   2654  ...       0   30430   \n",
       "2          (X)         3654    2615   2940  ...      14   36770   \n",
       "3          (X)          150     316    237  ...       0    5007   \n",
       "4          (X)         1787    1942   1910  ...       1   21725   \n",
       "\n",
       "  Housing with Mortgage Median Monthly housing costs  \\\n",
       "0                   596                          747   \n",
       "1                  1908                          855   \n",
       "2                  3528                          814   \n",
       "3                   174                          549   \n",
       "4                  1868                          733   \n",
       "\n",
       "  Less than High School Graduate Some College or Associates degree  \\\n",
       "0                            235                               719   \n",
       "1                            219                              1890   \n",
       "2                            487                              2002   \n",
       "3                             74                               328   \n",
       "4                            154                              1520   \n",
       "\n",
       "  Bachelors degree or higher ZipCode       City        State  \n",
       "0                        204   00601   Adjuntas  Puerto Rico  \n",
       "1                        604   00602     Aguada  Puerto Rico  \n",
       "2                        331   00603  Aguadilla  Puerto Rico  \n",
       "3                         60   00606    Maricao  Puerto Rico  \n",
       "4                        349   00610     Anasco  Puerto Rico  \n",
       "\n",
       "[5 rows x 43 columns]"
      ]
     },
     "execution_count": 21,
     "metadata": {},
     "output_type": "execute_result"
    }
   ],
   "source": [
    "# To display the first five rows\n",
    "df_merged.head()"
   ]
  },
  {
   "cell_type": "markdown",
   "id": "b7b4c11d",
   "metadata": {},
   "source": [
    "4. Identification of columns with null/inconsistent values:"
   ]
  },
  {
   "cell_type": "code",
   "execution_count": 22,
   "id": "c7fa29d5",
   "metadata": {},
   "outputs": [],
   "source": [
    "# To drop the Name, Poverty and ChildPoverty column as we dont have data in that column\n",
    "df_merged.drop(['NAME', 'Poverty', 'ChildPoverty'], axis=1, inplace=True)"
   ]
  },
  {
   "cell_type": "code",
   "execution_count": null,
   "id": "f9701f9f-8798-4c21-b1a3-a47419e8564a",
   "metadata": {},
   "outputs": [],
   "source": []
  },
  {
   "cell_type": "code",
   "execution_count": 23,
   "id": "1cd7f84f",
   "metadata": {},
   "outputs": [],
   "source": [
    "# To set the index of the data frame.\n",
    "df_merged.set_index(['ZipCode'], inplace=True)"
   ]
  },
  {
   "cell_type": "markdown",
   "id": "72d7691f",
   "metadata": {},
   "source": [
    "5. Identification of rows with null/inconsistent values:"
   ]
  },
  {
   "cell_type": "code",
   "execution_count": 24,
   "id": "477f2081",
   "metadata": {},
   "outputs": [
    {
     "data": {
      "text/plain": [
       "(32921, 39)"
      ]
     },
     "execution_count": 24,
     "metadata": {},
     "output_type": "execute_result"
    }
   ],
   "source": [
    "# To check number of rows and columns\n",
    "df_merged.shape"
   ]
  },
  {
   "cell_type": "code",
   "execution_count": 25,
   "id": "a8e5bf26",
   "metadata": {},
   "outputs": [],
   "source": [
    "# To filter out the rows that have non numeric rows in Income column\n",
    "df_final = df_merged[df_merged['Income'].apply(lambda x: x.isnumeric())]"
   ]
  },
  {
   "cell_type": "code",
   "execution_count": 26,
   "id": "b6328491",
   "metadata": {},
   "outputs": [
    {
     "data": {
      "text/plain": [
       "(31252, 39)"
      ]
     },
     "execution_count": 26,
     "metadata": {},
     "output_type": "execute_result"
    }
   ],
   "source": [
    "# To check the number of rows after dropping the rows that have non numeric rows in Income column\n",
    "df_final.shape"
   ]
  },
  {
   "cell_type": "code",
   "execution_count": 27,
   "id": "5553ff6e",
   "metadata": {},
   "outputs": [
    {
     "data": {
      "text/plain": [
       "Index(['Income', 'IncomeErr', 'IncomePerCap', 'IncomePerCapErr',\n",
       "       'Professional', 'Service', 'Office', 'Construction', 'Production',\n",
       "       'Drive', 'Carpool', 'Transit', 'Walk', 'OtherTransp', 'WorkAtHome',\n",
       "       'MeanCommute', 'Employed', 'PrivateWork', 'PublicWork', 'SelfEmployed',\n",
       "       'FamilyWork', 'Unemployment', 'TotalPop', 'Men', 'Hispanic', 'Hispanic',\n",
       "       'White', 'Black', 'Native', 'Asian', 'Pacific', 'Citizen',\n",
       "       'Housing with Mortgage', 'Median Monthly housing costs',\n",
       "       'Less than High School Graduate', 'Some College or Associates degree',\n",
       "       'Bachelors degree or higher', 'City', 'State'],\n",
       "      dtype='object')"
      ]
     },
     "execution_count": 27,
     "metadata": {},
     "output_type": "execute_result"
    }
   ],
   "source": [
    "# To verify the name of columns\n",
    "df_final.columns"
   ]
  },
  {
   "cell_type": "markdown",
   "id": "cf6160bc",
   "metadata": {},
   "source": [
    "As the count of values is very less in Asian , Pacific and Native columns so adding all the count to new column 'RaceOther' , and then dropping the original three columns so reduce the number of columns to analyze."
   ]
  },
  {
   "cell_type": "code",
   "execution_count": 28,
   "id": "cd507dd2",
   "metadata": {},
   "outputs": [
    {
     "name": "stderr",
     "output_type": "stream",
     "text": [
      "C:\\Users\\Admin\\AppData\\Local\\Temp\\ipykernel_8656\\2910718298.py:2: SettingWithCopyWarning: \n",
      "A value is trying to be set on a copy of a slice from a DataFrame.\n",
      "Try using .loc[row_indexer,col_indexer] = value instead\n",
      "\n",
      "See the caveats in the documentation: https://pandas.pydata.org/pandas-docs/stable/user_guide/indexing.html#returning-a-view-versus-a-copy\n",
      "  df_final['RaceOther']= df_final['Asian'] + df_final['Pacific']+ df_final['Native']\n"
     ]
    }
   ],
   "source": [
    "# To add all the values of the Asian, Pacific and Native and creating one new column 'RaceOther'\n",
    "df_final['RaceOther']= df_final['Asian'] + df_final['Pacific']+ df_final['Native']\n",
    "df_final=df_final.drop(['Asian', 'Pacific','Native'], axis=1)"
   ]
  },
  {
   "cell_type": "code",
   "execution_count": 29,
   "id": "7819516a",
   "metadata": {},
   "outputs": [
    {
     "data": {
      "text/plain": [
       "Index(['Income', 'IncomeErr', 'IncomePerCap', 'IncomePerCapErr',\n",
       "       'Professional', 'Service', 'Office', 'Construction', 'Production',\n",
       "       'Drive', 'Carpool', 'Transit', 'Walk', 'OtherTransp', 'WorkAtHome',\n",
       "       'MeanCommute', 'Employed', 'PrivateWork', 'PublicWork', 'SelfEmployed',\n",
       "       'FamilyWork', 'Unemployment', 'TotalPop', 'Men', 'Hispanic', 'Hispanic',\n",
       "       'White', 'Black', 'Citizen', 'Housing with Mortgage',\n",
       "       'Median Monthly housing costs', 'Less than High School Graduate',\n",
       "       'Some College or Associates degree', 'Bachelors degree or higher',\n",
       "       'City', 'State', 'RaceOther'],\n",
       "      dtype='object')"
      ]
     },
     "execution_count": 29,
     "metadata": {},
     "output_type": "execute_result"
    }
   ],
   "source": [
    "# To verify the updated column name\n",
    "df_final.columns"
   ]
  },
  {
   "cell_type": "markdown",
   "id": "fcdfc9e9",
   "metadata": {},
   "source": [
    "6. Data type conversion for numeric columns:\n",
    "\n",
    "Currently done for only Income column and it will be expanded to other column as well."
   ]
  },
  {
   "cell_type": "code",
   "execution_count": 30,
   "id": "25c53552",
   "metadata": {},
   "outputs": [],
   "source": [
    "# To change the data type of Income\n",
    "df_final.Income = df_final.Income.astype(int)"
   ]
  },
  {
   "cell_type": "markdown",
   "id": "318eeeb9",
   "metadata": {},
   "source": [
    "#### Section 3c: Data Visualizations (EDA)"
   ]
  },
  {
   "cell_type": "code",
   "execution_count": 31,
   "id": "6e90bdb5",
   "metadata": {},
   "outputs": [
    {
     "ename": "NameError",
     "evalue": "name 'ax' is not defined",
     "output_type": "error",
     "traceback": [
      "\u001b[1;31m---------------------------------------------------------------------------\u001b[0m",
      "\u001b[1;31mNameError\u001b[0m                                 Traceback (most recent call last)",
      "Input \u001b[1;32mIn [31]\u001b[0m, in \u001b[0;36m<cell line: 7>\u001b[1;34m()\u001b[0m\n\u001b[0;32m      5\u001b[0m axis\u001b[38;5;241m.\u001b[39mset(xlabel \u001b[38;5;241m=\u001b[39m \u001b[38;5;124m\"\u001b[39m\u001b[38;5;124mState\u001b[39m\u001b[38;5;124m\"\u001b[39m)\n\u001b[0;32m      6\u001b[0m axis\u001b[38;5;241m.\u001b[39mset(ylabel \u001b[38;5;241m=\u001b[39m \u001b[38;5;124m\"\u001b[39m\u001b[38;5;124mCount of Zip Codes\u001b[39m\u001b[38;5;124m\"\u001b[39m)\n\u001b[1;32m----> 7\u001b[0m axis\u001b[38;5;241m.\u001b[39mset_xticklabels(\u001b[43max\u001b[49m\u001b[38;5;241m.\u001b[39mget_xticklabels(), rotation\u001b[38;5;241m=\u001b[39m\u001b[38;5;241m90\u001b[39m)\n\u001b[0;32m      8\u001b[0m plt\u001b[38;5;241m.\u001b[39mshow()\n",
      "\u001b[1;31mNameError\u001b[0m: name 'ax' is not defined"
     ]
    },
    {
     "data": {
      "image/png": "[encoded data removed]",
      "text/plain": [
       "<Figure size 1080x504 with 1 Axes>"
      ]
     },
     "metadata": {
      "needs_background": "light"
     },
     "output_type": "display_data"
    }
   ],
   "source": [
    "# Bar chart to visualize the Number of zip codes in each states\n",
    "figure, axis = plt.subplots(1, 1, figsize = (15, 7))\n",
    "plt.suptitle('Number of Zip codes included in a state', fontsize = 1, color= 'teal')\n",
    "axis= sns.countplot(x=df_final[\"State\"], palette= 'pastel')\n",
    "axis.set(xlabel = \"State\")\n",
    "axis.set(ylabel = \"Count of Zip Codes\")\n",
    "axis.set_xticklabels(ax.get_xticklabels(), rotation=90)\n",
    "plt.show()"
   ]
  },
  {
   "cell_type": "code",
   "execution_count": null,
   "id": "80878f46",
   "metadata": {},
   "outputs": [],
   "source": [
    "income_state= df_final.groupby(['State'],as_index=False)['Income'].mean().sort_values(\"Income\", ascending = False)\n",
    "income_state"
   ]
  },
  {
   "cell_type": "code",
   "execution_count": null,
   "id": "2fd366a7",
   "metadata": {},
   "outputs": [],
   "source": [
    "# To plot the average income across all states\n",
    "income_state= df_final.groupby(['State'],as_index=False)['Income'].mean()\n",
    "\n",
    "figure, axis = plt.subplots(figsize=(15, 6))\n",
    "plt.suptitle('Average income across all states', fontsize = 20, color= 'teal')\n",
    "axis = sns.barplot(x=income_state['State'].values, y=income_state['Income'].values, palette=\"crest\")\n",
    "axis.set(xlabel = \"State\")\n",
    "axis.set(ylabel = \"Average Income\")\n",
    "axis.set_xticklabels(axis.get_xticklabels(), rotation=90);"
   ]
  },
  {
   "cell_type": "markdown",
   "id": "0eaabf52",
   "metadata": {},
   "source": [
    "#### Graph Analysis  and Interpertation #1 : Looking at number of zipcodes vs  States \n",
    "- Reason for Visualization\n",
    "\n",
    "The purpose of this bar graph is to compare the count of zipcodes for the states in US. We can draw several conclusions and observations from the graph above. Using this data we can better understand how detailed the zip codes are for each state to have a better level of detail in various regions.\n",
    "- Data-driven observations\n",
    "    - Looking at the visualization graph, one thing we can notice is that Delaware, Florida, Puerto Rico and Virginia are the states with the largest count of zipcodes.\n",
    "    - Another observation is that the lowest count of zipcodes are from Hawaii, Georgia and Arizona.\n",
    "- Inferences(explanation or assumption)that we can Make \n",
    "    - The first inference we can draw from the visualization graph is that when we use our data to draw conclusions on the income of these states we have to keep in mind that the level of detail is higher and might be more accurate.\n",
    " - The second inference is that since Hawaii might be a smaller state geographically it can have lesser zipcodes but Georgia and Arizona a\n",
    "are larger states and need to have more data and level of detail in them to draw accurate conclusions\n"
   ]
  },
  {
   "cell_type": "markdown",
   "id": "5df0b590",
   "metadata": {},
   "source": [
    "#### Graph Analysis  and Interpertation #2 :  Looking at Income  vs  State\n",
    "- Reason for Visualization\n",
    "    - The purpose of this bar graph is to compare the average income for US States with each other. We can draw several conclusions and observations from the graph above. Using this data we can better understand how  income impacts in various regions of the United States\n",
    "- Data-driven observations\n",
    "    - Looking at the visualization graph, one thing we can notice is that the highest income is for the District of Columbia and the lowest is for Puerto Rico\n",
    "- Inferences that we can make:\n",
    "    - The first inference we can draw from the visualization graph is that the income for Puerto Rico is the lowest despite having a higher level of detail. This needs to be analysed further\n"
   ]
  },
  {
   "cell_type": "code",
   "execution_count": null,
   "id": "04da70c5-54a1-476a-b055-df683b7a70f6",
   "metadata": {},
   "outputs": [],
   "source": []
  },
  {
   "cell_type": "code",
   "execution_count": 41,
   "id": "d0ac4ff3-93a1-4b68-8422-d6e7196334b7",
   "metadata": {},
   "outputs": [],
   "source": [
    "del df_final['MeanCommute']"
   ]
  },
  {
   "cell_type": "code",
   "execution_count": null,
   "id": "a7b5bfef-f0ae-498c-829c-294646660b9c",
   "metadata": {},
   "outputs": [],
   "source": []
  },
  {
   "cell_type": "code",
   "execution_count": 33,
   "id": "8d0abc7a-4280-4126-8235-99f60f8633ee",
   "metadata": {},
   "outputs": [
    {
     "data": {
      "text/html": [
       "<div>\n",
       "<style scoped>\n",
       "    .dataframe tbody tr th:only-of-type {\n",
       "        vertical-align: middle;\n",
       "    }\n",
       "\n",
       "    .dataframe tbody tr th {\n",
       "        vertical-align: top;\n",
       "    }\n",
       "\n",
       "    .dataframe thead th {\n",
       "        text-align: right;\n",
       "    }\n",
       "</style>\n",
       "<table border=\"1\" class=\"dataframe\">\n",
       "  <thead>\n",
       "    <tr style=\"text-align: right;\">\n",
       "      <th></th>\n",
       "      <th>Income</th>\n",
       "    </tr>\n",
       "  </thead>\n",
       "  <tbody>\n",
       "    <tr>\n",
       "      <th>Income</th>\n",
       "      <td>1.0</td>\n",
       "    </tr>\n",
       "  </tbody>\n",
       "</table>\n",
       "</div>"
      ],
      "text/plain": [
       "        Income\n",
       "Income     1.0"
      ]
     },
     "execution_count": 33,
     "metadata": {},
     "output_type": "execute_result"
    }
   ],
   "source": [
    "df_final.corr()"
   ]
  },
  {
   "cell_type": "code",
   "execution_count": null,
   "id": "6e791736",
   "metadata": {},
   "outputs": [],
   "source": [
    "import seaborn as sb\n",
    "corr = df_final.corr()\n",
    "sb.heatmap(corr, cmap=\"Blues\", annot=True)"
   ]
  },
  {
   "cell_type": "code",
   "execution_count": null,
   "id": "45100096-65f7-4563-b8ca-2fe6cf8962fa",
   "metadata": {},
   "outputs": [],
   "source": []
  }
 ],
 "metadata": {
  "kernelspec": {
   "display_name": "Python 3 (ipykernel)",
   "language": "python",
   "name": "python3"
  },
  "language_info": {
   "codemirror_mode": {
    "name": "ipython",
    "version": 3
   },
   "file_extension": ".py",
   "mimetype": "text/x-python",
   "name": "python",
   "nbconvert_exporter": "python",
   "pygments_lexer": "ipython3",
   "version": "3.9.12"
  }
 },
 "nbformat": 4,
 "nbformat_minor": 5
}
